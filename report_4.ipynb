{
  "cells": [
    {
      "cell_type": "markdown",
      "metadata": {
        "id": "view-in-github",
        "colab_type": "text"
      },
      "source": [
        "<a href=\"https://colab.research.google.com/github/SifaMansuri/CE888/blob/main/report_4.ipynb\" target=\"_parent\"><img src=\"https://colab.research.google.com/assets/colab-badge.svg\" alt=\"Open In Colab\"/></a>"
      ]
    },
    {
      "cell_type": "code",
      "execution_count": null,
      "metadata": {
        "id": "JsSa0TpUvsJq"
      },
      "outputs": [],
      "source": [
        "from keras.models import Sequential\n",
        "# To initialize neural network\n",
        "from keras.layers import Convolution2D\n",
        "# Images are two dimensional, concolution step\n",
        "from keras.layers import MaxPooling2D\n",
        "# Pooling step\n",
        "from keras.layers import Flatten\n",
        "# Convert pools feature map into this large feature vector\n",
        "from keras.layers import Dense\n",
        "#To add fully connected layers"
      ]
    },
    {
      "cell_type": "code",
      "execution_count": null,
      "metadata": {
        "id": "WK4GflYUvsJs"
      },
      "outputs": [],
      "source": [
        "classifier = Sequential()\n",
        "classifier.add( Convolution2D(32,3,3, input_shape=(64,64,3), activation='relu'))\n"
      ]
    },
    {
      "cell_type": "code",
      "execution_count": null,
      "metadata": {
        "id": "EnkySx2uvsJt"
      },
      "outputs": [],
      "source": [
        "classifier.add(MaxPooling2D(pool_size = (2,2)))\n",
        "\n",
        "classifier.add( Convolution2D(32,3,3, input_shape=(64,64,3), activation='relu'))\n"
      ]
    },
    {
      "cell_type": "code",
      "execution_count": null,
      "metadata": {
        "id": "83goce8ZvsJu"
      },
      "outputs": [],
      "source": [
        "classifier.add(MaxPooling2D(pool_size = (2,2)))"
      ]
    },
    {
      "cell_type": "code",
      "execution_count": null,
      "metadata": {
        "id": "4B2LvmdrvsJv"
      },
      "outputs": [],
      "source": [
        "classifier.add(Flatten())\n",
        "classifier.add(Dense(output_dim = 256, activation = 'relu'))\n",
        "classifier.add(Dense(output_dim = 1, activation = 'sigmoid'))\n",
        "classifier.compile(optimizer='adam', loss='binary_crossentropy', metrics = ['accuracy'])\n"
      ]
    },
    {
      "cell_type": "code",
      "execution_count": null,
      "metadata": {
        "id": "mkd17gk1vsJv"
      },
      "outputs": [],
      "source": [
        "from keras.preprocessing.image import ImageDataGenerator"
      ]
    },
    {
      "cell_type": "code",
      "execution_count": null,
      "metadata": {
        "id": "IgMQX81mvsJw"
      },
      "outputs": [],
      "source": [
        "train_datagen = ImageDataGenerator(\n",
        "        rescale=1./255,\n",
        "        shear_range=0.2,\n",
        "        zoom_range=0.2,\n",
        "        horizontal_flip=True)\n",
        "\n",
        "\n",
        "test_datagen = ImageDataGenerator(rescale=1./255)\n",
        "\n",
        "training_set = train_datagen.flow_from_directory(\n",
        "        'path',\n",
        "        target_size=(64, 64),\n",
        "        batch_size=32,\n",
        "        class_mode='binary')\n",
        "\n",
        "test_set = test_datagen.flow_from_directory(\n",
        "        'path',\n",
        "        target_size=(64, 64),\n",
        "        batch_size=32,\n",
        "        class_mode='binary')\n",
        "\n",
        "results=classifier.fit_generator(\n",
        "        training_set,\n",
        "        samples_per_epoch=130,\n",
        "        nb_epoch=100,\n",
        "        validation_data=test_set,\n",
        "        nb_val_samples=18)"
      ]
    },
    {
      "cell_type": "markdown",
      "metadata": {
        "id": "QAN-P0ZdvsJx"
      },
      "source": [
        "Epoch 1/100\n",
        "4/4 [==============================] - 20s 5s/step - loss: 0.0716 - accuracy: 0.9898 - val_loss: 0.0176 - val_accuracy: 1.0000\n",
        "Epoch 2/100\n",
        "4/4 [==============================] - 19s 5s/step - loss: 0.0703 - accuracy: 0.9898 - val_loss: 0.0842 - val_accuracy: 1.0000\n",
        "Epoch 3/100\n",
        "4/4 [==============================] - 19s 5s/step - loss: 0.2110 - accuracy: 0.9453 - val_loss: 0.0133 - val_accuracy: 1.0000\n",
        "Epoch 4/100\n",
        "4/4 [==============================] - 19s 5s/step - loss: 0.1455 - accuracy: 0.9490 - val_loss: 0.0386 - val_accuracy: 1.0000\n",
        "Epoch 5/100\n",
        "4/4 [==============================] - 18s 4s/step - loss: 0.0523 - accuracy: 0.9796 - val_loss: 0.0089 - val_accuracy: 1.0000\n",
        "Epoch 6/100\n",
        "4/4 [==============================] - 19s 5s/step - loss: 0.1158 - accuracy: 0.9592 - val_loss: 0.0083 - val_accuracy: 1.0000\n",
        "Epoch 7/100\n",
        "4/4 [==============================] - 21s 5s/step - loss: 0.0296 - accuracy: 1.0000 - val_loss: 0.0118 - val_accuracy: 1.0000\n",
        "Epoch 8/100\n",
        "4/4 [==============================] - 22s 6s/step - loss: 0.1192 - accuracy: 0.9688 - val_loss: 0.0167 - val_accuracy: 1.0000\n",
        "Epoch 9/100\n",
        "4/4 [==============================] - 22s 5s/step - loss: 0.0111 - accuracy: 1.0000 - val_loss: 0.0152 - val_accuracy: 1.0000\n",
        "Epoch 10/100\n",
        "4/4 [==============================] - 21s 5s/step - loss: 0.1098 - accuracy: 0.9796 - val_loss: 0.0131 - val_accuracy: 1.0000\n",
        "Epoch 11/100\n",
        "4/4 [==============================] - 21s 5s/step - loss: 0.0744 - accuracy: 0.9844 - val_loss: 0.0232 - val_accuracy: 1.0000\n",
        "Epoch 12/100\n",
        "4/4 [==============================] - 23s 6s/step - loss: 0.0511 - accuracy: 0.9853 - val_loss: 0.0228 - val_accuracy: 1.0000\n",
        "Epoch 13/100\n",
        "4/4 [==============================] - 24s 6s/step - loss: 0.0214 - accuracy: 1.0000 - val_loss: 0.0080 - val_accuracy: 1.0000\n",
        "Epoch 14/100\n",
        "4/4 [==============================] - 21s 5s/step - loss: 0.1125 - accuracy: 0.9694 - val_loss: 0.0085 - val_accuracy: 1.0000\n",
        "Epoch 15/100\n",
        "4/4 [==============================] - 21s 5s/step - loss: 0.0424 - accuracy: 0.9796 - val_loss: 0.0058 - val_accuracy: 1.0000\n",
        "Epoch 16/100\n",
        "4/4 [==============================] - 21s 5s/step - loss: 0.0411 - accuracy: 0.9796 - val_loss: 0.0239 - val_accuracy: 1.0000\n",
        "Epoch 17/100\n",
        "4/4 [==============================] - 24s 6s/step - loss: 0.0486 - accuracy: 0.9922 - val_loss: 0.0091 - val_accuracy: 1.0000\n",
        "Epoch 18/100\n",
        "4/4 [==============================] - 23s 6s/step - loss: 0.0637 - accuracy: 0.9694 - val_loss: 0.0058 - val_accuracy: 1.0000\n",
        "Epoch 19/100\n",
        "4/4 [==============================] - 21s 5s/step - loss: 0.0132 - accuracy: 1.0000 - val_loss: 0.0061 - val_accuracy: 1.0000\n",
        "Epoch 20/100\n",
        "4/4 [==============================] - 21s 5s/step - loss: 0.0512 - accuracy: 0.9898 - val_loss: 0.0099 - val_accuracy: 1.0000\n",
        "Epoch 21/100\n",
        "4/4 [==============================] - 20s 5s/step - loss: 0.0680 - accuracy: 0.9898 - val_loss: 0.0091 - val_accuracy: 1.0000\n",
        "Epoch 22/100\n",
        "4/4 [==============================] - 23s 6s/step - loss: 0.0793 - accuracy: 0.9796 - val_loss: 0.0090 - val_accuracy: 1.0000\n",
        "Epoch 23/100\n",
        "4/4 [==============================] - 21s 5s/step - loss: 0.0647 - accuracy: 0.9898 - val_loss: 0.0043 - val_accuracy: 1.0000\n",
        "Epoch 24/100\n",
        "4/4 [==============================] - 22s 5s/step - loss: 0.0261 - accuracy: 0.9922 - val_loss: 0.0215 - val_accuracy: 1.0000\n",
        "Epoch 25/100\n",
        "4/4 [==============================] - 21s 5s/step - loss: 0.0496 - accuracy: 0.9796 - val_loss: 0.0126 - val_accuracy: 1.0000\n",
        "Epoch 26/100\n",
        "4/4 [==============================] - 21s 5s/step - loss: 0.0343 - accuracy: 0.9922 - val_loss: 0.0041 - val_accuracy: 1.0000\n",
        "Epoch 27/100\n",
        "4/4 [==============================] - 23s 6s/step - loss: 0.0032 - accuracy: 1.0000 - val_loss: 0.0024 - val_accuracy: 1.0000\n",
        "Epoch 28/100\n",
        "4/4 [==============================] - 23s 6s/step - loss: 0.0532 - accuracy: 0.9766 - val_loss: 0.0068 - val_accuracy: 1.0000\n",
        "Epoch 29/100\n",
        "4/4 [==============================] - 22s 5s/step - loss: 0.0929 - accuracy: 0.9898 - val_loss: 0.0110 - val_accuracy: 1.0000\n",
        "Epoch 30/100\n",
        "4/4 [==============================] - 21s 5s/step - loss: 0.1835 - accuracy: 0.9388 - val_loss: 0.0022 - val_accuracy: 1.0000\n",
        "Epoch 31/100\n",
        "4/4 [==============================] - 21s 5s/step - loss: 0.0686 - accuracy: 0.9592 - val_loss: 0.0716 - val_accuracy: 1.0000\n",
        "Epoch 32/100\n",
        "4/4 [==============================] - 24s 6s/step - loss: 0.1388 - accuracy: 0.9531 - val_loss: 0.0220 - val_accuracy: 1.0000\n",
        "Epoch 33/100\n",
        "4/4 [==============================] - 22s 5s/step - loss: 0.0187 - accuracy: 0.9853 - val_loss: 0.0242 - val_accuracy: 1.0000\n",
        "Epoch 34/100\n",
        "4/4 [==============================] - 21s 5s/step - loss: 0.1411 - accuracy: 0.9531 - val_loss: 0.0108 - val_accuracy: 1.0000\n",
        "Epoch 35/100\n",
        "4/4 [==============================] - 21s 5s/step - loss: 0.0277 - accuracy: 1.0000 - val_loss: 0.0314 - val_accuracy: 1.0000\n",
        "Epoch 36/100\n",
        "4/4 [==============================] - 20s 5s/step - loss: 0.0576 - accuracy: 0.9898 - val_loss: 0.0250 - val_accuracy: 1.0000\n",
        "Epoch 37/100\n",
        "4/4 [==============================] - 22s 6s/step - loss: 0.0593 - accuracy: 0.9898 - val_loss: 0.0150 - val_accuracy: 1.0000\n",
        "Epoch 38/100\n",
        "4/4 [==============================] - 22s 6s/step - loss: 0.0264 - accuracy: 1.0000 - val_loss: 0.0085 - val_accuracy: 1.0000\n",
        "Epoch 39/100\n",
        "4/4 [==============================] - 21s 5s/step - loss: 0.0593 - accuracy: 0.9844 - val_loss: 0.0063 - val_accuracy: 1.0000\n",
        "Epoch 40/100\n",
        "4/4 [==============================] - 21s 5s/step - loss: 0.0602 - accuracy: 0.9898 - val_loss: 0.0053 - val_accuracy: 1.0000\n",
        "Epoch 41/100\n",
        "4/4 [==============================] - 20s 5s/step - loss: 0.0186 - accuracy: 0.9898 - val_loss: 0.0059 - val_accuracy: 1.0000\n",
        "Epoch 42/100\n",
        "4/4 [==============================] - 24s 6s/step - loss: 0.0647 - accuracy: 0.9844 - val_loss: 0.0082 - val_accuracy: 1.0000\n",
        "Epoch 43/100\n",
        "4/4 [==============================] - 22s 5s/step - loss: 0.0296 - accuracy: 0.9898 - val_loss: 0.0131 - val_accuracy: 1.0000\n",
        "Epoch 44/100\n",
        "4/4 [==============================] - 18s 5s/step - loss: 0.0419 - accuracy: 0.9559 - val_loss: 0.0043 - val_accuracy: 1.0000\n",
        "Epoch 45/100\n",
        "4/4 [==============================] - 18s 5s/step - loss: 0.0376 - accuracy: 0.9844 - val_loss: 0.0028 - val_accuracy: 1.0000\n",
        "Epoch 46/100\n",
        "4/4 [==============================] - 17s 4s/step - loss: 0.0351 - accuracy: 0.9898 - val_loss: 0.0083 - val_accuracy: 1.0000\n",
        "Epoch 47/100\n",
        "4/4 [==============================] - 19s 5s/step - loss: 0.0267 - accuracy: 0.9898 - val_loss: 0.0123 - val_accuracy: 1.0000\n",
        "Epoch 48/100\n",
        "4/4 [==============================] - 19s 5s/step - loss: 0.0417 - accuracy: 0.9844 - val_loss: 0.0062 - val_accuracy: 1.0000\n",
        "Epoch 49/100\n",
        "4/4 [==============================] - 18s 4s/step - loss: 0.0328 - accuracy: 0.9898 - val_loss: 0.0032 - val_accuracy: 1.0000\n",
        "Epoch 50/100\n",
        "4/4 [==============================] - 18s 4s/step - loss: 0.0445 - accuracy: 0.9898 - val_loss: 0.0021 - val_accuracy: 1.0000\n",
        "Epoch 51/100\n",
        "4/4 [==============================] - 17s 4s/step - loss: 0.0428 - accuracy: 0.9796 - val_loss: 0.0018 - val_accuracy: 1.0000\n",
        "Epoch 52/100\n",
        "4/4 [==============================] - 21s 5s/step - loss: 0.0316 - accuracy: 0.9922 - val_loss: 0.0034 - val_accuracy: 1.0000\n",
        "Epoch 53/100\n",
        "4/4 [==============================] - 19s 5s/step - loss: 0.0266 - accuracy: 0.9898 - val_loss: 0.0057 - val_accuracy: 1.0000\n",
        "Epoch 54/100\n",
        "4/4 [==============================] - 18s 5s/step - loss: 0.0101 - accuracy: 1.0000 - val_loss: 0.0080 - val_accuracy: 1.0000\n",
        "Epoch 55/100\n",
        "4/4 [==============================] - 18s 4s/step - loss: 0.0329 - accuracy: 0.9898 - val_loss: 0.0100 - val_accuracy: 1.0000\n",
        "Epoch 56/100\n",
        "4/4 [==============================] - 17s 4s/step - loss: 0.0197 - accuracy: 0.9898 - val_loss: 0.0075 - val_accuracy: 1.0000\n",
        "Epoch 57/100\n",
        "4/4 [==============================] - 20s 5s/step - loss: 0.0093 - accuracy: 1.0000 - val_loss: 0.0043 - val_accuracy: 1.0000\n",
        "Epoch 58/100\n",
        "4/4 [==============================] - 19s 5s/step - loss: 0.1045 - accuracy: 0.9694 - val_loss: 0.0213 - val_accuracy: 1.0000\n",
        "Epoch 59/100\n",
        "4/4 [==============================] - 18s 5s/step - loss: 0.0206 - accuracy: 0.9853 - val_loss: 0.0029 - val_accuracy: 1.0000\n",
        "Epoch 60/100\n",
        "4/4 [==============================] - 17s 4s/step - loss: 0.0268 - accuracy: 0.9922 - val_loss: 0.0105 - val_accuracy: 1.0000\n",
        "Epoch 61/100\n",
        "4/4 [==============================] - 17s 4s/step - loss: 0.0145 - accuracy: 1.0000 - val_loss: 0.0114 - val_accuracy: 1.0000\n",
        "Epoch 62/100\n",
        "4/4 [==============================] - 20s 5s/step - loss: 0.0474 - accuracy: 0.9796 - val_loss: 0.0060 - val_accuracy: 1.0000\n",
        "Epoch 63/100\n",
        "4/4 [==============================] - 20s 5s/step - loss: 0.0113 - accuracy: 1.0000 - val_loss: 0.0030 - val_accuracy: 1.0000\n",
        "Epoch 64/100\n",
        "4/4 [==============================] - 18s 4s/step - loss: 0.0393 - accuracy: 0.9853 - val_loss: 0.0025 - val_accuracy: 1.0000\n",
        "Epoch 65/100\n",
        "4/4 [==============================] - 18s 4s/step - loss: 0.0435 - accuracy: 0.9922 - val_loss: 0.0018 - val_accuracy: 1.0000\n",
        "Epoch 66/100\n",
        "4/4 [==============================] - 18s 4s/step - loss: 0.0414 - accuracy: 0.9898 - val_loss: 0.0033 - val_accuracy: 1.0000\n",
        "Epoch 67/100\n",
        "4/4 [==============================] - 19s 5s/step - loss: 0.0107 - accuracy: 1.0000 - val_loss: 0.0060 - val_accuracy: 1.0000\n",
        "Epoch 68/100\n",
        "4/4 [==============================] - 19s 5s/step - loss: 0.0166 - accuracy: 0.9922 - val_loss: 0.0114 - val_accuracy: 1.0000\n",
        "Epoch 69/100\n",
        "4/4 [==============================] - 18s 4s/step - loss: 0.0157 - accuracy: 1.0000 - val_loss: 0.0102 - val_accuracy: 1.0000\n",
        "Epoch 70/100\n",
        "4/4 [==============================] - 18s 4s/step - loss: 0.0160 - accuracy: 0.9898 - val_loss: 0.0023 - val_accuracy: 1.0000\n",
        "Epoch 71/100\n",
        "4/4 [==============================] - 17s 4s/step - loss: 0.0090 - accuracy: 1.0000 - val_loss: 0.0029 - val_accuracy: 1.0000\n",
        "Epoch 72/100\n",
        "4/4 [==============================] - 19s 5s/step - loss: 0.0199 - accuracy: 0.9898 - val_loss: 0.0025 - val_accuracy: 1.0000\n",
        "Epoch 73/100\n",
        "4/4 [==============================] - 18s 4s/step - loss: 0.0059 - accuracy: 1.0000 - val_loss: 0.0068 - val_accuracy: 1.0000\n",
        "Epoch 74/100\n",
        "4/4 [==============================] - 18s 5s/step - loss: 0.0412 - accuracy: 0.9922 - val_loss: 0.0128 - val_accuracy: 1.0000\n",
        "Epoch 75/100\n",
        "4/4 [==============================] - 18s 4s/step - loss: 0.0216 - accuracy: 0.9898 - val_loss: 0.0048 - val_accuracy: 1.0000\n",
        "Epoch 76/100\n",
        "4/4 [==============================] - 17s 4s/step - loss: 0.0120 - accuracy: 1.0000 - val_loss: 0.0030 - val_accuracy: 1.0000\n",
        "Epoch 77/100\n",
        "4/4 [==============================] - 19s 5s/step - loss: 0.0053 - accuracy: 1.0000 - val_loss: 0.0024 - val_accuracy: 1.0000\n",
        "Epoch 78/100\n",
        "4/4 [==============================] - 19s 5s/step - loss: 0.0280 - accuracy: 0.9844 - val_loss: 0.0073 - val_accuracy: 1.0000\n",
        "Epoch 79/100\n",
        "4/4 [==============================] - 19s 5s/step - loss: 0.0304 - accuracy: 0.9796 - val_loss: 0.0254 - val_accuracy: 1.0000\n",
        "Epoch 80/100\n",
        "4/4 [==============================] - 17s 4s/step - loss: 0.0157 - accuracy: 1.0000 - val_loss: 0.0078 - val_accuracy: 1.0000\n",
        "Epoch 81/100\n",
        "4/4 [==============================] - 17s 4s/step - loss: 0.0132 - accuracy: 1.0000 - val_loss: 0.0023 - val_accuracy: 1.0000\n",
        "Epoch 82/100\n",
        "4/4 [==============================] - 19s 5s/step - loss: 0.0157 - accuracy: 1.0000 - val_loss: 0.0017 - val_accuracy: 1.0000\n",
        "Epoch 83/100\n",
        "4/4 [==============================] - 19s 5s/step - loss: 0.0130 - accuracy: 1.0000 - val_loss: 0.0021 - val_accuracy: 1.0000\n",
        "Epoch 84/100\n",
        "4/4 [==============================] - 18s 5s/step - loss: 0.0121 - accuracy: 1.0000 - val_loss: 0.0030 - val_accuracy: 1.0000\n",
        "Epoch 85/100\n",
        "4/4 [==============================] - 18s 4s/step - loss: 0.0059 - accuracy: 1.0000 - val_loss: 0.0017 - val_accuracy: 1.0000\n",
        "Epoch 86/100\n",
        "4/4 [==============================] - 17s 4s/step - loss: 0.0081 - accuracy: 1.0000 - val_loss: 0.0010 - val_accuracy: 1.0000\n",
        "Epoch 87/100\n",
        "4/4 [==============================] - 20s 5s/step - loss: 0.0030 - accuracy: 1.0000 - val_loss: 0.0010 - val_accuracy: 1.0000\n",
        "Epoch 88/100\n",
        "4/4 [==============================] - 19s 5s/step - loss: 0.0266 - accuracy: 0.9844 - val_loss: 0.0093 - val_accuracy: 1.0000\n",
        "Epoch 89/100\n",
        "4/4 [==============================] - 18s 5s/step - loss: 0.0196 - accuracy: 1.0000 - val_loss: 0.0195 - val_accuracy: 1.0000\n",
        "Epoch 90/100\n",
        "4/4 [==============================] - 17s 4s/step - loss: 0.0137 - accuracy: 1.0000 - val_loss: 0.0030 - val_accuracy: 1.0000\n",
        "Epoch 91/100\n",
        "4/4 [==============================] - 17s 4s/step - loss: 0.0102 - accuracy: 1.0000 - val_loss: 0.0021 - val_accuracy: 1.0000\n",
        "Epoch 92/100\n",
        "4/4 [==============================] - 20s 5s/step - loss: 0.0034 - accuracy: 1.0000 - val_loss: 0.0063 - val_accuracy: 1.0000\n",
        "Epoch 93/100\n",
        "4/4 [==============================] - 19s 5s/step - loss: 0.0229 - accuracy: 0.9898 - val_loss: 0.0017 - val_accuracy: 1.0000\n",
        "Epoch 94/100\n",
        "4/4 [==============================] - 18s 5s/step - loss: 0.0208 - accuracy: 0.9922 - val_loss: 0.0076 - val_accuracy: 1.0000\n",
        "Epoch 95/100\n",
        "4/4 [==============================] - 18s 4s/step - loss: 0.0142 - accuracy: 1.0000 - val_loss: 0.0230 - val_accuracy: 1.0000\n",
        "Epoch 96/100\n",
        "4/4 [==============================] - 17s 4s/step - loss: 0.0123 - accuracy: 1.0000 - val_loss: 0.0036 - val_accuracy: 1.0000\n",
        "Epoch 97/100\n",
        "4/4 [==============================] - 19s 5s/step - loss: 0.0258 - accuracy: 0.9796 - val_loss: 0.0085 - val_accuracy: 1.0000\n",
        "Epoch 98/100\n",
        "4/4 [==============================] - 19s 5s/step - loss: 0.0116 - accuracy: 0.9922 - val_loss: 0.0036 - val_accuracy: 1.0000\n",
        "Epoch 99/100\n",
        "4/4 [==============================] - 18s 4s/step - loss: 0.0039 - accuracy: 1.0000 - val_loss: 0.0060 - val_accuracy: 1.0000\n",
        "Epoch 100/100\n",
        "4/4 [==============================] - 18s 4s/step - loss: 0.0087 - accuracy: 1.0000 - val_loss: 0.0091 - val_accuracy: 1.0000"
      ]
    },
    {
      "cell_type": "code",
      "execution_count": null,
      "metadata": {
        "id": "MCwqpoWRvsJ8"
      },
      "outputs": [],
      "source": [
        "import matplotlib.pyplot as plt\n",
        "def plot_acc_loss(results, epochs):\n",
        " acc = results.history['accuracy']\n",
        " loss = results.history['loss']\n",
        " val_acc = results.history['val_accuracy']\n",
        " val_loss = results.history['val_loss']\n",
        " plt.figure(figsize=(15, 5))\n",
        " plt.subplot(121)\n",
        " plt.plot(range(1,epochs), acc[1:], label='Train_acc')\n",
        " plt.plot(range(1,epochs), val_acc[1:], label='Test_acc')\n",
        " plt.title('Accuracy over' + str(epochs) + 'Epochs', size=15)\n",
        " plt.legend()\n",
        " plt.grid(True)"
      ]
    },
    {
      "cell_type": "code",
      "execution_count": null,
      "metadata": {
        "id": "n4oUMY_LvsJ-"
      },
      "outputs": [],
      "source": [
        ""
      ]
    }
  ],
  "metadata": {
    "kernelspec": {
      "display_name": "Python 3",
      "language": "python",
      "name": "python3"
    },
    "language_info": {
      "codemirror_mode": {
        "name": "ipython",
        "version": 3
      },
      "file_extension": ".py",
      "mimetype": "text/x-python",
      "name": "python",
      "nbconvert_exporter": "python",
      "pygments_lexer": "ipython3",
      "version": "3.7.6"
    },
    "colab": {
      "name": "report 4.ipynb",
      "provenance": [],
      "include_colab_link": true
    }
  },
  "nbformat": 4,
  "nbformat_minor": 0
}