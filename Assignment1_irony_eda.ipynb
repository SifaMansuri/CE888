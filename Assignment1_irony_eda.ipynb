{
  "nbformat": 4,
  "nbformat_minor": 0,
  "metadata": {
    "kernelspec": {
      "display_name": "Python 3",
      "language": "python",
      "name": "python3"
    },
    "language_info": {
      "codemirror_mode": {
        "name": "ipython",
        "version": 3
      },
      "file_extension": ".py",
      "mimetype": "text/x-python",
      "name": "python",
      "nbconvert_exporter": "python",
      "pygments_lexer": "ipython3",
      "version": "3.6.4"
    },
    "colab": {
      "name": "Assignment1-irony-eda.ipynb",
      "provenance": [],
      "include_colab_link": true
    }
  },
  "cells": [
    {
      "cell_type": "markdown",
      "metadata": {
        "id": "view-in-github",
        "colab_type": "text"
      },
      "source": [
        "<a href=\"https://colab.research.google.com/github/SifaMansuri/CE888/blob/main/Assignment1_irony_eda.ipynb\" target=\"_parent\"><img src=\"https://colab.research.google.com/assets/colab-badge.svg\" alt=\"Open In Colab\"/></a>"
      ]
    },
    {
      "cell_type": "code",
      "metadata": {
        "id": "jkHj1UgHDpWr"
      },
      "source": [
        "TRAIN_TEXT = 'https://raw.githubusercontent.com/cardiffnlp/tweeteval/main/datasets/irony/train_text.txt'\r\n",
        "VAL_TEXT = 'https://raw.githubusercontent.com/cardiffnlp/tweeteval/main/datasets/irony/val_text.txt'\r\n",
        "\r\n",
        "TRAIN_LABEL = 'https://raw.githubusercontent.com/cardiffnlp/tweeteval/main/datasets/irony/train_labels.txt'\r\n",
        "VAL_LABEL = 'https://raw.githubusercontent.com/cardiffnlp/tweeteval/main/datasets/irony/val_labels.txt'\r\n"
      ],
      "execution_count": null,
      "outputs": []
    },
    {
      "cell_type": "code",
      "metadata": {
        "colab": {
          "base_uri": "https://localhost:8080/",
          "height": 17
        },
        "id": "Q-hDrtKFDHLo",
        "outputId": "1e69b5ad-5c0f-4878-f94d-9c109de9b7ea"
      },
      "source": [
        "import pandas as pd\n",
        "import numpy as np\n",
        "from textblob import TextBlob\n",
        "from sklearn.feature_extraction.text import CountVectorizer\n",
        "from sklearn.feature_extraction.text import TfidfVectorizer\n",
        "import warnings \n",
        "warnings.filterwarnings('ignore')\n",
        "import matplotlib\n",
        "import matplotlib.pyplot as plt\n",
        "import seaborn as sns\n",
        "%matplotlib inline\n",
        "matplotlib.rcParams['figure.figsize'] = (10.0, 6.0)\n",
        "import plotly.graph_objs as go\n",
        "import cufflinks\n",
        "pd.options.display.max_columns = 30\n",
        "from IPython.core.interactiveshell import InteractiveShell\n",
        "import plotly.figure_factory as ff\n",
        "InteractiveShell.ast_node_interactivity = 'all'\n",
        "from plotly.offline import iplot\n",
        "cufflinks.go_offline()\n",
        "cufflinks.set_config_file(world_readable=True, theme='pearl')\n",
        "from sklearn.decomposition import TruncatedSVD\n",
        "from sklearn.decomposition import LatentDirichletAllocation\n",
        "from sklearn.manifold import TSNE\n",
        "from bokeh.plotting import figure, output_file, show\n",
        "from bokeh.models import Label\n",
        "from bokeh.io import output_notebook\n",
        "output_notebook()\n",
        "from collections import Counter\n",
        "from pprint import pprint\n",
        "import en_core_web_sm"
      ],
      "execution_count": null,
      "outputs": [
        {
          "output_type": "display_data",
          "data": {
            "text/html": [
              "        <script type=\"text/javascript\">\n",
              "        window.PlotlyConfig = {MathJaxConfig: 'local'};\n",
              "        if (window.MathJax) {MathJax.Hub.Config({SVG: {font: \"STIX-Web\"}});}\n",
              "        if (typeof require !== 'undefined') {\n",
              "        require.undef(\"plotly\");\n",
              "        requirejs.config({\n",
              "            paths: {\n",
              "                'plotly': ['https://cdn.plot.ly/plotly-latest.min']\n",
              "            }\n",
              "        });\n",
              "        require(['plotly'], function(Plotly) {\n",
              "            window._Plotly = Plotly;\n",
              "        });\n",
              "        }\n",
              "        </script>\n",
              "        "
            ]
          },
          "metadata": {
            "tags": []
          }
        }
      ]
    },
    {
      "cell_type": "code",
      "metadata": {
        "id": "13njvQP1FGL5"
      },
      "source": [
        "def convert_to_df(data, label):\r\n",
        "    tweet = []\r\n",
        "    sentiments = []\r\n",
        "    for sentence in data.split('\\n'):\r\n",
        "        tweet.append(sentence)\r\n",
        "    for sentiment in label.split('\\n'):\r\n",
        "        try:\r\n",
        "            sentiments.append(int(sentiment))\r\n",
        "        except ValueError:\r\n",
        "            pass\r\n",
        "    df= pd.DataFrame(tweet[:-1], columns=['Review Text'])\r\n",
        "    df['label'] = sentiments # this colums contains labels in int format\r\n",
        "\r\n",
        "    df['sentiment'] = df.label.apply(lambda x: 'Not-irony'if x==0 else 'irony')\r\n",
        "\r\n",
        "    return df"
      ],
      "execution_count": null,
      "outputs": []
    },
    {
      "cell_type": "code",
      "metadata": {
        "id": "OyUCtZSPDr5M"
      },
      "source": [
        "import requests\r\n",
        "train_tweets_txt = requests.get(TRAIN_TEXT).text\r\n",
        "train_labels_txt = requests.get(TRAIN_LABEL).text\r\n",
        "\r\n",
        "val_tweets_txt = requests.get(VAL_TEXT).text\r\n",
        "val_labels_txt = requests.get(VAL_LABEL).text\r\n",
        "\r\n",
        "train_df = convert_to_df(train_tweets_txt, train_labels_txt)\r\n",
        "val_df = convert_to_df(val_tweets_txt, val_labels_txt)\r\n",
        "\r\n"
      ],
      "execution_count": null,
      "outputs": []
    },
    {
      "cell_type": "code",
      "metadata": {
        "id": "XzzYdX3kFGnh"
      },
      "source": [
        "df = train_df"
      ],
      "execution_count": null,
      "outputs": []
    },
    {
      "cell_type": "code",
      "metadata": {
        "colab": {
          "base_uri": "https://localhost:8080/",
          "height": 457
        },
        "id": "hqWM6Gy5KXTy",
        "outputId": "ef89a5b1-7ba6-4cea-8d14-9075c7b502d6"
      },
      "source": [
        "eda = df.groupby('sentiment').count()['Review Text'].reset_index().sort_values(by='Review Text',ascending=False)\r\n",
        "labels = list(eda.sentiment)\r\n",
        "sizes = list(eda['Review Text'])\r\n",
        "\r\n",
        "fig1, ax1 = plt.subplots()\r\n",
        "ax1.pie(sizes, labels=labels, autopct='%1.1f%%', shadow=True)\r\n",
        "plt.show()"
      ],
      "execution_count": null,
      "outputs": [
        {
          "output_type": "execute_result",
          "data": {
            "text/plain": [
              "([<matplotlib.patches.Wedge at 0x7f992a64f890>,\n",
              "  <matplotlib.patches.Wedge at 0x7f992a65a350>],\n",
              " [Text(-0.016903814147027182, 1.099870110998241, 'irony'),\n",
              "  Text(0.016903814147027046, -1.099870110998241, 'Not-irony')],\n",
              " [Text(-0.009220262262014826, 0.5999291514535859, '50.5%'),\n",
              "  Text(0.009220262262014752, -0.5999291514535859, '49.5%')])"
            ]
          },
          "metadata": {
            "tags": []
          },
          "execution_count": 17
        },
        {
          "output_type": "display_data",
          "data": {
            "image/png": "[encoded data removed]",
            "text/plain": [
              "<Figure size 720x432 with 1 Axes>"
            ]
          },
          "metadata": {
            "tags": []
          }
        }
      ]
    },
    {
      "cell_type": "code",
      "metadata": {
        "id": "VSXnWIR0DHMM"
      },
      "source": [
        "def preprocess(ReviewText):\n",
        "    ReviewText = ReviewText.str.replace(\"(<br/>)\", \"\")\n",
        "    ReviewText = ReviewText.str.replace('(<a).*(>).*(</a>)', '')\n",
        "    ReviewText = ReviewText.str.replace('(&amp)', '')\n",
        "    ReviewText = ReviewText.str.replace('(&gt)', '')\n",
        "    ReviewText = ReviewText.str.replace('(&lt)', '')\n",
        "    ReviewText = ReviewText.str.replace('(\\xa0)', ' ')  \n",
        "    return ReviewText\n",
        "df['Review Text'] = preprocess(df['Review Text'])"
      ],
      "execution_count": null,
      "outputs": []
    },
    {
      "cell_type": "markdown",
      "metadata": {
        "id": "8vi6kMzXDHMN"
      },
      "source": [
        "New column for sentiment polarity. Two new columns for lengths of the review and word count."
      ]
    },
    {
      "cell_type": "code",
      "metadata": {
        "id": "o3QrWZbZDHMN"
      },
      "source": [
        "df['polarity'] = df['Review Text'].map(lambda text: TextBlob(text).sentiment.polarity)\n",
        "df['review_len'] = df['Review Text'].astype(str).apply(len)\n",
        "df['word_count'] = df['Review Text'].apply(lambda x: len(str(x).split()))"
      ],
      "execution_count": null,
      "outputs": []
    },
    {
      "cell_type": "code",
      "metadata": {
        "colab": {
          "base_uri": "https://localhost:8080/"
        },
        "id": "-uqUa0BVDHMO",
        "outputId": "1406e891-62b2-4516-e9c7-ea6cd489144d"
      },
      "source": [
        "print('5 random reviews with the highest positive sentiment polarity: \\n')\n",
        "cl = df.loc[df.polarity == 1, ['Review Text']].sample(5).values\n",
        "for c in cl:\n",
        "    print(c[0])"
      ],
      "execution_count": null,
      "outputs": [
        {
          "output_type": "stream",
          "text": [
            "5 random reviews with the highest positive sentiment polarity: \n",
            "\n",
            "@user @user journalism at its best  \n",
            "@user continuing with that wonderful customer service ?  \n",
            "HAPPY is how i can describe today! ☺ 💜 \n",
            "I can't stop laughing at this. The fact that they specialize in \"Viral Marketing\" is especially amusing. ... \n",
            "Happy Monday all!  #pbloggers #mbloggers \n"
          ],
          "name": "stdout"
        }
      ]
    },
    {
      "cell_type": "code",
      "metadata": {
        "colab": {
          "base_uri": "https://localhost:8080/"
        },
        "id": "FFTvCUeUDHMO",
        "outputId": "7baa35bf-83c3-486c-a60f-d7946b29c73f"
      },
      "source": [
        "print('5 random reviews with the most neutral sentiment(zero) polarity: \\n')\n",
        "cl = df.loc[df.polarity == 0, ['Review Text']].sample(5).values\n",
        "for c in cl:\n",
        "    print(c[0])"
      ],
      "execution_count": null,
      "outputs": [
        {
          "output_type": "stream",
          "text": [
            "5 random reviews with the most neutral sentiment(zero) polarity: \n",
            "\n",
            "@user @user Actually Israel's demand renders it antisemitic acc to your mate's favourite non definition of antisem.  \n",
            "@user miss u lots and lots like jelly tots \n",
            "#notcias #eu #europ How Santa Juncker can bring the gift of a healthier EU \n",
            "@user  I'm really big supporter of #lawenforcement. Like Sheriff Clarke said, it's all theatrics. #Ferguson @user \n",
            "dats how u kno its winter \n"
          ],
          "name": "stdout"
        }
      ]
    },
    {
      "cell_type": "markdown",
      "metadata": {
        "id": "g7ULOk76DHMQ"
      },
      "source": [
        "### Dist plot of review polarity score"
      ]
    },
    {
      "cell_type": "code",
      "metadata": {
        "colab": {
          "base_uri": "https://localhost:8080/",
          "height": 542
        },
        "id": "ACml4SvUDHMQ",
        "outputId": "13d52cdb-085a-4aae-b46a-201e55310642"
      },
      "source": [
        "df['polarity'].iplot(\n",
        "    kind='hist',\n",
        "    bins=50,\n",
        "    xTitle='polarity',\n",
        "    linecolor='black',\n",
        "    yTitle='count',\n",
        "    title='Sentiment Polarity Distribution')"
      ],
      "execution_count": null,
      "outputs": [
        {
          "output_type": "display_data",
          "data": {
            "text/html": [
              "<div>\n",
              "        \n",
              "        \n",
              "            <div id=\"fca655bd-f1ef-41bd-b450-a84397849e6d\" class=\"plotly-graph-div\" style=\"height:525px; width:100%;\"></div>\n",
              "            <script type=\"text/javascript\">\n",
              "                require([\"plotly\"], function(Plotly) {\n",
              "                    window.PLOTLYENV=window.PLOTLYENV || {};\n",
              "                    window.PLOTLYENV.BASE_URL='https://plot.ly';\n",
              "                    \n",
              "                if (document.getElementById(\"fca655bd-f1ef-41bd-b450-a84397849e6d\")) {\n",
              "                    Plotly.newPlot(\n",
              "                        'fca655bd-f1ef-41bd-b450-a84397849e6d',\n",
              "                        [{\"histfunc\": \"count\", \"histnorm\": \"\", \"marker\": {\"color\": \"rgba(255, 153, 51, 1.0)\", \"line\": {\"color\": \"#000000\", \"width\": 1.3}}, \"name\": \"polarity\", \"nbinsx\": 50, \"opacity\": 0.8, \"orientation\": \"v\", \"type\": \"histogram\", \"x\": [0.1875, 0.19999999999999998, 0.0, 0.0, 0.0, 0.48828125, 0.0, 0.32222222222222224, 0.0, -0.45, 0.1, 0.016666666666666646, 0.0, 0.05, 0.0, 0.275, -0.1875, 0.1875, 0.0, -0.033333333333333354, 0.0, 0.13333333333333333, 0.0, 0.525, -0.375, -0.5, 0.15, -0.10000000000000002, 0.0, 0.012500000000000004, 0.3653409090909091, 0.35714285714285715, 0.3, 0.1, 0.2333333333333333, 0.6666666666666666, 0.2, 0.7, 0.5, 0.27708333333333335, 0.0, 0.22500000000000003, 0.3333333333333333, 0.0, -0.00833333333333334, 0.5, 0.0, 0.45, -0.004166666666666652, 0.54375, 0.0, 0.6, 0.0, -0.36666666666666664, 0.0, -0.07500000000000001, 0.0, 0.1, -0.5, 0.0, 0.5833333333333334, 0.25, 0.25, -0.0625, -0.041666666666666664, -0.27999999999999997, 0.6000000000000001, 0.10000000000000002, 0.13124999999999998, 0.5333333333333333, 0.0, 0.06666666666666665, 0.0, 0.625, 0.04814814814814814, 1.0, 0.0, -0.125, 0.0, 0.2, 0.4, 0.28125, -0.16666666666666666, 1.0, 0.3, -0.4, 0.8, -0.5, 0.46437815656565656, 0.0, 0.0, 0.7, 0.0, 0.5, 0.0, 0.3666666666666667, 0.05, 0.1839285714285714, -0.1, 0.525, 0.0, 0.8, 0.13333333333333333, 0.0, 0.1, -0.5, 0.25, 0.0, 0.0, 0.20555555555555557, -0.125, 0.15, 0.0, 0.17222222222222222, 0.3666666666666667, 0.0, 0.0, -0.78125, 0.041666666666666664, 0.25, 0.024999999999999994, 0.0, 0.7, 0.14222222222222222, -0.5, 0.0, 0.0, 0.0, -0.5, 0.024999999999999994, -0.21428571428571427, 0.1, 0.0, 0.5, 0.0, 0.25, 0.0, 0.15357142857142858, 0.4000000000000001, 0.22777777777777777, 0.4, -0.04999999999999999, 0.033333333333333326, -0.2916666666666667, 0.0, -0.45, 0.2166666666666667, 0.0, 0.8, 0.7, 0.0, 0.48750000000000004, -0.16666666666666666, 0.8, 0.8, -0.5, 0.5, 0.275, 0.3, -0.2, 0.625, -0.39333333333333337, 0.5, 0.2375, 0.0, 0.5, 0.15000000000000002, 0.5, 0.5, 0.0, 0.8, 0.0, 0.0, 0.4, 0.0, 0.22000000000000003, 0.1, 0.0, 0.0, 0.5, 0.0, 0.0, 0.5, 0.2, 0.5, -0.1285714285714286, -0.19444444444444448, 0.0, 0.2857142857142857, 0.0, 0.0, -0.35, -0.13181818181818183, 0.5, 0.5, 0.5, 0.0, 0.4, -0.75, 0.25, 0.0, 0.2, -1.0, 0.2857142857142857, 0.0, 0.0, 0.1, 0.242, 0.2, 0.0, -0.3, 0.0, -0.08333333333333333, 0.5833333333333334, 0.35, 0.0, 0.14999999999999997, 0.0, 0.0, 0.0, 0.0, 0.0, 0.0, 0.0, 0.13750000000000007, 0.39285714285714285, 0.2, 0.0, 0.0, 0.5, 0.0, 0.0, 0.5, 0.2, 0.5, 0.25, -0.8, 0.0, 0.85, 0.5, -0.08333333333333333, 0.057142857142857134, 0.11875, 0.2, 0.5, 0.0, 0.0, 0.0, 0.6, 0.8, 0.4, -0.625, -0.15, 0.8, 0.5, 0.0, 0.625, -0.8, -0.1, -0.275, 0.0, 1.0, 0.25, 0.5, 0.2, -0.15625, 0.25, 0.0, 0.0, -0.05, -0.20000000000000004, 0.5, 0.0, 0.0, 0.0, -0.2, 0.25166666666666665, 0.0, 0.0, 0.125, 0.0, 0.4, -0.2916666666666667, 0.0, 0.25, 0.0, 0.0, 0.0, 0.35, 0.0, 0.0, 0.0, -0.3, -0.390625, -0.16666666666666666, 0.7, 0.75, 0.33999999999999997, 0.35, 0.25, 0.0, 0.0, 0.08680555555555554, 0.8, 0.0, 0.0, -0.16666666666666666, 0.2, 0.10000000000000002, 0.375, -0.05, 0.0, -0.0666666666666667, 0.0, 0.6, 0.0, 0.43333333333333335, 0.4166666666666667, 0.3333333333333333, 0.0, 0.0, 0.0, -0.55, -0.15000000000000002, 0.1398148148148148, 0.6, 0.0, -0.16666666666666666, 0.3181818181818182, 0.78125, -0.5, 0.2, 0.0, -0.25, 0.22499999999999998, 0.0, 0.0, 0.5, 0.13333333333333333, 0.125, 0.06666666666666667, 0.4375, 0.35000000000000003, -0.4, 0.5, 0.0, 0.03333333333333333, -1.0, 0.5, -0.17857142857142855, 0.45, 0.0, 0.09166666666666667, 0.0, 0.35, 0.0, -0.16666666666666666, 0.7, 0.0, 0.0, 0.5, 0.44999999999999996, 0.0, 0.7, -0.1, -0.3, 0.0, 0.8, 0.35, 0.5, 0.15, 0.8, 0.35, -1.0, 0.0, 0.0, 0.0, 0.0, 0.0, 0.35, 0.3, 0.3, 0.5, 0.65, 0.023232323232323226, 0.8, 0.022222222222222213, 0.25, 0.375, 0.8, 0.0, 0.0, 0.25, 0.1, 0.375, -0.05, 0.5, 0.2, -0.07777777777777779, 0.3, 0.125, 0.0, -0.08333333333333333, 0.0, 0.09285714285714285, 0.0, 0.5, 0.09166666666666667, 0.3499999999999999, 0.3, -0.2, 0.5, 0.5, 0.15, 0.058333333333333334, 0.5, 0.0, 0.45, 0.625, 0.0, 0.0, 0.5, 0.0, 0.7, 0.1, 0.5416666666666666, 0.2, 0.0, 0.0, 0.0, 0.0, 0.35, 0.762939453125, 0.0, 0.21666666666666667, 0.0, 0.35, 0.0, -0.2, -0.23333333333333336, 0.35, 0.0, 0.2, 0.2, -0.05, 0.25, 0.20000000000000004, 0.16666666666666669, 0.13636363636363635, 0.0, -0.07692307692307693, 0.3125, 0.0, 0.0, 0.0, 0.49404761904761907, 0.0, 0.2, 0.5666666666666667, 0.14285714285714285, -0.5, 0.125, 0.390625, 0.3, -0.5, 0.19166666666666665, 0.5, 0.6, 0.6, 0.3, 0.4, 0.0, 0.0, -0.6499999999999999, 0.8, 0.016666666666666677, 0.4375, -0.4, 0.8, 0.0, 0.1875, 0.0, 0.8, 0.625, 0.0, 0.1, 0.18333333333333335, 0.0, 0.3125, -0.7999999999999999, 1.0, 0.5, 0.3, -0.125, -0.29444444444444445, 0.0, 0.0, 0.25, 0.09523809523809523, -0.2, 0.0, 0.2, 1.0, 0.8, -0.325, 0.4, 0.0, 0.35, 0.0, 0.0, -0.14999999999999997, 0.2333333333333333, 0.2, 0.0, 0.7, 0.05000000000000002, 0.0, 0.0, 0.0, 0.13636363636363635, 0.1, 0.3, 0.0, 0.8, 0.0, 0.024999999999999994, 1.0, 0.25, 0.75, 0.0, 0.5, 0.0, 0.24375000000000002, 0.0, 0.55, 0.2916666666666667, 0.0, -0.8749999999999998, -0.5, 0.8, 0.0, 0.8, 0.8, 0.5, 0.2, 0.0, 0.022222222222222216, 0.0, 0.25, 0.3666666666666667, 0.5, 0.06666666666666667, 0.6000000000000001, 0.3333333333333333, 0.65, 0.35714285714285715, 0.0, 0.0, 0.5, 0.0, 0.39999999999999997, 0.0, 0.31666666666666665, 0.0, 0.9, 0.0, 0.0, -0.16666666666666666, 0.4352272727272727, 0.0, 0.4, -0.3055555555555555, 0.3125, 0.0625, 0.6, 0.09523809523809523, -0.2, 0.0, -0.3125, 0.0, 0.0, 0.7, 0.0, 0.0, -0.00846560846560849, 0.0, 0.13333333333333333, 0.21428571428571427, -1.0, 0.34285714285714286, 0.0, 0.0, 0.21875, 0.0, 0.29888888888888887, 0.3662109375, 0.6, 0.0, 0.0, 0.0, 0.3333333333333333, 0.5, 0.0, 0.0, 0.0, 0.4, 0.0, 0.0, 0.3, -0.125, 1.0, 0.0, 0.3125, 0.35, 0.0, -0.8, 0.0, 0.0, 0.0, 0.3, -0.03500000000000001, 0.25416666666666665, 0.0, 0.0, 0.0, 0.8, 0.06666666666666667, 0.3, 0.2, 0.35, 0.08035714285714285, 0.5, 0.2, 0.4, 0.05, 0.0, 0.2, 0.2375, 0.25, -0.2, 0.8, -0.5, -0.2916666666666667, 0.0, 0.11666666666666668, 0.3055555555555556, -0.78125, 0.1, 0.0, 0.5, -0.03333333333333336, 0.05000000000000002, 0.5, 0.0, 0.4375, 0.1, 0.08, -0.3125, 0.1875, 0.0, -0.6000000000000001, 0.025, 0.0, 0.2, 0.625, 0.4, 0.44999999999999996, 0.8, -0.15, 0.35, 0.7, -0.15000000000000002, 0.45, 1.0, 0.4, 0.0, 0.625, -0.6, 0.3166666666666667, 0.375, 0.0, 0.2, 0.5, 0.5, 0.06510416666666667, 0.40625, 0.5, -0.16666666666666666, 0.0, 0.2, 0.5866666666666667, 0.2, 0.6333333333333333, 0.0, -0.125, 0.0, 0.75, 0.2, 0.0, 0.0, 0.0, 0.65, 0.3, -0.13333333333333333, -0.4507211538461539, -1.0, -0.4, 0.25, 0.0, 0.4583333333333333, 0.5, 0.26666666666666666, 0.1, 0.2, -0.5, 0.0, 0.75, 0.3, 0.7500000000000001, 0.5, 0.0, 0.0, 0.0, 0.5, 0.04999999999999999, 0.5, 0.8, 0.45, 0.2777777777777778, 0.5916666666666667, 0.5333333333333333, 0.15, -0.15, 0.0, 0.08333333333333333, -0.05, 0.5, 0.0, 0.25, 0.0, 0.8, -0.15555555555555559, 0.0, 0.525, -0.25, 0.16, 0.0, 0.0, 0.0, 0.0, 0.5, 0.8, 0.15, 0.6499999999999999, 0.21212121212121213, -0.5, 0.25, 0.6, 0.2545454545454545, 0.625, 0.175, 0.1, 0.17045454545454544, 0.3, 0.4000000000000001, 0.8, 0.23333333333333336, 0.1, 0.25, 0.0, -0.42499999999999993, 0.8, 0.43333333333333335, 0.390625, 0.06333333333333332, 0.0, 0.04285714285714287, 0.2, 0.0, 0.0, 0.0, 0.0, 0.225, 0.4, 0.43333333333333335, 0.3666666666666667, 0.0, 0.0, 0.0, 0.25, 0.0, 0.3, 0.08484848484848484, 0.26666666666666666, 0.0, 0.0, 0.275, 0.1953125, 0.0, -0.12499999999999999, 0.0, -0.3888888888888889, 0.5, -0.03333333333333335, 0.2, -0.2, 0.5, 0.0, 0.15, 0.042857142857142844, 0.5681818181818181, 0.1, 0.3666666666666667, 0.11212121212121212, 0.0, -0.25, 1.0, 0.0, 0.5, 0.0, 0.25, 0.2125, 1.0, -0.25000000000000006, 0.625, 0.275, 0.0, -1.0, 0.32499999999999996, 0.5, 0.3958333333333333, 0.0, 0.1, 0.0, 0.0, 0.0, 0.9, 0.0, -0.18333333333333332, -0.024999999999999994, 0.0, 0.1, 0.5, 0.0, 0.0, 0.0, -0.5, 0.9, 0.0, 0.3, 0.0, 0.0, 0.2875, 0.0, 0.0, 0.6, 0.0, 0.0, 0.5681818181818181, 0.0, 0.55, 0.0, -0.16666666666666666, 0.1, 0.25, 0.30000000000000004, 0.0, 0.0, 0.0, 0.25, -0.18124999999999997, 0.0, 0.0, 0.0, 1.0, 0.25, 0.0, 0.0, 0.0, 0.8, 0.125, -0.2818181818181818, 0.226010101010101, 0.3, 0.5, 0.041666666666666664, -0.5, 0.0, 0.15357142857142858, 0.5, -0.5, 0.0, 0.26666666666666666, 0.0, -0.2916666666666667, 0.3125, 0.0, 0.15000000000000002, 0.16666666666666669, 0.65, 0.0, 0.0, 0.027777777777777776, 0.0, 0.0, 0.55, 0.21388888888888888, 0.0, 0.625, 0.2857142857142857, 0.1, 0.0, 0.0, 0.25, 0.0, 0.22265625, 0.48522727272727273, 0.5, 0.4, 0.5, 0.275, 0.0, 0.4125, -0.2, 0.0, 0.5, 0.0, -0.4, 0.0, 0.0, 0.8, 0.2857142857142857, 0.81875, 0.0, 0.0, 0.0, 0.0, 0.0, 0.0, 0.0, -0.25, 0.0, -0.15476190476190477, 0.20833333333333331, -0.5625, 0.0, 0.0, -0.25, 0.23750000000000002, 0.0, 0.0, 0.0, 0.5625, 0.0, 0.0, 0.0, 0.0, 0.9765625, 0.6000000000000001, 1.0, -0.2, 0.1, 0.05, 0.30000000000000004, -0.09999999999999999, -0.3, 0.35, 0.0, -0.053571428571428575, 0.0, 0.375, 0.59375, 0.0, 0.0, 0.0, 0.21904761904761905, 0.3, -0.125, 0.5, 0.8, 0.11481481481481481, 0.0, 0.0, 0.8, 0.575, 0.0, 0.4, 0.3666666666666667, 0.5, 0.0, 0.16666666666666666, 0.25, 0.6, 0.625, -0.30000000000000004, -0.054545454545454564, 0.5, 0.0, 0.0, 0.032467532467532464, 0.5, 0.0, 0.0, 0.15, 0.0, 0.06666666666666665, -0.15714285714285714, 0.0, 0.44999999999999996, 0.6, 0.35, 0.09999999999999999, 0.0, 0.41818181818181815, 0.5, 0.08, 0.0, 0.3333333333333333, 0.0, 0.5, 0.35, 0.14285714285714285, -0.5, -0.9375, 0.3194444444444444, -0.5, -0.09999999999999998, -0.15, 0.6, 0.0, -0.17499999999999993, 0.0, 1.0, -0.475, 0.4, 0.0, -0.375, 0.0, -0.03125, 0.24318181818181817, 0.75, -0.1, -0.08333333333333333, 0.0, -0.25, 0.0, 0.75, 0.45, -0.4, 0.0, 0.43333333333333335, 0.75, -0.15625, -0.05, 0.8, -1.0, -0.09, 0.0, 0.22333333333333333, 0.0, -0.4, 0.26666666666666666, -0.1875, 0.5, 0.0, 0.25, -0.35000000000000003, 0.0, 0.13636363636363635, -0.26666666666666666, 0.0, 0.21212121212121207, 0.2, 0.0, 0.1, 0.0, 0.375, 0.0, 0.25, 0.0, 0.29523809523809524, 0.0, 0.2, 0.0, 0.45, 0.0, -0.15000000000000002, 0.22500000000000003, 0.0, 0.2857142857142857, 0.0, 0.8, 0.0, 0.0, 0.0, 0.0, 0.0, 0.08888888888888889, 0.14285714285714285, -0.08181818181818182, 0.4121212121212121, -0.2, 0.0, 0.0, -0.5, 0.09285714285714285, 0.0, -0.3499999999999999, 0.0, 0.13333333333333333, 0.0, 0.5, 0.0, 0.0, 0.0, 0.2, 0.0, 0.42857142857142855, -0.390625, -0.125, 0.4291666666666667, 0.2, 0.0, 0.0, 0.75, 0.07777777777777782, 1.0, -0.1, 0.43333333333333335, 0.13636363636363635, 0.2, 0.4270833333333333, 0.171875, 0.5, 0.0, 0.3, 0.0, 0.4, 0.525, -0.35, 0.2951388888888889, -1.0, 0.5, 0.0, 0.16666666666666666, 0.25, 0.0, -0.05, 0.30000000000000004, 0.2, 0.13636363636363635, 0.125, -0.5, 0.0, 0.0, 0.0, 0.5, 0.25, 0.10000000000000003, 0.2578125, 0.5, 0.0, -0.075, 0.5, 0.0, 0.024999999999999994, 0.0, 0.0, 0.0, 0.3, 0.022619047619047622, -0.2, 0.30833333333333335, 0.6000000000000001, -0.13333333333333333, -0.15000000000000002, 0.0, 0.5, -0.037499999999999985, 0.0, 0.0, 0.0, 0.0, 0.05, -0.5, 0.625, 0.3, 1.0, 0.26666666666666666, 0.5, 0.05555555555555555, -0.1875, 0.0, 0.0, 0.0, 0.4, 0.25, -0.11666666666666665, 0.0, 0.0, 0.3333333333333333, 0.35, 0.3666666666666667, 0.0, 0.0, -0.30000000000000004, 0.0, 0.0, 0.5, -0.17500000000000002, 0.475, 0.5, 0.3, 0.5, -0.6666666666666666, -0.02840909090909091, 0.0, 0.0, -0.3333333333333333, 0.21428571428571427, 0.0, 0.05277777777777778, 0.0, 0.0, -0.2, 0.0, -0.15000000000000002, 0.0, 0.5, 0.5, 0.0, 0.2, 0.25, 0.2, 0.5, -0.1125, 0.0, 0.8, 0.0, 0.0, 0.0, -0.05681818181818182, 0.0, 0.0, 0.0, 0.0, 0.5, 0.6000000000000001, 0.0, 0.5, 0.0, 0.5, 0.39285714285714285, 0.0, 0.0, -0.21590909090909083, 0.35, 0.0, -0.5, 0.0, 0.0, 0.22, 0.0, -0.08333333333333333, 0.3, 0.0, 0.0, 0.0, 0.0, 0.5, 0.0, 0.0, 0.625, 0.0, 0.0, 0.0, -0.25, 0.0, 0.025, -0.15, 0.0, -0.09999999999999999, 0.16818181818181818, 0.24545454545454545, 0.13333333333333333, 0.0, 0.4, 0.0, 0.09999999999999999, 0.0, 0.0, 0.75, 0.8, 0.4, -0.2, 0.25756944444444446, 0.0, -0.016666666666666663, -0.041666666666666664, 0.0, 0.0, 0.4681818181818182, 0.3, 0.5, -0.009375000000000022, 0.25, 0.39285714285714285, 0.3642857142857143, 0.22666666666666666, 0.8, 0.1, -0.3333333333333333, 0.0, -0.2, -0.25, 0.25, -0.05, -0.2, 0.0, 0.0, -0.25, 0.8, 0.016666666666666666, -0.5499999999999999, 0.8333333333333334, 0.625, 0.0, -0.03333333333333329, 1.0, 0.5, 0.13636363636363635, 0.1, 0.42500000000000004, 0.0, 0.0, 0.85, 0.420367431640625, -0.18333333333333335, 0.35, 0.0, -0.06666666666666667, -0.625, 0.0, 0.0, 0.17045454545454544, 0.08989898989898988, 0.0, -0.6, 0.0, 0.2583333333333333, 0.3, 0.0, -0.041666666666666664, -0.25, 0.0, 0.2972222222222222, 0.1, 0.6, 0.0, 0.0, 0.5, -0.1875, -0.49166666666666664, 0.024999999999999994, 1.0, 0.13636363636363635, 0.0625, 0.4454545454545455, 0.0, 0.15, 0.0, -0.30000000000000004, -0.125, 0.0, 0.2, 0.7, 0.0, -0.5, 0.0, 0.25625, 1.0, 0.0, 0.15, 0.5, 0.5, 0.0, -0.25, 0.375, 0.5, 0.4, 0.0, -0.125, 0.5, 0.0, -0.5, 0.65, 0.25, 0.0, 0.0, 0.7, 0.0, -0.19999999999999996, 0.05000000000000001, 0.8, 0.06818181818181818, 0.0, 0.0, 0.45, -1.0, 0.2, 0.4875, 0.0, 0.0, 0.15000000000000002, 0.5833333333333334, 0.0, 0.0, 0.5208333333333334, -0.20476190476190478, -0.15, 0.0, 0.0, 0.16666666666666666, -0.5000000000000001, 0.0, 0.5, 0.0, -0.04375000000000001, 0.0, 0.5, 0.0, 0.3666666666666667, -0.23273809523809522, -0.18333333333333335, 0.0, 1.0, 0.3841145833333333, 0.55, 0.0, 0.21212121212121213, 0.5, 0.0, 0.03125, -0.06874999999999999, 0.4, -0.4, 0.3681818181818182, 0.0, -0.4, 0.0, 0.0, -0.6, -0.25, 0.0, 0.0, 0.5, 0.0, 0.05, 0.0, 0.45, 0.7, 0.5, 0.0, 0.75, -0.05625000000000001, 0.5, 0.009263392857142838, -0.8499999999999999, 0.0, 0.0, -0.2, 0.7, 0.0, -1.0, 0.25, 0.4, 0.0, 0.0, 0.1, -0.30000000000000004, 0.7333333333333334, 0.0, 1.0, 0.375, 0.0, 0.1542929292929293, 0.3, 0.0, 0.5, 0.0, 0.0, 0.31666666666666665, -0.35, 0.0, 0.0, -0.025, -0.2, -0.2777777777777778, 0.0, 0.0, 1.0, 0.8, 0.0, 0.11666666666666665, 0.0, 0.0, 0.0, 0.25, -0.4, 0.7, -0.125, 0.4166666666666667, 0.025, 0.5428571428571429, 0.0, 0.0, 0.5, 0.0, 0.0, 0.75, -0.05, 0.0, 0.5, 0.0, 0.0, 0.5, 0.1, 0.0, 0.0, 0.0, 0.0, 0.4, 0.5, 0.0, 0.0, 0.0, -0.075, 0.5375, 0.0, -0.35625, 0.14069264069264067, 0.3333333333333333, 0.0, 0.8, 0.0, 0.75, -0.3333333333333333, 0.0, 0.13636363636363635, 0.3333333333333333, -0.2888888888888888, 0.0, 0.0, 0.24285714285714285, 0.005681818181818177, 0.25, 0.0, 0.4375, 0.04999999999999999, 0.125, 0.0, 0.0, 0.5, 0.0, 0.0, 0.45833333333333337, 0.0, -0.056249999999999994, 0.16818181818181818, 0.475, 0.0, 0.25, 0.0, 0.675, 0.0, -0.30952380952380953, 0.16818181818181818, 0.1, 0.0, 0.15000000000000002, 0.08666666666666667, 0.13636363636363635, 0.25, 0.0, -0.05000000000000002, 0.10520833333333335, 0.0, 0.0, 0.6, -0.1, 0.4, -0.2, -0.5, 0.0, 0.3666666666666667, 0.5, 0.0, 1.0, 0.625, 0.13333333333333333, 0.16666666666666666, 0.55, 0.4, 0.625, 0.0, -0.15555555555555559, 0.35, -0.5, 0.05, 0.21666666666666667, 0.0, 0.13636363636363635, 0.5, 0.0, -0.0625, 0.375, 0.1, 0.5, 0.5, 0.25, 1.0, -0.25, -0.875, 0.4625, 0.5, 0.1, 0.0, 0.3, 0.0, -0.3166666666666667, 0.4732142857142857, -0.5999999999999999, 0.0, 0.0, 0.0, 0.03333333333333333, 0.8, 0.0, 0.2, 0.0, 0.41666666666666663, 0.5416666666666667, 0.5, 0.75, 0.30000000000000004, 0.7, 0.4453125, 0.16666666666666666, 0.0, 0.0, 0.0, 0.13333333333333333, 0.31666666666666665, 0.275, -0.2, 0.25, 1.0, 0.1, 0.5, 0.5, 0.0, 0.2, 0.0, 0.0, 0.13636363636363635, 0.0, -0.13333333333333333, 0.11742424242424242, 0.6, 0.35, 0.375, 0.0, -0.15, 0.28125, 0.6, 0.3, 0.07499999999999998, 0.0, 0.0, 0.5, -0.16666666666666666, 0.55, 0.0, 0.4000000000000001, 0.2, 0.2, 0.0, -0.55625, -0.05625, 0.0, 0.0, 0.625, 0.5, 0.1, 0.20000000000000004, 0.3, 0.0, 0.7, 0.6, 0.0, -0.75, 0.3, 0.75, 0.6, 0.375, 0.0, 0.35, 0.0, 0.0, -0.2, 0.2857142857142857, -0.7, 0.6875, -0.033333333333333326, 0.9, 1.0, -0.6999999999999998, 0.25, 0.25, 0.1, -0.14583333333333331, 0.0625, -0.2380952380952381, 0.0, 0.4, -0.20729166666666668, -0.2916666666666667, 0.0, 0.0, -0.8, 0.0, 0.0, 0.0, 0.0, 0.3833333333333333, -0.23333333333333336, 0.25, 0.2333333333333333, -0.3, 0.0, 0.0, -0.15625, -0.2916666666666667, 0.0, 0.0, 0.0, 0.1, 0.0, 0.2, 0.75, 0.8, -0.325, 0.8, -0.2125, 0.0, 0.0, -0.05, -1.0, 0.8, 0.6125, 0.5, 0.0, 0.0, 0.5, 0.6000000000000001, 0.0, -0.6, -0.17057291666666666, 0.0, -0.425, 0.0, 0.0, -0.47500000000000003, 0.2, 0.45000000000000007, 0.0, 0.85, 1.0, 0.0, 0.0, 0.5, 0.2791666666666667, 0.2372159090909091, 0.0, 0.0, 0.0, -0.296875, -0.10714285714285715, 1.0, 0.0, 0.5, 0.0, 0.45, 0.0, 0.0, 0.0, 0.19318181818181818, 0.5333333333333333, 0.0, 0.0, 0.0, 0.3833333333333333, 0.0, -0.75, 0.15000000000000002, 0.7, -0.2625, -0.05000000000000001, 0.2, -0.3, 0.16666666666666669, 0.5, 0.0, 0.0, -0.04999999999999996, 0.4, 0.5, -0.175, 0.0, 0.225, 0.35, -0.6, 0.3333333333333333, -0.75, 0.0, -1.0, 0.14375, 1.0, 0.2, 0.0, 0.1787878787878788, 0.2125, 0.019047619047619035, 1.0, 0.0, -0.25, 0.0, 0.0, 0.375, -0.6999999999999998, -0.0625, 0.39285714285714285, 0.6, 0.25, -0.5, 0.3, -0.39583333333333337, -0.2916666666666667, 0.525, 0.35, 0.375, 0.0, 0.2, 0.0, 0.2, 0.3, 0.0, 0.0, 0.3181818181818182, 0.75, -0.3, 1.0, 0.15, 0.38, 0.16249999999999998, -0.2, 0.05, 0.25, -0.7, 0.25, 0.1, 0.4, 0.1, 0.0, 0.0, -0.16666666666666666, 0.0, -0.1375, 0.3, 0.5, -0.4666666666666666, 0.0, -0.1625, 0.0, 0.85, -0.02857142857142857, 0.2857142857142857, 0.6666666666666666, 0.625, 0.5, 0.48020833333333335, 0.5, 0.0, 0.0, 0.0, 0.0, 0.0, 0.85, 0.0, 0.8, -0.08333333333333333, 0.19999999999999998, 0.0, 0.0, 0.19999999999999998, 0.0, 0.15, 0.0, 0.16666666666666666, 0.0, 0.6, -0.1, 0.03333333333333333, 0.09062500000000001, 0.6, 0.1, 0.25, 0.2, 0.1875, -0.0029761904761904934, 0.0, 0.5853333333333334, -0.3, 0.0, -0.45, 0.25, 0.35714285714285715, 0.0, 0.0, 0.2, 0.0, 0.3181818181818182, 0.016666666666666673, 0.1, 0.0, 0.0, 0.2, -0.5, 0.421875, 0.4380952380952381, 0.0, 0.8, 0.17857142857142855, 0.4, 0.2, 0.00833333333333334, 0.0, -0.5833333333333334, 0.5, 0.35, -0.16666666666666666, 0.3, 0.0, 0.25, 0.625, -0.3333333333333333, 0.4, 0.0, 0.0, 0.08333333333333333, 0.08000000000000003, -0.21875, 0.45, 0.6000000000000001, 1.0, 0.0, 0.0, 0.1, 0.0, 0.0, 0.1619047619047619, 0.1, 0.25, 0.5, 0.375, 0.0, -0.05000000000000001, 0.3125, 0.4, 0.0, 0.3333333333333333, 0.3, 0.0, 0.05000000000000002, 0.0, 0.1825, 0.0, 0.10833333333333334, 0.85, 0.0, 0.0, 0.0, 0.0, -0.2916666666666667, 1.0, 0.0, 0.0, 0.2, 0.75, 0.38125, 0.10714285714285714, 1.0, 0.25, -0.1875, 0.16666666666666666, -0.3625, 0.2857142857142857, 0.0, 0.0, 0.35, 0.0, 0.25, -0.16666666666666666, 0.0, 0.24166666666666664, 1.0, 0.25, 0.5, 0.4, 0.0, 0.0, 0.0, 0.5, 0.5, 0.0, 0.6, 0.18148148148148147, -0.8, 0.0, 0.8, 0.16666666666666666, 0.0, 0.0, 0.65, 0.0, 0.9, 0.8, 0.8, 0.35, -0.3125, 0.5, 0.5, 0.0, 0.75, 0.10000000000000002, 0.0, 0.5, -0.2, 0.16666666666666666, 0.275, 0.0, 0.0, 0.4454545454545455, 0.0, 0.0, -0.09999999999999998, 0.0, 0.0, 0.625, -0.15, 0.5, -0.15, -0.2, -0.4, 0.0, -0.21428571428571427, 0.625, 0.5, 0.0, 0.3666666666666667, 0.0, 0.0, 0.35833333333333334, 0.35, 0.10277777777777779, 0.375, 0.42552083333333335, 0.5, 0.1, -0.125, 0.0, 0.390625, -0.05, 0.43333333333333335, -0.625, 0.033333333333333326, 0.0, 0.475, 0.004166666666666652, 0.0, 0.0, -0.2571428571428571, 0.5, 0.5, 0.4, 0.3, 0.10833333333333332, 0.25, 0.0, 0.3595238095238095, 0.0, 0.125, 0.6, 0.19166666666666665, -0.18333333333333335, 0.0, 1.0, 0.0, 0.0, 0.1, 0.0, 0.0, 1.0, 0.5, 0.375, -0.23076923076923078, 0.0, 0.0, 0.3, 0.6, 1.0, 0.2, -0.35, -0.1, 0.0, 0.25, 0.8, 1.0, 0.5, -0.5, 0.033333333333333326, 0.0, -0.8, 0.0, 0.05, 0.075, 0.43333333333333335, 0.1, 0.0, 1.0, 0.3214285714285714, -0.25, 0.8, 0.0, 0.0, 0.25, 0.0, 0.0, 0.0, -0.6, 0.0, 0.0, 0.8, 0.0, -0.3, 0.1875, -0.1, 0.35, 1.0, 0.0, 0.0, 0.36250000000000004, 0.3, -0.171875, 0.0, -0.2, 0.0, 0.375, 0.0, 0.5, 0.0, 0.6, 0.0, -0.25, 0.0, 0.2, 0.0, 0.0, 0.0, 0.21428571428571427, 0.0, 0.890625, 0.0, 0.5, 0.46875, 0.0, -0.3125, 0.0, 0.85, 0.0, -0.3, 0.5, 0.0, 0.1, 0.0, -0.09999999999999999, 0.0, 0.3, 0.05, 0.8, 0.0, 0.0, 0.0, 0.0, 0.0, 0.3, 0.325, -0.1, 0.0, 0.0, 0.1568181818181818, 0.0, -0.4, 0.5, 0.0, 0.14285714285714285, 0.0, 0.5, 0.3181818181818182, 0.0, 0.4706327364042208, 0.0, 0.1, 0.0, -0.7142857142857143, 0.0, -0.13333333333333333, 0.1, 0.19999999999999998, 0.0, 0.0, 0.2, -0.2, 0.0, 0.0, 0.0, -0.4, 0.1, 0.0, 0.78125, -0.033333333333333326, 0.0, 0.0, 0.5, 0.0, 0.2857142857142857, 0.5, -0.25, 0.11481481481481481, 0.0, 0.39999999999999997, 0.0, 0.5, -1.0, 0.0, 0.03125, 0.0, 1.0, 0.0, 0.0, 0.2, 0.0, 0.0, -0.05, 0.0, 0.3666666666666667, 0.0022727272727272596, -0.5, 0.0, 0.16, 0.55, 0.21428571428571427, 0.3, 0.0, 0.0, 0.0, 0.0, -0.2769097222222222, 0.125, 0.30000000000000004, 0.0, 0.7, -0.8749999999999998, 0.5, -0.2, 0.65, 0.6, 0.8, -0.6999999999999998, -0.4, 0.0, 1.0, 0.275, 0.3, -0.5, 0.25, 0.45, -0.10714285714285715, 0.7, 0.8, 0.4, -0.8, 0.0, 0.6583333333333333, 0.16952380952380955, 0.0, 0.0, 0.625, -0.016666666666666663, 0.3416666666666666, 0.05555555555555556, 0.6, 0.0, 0.6666666666666666, 0.2, 0.5, -0.16666666666666666, 0.0, 0.0, -0.2, 1.0, 0.2857142857142857, 0.13636363636363635, 0.0, 0.0, 0.0, 0.0, 0.15555555555555559, 0.0, -1.0, 0.03, 0.0, 0.06190476190476191, 0.2636363636363636, -0.18333333333333335, 0.5166666666666667, 0.0, 0.3333333333333333, 0.5, 0.0, 0.0, -0.1, -0.75, -0.4, -0.5, 0.7, 0.0, 0.0, -0.3666666666666667, 0.6, 0.5, 0.16666666666666669, -0.3499999999999999, 0.0, 0.21666666666666667, 0.0, 0.5, 0.09375, 0.4, 0.0, 0.0, 0.10000000000000002, 0.2857142857142857, 0.375, 0.0, 1.0, 0.0, 0.5, 0.8, 0.9765625, -0.013257575757575765, 0.13636363636363635, 0.25, 0.0, 0.0, 0.0, 0.31666666666666665, 0.0, 0.0, 0.0, 0.5, 0.0, 0.25, 0.55, 0.0, 0.3125, 0.0, 0.0, 0.0, 0.7, -0.19444444444444448, 0.3, -0.08333333333333333, 0.2, 0.5, -1.0, 0.4, -0.325, 0.1, -0.25, 0.2, 0.8, -0.29375, 0.0, 0.0, 0.0, 0.0, 0.0, 0.0, 0.5, 0.0, 0.0, -0.15, 0.0, 0.0, -0.5, 0.0, 0.43333333333333335, 0.0, 0.5, 0.5, 0.25, 0.0, 0.3, 0.0, 0.0, -0.04999999999999999, -0.5166666666666667, 0.0, 0.7, 0.04999999999999999, -0.2, 0.17777777777777778, -0.03181818181818183, 0.0, 0.7, 0.0, -0.05, 0.0, 0.0, 0.35, 0.0, 0.25, -0.23066666666666666, 0.0, 0.0, -0.4, 0.10000000000000002, -0.08333333333333331, 0.0, 0.016666666666666663, -0.1625, 1.0, 0.06190476190476191, 0.4, 0.0, 0.25, -0.05000000000000002, 0.3, -0.16666666666666666, 0.25, 0.0, 0.45, 0.0, -0.26676432291666663, 0.0, -0.2916666666666667, -0.08333333333333333, 0.0, 0.0, 0.0, 0.3, 0.0, 0.5, -0.6999999999999998, 0.0, 0.0, 0.0, 0.6, 0.55, 0.4090909090909091, 0.0, 0.0, 0.0, -0.65, 0.08888888888888888, 0.25, 0.0, 0.35, 0.0, 0.0, 0.35, 1.0, 0.3662698412698413, 0.5, 0.0, 0.0, 0.5, 0.35, 0.0, 0.7, 0.0, 0.0, 0.3277777777777778, 0.3333333333333333, 0.3, 0.6, 0.0, 0.0, 0.8, 0.0025000000000000022, 0.023333333333333327, -0.625, 0.0, 0.0, 0.125, 0.0, 0.2, 0.0, 0.10000000000000002, 0.0, 0.5, 0.35416666666666663, 0.0, 0.1464285714285714, 0.3333333333333333, -0.5, -0.275, 0.13636363636363635, 0.6, 0.0, 0.41111111111111115, 0.5, -0.03181818181818183, 0.0, 0.5, 0.2, 0.4666666666666667, 0.0, 0.25, 0.39, 0.375, 0.5, 0.5, -0.1, -0.1166666666666667, 0.2, 0.04999999999999999, 0.0, 0.4791666666666667, 0.0, 0.4, 0.0, 0.0, -0.11666666666666665, 0.4, -0.675, 0.0, 0.0, 0.0, 0.8, 0.8, 0.4, 0.0, 0.225, 0.0, 0.6, -0.2, 0.5, 0.1, -0.5, 0.0, 0.1875, 0.0, 0.0, 0.2, 0.0, -0.2, 0.0, 0.5, -0.03749999999999998, 0.0, 0.15, 0.0, 0.14642857142857144, -0.1, 0.0, 0.0, 0.16666666666666666, 0.09999999999999998, 0.3, 0.0, 0.25, -0.375, 0.0, 0.1, -0.08531746031746033, 0.0, 0.0, 0.5, 0.0, 0.0, 0.0, 0.25, 0.3, -0.05714285714285719, 0.1, 0.3, 0.3333333333333333, 0.775, 0.4375, -0.3022222222222222, 0.8, 0.175, 0.39285714285714285, 0.0, -0.3125, 0.0, 0.1, 0.175, 0.0, 0.15, -0.45, 0.0, 0.0, 0.6, 0.0, -0.06666666666666665, -0.19999999999999996, 0.0, 0.0, 0.0, 0.6, 0.08333333333333333, 0.0, -0.45, -0.16666666666666666, 0.0, 0.0, 0.0, 0.4043560606060606, 0.0888888888888889, 0.0, 0.09307359307359309, -0.21477272727272728, 0.3, 0.0, 0.0, 0.0, -0.9765625, 0.0, 0.0, -0.2, 0.45, 0.022222222222222213, 0.0, 0.2, -0.15555555555555559, -0.2, 0.25, 0.7, 0.0, 0.65, 0.0, 0.0, 0.2, 0.15400000000000003, -0.3, 0.8, -0.5, 0.1, 0.0, 0.22500000000000006, 0.0875, 0.2857142857142857, 0.45, 0.625, 0.0, 0.0, 0.0, 0.18333333333333335, 0.3, 0.0, 0.021666666666666674, 0.7, 0.0, 0.3125, 0.3, 0.0, 0.0, 0.0, 0.43333333333333335, 0.43333333333333335, 0.0, 0.0, -0.05, -0.07916666666666668, 0.0, 0.7333333333333334, 0.5, 0.25, 0.0, 0.1, -0.44642857142857145, 0.5, 0.0, 0.1875, 0.09999999999999999, 0.15000000000000002, -0.3, -0.0625, 0.2, 0.2, 0.0, -0.012797619047619049, -0.26666666666666666, -0.13333333333333333, 0.5625, 0.0, 0.0, 0.1, 0.2, 0.1875, 0.16666666666666666, 0.8, 0.35, -0.6, 0.5, -0.1, 0.0, 0.0, 0.625, 0.0, 0.041666666666666664, 0.0, 0.0, 0.06153846153846154, 0.75, 0.41666666666666663, 0.0, 0.0, 0.5, 0.15, 0.20833333333333331, 0.29545454545454547, -0.05, 0.2857142857142857, -0.19999999999999998, 0.0, 0.45, -0.4, 0.0, 0.016666666666666677, 0.8, 0.0, -0.125, 0.10000000000000003, -0.15, 0.0, 0.0, 0.0, 0.0, 0.1, 0.0, 0.0, 0.0, -0.7142857142857143, 0.0, -0.26666666666666666, 0.3333333333333333, 0.375, 0.0, -0.4333333333333333, 0.0, 0.55, 1.0, 0.55, 0.8, 0.65, 0.003703703703703709, 0.0, 0.0, 0.5, 0.0, 0.35, 0.5, 0.75, 0.0, -0.3, 0.0, -0.19999999999999998, 1.0, 0.0, 0.12083333333333335, 0.0, 0.1, 0.5, 0.0, -0.25, 0.13541666666666669, -0.12638888888888886, 0.14285714285714285, 0.0, 0.0, 0.625, 0.0, 0.0, -0.25, 0.0, -0.8, 0.2833333333333333, 0.0, 0.6, 1.0, -0.625, 0.5, 0.0, -0.07142857142857142, 0.0, 0.4, -0.4666666666666666, -0.6, 0.12708333333333333, 0.8125, 0.0, 0.0, 0.0, 0.625, 0.0, 0.0, -0.4, 0.0, -0.125, 0.2920454545454545, 0.04166666666666666, 0.0, 0.5, 0.5, -0.20714285714285716, 0.275, -0.07142857142857142, 0.13636363636363635, 0.13636363636363635, -0.07142857142857144, 0.4375, 0.0, 0.9, 1.0, -0.3416666666666666, 0.5, 0.15000000000000002, 0.8, 0.14444444444444443, -0.23333333333333334, 0.0, 1.0, 0.6, 0.14285714285714285, 0.25, 0.0, 0.5625, -0.3]}],\n",
              "                        {\"barmode\": \"overlay\", \"legend\": {\"bgcolor\": \"#F5F6F9\", \"font\": {\"color\": \"#4D5663\"}}, \"paper_bgcolor\": \"#F5F6F9\", \"plot_bgcolor\": \"#F5F6F9\", \"template\": {\"data\": {\"bar\": [{\"error_x\": {\"color\": \"#2a3f5f\"}, \"error_y\": {\"color\": \"#2a3f5f\"}, \"marker\": {\"line\": {\"color\": \"#E5ECF6\", \"width\": 0.5}}, \"type\": \"bar\"}], \"barpolar\": [{\"marker\": {\"line\": {\"color\": \"#E5ECF6\", \"width\": 0.5}}, \"type\": \"barpolar\"}], \"carpet\": [{\"aaxis\": {\"endlinecolor\": \"#2a3f5f\", \"gridcolor\": \"white\", \"linecolor\": \"white\", \"minorgridcolor\": \"white\", \"startlinecolor\": \"#2a3f5f\"}, \"baxis\": {\"endlinecolor\": \"#2a3f5f\", \"gridcolor\": \"white\", \"linecolor\": \"white\", \"minorgridcolor\": \"white\", \"startlinecolor\": \"#2a3f5f\"}, \"type\": \"carpet\"}], \"choropleth\": [{\"colorbar\": {\"outlinewidth\": 0, \"ticks\": \"\"}, \"type\": \"choropleth\"}], \"contour\": [{\"colorbar\": {\"outlinewidth\": 0, \"ticks\": \"\"}, \"colorscale\": [[0.0, \"#0d0887\"], [0.1111111111111111, \"#46039f\"], [0.2222222222222222, \"#7201a8\"], [0.3333333333333333, \"#9c179e\"], [0.4444444444444444, \"#bd3786\"], [0.5555555555555556, \"#d8576b\"], [0.6666666666666666, \"#ed7953\"], [0.7777777777777778, \"#fb9f3a\"], [0.8888888888888888, \"#fdca26\"], [1.0, \"#f0f921\"]], \"type\": \"contour\"}], \"contourcarpet\": [{\"colorbar\": {\"outlinewidth\": 0, \"ticks\": \"\"}, \"type\": \"contourcarpet\"}], \"heatmap\": [{\"colorbar\": {\"outlinewidth\": 0, \"ticks\": \"\"}, \"colorscale\": [[0.0, \"#0d0887\"], [0.1111111111111111, \"#46039f\"], [0.2222222222222222, \"#7201a8\"], [0.3333333333333333, \"#9c179e\"], [0.4444444444444444, \"#bd3786\"], [0.5555555555555556, \"#d8576b\"], [0.6666666666666666, \"#ed7953\"], [0.7777777777777778, \"#fb9f3a\"], [0.8888888888888888, \"#fdca26\"], [1.0, \"#f0f921\"]], \"type\": \"heatmap\"}], \"heatmapgl\": [{\"colorbar\": {\"outlinewidth\": 0, \"ticks\": \"\"}, \"colorscale\": [[0.0, \"#0d0887\"], [0.1111111111111111, \"#46039f\"], [0.2222222222222222, \"#7201a8\"], [0.3333333333333333, \"#9c179e\"], [0.4444444444444444, \"#bd3786\"], [0.5555555555555556, \"#d8576b\"], [0.6666666666666666, \"#ed7953\"], [0.7777777777777778, \"#fb9f3a\"], [0.8888888888888888, \"#fdca26\"], [1.0, \"#f0f921\"]], \"type\": \"heatmapgl\"}], \"histogram\": [{\"marker\": {\"colorbar\": {\"outlinewidth\": 0, \"ticks\": \"\"}}, \"type\": \"histogram\"}], \"histogram2d\": [{\"colorbar\": {\"outlinewidth\": 0, \"ticks\": \"\"}, \"colorscale\": [[0.0, \"#0d0887\"], [0.1111111111111111, \"#46039f\"], [0.2222222222222222, \"#7201a8\"], [0.3333333333333333, \"#9c179e\"], [0.4444444444444444, \"#bd3786\"], [0.5555555555555556, \"#d8576b\"], [0.6666666666666666, \"#ed7953\"], [0.7777777777777778, \"#fb9f3a\"], [0.8888888888888888, \"#fdca26\"], [1.0, \"#f0f921\"]], \"type\": \"histogram2d\"}], \"histogram2dcontour\": [{\"colorbar\": {\"outlinewidth\": 0, \"ticks\": \"\"}, \"colorscale\": [[0.0, \"#0d0887\"], [0.1111111111111111, \"#46039f\"], [0.2222222222222222, \"#7201a8\"], [0.3333333333333333, \"#9c179e\"], [0.4444444444444444, \"#bd3786\"], [0.5555555555555556, \"#d8576b\"], [0.6666666666666666, \"#ed7953\"], [0.7777777777777778, \"#fb9f3a\"], [0.8888888888888888, \"#fdca26\"], [1.0, \"#f0f921\"]], \"type\": \"histogram2dcontour\"}], \"mesh3d\": [{\"colorbar\": {\"outlinewidth\": 0, \"ticks\": \"\"}, \"type\": \"mesh3d\"}], \"parcoords\": [{\"line\": {\"colorbar\": {\"outlinewidth\": 0, \"ticks\": \"\"}}, \"type\": \"parcoords\"}], \"pie\": [{\"automargin\": true, \"type\": \"pie\"}], \"scatter\": [{\"marker\": {\"colorbar\": {\"outlinewidth\": 0, \"ticks\": \"\"}}, \"type\": \"scatter\"}], \"scatter3d\": [{\"line\": {\"colorbar\": {\"outlinewidth\": 0, \"ticks\": \"\"}}, \"marker\": {\"colorbar\": {\"outlinewidth\": 0, \"ticks\": \"\"}}, \"type\": \"scatter3d\"}], \"scattercarpet\": [{\"marker\": {\"colorbar\": {\"outlinewidth\": 0, \"ticks\": \"\"}}, \"type\": \"scattercarpet\"}], \"scattergeo\": [{\"marker\": {\"colorbar\": {\"outlinewidth\": 0, \"ticks\": \"\"}}, \"type\": \"scattergeo\"}], \"scattergl\": [{\"marker\": {\"colorbar\": {\"outlinewidth\": 0, \"ticks\": \"\"}}, \"type\": \"scattergl\"}], \"scattermapbox\": [{\"marker\": {\"colorbar\": {\"outlinewidth\": 0, \"ticks\": \"\"}}, \"type\": \"scattermapbox\"}], \"scatterpolar\": [{\"marker\": {\"colorbar\": {\"outlinewidth\": 0, \"ticks\": \"\"}}, \"type\": \"scatterpolar\"}], \"scatterpolargl\": [{\"marker\": {\"colorbar\": {\"outlinewidth\": 0, \"ticks\": \"\"}}, \"type\": \"scatterpolargl\"}], \"scatterternary\": [{\"marker\": {\"colorbar\": {\"outlinewidth\": 0, \"ticks\": \"\"}}, \"type\": \"scatterternary\"}], \"surface\": [{\"colorbar\": {\"outlinewidth\": 0, \"ticks\": \"\"}, \"colorscale\": [[0.0, \"#0d0887\"], [0.1111111111111111, \"#46039f\"], [0.2222222222222222, \"#7201a8\"], [0.3333333333333333, \"#9c179e\"], [0.4444444444444444, \"#bd3786\"], [0.5555555555555556, \"#d8576b\"], [0.6666666666666666, \"#ed7953\"], [0.7777777777777778, \"#fb9f3a\"], [0.8888888888888888, \"#fdca26\"], [1.0, \"#f0f921\"]], \"type\": \"surface\"}], \"table\": [{\"cells\": {\"fill\": {\"color\": \"#EBF0F8\"}, \"line\": {\"color\": \"white\"}}, \"header\": {\"fill\": {\"color\": \"#C8D4E3\"}, \"line\": {\"color\": \"white\"}}, \"type\": \"table\"}]}, \"layout\": {\"annotationdefaults\": {\"arrowcolor\": \"#2a3f5f\", \"arrowhead\": 0, \"arrowwidth\": 1}, \"coloraxis\": {\"colorbar\": {\"outlinewidth\": 0, \"ticks\": \"\"}}, \"colorscale\": {\"diverging\": [[0, \"#8e0152\"], [0.1, \"#c51b7d\"], [0.2, \"#de77ae\"], [0.3, \"#f1b6da\"], [0.4, \"#fde0ef\"], [0.5, \"#f7f7f7\"], [0.6, \"#e6f5d0\"], [0.7, \"#b8e186\"], [0.8, \"#7fbc41\"], [0.9, \"#4d9221\"], [1, \"#276419\"]], \"sequential\": [[0.0, \"#0d0887\"], [0.1111111111111111, \"#46039f\"], [0.2222222222222222, \"#7201a8\"], [0.3333333333333333, \"#9c179e\"], [0.4444444444444444, \"#bd3786\"], [0.5555555555555556, \"#d8576b\"], [0.6666666666666666, \"#ed7953\"], [0.7777777777777778, \"#fb9f3a\"], [0.8888888888888888, \"#fdca26\"], [1.0, \"#f0f921\"]], \"sequentialminus\": [[0.0, \"#0d0887\"], [0.1111111111111111, \"#46039f\"], [0.2222222222222222, \"#7201a8\"], [0.3333333333333333, \"#9c179e\"], [0.4444444444444444, \"#bd3786\"], [0.5555555555555556, \"#d8576b\"], [0.6666666666666666, \"#ed7953\"], [0.7777777777777778, \"#fb9f3a\"], [0.8888888888888888, \"#fdca26\"], [1.0, \"#f0f921\"]]}, \"colorway\": [\"#636efa\", \"#EF553B\", \"#00cc96\", \"#ab63fa\", \"#FFA15A\", \"#19d3f3\", \"#FF6692\", \"#B6E880\", \"#FF97FF\", \"#FECB52\"], \"font\": {\"color\": \"#2a3f5f\"}, \"geo\": {\"bgcolor\": \"white\", \"lakecolor\": \"white\", \"landcolor\": \"#E5ECF6\", \"showlakes\": true, \"showland\": true, \"subunitcolor\": \"white\"}, \"hoverlabel\": {\"align\": \"left\"}, \"hovermode\": \"closest\", \"mapbox\": {\"style\": \"light\"}, \"paper_bgcolor\": \"white\", \"plot_bgcolor\": \"#E5ECF6\", \"polar\": {\"angularaxis\": {\"gridcolor\": \"white\", \"linecolor\": \"white\", \"ticks\": \"\"}, \"bgcolor\": \"#E5ECF6\", \"radialaxis\": {\"gridcolor\": \"white\", \"linecolor\": \"white\", \"ticks\": \"\"}}, \"scene\": {\"xaxis\": {\"backgroundcolor\": \"#E5ECF6\", \"gridcolor\": \"white\", \"gridwidth\": 2, \"linecolor\": \"white\", \"showbackground\": true, \"ticks\": \"\", \"zerolinecolor\": \"white\"}, \"yaxis\": {\"backgroundcolor\": \"#E5ECF6\", \"gridcolor\": \"white\", \"gridwidth\": 2, \"linecolor\": \"white\", \"showbackground\": true, \"ticks\": \"\", \"zerolinecolor\": \"white\"}, \"zaxis\": {\"backgroundcolor\": \"#E5ECF6\", \"gridcolor\": \"white\", \"gridwidth\": 2, \"linecolor\": \"white\", \"showbackground\": true, \"ticks\": \"\", \"zerolinecolor\": \"white\"}}, \"shapedefaults\": {\"line\": {\"color\": \"#2a3f5f\"}}, \"ternary\": {\"aaxis\": {\"gridcolor\": \"white\", \"linecolor\": \"white\", \"ticks\": \"\"}, \"baxis\": {\"gridcolor\": \"white\", \"linecolor\": \"white\", \"ticks\": \"\"}, \"bgcolor\": \"#E5ECF6\", \"caxis\": {\"gridcolor\": \"white\", \"linecolor\": \"white\", \"ticks\": \"\"}}, \"title\": {\"x\": 0.05}, \"xaxis\": {\"automargin\": true, \"gridcolor\": \"white\", \"linecolor\": \"white\", \"ticks\": \"\", \"title\": {\"standoff\": 15}, \"zerolinecolor\": \"white\", \"zerolinewidth\": 2}, \"yaxis\": {\"automargin\": true, \"gridcolor\": \"white\", \"linecolor\": \"white\", \"ticks\": \"\", \"title\": {\"standoff\": 15}, \"zerolinecolor\": \"white\", \"zerolinewidth\": 2}}}, \"title\": {\"font\": {\"color\": \"#4D5663\"}, \"text\": \"Sentiment Polarity Distribution\"}, \"xaxis\": {\"gridcolor\": \"#E1E5ED\", \"linecolor\": \"black\", \"showgrid\": true, \"tickfont\": {\"color\": \"#4D5663\"}, \"title\": {\"font\": {\"color\": \"#4D5663\"}, \"text\": \"polarity\"}, \"zerolinecolor\": \"#E1E5ED\"}, \"yaxis\": {\"gridcolor\": \"#E1E5ED\", \"linecolor\": \"black\", \"showgrid\": true, \"tickfont\": {\"color\": \"#4D5663\"}, \"title\": {\"font\": {\"color\": \"#4D5663\"}, \"text\": \"count\"}, \"zerolinecolor\": \"#E1E5ED\"}},\n",
              "                        {\"showLink\": true, \"linkText\": \"Export to plot.ly\", \"plotlyServerURL\": \"https://plot.ly\", \"responsive\": true}\n",
              "                    ).then(function(){\n",
              "                            \n",
              "var gd = document.getElementById('fca655bd-f1ef-41bd-b450-a84397849e6d');\n",
              "var x = new MutationObserver(function (mutations, observer) {{\n",
              "        var display = window.getComputedStyle(gd).display;\n",
              "        if (!display || display === 'none') {{\n",
              "            console.log([gd, 'removed!']);\n",
              "            Plotly.purge(gd);\n",
              "            observer.disconnect();\n",
              "        }}\n",
              "}});\n",
              "\n",
              "// Listen for the removal of the full notebook cells\n",
              "var notebookContainer = gd.closest('#notebook-container');\n",
              "if (notebookContainer) {{\n",
              "    x.observe(notebookContainer, {childList: true});\n",
              "}}\n",
              "\n",
              "// Listen for the clearing of the current output cell\n",
              "var outputEl = gd.closest('.output');\n",
              "if (outputEl) {{\n",
              "    x.observe(outputEl, {childList: true});\n",
              "}}\n",
              "\n",
              "                        })\n",
              "                };\n",
              "                });\n",
              "            </script>\n",
              "        </div>"
            ],
            "application/vnd.plotly.v1+json": {
              "data": [
                {
                  "opacity": 0.8,
                  "name": "polarity",
                  "histnorm": "",
                  "nbinsx": 50,
                  "histfunc": "count",
                  "marker": {
                    "color": "rgba(255, 153, 51, 1.0)",
                    "line": {
                      "color": "#000000",
                      "width": 1.3
                    }
                  },
                  "x": [
                    0.1875,
                    0.19999999999999998,
                    0,
                    0,
                    0,
                    0.48828125,
                    0,
                    0.32222222222222224,
                    0,
                    -0.45,
                    0.1,
                    0.016666666666666646,
                    0,
                    0.05,
                    0,
                    0.275,
                    -0.1875,
                    0.1875,
                    0,
                    -0.033333333333333354,
                    0,
                    0.13333333333333333,
                    0,
                    0.525,
                    -0.375,
                    -0.5,
                    0.15,
                    -0.10000000000000002,
                    0,
                    0.012500000000000004,
                    0.3653409090909091,
                    0.35714285714285715,
                    0.3,
                    0.1,
                    0.2333333333333333,
                    0.6666666666666666,
                    0.2,
                    0.7,
                    0.5,
                    0.27708333333333335,
                    0,
                    0.22500000000000003,
                    0.3333333333333333,
                    0,
                    -0.00833333333333334,
                    0.5,
                    0,
                    0.45,
                    -0.004166666666666652,
                    0.54375,
                    0,
                    0.6,
                    0,
                    -0.36666666666666664,
                    0,
                    -0.07500000000000001,
                    0,
                    0.1,
                    -0.5,
                    0,
                    0.5833333333333334,
                    0.25,
                    0.25,
                    -0.0625,
                    -0.041666666666666664,
                    -0.27999999999999997,
                    0.6000000000000001,
                    0.10000000000000002,
                    0.13124999999999998,
                    0.5333333333333333,
                    0,
                    0.06666666666666665,
                    0,
                    0.625,
                    0.04814814814814814,
                    1,
                    0,
                    -0.125,
                    0,
                    0.2,
                    0.4,
                    0.28125,
                    -0.16666666666666666,
                    1,
                    0.3,
                    -0.4,
                    0.8,
                    -0.5,
                    0.46437815656565656,
                    0,
                    0,
                    0.7,
                    0,
                    0.5,
                    0,
                    0.3666666666666667,
                    0.05,
                    0.1839285714285714,
                    -0.1,
                    0.525,
                    0,
                    0.8,
                    0.13333333333333333,
                    0,
                    0.1,
                    -0.5,
                    0.25,
                    0,
                    0,
                    0.20555555555555557,
                    -0.125,
                    0.15,
                    0,
                    0.17222222222222222,
                    0.3666666666666667,
                    0,
                    0,
                    -0.78125,
                    0.041666666666666664,
                    0.25,
                    0.024999999999999994,
                    0,
                    0.7,
                    0.14222222222222222,
                    -0.5,
                    0,
                    0,
                    0,
                    -0.5,
                    0.024999999999999994,
                    -0.21428571428571427,
                    0.1,
                    0,
                    0.5,
                    0,
                    0.25,
                    0,
                    0.15357142857142858,
                    0.4000000000000001,
                    0.22777777777777777,
                    0.4,
                    -0.04999999999999999,
                    0.033333333333333326,
                    -0.2916666666666667,
                    0,
                    -0.45,
                    0.2166666666666667,
                    0,
                    0.8,
                    0.7,
                    0,
                    0.48750000000000004,
                    -0.16666666666666666,
                    0.8,
                    0.8,
                    -0.5,
                    0.5,
                    0.275,
                    0.3,
                    -0.2,
                    0.625,
                    -0.39333333333333337,
                    0.5,
                    0.2375,
                    0,
                    0.5,
                    0.15000000000000002,
                    0.5,
                    0.5,
                    0,
                    0.8,
                    0,
                    0,
                    0.4,
                    0,
                    0.22000000000000003,
                    0.1,
                    0,
                    0,
                    0.5,
                    0,
                    0,
                    0.5,
                    0.2,
                    0.5,
                    -0.1285714285714286,
                    -0.19444444444444448,
                    0,
                    0.2857142857142857,
                    0,
                    0,
                    -0.35,
                    -0.13181818181818183,
                    0.5,
                    0.5,
                    0.5,
                    0,
                    0.4,
                    -0.75,
                    0.25,
                    0,
                    0.2,
                    -1,
                    0.2857142857142857,
                    0,
                    0,
                    0.1,
                    0.242,
                    0.2,
                    0,
                    -0.3,
                    0,
                    -0.08333333333333333,
                    0.5833333333333334,
                    0.35,
                    0,
                    0.14999999999999997,
                    0,
                    0,
                    0,
                    0,
                    0,
                    0,
                    0,
                    0.13750000000000007,
                    0.39285714285714285,
                    0.2,
                    0,
                    0,
                    0.5,
                    0,
                    0,
                    0.5,
                    0.2,
                    0.5,
                    0.25,
                    -0.8,
                    0,
                    0.85,
                    0.5,
                    -0.08333333333333333,
                    0.057142857142857134,
                    0.11875,
                    0.2,
                    0.5,
                    0,
                    0,
                    0,
                    0.6,
                    0.8,
                    0.4,
                    -0.625,
                    -0.15,
                    0.8,
                    0.5,
                    0,
                    0.625,
                    -0.8,
                    -0.1,
                    -0.275,
                    0,
                    1,
                    0.25,
                    0.5,
                    0.2,
                    -0.15625,
                    0.25,
                    0,
                    0,
                    -0.05,
                    -0.20000000000000004,
                    0.5,
                    0,
                    0,
                    0,
                    -0.2,
                    0.25166666666666665,
                    0,
                    0,
                    0.125,
                    0,
                    0.4,
                    -0.2916666666666667,
                    0,
                    0.25,
                    0,
                    0,
                    0,
                    0.35,
                    0,
                    0,
                    0,
                    -0.3,
                    -0.390625,
                    -0.16666666666666666,
                    0.7,
                    0.75,
                    0.33999999999999997,
                    0.35,
                    0.25,
                    0,
                    0,
                    0.08680555555555554,
                    0.8,
                    0,
                    0,
                    -0.16666666666666666,
                    0.2,
                    0.10000000000000002,
                    0.375,
                    -0.05,
                    0,
                    -0.0666666666666667,
                    0,
                    0.6,
                    0,
                    0.43333333333333335,
                    0.4166666666666667,
                    0.3333333333333333,
                    0,
                    0,
                    0,
                    -0.55,
                    -0.15000000000000002,
                    0.1398148148148148,
                    0.6,
                    0,
                    -0.16666666666666666,
                    0.3181818181818182,
                    0.78125,
                    -0.5,
                    0.2,
                    0,
                    -0.25,
                    0.22499999999999998,
                    0,
                    0,
                    0.5,
                    0.13333333333333333,
                    0.125,
                    0.06666666666666667,
                    0.4375,
                    0.35000000000000003,
                    -0.4,
                    0.5,
                    0,
                    0.03333333333333333,
                    -1,
                    0.5,
                    -0.17857142857142855,
                    0.45,
                    0,
                    0.09166666666666667,
                    0,
                    0.35,
                    0,
                    -0.16666666666666666,
                    0.7,
                    0,
                    0,
                    0.5,
                    0.44999999999999996,
                    0,
                    0.7,
                    -0.1,
                    -0.3,
                    0,
                    0.8,
                    0.35,
                    0.5,
                    0.15,
                    0.8,
                    0.35,
                    -1,
                    0,
                    0,
                    0,
                    0,
                    0,
                    0.35,
                    0.3,
                    0.3,
                    0.5,
                    0.65,
                    0.023232323232323226,
                    0.8,
                    0.022222222222222213,
                    0.25,
                    0.375,
                    0.8,
                    0,
                    0,
                    0.25,
                    0.1,
                    0.375,
                    -0.05,
                    0.5,
                    0.2,
                    -0.07777777777777779,
                    0.3,
                    0.125,
                    0,
                    -0.08333333333333333,
                    0,
                    0.09285714285714285,
                    0,
                    0.5,
                    0.09166666666666667,
                    0.3499999999999999,
                    0.3,
                    -0.2,
                    0.5,
                    0.5,
                    0.15,
                    0.058333333333333334,
                    0.5,
                    0,
                    0.45,
                    0.625,
                    0,
                    0,
                    0.5,
                    0,
                    0.7,
                    0.1,
                    0.5416666666666666,
                    0.2,
                    0,
                    0,
                    0,
                    0,
                    0.35,
                    0.762939453125,
                    0,
                    0.21666666666666667,
                    0,
                    0.35,
                    0,
                    -0.2,
                    -0.23333333333333336,
                    0.35,
                    0,
                    0.2,
                    0.2,
                    -0.05,
                    0.25,
                    0.20000000000000004,
                    0.16666666666666669,
                    0.13636363636363635,
                    0,
                    -0.07692307692307693,
                    0.3125,
                    0,
                    0,
                    0,
                    0.49404761904761907,
                    0,
                    0.2,
                    0.5666666666666667,
                    0.14285714285714285,
                    -0.5,
                    0.125,
                    0.390625,
                    0.3,
                    -0.5,
                    0.19166666666666665,
                    0.5,
                    0.6,
                    0.6,
                    0.3,
                    0.4,
                    0,
                    0,
                    -0.6499999999999999,
                    0.8,
                    0.016666666666666677,
                    0.4375,
                    -0.4,
                    0.8,
                    0,
                    0.1875,
                    0,
                    0.8,
                    0.625,
                    0,
                    0.1,
                    0.18333333333333335,
                    0,
                    0.3125,
                    -0.7999999999999999,
                    1,
                    0.5,
                    0.3,
                    -0.125,
                    -0.29444444444444445,
                    0,
                    0,
                    0.25,
                    0.09523809523809523,
                    -0.2,
                    0,
                    0.2,
                    1,
                    0.8,
                    -0.325,
                    0.4,
                    0,
                    0.35,
                    0,
                    0,
                    -0.14999999999999997,
                    0.2333333333333333,
                    0.2,
                    0,
                    0.7,
                    0.05000000000000002,
                    0,
                    0,
                    0,
                    0.13636363636363635,
                    0.1,
                    0.3,
                    0,
                    0.8,
                    0,
                    0.024999999999999994,
                    1,
                    0.25,
                    0.75,
                    0,
                    0.5,
                    0,
                    0.24375000000000002,
                    0,
                    0.55,
                    0.2916666666666667,
                    0,
                    -0.8749999999999998,
                    -0.5,
                    0.8,
                    0,
                    0.8,
                    0.8,
                    0.5,
                    0.2,
                    0,
                    0.022222222222222216,
                    0,
                    0.25,
                    0.3666666666666667,
                    0.5,
                    0.06666666666666667,
                    0.6000000000000001,
                    0.3333333333333333,
                    0.65,
                    0.35714285714285715,
                    0,
                    0,
                    0.5,
                    0,
                    0.39999999999999997,
                    0,
                    0.31666666666666665,
                    0,
                    0.9,
                    0,
                    0,
                    -0.16666666666666666,
                    0.4352272727272727,
                    0,
                    0.4,
                    -0.3055555555555555,
                    0.3125,
                    0.0625,
                    0.6,
                    0.09523809523809523,
                    -0.2,
                    0,
                    -0.3125,
                    0,
                    0,
                    0.7,
                    0,
                    0,
                    -0.00846560846560849,
                    0,
                    0.13333333333333333,
                    0.21428571428571427,
                    -1,
                    0.34285714285714286,
                    0,
                    0,
                    0.21875,
                    0,
                    0.29888888888888887,
                    0.3662109375,
                    0.6,
                    0,
                    0,
                    0,
                    0.3333333333333333,
                    0.5,
                    0,
                    0,
                    0,
                    0.4,
                    0,
                    0,
                    0.3,
                    -0.125,
                    1,
                    0,
                    0.3125,
                    0.35,
                    0,
                    -0.8,
                    0,
                    0,
                    0,
                    0.3,
                    -0.03500000000000001,
                    0.25416666666666665,
                    0,
                    0,
                    0,
                    0.8,
                    0.06666666666666667,
                    0.3,
                    0.2,
                    0.35,
                    0.08035714285714285,
                    0.5,
                    0.2,
                    0.4,
                    0.05,
                    0,
                    0.2,
                    0.2375,
                    0.25,
                    -0.2,
                    0.8,
                    -0.5,
                    -0.2916666666666667,
                    0,
                    0.11666666666666668,
                    0.3055555555555556,
                    -0.78125,
                    0.1,
                    0,
                    0.5,
                    -0.03333333333333336,
                    0.05000000000000002,
                    0.5,
                    0,
                    0.4375,
                    0.1,
                    0.08,
                    -0.3125,
                    0.1875,
                    0,
                    -0.6000000000000001,
                    0.025,
                    0,
                    0.2,
                    0.625,
                    0.4,
                    0.44999999999999996,
                    0.8,
                    -0.15,
                    0.35,
                    0.7,
                    -0.15000000000000002,
                    0.45,
                    1,
                    0.4,
                    0,
                    0.625,
                    -0.6,
                    0.3166666666666667,
                    0.375,
                    0,
                    0.2,
                    0.5,
                    0.5,
                    0.06510416666666667,
                    0.40625,
                    0.5,
                    -0.16666666666666666,
                    0,
                    0.2,
                    0.5866666666666667,
                    0.2,
                    0.6333333333333333,
                    0,
                    -0.125,
                    0,
                    0.75,
                    0.2,
                    0,
                    0,
                    0,
                    0.65,
                    0.3,
                    -0.13333333333333333,
                    -0.4507211538461539,
                    -1,
                    -0.4,
                    0.25,
                    0,
                    0.4583333333333333,
                    0.5,
                    0.26666666666666666,
                    0.1,
                    0.2,
                    -0.5,
                    0,
                    0.75,
                    0.3,
                    0.7500000000000001,
                    0.5,
                    0,
                    0,
                    0,
                    0.5,
                    0.04999999999999999,
                    0.5,
                    0.8,
                    0.45,
                    0.2777777777777778,
                    0.5916666666666667,
                    0.5333333333333333,
                    0.15,
                    -0.15,
                    0,
                    0.08333333333333333,
                    -0.05,
                    0.5,
                    0,
                    0.25,
                    0,
                    0.8,
                    -0.15555555555555559,
                    0,
                    0.525,
                    -0.25,
                    0.16,
                    0,
                    0,
                    0,
                    0,
                    0.5,
                    0.8,
                    0.15,
                    0.6499999999999999,
                    0.21212121212121213,
                    -0.5,
                    0.25,
                    0.6,
                    0.2545454545454545,
                    0.625,
                    0.175,
                    0.1,
                    0.17045454545454544,
                    0.3,
                    0.4000000000000001,
                    0.8,
                    0.23333333333333336,
                    0.1,
                    0.25,
                    0,
                    -0.42499999999999993,
                    0.8,
                    0.43333333333333335,
                    0.390625,
                    0.06333333333333332,
                    0,
                    0.04285714285714287,
                    0.2,
                    0,
                    0,
                    0,
                    0,
                    0.225,
                    0.4,
                    0.43333333333333335,
                    0.3666666666666667,
                    0,
                    0,
                    0,
                    0.25,
                    0,
                    0.3,
                    0.08484848484848484,
                    0.26666666666666666,
                    0,
                    0,
                    0.275,
                    0.1953125,
                    0,
                    -0.12499999999999999,
                    0,
                    -0.3888888888888889,
                    0.5,
                    -0.03333333333333335,
                    0.2,
                    -0.2,
                    0.5,
                    0,
                    0.15,
                    0.042857142857142844,
                    0.5681818181818181,
                    0.1,
                    0.3666666666666667,
                    0.11212121212121212,
                    0,
                    -0.25,
                    1,
                    0,
                    0.5,
                    0,
                    0.25,
                    0.2125,
                    1,
                    -0.25000000000000006,
                    0.625,
                    0.275,
                    0,
                    -1,
                    0.32499999999999996,
                    0.5,
                    0.3958333333333333,
                    0,
                    0.1,
                    0,
                    0,
                    0,
                    0.9,
                    0,
                    -0.18333333333333332,
                    -0.024999999999999994,
                    0,
                    0.1,
                    0.5,
                    0,
                    0,
                    0,
                    -0.5,
                    0.9,
                    0,
                    0.3,
                    0,
                    0,
                    0.2875,
                    0,
                    0,
                    0.6,
                    0,
                    0,
                    0.5681818181818181,
                    0,
                    0.55,
                    0,
                    -0.16666666666666666,
                    0.1,
                    0.25,
                    0.30000000000000004,
                    0,
                    0,
                    0,
                    0.25,
                    -0.18124999999999997,
                    0,
                    0,
                    0,
                    1,
                    0.25,
                    0,
                    0,
                    0,
                    0.8,
                    0.125,
                    -0.2818181818181818,
                    0.226010101010101,
                    0.3,
                    0.5,
                    0.041666666666666664,
                    -0.5,
                    0,
                    0.15357142857142858,
                    0.5,
                    -0.5,
                    0,
                    0.26666666666666666,
                    0,
                    -0.2916666666666667,
                    0.3125,
                    0,
                    0.15000000000000002,
                    0.16666666666666669,
                    0.65,
                    0,
                    0,
                    0.027777777777777776,
                    0,
                    0,
                    0.55,
                    0.21388888888888888,
                    0,
                    0.625,
                    0.2857142857142857,
                    0.1,
                    0,
                    0,
                    0.25,
                    0,
                    0.22265625,
                    0.48522727272727273,
                    0.5,
                    0.4,
                    0.5,
                    0.275,
                    0,
                    0.4125,
                    -0.2,
                    0,
                    0.5,
                    0,
                    -0.4,
                    0,
                    0,
                    0.8,
                    0.2857142857142857,
                    0.81875,
                    0,
                    0,
                    0,
                    0,
                    0,
                    0,
                    0,
                    -0.25,
                    0,
                    -0.15476190476190477,
                    0.20833333333333331,
                    -0.5625,
                    0,
                    0,
                    -0.25,
                    0.23750000000000002,
                    0,
                    0,
                    0,
                    0.5625,
                    0,
                    0,
                    0,
                    0,
                    0.9765625,
                    0.6000000000000001,
                    1,
                    -0.2,
                    0.1,
                    0.05,
                    0.30000000000000004,
                    -0.09999999999999999,
                    -0.3,
                    0.35,
                    0,
                    -0.053571428571428575,
                    0,
                    0.375,
                    0.59375,
                    0,
                    0,
                    0,
                    0.21904761904761905,
                    0.3,
                    -0.125,
                    0.5,
                    0.8,
                    0.11481481481481481,
                    0,
                    0,
                    0.8,
                    0.575,
                    0,
                    0.4,
                    0.3666666666666667,
                    0.5,
                    0,
                    0.16666666666666666,
                    0.25,
                    0.6,
                    0.625,
                    -0.30000000000000004,
                    -0.054545454545454564,
                    0.5,
                    0,
                    0,
                    0.032467532467532464,
                    0.5,
                    0,
                    0,
                    0.15,
                    0,
                    0.06666666666666665,
                    -0.15714285714285714,
                    0,
                    0.44999999999999996,
                    0.6,
                    0.35,
                    0.09999999999999999,
                    0,
                    0.41818181818181815,
                    0.5,
                    0.08,
                    0,
                    0.3333333333333333,
                    0,
                    0.5,
                    0.35,
                    0.14285714285714285,
                    -0.5,
                    -0.9375,
                    0.3194444444444444,
                    -0.5,
                    -0.09999999999999998,
                    -0.15,
                    0.6,
                    0,
                    -0.17499999999999993,
                    0,
                    1,
                    -0.475,
                    0.4,
                    0,
                    -0.375,
                    0,
                    -0.03125,
                    0.24318181818181817,
                    0.75,
                    -0.1,
                    -0.08333333333333333,
                    0,
                    -0.25,
                    0,
                    0.75,
                    0.45,
                    -0.4,
                    0,
                    0.43333333333333335,
                    0.75,
                    -0.15625,
                    -0.05,
                    0.8,
                    -1,
                    -0.09,
                    0,
                    0.22333333333333333,
                    0,
                    -0.4,
                    0.26666666666666666,
                    -0.1875,
                    0.5,
                    0,
                    0.25,
                    -0.35000000000000003,
                    0,
                    0.13636363636363635,
                    -0.26666666666666666,
                    0,
                    0.21212121212121207,
                    0.2,
                    0,
                    0.1,
                    0,
                    0.375,
                    0,
                    0.25,
                    0,
                    0.29523809523809524,
                    0,
                    0.2,
                    0,
                    0.45,
                    0,
                    -0.15000000000000002,
                    0.22500000000000003,
                    0,
                    0.2857142857142857,
                    0,
                    0.8,
                    0,
                    0,
                    0,
                    0,
                    0,
                    0.08888888888888889,
                    0.14285714285714285,
                    -0.08181818181818182,
                    0.4121212121212121,
                    -0.2,
                    0,
                    0,
                    -0.5,
                    0.09285714285714285,
                    0,
                    -0.3499999999999999,
                    0,
                    0.13333333333333333,
                    0,
                    0.5,
                    0,
                    0,
                    0,
                    0.2,
                    0,
                    0.42857142857142855,
                    -0.390625,
                    -0.125,
                    0.4291666666666667,
                    0.2,
                    0,
                    0,
                    0.75,
                    0.07777777777777782,
                    1,
                    -0.1,
                    0.43333333333333335,
                    0.13636363636363635,
                    0.2,
                    0.4270833333333333,
                    0.171875,
                    0.5,
                    0,
                    0.3,
                    0,
                    0.4,
                    0.525,
                    -0.35,
                    0.2951388888888889,
                    -1,
                    0.5,
                    0,
                    0.16666666666666666,
                    0.25,
                    0,
                    -0.05,
                    0.30000000000000004,
                    0.2,
                    0.13636363636363635,
                    0.125,
                    -0.5,
                    0,
                    0,
                    0,
                    0.5,
                    0.25,
                    0.10000000000000003,
                    0.2578125,
                    0.5,
                    0,
                    -0.075,
                    0.5,
                    0,
                    0.024999999999999994,
                    0,
                    0,
                    0,
                    0.3,
                    0.022619047619047622,
                    -0.2,
                    0.30833333333333335,
                    0.6000000000000001,
                    -0.13333333333333333,
                    -0.15000000000000002,
                    0,
                    0.5,
                    -0.037499999999999985,
                    0,
                    0,
                    0,
                    0,
                    0.05,
                    -0.5,
                    0.625,
                    0.3,
                    1,
                    0.26666666666666666,
                    0.5,
                    0.05555555555555555,
                    -0.1875,
                    0,
                    0,
                    0,
                    0.4,
                    0.25,
                    -0.11666666666666665,
                    0,
                    0,
                    0.3333333333333333,
                    0.35,
                    0.3666666666666667,
                    0,
                    0,
                    -0.30000000000000004,
                    0,
                    0,
                    0.5,
                    -0.17500000000000002,
                    0.475,
                    0.5,
                    0.3,
                    0.5,
                    -0.6666666666666666,
                    -0.02840909090909091,
                    0,
                    0,
                    -0.3333333333333333,
                    0.21428571428571427,
                    0,
                    0.05277777777777778,
                    0,
                    0,
                    -0.2,
                    0,
                    -0.15000000000000002,
                    0,
                    0.5,
                    0.5,
                    0,
                    0.2,
                    0.25,
                    0.2,
                    0.5,
                    -0.1125,
                    0,
                    0.8,
                    0,
                    0,
                    0,
                    -0.05681818181818182,
                    0,
                    0,
                    0,
                    0,
                    0.5,
                    0.6000000000000001,
                    0,
                    0.5,
                    0,
                    0.5,
                    0.39285714285714285,
                    0,
                    0,
                    -0.21590909090909083,
                    0.35,
                    0,
                    -0.5,
                    0,
                    0,
                    0.22,
                    0,
                    -0.08333333333333333,
                    0.3,
                    0,
                    0,
                    0,
                    0,
                    0.5,
                    0,
                    0,
                    0.625,
                    0,
                    0,
                    0,
                    -0.25,
                    0,
                    0.025,
                    -0.15,
                    0,
                    -0.09999999999999999,
                    0.16818181818181818,
                    0.24545454545454545,
                    0.13333333333333333,
                    0,
                    0.4,
                    0,
                    0.09999999999999999,
                    0,
                    0,
                    0.75,
                    0.8,
                    0.4,
                    -0.2,
                    0.25756944444444446,
                    0,
                    -0.016666666666666663,
                    -0.041666666666666664,
                    0,
                    0,
                    0.4681818181818182,
                    0.3,
                    0.5,
                    -0.009375000000000022,
                    0.25,
                    0.39285714285714285,
                    0.3642857142857143,
                    0.22666666666666666,
                    0.8,
                    0.1,
                    -0.3333333333333333,
                    0,
                    -0.2,
                    -0.25,
                    0.25,
                    -0.05,
                    -0.2,
                    0,
                    0,
                    -0.25,
                    0.8,
                    0.016666666666666666,
                    -0.5499999999999999,
                    0.8333333333333334,
                    0.625,
                    0,
                    -0.03333333333333329,
                    1,
                    0.5,
                    0.13636363636363635,
                    0.1,
                    0.42500000000000004,
                    0,
                    0,
                    0.85,
                    0.420367431640625,
                    -0.18333333333333335,
                    0.35,
                    0,
                    -0.06666666666666667,
                    -0.625,
                    0,
                    0,
                    0.17045454545454544,
                    0.08989898989898988,
                    0,
                    -0.6,
                    0,
                    0.2583333333333333,
                    0.3,
                    0,
                    -0.041666666666666664,
                    -0.25,
                    0,
                    0.2972222222222222,
                    0.1,
                    0.6,
                    0,
                    0,
                    0.5,
                    -0.1875,
                    -0.49166666666666664,
                    0.024999999999999994,
                    1,
                    0.13636363636363635,
                    0.0625,
                    0.4454545454545455,
                    0,
                    0.15,
                    0,
                    -0.30000000000000004,
                    -0.125,
                    0,
                    0.2,
                    0.7,
                    0,
                    -0.5,
                    0,
                    0.25625,
                    1,
                    0,
                    0.15,
                    0.5,
                    0.5,
                    0,
                    -0.25,
                    0.375,
                    0.5,
                    0.4,
                    0,
                    -0.125,
                    0.5,
                    0,
                    -0.5,
                    0.65,
                    0.25,
                    0,
                    0,
                    0.7,
                    0,
                    -0.19999999999999996,
                    0.05000000000000001,
                    0.8,
                    0.06818181818181818,
                    0,
                    0,
                    0.45,
                    -1,
                    0.2,
                    0.4875,
                    0,
                    0,
                    0.15000000000000002,
                    0.5833333333333334,
                    0,
                    0,
                    0.5208333333333334,
                    -0.20476190476190478,
                    -0.15,
                    0,
                    0,
                    0.16666666666666666,
                    -0.5000000000000001,
                    0,
                    0.5,
                    0,
                    -0.04375000000000001,
                    0,
                    0.5,
                    0,
                    0.3666666666666667,
                    -0.23273809523809522,
                    -0.18333333333333335,
                    0,
                    1,
                    0.3841145833333333,
                    0.55,
                    0,
                    0.21212121212121213,
                    0.5,
                    0,
                    0.03125,
                    -0.06874999999999999,
                    0.4,
                    -0.4,
                    0.3681818181818182,
                    0,
                    -0.4,
                    0,
                    0,
                    -0.6,
                    -0.25,
                    0,
                    0,
                    0.5,
                    0,
                    0.05,
                    0,
                    0.45,
                    0.7,
                    0.5,
                    0,
                    0.75,
                    -0.05625000000000001,
                    0.5,
                    0.009263392857142838,
                    -0.8499999999999999,
                    0,
                    0,
                    -0.2,
                    0.7,
                    0,
                    -1,
                    0.25,
                    0.4,
                    0,
                    0,
                    0.1,
                    -0.30000000000000004,
                    0.7333333333333334,
                    0,
                    1,
                    0.375,
                    0,
                    0.1542929292929293,
                    0.3,
                    0,
                    0.5,
                    0,
                    0,
                    0.31666666666666665,
                    -0.35,
                    0,
                    0,
                    -0.025,
                    -0.2,
                    -0.2777777777777778,
                    0,
                    0,
                    1,
                    0.8,
                    0,
                    0.11666666666666665,
                    0,
                    0,
                    0,
                    0.25,
                    -0.4,
                    0.7,
                    -0.125,
                    0.4166666666666667,
                    0.025,
                    0.5428571428571429,
                    0,
                    0,
                    0.5,
                    0,
                    0,
                    0.75,
                    -0.05,
                    0,
                    0.5,
                    0,
                    0,
                    0.5,
                    0.1,
                    0,
                    0,
                    0,
                    0,
                    0.4,
                    0.5,
                    0,
                    0,
                    0,
                    -0.075,
                    0.5375,
                    0,
                    -0.35625,
                    0.14069264069264067,
                    0.3333333333333333,
                    0,
                    0.8,
                    0,
                    0.75,
                    -0.3333333333333333,
                    0,
                    0.13636363636363635,
                    0.3333333333333333,
                    -0.2888888888888888,
                    0,
                    0,
                    0.24285714285714285,
                    0.005681818181818177,
                    0.25,
                    0,
                    0.4375,
                    0.04999999999999999,
                    0.125,
                    0,
                    0,
                    0.5,
                    0,
                    0,
                    0.45833333333333337,
                    0,
                    -0.056249999999999994,
                    0.16818181818181818,
                    0.475,
                    0,
                    0.25,
                    0,
                    0.675,
                    0,
                    -0.30952380952380953,
                    0.16818181818181818,
                    0.1,
                    0,
                    0.15000000000000002,
                    0.08666666666666667,
                    0.13636363636363635,
                    0.25,
                    0,
                    -0.05000000000000002,
                    0.10520833333333335,
                    0,
                    0,
                    0.6,
                    -0.1,
                    0.4,
                    -0.2,
                    -0.5,
                    0,
                    0.3666666666666667,
                    0.5,
                    0,
                    1,
                    0.625,
                    0.13333333333333333,
                    0.16666666666666666,
                    0.55,
                    0.4,
                    0.625,
                    0,
                    -0.15555555555555559,
                    0.35,
                    -0.5,
                    0.05,
                    0.21666666666666667,
                    0,
                    0.13636363636363635,
                    0.5,
                    0,
                    -0.0625,
                    0.375,
                    0.1,
                    0.5,
                    0.5,
                    0.25,
                    1,
                    -0.25,
                    -0.875,
                    0.4625,
                    0.5,
                    0.1,
                    0,
                    0.3,
                    0,
                    -0.3166666666666667,
                    0.4732142857142857,
                    -0.5999999999999999,
                    0,
                    0,
                    0,
                    0.03333333333333333,
                    0.8,
                    0,
                    0.2,
                    0,
                    0.41666666666666663,
                    0.5416666666666667,
                    0.5,
                    0.75,
                    0.30000000000000004,
                    0.7,
                    0.4453125,
                    0.16666666666666666,
                    0,
                    0,
                    0,
                    0.13333333333333333,
                    0.31666666666666665,
                    0.275,
                    -0.2,
                    0.25,
                    1,
                    0.1,
                    0.5,
                    0.5,
                    0,
                    0.2,
                    0,
                    0,
                    0.13636363636363635,
                    0,
                    -0.13333333333333333,
                    0.11742424242424242,
                    0.6,
                    0.35,
                    0.375,
                    0,
                    -0.15,
                    0.28125,
                    0.6,
                    0.3,
                    0.07499999999999998,
                    0,
                    0,
                    0.5,
                    -0.16666666666666666,
                    0.55,
                    0,
                    0.4000000000000001,
                    0.2,
                    0.2,
                    0,
                    -0.55625,
                    -0.05625,
                    0,
                    0,
                    0.625,
                    0.5,
                    0.1,
                    0.20000000000000004,
                    0.3,
                    0,
                    0.7,
                    0.6,
                    0,
                    -0.75,
                    0.3,
                    0.75,
                    0.6,
                    0.375,
                    0,
                    0.35,
                    0,
                    0,
                    -0.2,
                    0.2857142857142857,
                    -0.7,
                    0.6875,
                    -0.033333333333333326,
                    0.9,
                    1,
                    -0.6999999999999998,
                    0.25,
                    0.25,
                    0.1,
                    -0.14583333333333331,
                    0.0625,
                    -0.2380952380952381,
                    0,
                    0.4,
                    -0.20729166666666668,
                    -0.2916666666666667,
                    0,
                    0,
                    -0.8,
                    0,
                    0,
                    0,
                    0,
                    0.3833333333333333,
                    -0.23333333333333336,
                    0.25,
                    0.2333333333333333,
                    -0.3,
                    0,
                    0,
                    -0.15625,
                    -0.2916666666666667,
                    0,
                    0,
                    0,
                    0.1,
                    0,
                    0.2,
                    0.75,
                    0.8,
                    -0.325,
                    0.8,
                    -0.2125,
                    0,
                    0,
                    -0.05,
                    -1,
                    0.8,
                    0.6125,
                    0.5,
                    0,
                    0,
                    0.5,
                    0.6000000000000001,
                    0,
                    -0.6,
                    -0.17057291666666666,
                    0,
                    -0.425,
                    0,
                    0,
                    -0.47500000000000003,
                    0.2,
                    0.45000000000000007,
                    0,
                    0.85,
                    1,
                    0,
                    0,
                    0.5,
                    0.2791666666666667,
                    0.2372159090909091,
                    0,
                    0,
                    0,
                    -0.296875,
                    -0.10714285714285715,
                    1,
                    0,
                    0.5,
                    0,
                    0.45,
                    0,
                    0,
                    0,
                    0.19318181818181818,
                    0.5333333333333333,
                    0,
                    0,
                    0,
                    0.3833333333333333,
                    0,
                    -0.75,
                    0.15000000000000002,
                    0.7,
                    -0.2625,
                    -0.05000000000000001,
                    0.2,
                    -0.3,
                    0.16666666666666669,
                    0.5,
                    0,
                    0,
                    -0.04999999999999996,
                    0.4,
                    0.5,
                    -0.175,
                    0,
                    0.225,
                    0.35,
                    -0.6,
                    0.3333333333333333,
                    -0.75,
                    0,
                    -1,
                    0.14375,
                    1,
                    0.2,
                    0,
                    0.1787878787878788,
                    0.2125,
                    0.019047619047619035,
                    1,
                    0,
                    -0.25,
                    0,
                    0,
                    0.375,
                    -0.6999999999999998,
                    -0.0625,
                    0.39285714285714285,
                    0.6,
                    0.25,
                    -0.5,
                    0.3,
                    -0.39583333333333337,
                    -0.2916666666666667,
                    0.525,
                    0.35,
                    0.375,
                    0,
                    0.2,
                    0,
                    0.2,
                    0.3,
                    0,
                    0,
                    0.3181818181818182,
                    0.75,
                    -0.3,
                    1,
                    0.15,
                    0.38,
                    0.16249999999999998,
                    -0.2,
                    0.05,
                    0.25,
                    -0.7,
                    0.25,
                    0.1,
                    0.4,
                    0.1,
                    0,
                    0,
                    -0.16666666666666666,
                    0,
                    -0.1375,
                    0.3,
                    0.5,
                    -0.4666666666666666,
                    0,
                    -0.1625,
                    0,
                    0.85,
                    -0.02857142857142857,
                    0.2857142857142857,
                    0.6666666666666666,
                    0.625,
                    0.5,
                    0.48020833333333335,
                    0.5,
                    0,
                    0,
                    0,
                    0,
                    0,
                    0.85,
                    0,
                    0.8,
                    -0.08333333333333333,
                    0.19999999999999998,
                    0,
                    0,
                    0.19999999999999998,
                    0,
                    0.15,
                    0,
                    0.16666666666666666,
                    0,
                    0.6,
                    -0.1,
                    0.03333333333333333,
                    0.09062500000000001,
                    0.6,
                    0.1,
                    0.25,
                    0.2,
                    0.1875,
                    -0.0029761904761904934,
                    0,
                    0.5853333333333334,
                    -0.3,
                    0,
                    -0.45,
                    0.25,
                    0.35714285714285715,
                    0,
                    0,
                    0.2,
                    0,
                    0.3181818181818182,
                    0.016666666666666673,
                    0.1,
                    0,
                    0,
                    0.2,
                    -0.5,
                    0.421875,
                    0.4380952380952381,
                    0,
                    0.8,
                    0.17857142857142855,
                    0.4,
                    0.2,
                    0.00833333333333334,
                    0,
                    -0.5833333333333334,
                    0.5,
                    0.35,
                    -0.16666666666666666,
                    0.3,
                    0,
                    0.25,
                    0.625,
                    -0.3333333333333333,
                    0.4,
                    0,
                    0,
                    0.08333333333333333,
                    0.08000000000000003,
                    -0.21875,
                    0.45,
                    0.6000000000000001,
                    1,
                    0,
                    0,
                    0.1,
                    0,
                    0,
                    0.1619047619047619,
                    0.1,
                    0.25,
                    0.5,
                    0.375,
                    0,
                    -0.05000000000000001,
                    0.3125,
                    0.4,
                    0,
                    0.3333333333333333,
                    0.3,
                    0,
                    0.05000000000000002,
                    0,
                    0.1825,
                    0,
                    0.10833333333333334,
                    0.85,
                    0,
                    0,
                    0,
                    0,
                    -0.2916666666666667,
                    1,
                    0,
                    0,
                    0.2,
                    0.75,
                    0.38125,
                    0.10714285714285714,
                    1,
                    0.25,
                    -0.1875,
                    0.16666666666666666,
                    -0.3625,
                    0.2857142857142857,
                    0,
                    0,
                    0.35,
                    0,
                    0.25,
                    -0.16666666666666666,
                    0,
                    0.24166666666666664,
                    1,
                    0.25,
                    0.5,
                    0.4,
                    0,
                    0,
                    0,
                    0.5,
                    0.5,
                    0,
                    0.6,
                    0.18148148148148147,
                    -0.8,
                    0,
                    0.8,
                    0.16666666666666666,
                    0,
                    0,
                    0.65,
                    0,
                    0.9,
                    0.8,
                    0.8,
                    0.35,
                    -0.3125,
                    0.5,
                    0.5,
                    0,
                    0.75,
                    0.10000000000000002,
                    0,
                    0.5,
                    -0.2,
                    0.16666666666666666,
                    0.275,
                    0,
                    0,
                    0.4454545454545455,
                    0,
                    0,
                    -0.09999999999999998,
                    0,
                    0,
                    0.625,
                    -0.15,
                    0.5,
                    -0.15,
                    -0.2,
                    -0.4,
                    0,
                    -0.21428571428571427,
                    0.625,
                    0.5,
                    0,
                    0.3666666666666667,
                    0,
                    0,
                    0.35833333333333334,
                    0.35,
                    0.10277777777777779,
                    0.375,
                    0.42552083333333335,
                    0.5,
                    0.1,
                    -0.125,
                    0,
                    0.390625,
                    -0.05,
                    0.43333333333333335,
                    -0.625,
                    0.033333333333333326,
                    0,
                    0.475,
                    0.004166666666666652,
                    0,
                    0,
                    -0.2571428571428571,
                    0.5,
                    0.5,
                    0.4,
                    0.3,
                    0.10833333333333332,
                    0.25,
                    0,
                    0.3595238095238095,
                    0,
                    0.125,
                    0.6,
                    0.19166666666666665,
                    -0.18333333333333335,
                    0,
                    1,
                    0,
                    0,
                    0.1,
                    0,
                    0,
                    1,
                    0.5,
                    0.375,
                    -0.23076923076923078,
                    0,
                    0,
                    0.3,
                    0.6,
                    1,
                    0.2,
                    -0.35,
                    -0.1,
                    0,
                    0.25,
                    0.8,
                    1,
                    0.5,
                    -0.5,
                    0.033333333333333326,
                    0,
                    -0.8,
                    0,
                    0.05,
                    0.075,
                    0.43333333333333335,
                    0.1,
                    0,
                    1,
                    0.3214285714285714,
                    -0.25,
                    0.8,
                    0,
                    0,
                    0.25,
                    0,
                    0,
                    0,
                    -0.6,
                    0,
                    0,
                    0.8,
                    0,
                    -0.3,
                    0.1875,
                    -0.1,
                    0.35,
                    1,
                    0,
                    0,
                    0.36250000000000004,
                    0.3,
                    -0.171875,
                    0,
                    -0.2,
                    0,
                    0.375,
                    0,
                    0.5,
                    0,
                    0.6,
                    0,
                    -0.25,
                    0,
                    0.2,
                    0,
                    0,
                    0,
                    0.21428571428571427,
                    0,
                    0.890625,
                    0,
                    0.5,
                    0.46875,
                    0,
                    -0.3125,
                    0,
                    0.85,
                    0,
                    -0.3,
                    0.5,
                    0,
                    0.1,
                    0,
                    -0.09999999999999999,
                    0,
                    0.3,
                    0.05,
                    0.8,
                    0,
                    0,
                    0,
                    0,
                    0,
                    0.3,
                    0.325,
                    -0.1,
                    0,
                    0,
                    0.1568181818181818,
                    0,
                    -0.4,
                    0.5,
                    0,
                    0.14285714285714285,
                    0,
                    0.5,
                    0.3181818181818182,
                    0,
                    0.4706327364042208,
                    0,
                    0.1,
                    0,
                    -0.7142857142857143,
                    0,
                    -0.13333333333333333,
                    0.1,
                    0.19999999999999998,
                    0,
                    0,
                    0.2,
                    -0.2,
                    0,
                    0,
                    0,
                    -0.4,
                    0.1,
                    0,
                    0.78125,
                    -0.033333333333333326,
                    0,
                    0,
                    0.5,
                    0,
                    0.2857142857142857,
                    0.5,
                    -0.25,
                    0.11481481481481481,
                    0,
                    0.39999999999999997,
                    0,
                    0.5,
                    -1,
                    0,
                    0.03125,
                    0,
                    1,
                    0,
                    0,
                    0.2,
                    0,
                    0,
                    -0.05,
                    0,
                    0.3666666666666667,
                    0.0022727272727272596,
                    -0.5,
                    0,
                    0.16,
                    0.55,
                    0.21428571428571427,
                    0.3,
                    0,
                    0,
                    0,
                    0,
                    -0.2769097222222222,
                    0.125,
                    0.30000000000000004,
                    0,
                    0.7,
                    -0.8749999999999998,
                    0.5,
                    -0.2,
                    0.65,
                    0.6,
                    0.8,
                    -0.6999999999999998,
                    -0.4,
                    0,
                    1,
                    0.275,
                    0.3,
                    -0.5,
                    0.25,
                    0.45,
                    -0.10714285714285715,
                    0.7,
                    0.8,
                    0.4,
                    -0.8,
                    0,
                    0.6583333333333333,
                    0.16952380952380955,
                    0,
                    0,
                    0.625,
                    -0.016666666666666663,
                    0.3416666666666666,
                    0.05555555555555556,
                    0.6,
                    0,
                    0.6666666666666666,
                    0.2,
                    0.5,
                    -0.16666666666666666,
                    0,
                    0,
                    -0.2,
                    1,
                    0.2857142857142857,
                    0.13636363636363635,
                    0,
                    0,
                    0,
                    0,
                    0.15555555555555559,
                    0,
                    -1,
                    0.03,
                    0,
                    0.06190476190476191,
                    0.2636363636363636,
                    -0.18333333333333335,
                    0.5166666666666667,
                    0,
                    0.3333333333333333,
                    0.5,
                    0,
                    0,
                    -0.1,
                    -0.75,
                    -0.4,
                    -0.5,
                    0.7,
                    0,
                    0,
                    -0.3666666666666667,
                    0.6,
                    0.5,
                    0.16666666666666669,
                    -0.3499999999999999,
                    0,
                    0.21666666666666667,
                    0,
                    0.5,
                    0.09375,
                    0.4,
                    0,
                    0,
                    0.10000000000000002,
                    0.2857142857142857,
                    0.375,
                    0,
                    1,
                    0,
                    0.5,
                    0.8,
                    0.9765625,
                    -0.013257575757575765,
                    0.13636363636363635,
                    0.25,
                    0,
                    0,
                    0,
                    0.31666666666666665,
                    0,
                    0,
                    0,
                    0.5,
                    0,
                    0.25,
                    0.55,
                    0,
                    0.3125,
                    0,
                    0,
                    0,
                    0.7,
                    -0.19444444444444448,
                    0.3,
                    -0.08333333333333333,
                    0.2,
                    0.5,
                    -1,
                    0.4,
                    -0.325,
                    0.1,
                    -0.25,
                    0.2,
                    0.8,
                    -0.29375,
                    0,
                    0,
                    0,
                    0,
                    0,
                    0,
                    0.5,
                    0,
                    0,
                    -0.15,
                    0,
                    0,
                    -0.5,
                    0,
                    0.43333333333333335,
                    0,
                    0.5,
                    0.5,
                    0.25,
                    0,
                    0.3,
                    0,
                    0,
                    -0.04999999999999999,
                    -0.5166666666666667,
                    0,
                    0.7,
                    0.04999999999999999,
                    -0.2,
                    0.17777777777777778,
                    -0.03181818181818183,
                    0,
                    0.7,
                    0,
                    -0.05,
                    0,
                    0,
                    0.35,
                    0,
                    0.25,
                    -0.23066666666666666,
                    0,
                    0,
                    -0.4,
                    0.10000000000000002,
                    -0.08333333333333331,
                    0,
                    0.016666666666666663,
                    -0.1625,
                    1,
                    0.06190476190476191,
                    0.4,
                    0,
                    0.25,
                    -0.05000000000000002,
                    0.3,
                    -0.16666666666666666,
                    0.25,
                    0,
                    0.45,
                    0,
                    -0.26676432291666663,
                    0,
                    -0.2916666666666667,
                    -0.08333333333333333,
                    0,
                    0,
                    0,
                    0.3,
                    0,
                    0.5,
                    -0.6999999999999998,
                    0,
                    0,
                    0,
                    0.6,
                    0.55,
                    0.4090909090909091,
                    0,
                    0,
                    0,
                    -0.65,
                    0.08888888888888888,
                    0.25,
                    0,
                    0.35,
                    0,
                    0,
                    0.35,
                    1,
                    0.3662698412698413,
                    0.5,
                    0,
                    0,
                    0.5,
                    0.35,
                    0,
                    0.7,
                    0,
                    0,
                    0.3277777777777778,
                    0.3333333333333333,
                    0.3,
                    0.6,
                    0,
                    0,
                    0.8,
                    0.0025000000000000022,
                    0.023333333333333327,
                    -0.625,
                    0,
                    0,
                    0.125,
                    0,
                    0.2,
                    0,
                    0.10000000000000002,
                    0,
                    0.5,
                    0.35416666666666663,
                    0,
                    0.1464285714285714,
                    0.3333333333333333,
                    -0.5,
                    -0.275,
                    0.13636363636363635,
                    0.6,
                    0,
                    0.41111111111111115,
                    0.5,
                    -0.03181818181818183,
                    0,
                    0.5,
                    0.2,
                    0.4666666666666667,
                    0,
                    0.25,
                    0.39,
                    0.375,
                    0.5,
                    0.5,
                    -0.1,
                    -0.1166666666666667,
                    0.2,
                    0.04999999999999999,
                    0,
                    0.4791666666666667,
                    0,
                    0.4,
                    0,
                    0,
                    -0.11666666666666665,
                    0.4,
                    -0.675,
                    0,
                    0,
                    0,
                    0.8,
                    0.8,
                    0.4,
                    0,
                    0.225,
                    0,
                    0.6,
                    -0.2,
                    0.5,
                    0.1,
                    -0.5,
                    0,
                    0.1875,
                    0,
                    0,
                    0.2,
                    0,
                    -0.2,
                    0,
                    0.5,
                    -0.03749999999999998,
                    0,
                    0.15,
                    0,
                    0.14642857142857144,
                    -0.1,
                    0,
                    0,
                    0.16666666666666666,
                    0.09999999999999998,
                    0.3,
                    0,
                    0.25,
                    -0.375,
                    0,
                    0.1,
                    -0.08531746031746033,
                    0,
                    0,
                    0.5,
                    0,
                    0,
                    0,
                    0.25,
                    0.3,
                    -0.05714285714285719,
                    0.1,
                    0.3,
                    0.3333333333333333,
                    0.775,
                    0.4375,
                    -0.3022222222222222,
                    0.8,
                    0.175,
                    0.39285714285714285,
                    0,
                    -0.3125,
                    0,
                    0.1,
                    0.175,
                    0,
                    0.15,
                    -0.45,
                    0,
                    0,
                    0.6,
                    0,
                    -0.06666666666666665,
                    -0.19999999999999996,
                    0,
                    0,
                    0,
                    0.6,
                    0.08333333333333333,
                    0,
                    -0.45,
                    -0.16666666666666666,
                    0,
                    0,
                    0,
                    0.4043560606060606,
                    0.0888888888888889,
                    0,
                    0.09307359307359309,
                    -0.21477272727272728,
                    0.3,
                    0,
                    0,
                    0,
                    -0.9765625,
                    0,
                    0,
                    -0.2,
                    0.45,
                    0.022222222222222213,
                    0,
                    0.2,
                    -0.15555555555555559,
                    -0.2,
                    0.25,
                    0.7,
                    0,
                    0.65,
                    0,
                    0,
                    0.2,
                    0.15400000000000003,
                    -0.3,
                    0.8,
                    -0.5,
                    0.1,
                    0,
                    0.22500000000000006,
                    0.0875,
                    0.2857142857142857,
                    0.45,
                    0.625,
                    0,
                    0,
                    0,
                    0.18333333333333335,
                    0.3,
                    0,
                    0.021666666666666674,
                    0.7,
                    0,
                    0.3125,
                    0.3,
                    0,
                    0,
                    0,
                    0.43333333333333335,
                    0.43333333333333335,
                    0,
                    0,
                    -0.05,
                    -0.07916666666666668,
                    0,
                    0.7333333333333334,
                    0.5,
                    0.25,
                    0,
                    0.1,
                    -0.44642857142857145,
                    0.5,
                    0,
                    0.1875,
                    0.09999999999999999,
                    0.15000000000000002,
                    -0.3,
                    -0.0625,
                    0.2,
                    0.2,
                    0,
                    -0.012797619047619049,
                    -0.26666666666666666,
                    -0.13333333333333333,
                    0.5625,
                    0,
                    0,
                    0.1,
                    0.2,
                    0.1875,
                    0.16666666666666666,
                    0.8,
                    0.35,
                    -0.6,
                    0.5,
                    -0.1,
                    0,
                    0,
                    0.625,
                    0,
                    0.041666666666666664,
                    0,
                    0,
                    0.06153846153846154,
                    0.75,
                    0.41666666666666663,
                    0,
                    0,
                    0.5,
                    0.15,
                    0.20833333333333331,
                    0.29545454545454547,
                    -0.05,
                    0.2857142857142857,
                    -0.19999999999999998,
                    0,
                    0.45,
                    -0.4,
                    0,
                    0.016666666666666677,
                    0.8,
                    0,
                    -0.125,
                    0.10000000000000003,
                    -0.15,
                    0,
                    0,
                    0,
                    0,
                    0.1,
                    0,
                    0,
                    0,
                    -0.7142857142857143,
                    0,
                    -0.26666666666666666,
                    0.3333333333333333,
                    0.375,
                    0,
                    -0.4333333333333333,
                    0,
                    0.55,
                    1,
                    0.55,
                    0.8,
                    0.65,
                    0.003703703703703709,
                    0,
                    0,
                    0.5,
                    0,
                    0.35,
                    0.5,
                    0.75,
                    0,
                    -0.3,
                    0,
                    -0.19999999999999998,
                    1,
                    0,
                    0.12083333333333335,
                    0,
                    0.1,
                    0.5,
                    0,
                    -0.25,
                    0.13541666666666669,
                    -0.12638888888888886,
                    0.14285714285714285,
                    0,
                    0,
                    0.625,
                    0,
                    0,
                    -0.25,
                    0,
                    -0.8,
                    0.2833333333333333,
                    0,
                    0.6,
                    1,
                    -0.625,
                    0.5,
                    0,
                    -0.07142857142857142,
                    0,
                    0.4,
                    -0.4666666666666666,
                    -0.6,
                    0.12708333333333333,
                    0.8125,
                    0,
                    0,
                    0,
                    0.625,
                    0,
                    0,
                    -0.4,
                    0,
                    -0.125,
                    0.2920454545454545,
                    0.04166666666666666,
                    0,
                    0.5,
                    0.5,
                    -0.20714285714285716,
                    0.275,
                    -0.07142857142857142,
                    0.13636363636363635,
                    0.13636363636363635,
                    -0.07142857142857144,
                    0.4375,
                    0,
                    0.9,
                    1,
                    -0.3416666666666666,
                    0.5,
                    0.15000000000000002,
                    0.8,
                    0.14444444444444443,
                    -0.23333333333333334,
                    0,
                    1,
                    0.6,
                    0.14285714285714285,
                    0.25,
                    0,
                    0.5625,
                    -0.3
                  ],
                  "type": "histogram",
                  "orientation": "v"
                }
              ],
              "config": {
                "plotlyServerURL": "https://plot.ly",
                "linkText": "Export to plot.ly",
                "showLink": true
              },
              "layout": {
                "xaxis": {
                  "tickfont": {
                    "color": "#4D5663"
                  },
                  "title": {
                    "text": "polarity",
                    "font": {
                      "color": "#4D5663"
                    }
                  },
                  "showgrid": true,
                  "zerolinecolor": "#E1E5ED",
                  "gridcolor": "#E1E5ED",
                  "linecolor": "black"
                },
                "title": {
                  "text": "Sentiment Polarity Distribution",
                  "font": {
                    "color": "#4D5663"
                  }
                },
                "paper_bgcolor": "#F5F6F9",
                "plot_bgcolor": "#F5F6F9",
                "yaxis": {
                  "tickfont": {
                    "color": "#4D5663"
                  },
                  "title": {
                    "text": "count",
                    "font": {
                      "color": "#4D5663"
                    }
                  },
                  "showgrid": true,
                  "zerolinecolor": "#E1E5ED",
                  "gridcolor": "#E1E5ED",
                  "linecolor": "black"
                },
                "barmode": "overlay",
                "template": {
                  "layout": {
                    "shapedefaults": {
                      "line": {
                        "color": "#2a3f5f"
                      }
                    },
                    "polar": {
                      "radialaxis": {
                        "ticks": "",
                        "gridcolor": "white",
                        "linecolor": "white"
                      },
                      "bgcolor": "#E5ECF6",
                      "angularaxis": {
                        "ticks": "",
                        "gridcolor": "white",
                        "linecolor": "white"
                      }
                    },
                    "colorway": [
                      "#636efa",
                      "#EF553B",
                      "#00cc96",
                      "#ab63fa",
                      "#FFA15A",
                      "#19d3f3",
                      "#FF6692",
                      "#B6E880",
                      "#FF97FF",
                      "#FECB52"
                    ],
                    "xaxis": {
                      "automargin": true,
                      "title": {
                        "standoff": 15
                      },
                      "zerolinewidth": 2,
                      "ticks": "",
                      "zerolinecolor": "white",
                      "gridcolor": "white",
                      "linecolor": "white"
                    },
                    "colorscale": {
                      "diverging": [
                        [
                          0,
                          "#8e0152"
                        ],
                        [
                          0.1,
                          "#c51b7d"
                        ],
                        [
                          0.2,
                          "#de77ae"
                        ],
                        [
                          0.3,
                          "#f1b6da"
                        ],
                        [
                          0.4,
                          "#fde0ef"
                        ],
                        [
                          0.5,
                          "#f7f7f7"
                        ],
                        [
                          0.6,
                          "#e6f5d0"
                        ],
                        [
                          0.7,
                          "#b8e186"
                        ],
                        [
                          0.8,
                          "#7fbc41"
                        ],
                        [
                          0.9,
                          "#4d9221"
                        ],
                        [
                          1,
                          "#276419"
                        ]
                      ],
                      "sequential": [
                        [
                          0,
                          "#0d0887"
                        ],
                        [
                          0.1111111111111111,
                          "#46039f"
                        ],
                        [
                          0.2222222222222222,
                          "#7201a8"
                        ],
                        [
                          0.3333333333333333,
                          "#9c179e"
                        ],
                        [
                          0.4444444444444444,
                          "#bd3786"
                        ],
                        [
                          0.5555555555555556,
                          "#d8576b"
                        ],
                        [
                          0.6666666666666666,
                          "#ed7953"
                        ],
                        [
                          0.7777777777777778,
                          "#fb9f3a"
                        ],
                        [
                          0.8888888888888888,
                          "#fdca26"
                        ],
                        [
                          1,
                          "#f0f921"
                        ]
                      ],
                      "sequentialminus": [
                        [
                          0,
                          "#0d0887"
                        ],
                        [
                          0.1111111111111111,
                          "#46039f"
                        ],
                        [
                          0.2222222222222222,
                          "#7201a8"
                        ],
                        [
                          0.3333333333333333,
                          "#9c179e"
                        ],
                        [
                          0.4444444444444444,
                          "#bd3786"
                        ],
                        [
                          0.5555555555555556,
                          "#d8576b"
                        ],
                        [
                          0.6666666666666666,
                          "#ed7953"
                        ],
                        [
                          0.7777777777777778,
                          "#fb9f3a"
                        ],
                        [
                          0.8888888888888888,
                          "#fdca26"
                        ],
                        [
                          1,
                          "#f0f921"
                        ]
                      ]
                    },
                    "paper_bgcolor": "white",
                    "plot_bgcolor": "#E5ECF6",
                    "title": {
                      "x": 0.05
                    },
                    "scene": {
                      "zaxis": {
                        "backgroundcolor": "#E5ECF6",
                        "ticks": "",
                        "gridwidth": 2,
                        "showbackground": true,
                        "zerolinecolor": "white",
                        "gridcolor": "white",
                        "linecolor": "white"
                      },
                      "xaxis": {
                        "backgroundcolor": "#E5ECF6",
                        "ticks": "",
                        "gridwidth": 2,
                        "showbackground": true,
                        "zerolinecolor": "white",
                        "gridcolor": "white",
                        "linecolor": "white"
                      },
                      "yaxis": {
                        "backgroundcolor": "#E5ECF6",
                        "ticks": "",
                        "gridwidth": 2,
                        "showbackground": true,
                        "zerolinecolor": "white",
                        "gridcolor": "white",
                        "linecolor": "white"
                      }
                    },
                    "yaxis": {
                      "automargin": true,
                      "title": {
                        "standoff": 15
                      },
                      "zerolinewidth": 2,
                      "ticks": "",
                      "zerolinecolor": "white",
                      "gridcolor": "white",
                      "linecolor": "white"
                    },
                    "annotationdefaults": {
                      "arrowwidth": 1,
                      "arrowhead": 0,
                      "arrowcolor": "#2a3f5f"
                    },
                    "hoverlabel": {
                      "align": "left"
                    },
                    "ternary": {
                      "bgcolor": "#E5ECF6",
                      "baxis": {
                        "ticks": "",
                        "gridcolor": "white",
                        "linecolor": "white"
                      },
                      "caxis": {
                        "ticks": "",
                        "gridcolor": "white",
                        "linecolor": "white"
                      },
                      "aaxis": {
                        "ticks": "",
                        "gridcolor": "white",
                        "linecolor": "white"
                      }
                    },
                    "mapbox": {
                      "style": "light"
                    },
                    "hovermode": "closest",
                    "font": {
                      "color": "#2a3f5f"
                    },
                    "geo": {
                      "showland": true,
                      "landcolor": "#E5ECF6",
                      "showlakes": true,
                      "bgcolor": "white",
                      "subunitcolor": "white",
                      "lakecolor": "white"
                    },
                    "coloraxis": {
                      "colorbar": {
                        "outlinewidth": 0,
                        "ticks": ""
                      }
                    }
                  },
                  "data": {
                    "mesh3d": [
                      {
                        "colorbar": {
                          "outlinewidth": 0,
                          "ticks": ""
                        },
                        "type": "mesh3d"
                      }
                    ],
                    "scattercarpet": [
                      {
                        "marker": {
                          "colorbar": {
                            "outlinewidth": 0,
                            "ticks": ""
                          }
                        },
                        "type": "scattercarpet"
                      }
                    ],
                    "pie": [
                      {
                        "automargin": true,
                        "type": "pie"
                      }
                    ],
                    "surface": [
                      {
                        "colorbar": {
                          "outlinewidth": 0,
                          "ticks": ""
                        },
                        "type": "surface",
                        "colorscale": [
                          [
                            0,
                            "#0d0887"
                          ],
                          [
                            0.1111111111111111,
                            "#46039f"
                          ],
                          [
                            0.2222222222222222,
                            "#7201a8"
                          ],
                          [
                            0.3333333333333333,
                            "#9c179e"
                          ],
                          [
                            0.4444444444444444,
                            "#bd3786"
                          ],
                          [
                            0.5555555555555556,
                            "#d8576b"
                          ],
                          [
                            0.6666666666666666,
                            "#ed7953"
                          ],
                          [
                            0.7777777777777778,
                            "#fb9f3a"
                          ],
                          [
                            0.8888888888888888,
                            "#fdca26"
                          ],
                          [
                            1,
                            "#f0f921"
                          ]
                        ]
                      }
                    ],
                    "table": [
                      {
                        "header": {
                          "line": {
                            "color": "white"
                          },
                          "fill": {
                            "color": "#C8D4E3"
                          }
                        },
                        "cells": {
                          "line": {
                            "color": "white"
                          },
                          "fill": {
                            "color": "#EBF0F8"
                          }
                        },
                        "type": "table"
                      }
                    ],
                    "scatterpolargl": [
                      {
                        "marker": {
                          "colorbar": {
                            "outlinewidth": 0,
                            "ticks": ""
                          }
                        },
                        "type": "scatterpolargl"
                      }
                    ],
                    "contour": [
                      {
                        "colorbar": {
                          "outlinewidth": 0,
                          "ticks": ""
                        },
                        "type": "contour",
                        "colorscale": [
                          [
                            0,
                            "#0d0887"
                          ],
                          [
                            0.1111111111111111,
                            "#46039f"
                          ],
                          [
                            0.2222222222222222,
                            "#7201a8"
                          ],
                          [
                            0.3333333333333333,
                            "#9c179e"
                          ],
                          [
                            0.4444444444444444,
                            "#bd3786"
                          ],
                          [
                            0.5555555555555556,
                            "#d8576b"
                          ],
                          [
                            0.6666666666666666,
                            "#ed7953"
                          ],
                          [
                            0.7777777777777778,
                            "#fb9f3a"
                          ],
                          [
                            0.8888888888888888,
                            "#fdca26"
                          ],
                          [
                            1,
                            "#f0f921"
                          ]
                        ]
                      }
                    ],
                    "carpet": [
                      {
                        "type": "carpet",
                        "baxis": {
                          "minorgridcolor": "white",
                          "gridcolor": "white",
                          "linecolor": "white",
                          "endlinecolor": "#2a3f5f",
                          "startlinecolor": "#2a3f5f"
                        },
                        "aaxis": {
                          "minorgridcolor": "white",
                          "gridcolor": "white",
                          "linecolor": "white",
                          "endlinecolor": "#2a3f5f",
                          "startlinecolor": "#2a3f5f"
                        }
                      }
                    ],
                    "contourcarpet": [
                      {
                        "colorbar": {
                          "outlinewidth": 0,
                          "ticks": ""
                        },
                        "type": "contourcarpet"
                      }
                    ],
                    "heatmap": [
                      {
                        "colorbar": {
                          "outlinewidth": 0,
                          "ticks": ""
                        },
                        "type": "heatmap",
                        "colorscale": [
                          [
                            0,
                            "#0d0887"
                          ],
                          [
                            0.1111111111111111,
                            "#46039f"
                          ],
                          [
                            0.2222222222222222,
                            "#7201a8"
                          ],
                          [
                            0.3333333333333333,
                            "#9c179e"
                          ],
                          [
                            0.4444444444444444,
                            "#bd3786"
                          ],
                          [
                            0.5555555555555556,
                            "#d8576b"
                          ],
                          [
                            0.6666666666666666,
                            "#ed7953"
                          ],
                          [
                            0.7777777777777778,
                            "#fb9f3a"
                          ],
                          [
                            0.8888888888888888,
                            "#fdca26"
                          ],
                          [
                            1,
                            "#f0f921"
                          ]
                        ]
                      }
                    ],
                    "scattermapbox": [
                      {
                        "marker": {
                          "colorbar": {
                            "outlinewidth": 0,
                            "ticks": ""
                          }
                        },
                        "type": "scattermapbox"
                      }
                    ],
                    "scatter3d": [
                      {
                        "marker": {
                          "colorbar": {
                            "outlinewidth": 0,
                            "ticks": ""
                          }
                        },
                        "line": {
                          "colorbar": {
                            "outlinewidth": 0,
                            "ticks": ""
                          }
                        },
                        "type": "scatter3d"
                      }
                    ],
                    "scattergl": [
                      {
                        "marker": {
                          "colorbar": {
                            "outlinewidth": 0,
                            "ticks": ""
                          }
                        },
                        "type": "scattergl"
                      }
                    ],
                    "scatterternary": [
                      {
                        "marker": {
                          "colorbar": {
                            "outlinewidth": 0,
                            "ticks": ""
                          }
                        },
                        "type": "scatterternary"
                      }
                    ],
                    "histogram": [
                      {
                        "marker": {
                          "colorbar": {
                            "outlinewidth": 0,
                            "ticks": ""
                          }
                        },
                        "type": "histogram"
                      }
                    ],
                    "heatmapgl": [
                      {
                        "colorbar": {
                          "outlinewidth": 0,
                          "ticks": ""
                        },
                        "type": "heatmapgl",
                        "colorscale": [
                          [
                            0,
                            "#0d0887"
                          ],
                          [
                            0.1111111111111111,
                            "#46039f"
                          ],
                          [
                            0.2222222222222222,
                            "#7201a8"
                          ],
                          [
                            0.3333333333333333,
                            "#9c179e"
                          ],
                          [
                            0.4444444444444444,
                            "#bd3786"
                          ],
                          [
                            0.5555555555555556,
                            "#d8576b"
                          ],
                          [
                            0.6666666666666666,
                            "#ed7953"
                          ],
                          [
                            0.7777777777777778,
                            "#fb9f3a"
                          ],
                          [
                            0.8888888888888888,
                            "#fdca26"
                          ],
                          [
                            1,
                            "#f0f921"
                          ]
                        ]
                      }
                    ],
                    "scatterpolar": [
                      {
                        "marker": {
                          "colorbar": {
                            "outlinewidth": 0,
                            "ticks": ""
                          }
                        },
                        "type": "scatterpolar"
                      }
                    ],
                    "histogram2d": [
                      {
                        "colorbar": {
                          "outlinewidth": 0,
                          "ticks": ""
                        },
                        "type": "histogram2d",
                        "colorscale": [
                          [
                            0,
                            "#0d0887"
                          ],
                          [
                            0.1111111111111111,
                            "#46039f"
                          ],
                          [
                            0.2222222222222222,
                            "#7201a8"
                          ],
                          [
                            0.3333333333333333,
                            "#9c179e"
                          ],
                          [
                            0.4444444444444444,
                            "#bd3786"
                          ],
                          [
                            0.5555555555555556,
                            "#d8576b"
                          ],
                          [
                            0.6666666666666666,
                            "#ed7953"
                          ],
                          [
                            0.7777777777777778,
                            "#fb9f3a"
                          ],
                          [
                            0.8888888888888888,
                            "#fdca26"
                          ],
                          [
                            1,
                            "#f0f921"
                          ]
                        ]
                      }
                    ],
                    "scattergeo": [
                      {
                        "marker": {
                          "colorbar": {
                            "outlinewidth": 0,
                            "ticks": ""
                          }
                        },
                        "type": "scattergeo"
                      }
                    ],
                    "bar": [
                      {
                        "marker": {
                          "line": {
                            "color": "#E5ECF6",
                            "width": 0.5
                          }
                        },
                        "type": "bar",
                        "error_x": {
                          "color": "#2a3f5f"
                        },
                        "error_y": {
                          "color": "#2a3f5f"
                        }
                      }
                    ],
                    "choropleth": [
                      {
                        "colorbar": {
                          "outlinewidth": 0,
                          "ticks": ""
                        },
                        "type": "choropleth"
                      }
                    ],
                    "parcoords": [
                      {
                        "line": {
                          "colorbar": {
                            "outlinewidth": 0,
                            "ticks": ""
                          }
                        },
                        "type": "parcoords"
                      }
                    ],
                    "barpolar": [
                      {
                        "marker": {
                          "line": {
                            "color": "#E5ECF6",
                            "width": 0.5
                          }
                        },
                        "type": "barpolar"
                      }
                    ],
                    "histogram2dcontour": [
                      {
                        "colorbar": {
                          "outlinewidth": 0,
                          "ticks": ""
                        },
                        "type": "histogram2dcontour",
                        "colorscale": [
                          [
                            0,
                            "#0d0887"
                          ],
                          [
                            0.1111111111111111,
                            "#46039f"
                          ],
                          [
                            0.2222222222222222,
                            "#7201a8"
                          ],
                          [
                            0.3333333333333333,
                            "#9c179e"
                          ],
                          [
                            0.4444444444444444,
                            "#bd3786"
                          ],
                          [
                            0.5555555555555556,
                            "#d8576b"
                          ],
                          [
                            0.6666666666666666,
                            "#ed7953"
                          ],
                          [
                            0.7777777777777778,
                            "#fb9f3a"
                          ],
                          [
                            0.8888888888888888,
                            "#fdca26"
                          ],
                          [
                            1,
                            "#f0f921"
                          ]
                        ]
                      }
                    ],
                    "scatter": [
                      {
                        "marker": {
                          "colorbar": {
                            "outlinewidth": 0,
                            "ticks": ""
                          }
                        },
                        "type": "scatter"
                      }
                    ]
                  }
                },
                "legend": {
                  "bgcolor": "#F5F6F9",
                  "font": {
                    "color": "#4D5663"
                  }
                }
              }
            }
          },
          "metadata": {
            "tags": []
          }
        }
      ]
    },
    {
      "cell_type": "markdown",
      "metadata": {
        "id": "ll3zAdNsDHMQ"
      },
      "source": [
        "Vast majority of the polarity are greater than 0, means most of them are positive."
      ]
    },
    {
      "cell_type": "markdown",
      "metadata": {
        "id": "ZDjvzpWVDHMR"
      },
      "source": [
        "### Distribution of ratings"
      ]
    },
    {
      "cell_type": "markdown",
      "metadata": {
        "id": "Jz-zJfzODHMR"
      },
      "source": [
        "The ratings are in align with the polarity, that is, most of the ratings are at 4 or 5 range."
      ]
    },
    {
      "cell_type": "markdown",
      "metadata": {
        "id": "36jWw7NuDHMR"
      },
      "source": [
        "### Reviewers age distribution"
      ]
    },
    {
      "cell_type": "markdown",
      "metadata": {
        "id": "0QjuRvITDHMS"
      },
      "source": [
        "Most reviewers are in their 30s to 40s."
      ]
    },
    {
      "cell_type": "code",
      "metadata": {
        "colab": {
          "base_uri": "https://localhost:8080/",
          "height": 228
        },
        "id": "qSG3KpPNDHMS",
        "outputId": "696107a0-7fe7-4b22-d651-791fc15db744"
      },
      "source": [
        "df['review_len'].iplot(\n",
        "    kind='hist',\n",
        "    bins=100,\n",
        "    xTitle='review length',\n",
        "    linecolor='black',\n",
        "    yTitle='count',\n",
        "    title='Review Text Length Distribution')"
      ],
      "execution_count": null,
      "outputs": [
        {
          "output_type": "error",
          "ename": "NameError",
          "evalue": "ignored",
          "traceback": [
            "\u001b[0;31m---------------------------------------------------------------------------\u001b[0m",
            "\u001b[0;31mNameError\u001b[0m                                 Traceback (most recent call last)",
            "\u001b[0;32m<ipython-input-4-ae3753da5e4f>\u001b[0m in \u001b[0;36m<module>\u001b[0;34m()\u001b[0m\n\u001b[0;32m----> 1\u001b[0;31m df['review_len'].iplot(\n\u001b[0m\u001b[1;32m      2\u001b[0m     \u001b[0mkind\u001b[0m\u001b[0;34m=\u001b[0m\u001b[0;34m'hist'\u001b[0m\u001b[0;34m,\u001b[0m\u001b[0;34m\u001b[0m\u001b[0;34m\u001b[0m\u001b[0m\n\u001b[1;32m      3\u001b[0m     \u001b[0mbins\u001b[0m\u001b[0;34m=\u001b[0m\u001b[0;36m100\u001b[0m\u001b[0;34m,\u001b[0m\u001b[0;34m\u001b[0m\u001b[0;34m\u001b[0m\u001b[0m\n\u001b[1;32m      4\u001b[0m     \u001b[0mxTitle\u001b[0m\u001b[0;34m=\u001b[0m\u001b[0;34m'review length'\u001b[0m\u001b[0;34m,\u001b[0m\u001b[0;34m\u001b[0m\u001b[0;34m\u001b[0m\u001b[0m\n\u001b[1;32m      5\u001b[0m     \u001b[0mlinecolor\u001b[0m\u001b[0;34m=\u001b[0m\u001b[0;34m'black'\u001b[0m\u001b[0;34m,\u001b[0m\u001b[0;34m\u001b[0m\u001b[0;34m\u001b[0m\u001b[0m\n",
            "\u001b[0;31mNameError\u001b[0m: name 'df' is not defined"
          ]
        }
      ]
    },
    {
      "cell_type": "markdown",
      "metadata": {
        "id": "yoBjq-yYDHMa"
      },
      "source": [
        "### Top unigrams before removing stop words"
      ]
    },
    {
      "cell_type": "code",
      "metadata": {
        "colab": {
          "base_uri": "https://localhost:8080/"
        },
        "id": "3R4qHSLODHMa",
        "outputId": "2efd4471-7eca-458b-fdbd-028e3e5e1a81"
      },
      "source": [
        "def get_top_n_words(corpus, n=None):\n",
        "    vec = CountVectorizer().fit(corpus)\n",
        "    bag_of_words = vec.transform(corpus)\n",
        "    sum_words = bag_of_words.sum(axis=0) \n",
        "    words_freq = [(word, sum_words[0, idx]) for word, idx in vec.vocabulary_.items()]\n",
        "    words_freq =sorted(words_freq, key = lambda x: x[1], reverse=True)\n",
        "    return words_freq[:n]\n",
        "common_words = get_top_n_words(df['Review Text'], 20)\n",
        "for word, freq in common_words:\n",
        "    print(word, freq)\n",
        "df1 = pd.DataFrame(common_words, columns = ['ReviewText' , 'count'])"
      ],
      "execution_count": null,
      "outputs": [
        {
          "output_type": "stream",
          "text": [
            "user 1735\n",
            "the 1088\n",
            "to 965\n",
            "is 521\n",
            "and 510\n",
            "you 502\n",
            "in 463\n",
            "of 440\n",
            "my 438\n",
            "it 438\n",
            "for 407\n",
            "that 356\n",
            "on 302\n",
            "so 230\n",
            "this 225\n",
            "be 213\n",
            "me 204\n",
            "at 194\n",
            "not 192\n",
            "with 188\n"
          ],
          "name": "stdout"
        }
      ]
    },
    {
      "cell_type": "markdown",
      "metadata": {
        "id": "aHRLzRwEDHMa"
      },
      "source": [
        "### Top unigrams after removing stop words"
      ]
    },
    {
      "cell_type": "code",
      "metadata": {
        "scrolled": false,
        "colab": {
          "base_uri": "https://localhost:8080/"
        },
        "id": "B_5EgFOwDHMa",
        "outputId": "85f68405-97c4-4cac-ea0d-83a9d2a96e36"
      },
      "source": [
        "def get_top_n_words(corpus, n=None):\n",
        "    vec = CountVectorizer(stop_words = 'english').fit(corpus)\n",
        "    bag_of_words = vec.transform(corpus)\n",
        "    sum_words = bag_of_words.sum(axis=0) \n",
        "    words_freq = [(word, sum_words[0, idx]) for word, idx in vec.vocabulary_.items()]\n",
        "    words_freq =sorted(words_freq, key = lambda x: x[1], reverse=True)\n",
        "    return words_freq[:n]\n",
        "common_words = get_top_n_words(df['Review Text'], 20)\n",
        "for word, freq in common_words:\n",
        "    print(word, freq)\n",
        "df2 = pd.DataFrame(common_words, columns = ['ReviewText' , 'count'])"
      ],
      "execution_count": null,
      "outputs": [
        {
          "output_type": "stream",
          "text": [
            "user 1735\n",
            "just 186\n",
            "love 177\n",
            "like 135\n",
            "day 122\n",
            "great 93\n",
            "don 92\n",
            "people 90\n",
            "time 85\n",
            "christmas 81\n",
            "good 80\n",
            "going 73\n",
            "new 73\n",
            "today 72\n",
            "know 70\n",
            "really 69\n",
            "oh 67\n",
            "work 66\n",
            "year 65\n",
            "need 59\n"
          ],
          "name": "stdout"
        }
      ]
    },
    {
      "cell_type": "markdown",
      "metadata": {
        "id": "EpzPikDhDHMb"
      },
      "source": [
        "### Top bigrams before removing stop words"
      ]
    },
    {
      "cell_type": "code",
      "metadata": {
        "colab": {
          "base_uri": "https://localhost:8080/"
        },
        "id": "H93rGJSHDHMb",
        "outputId": "d4ec57a2-84cc-459f-f2c3-84c3f6924050"
      },
      "source": [
        "def get_top_n_bigram(corpus, n=None):\n",
        "    vec = CountVectorizer(ngram_range=(2, 2)).fit(corpus)\n",
        "    bag_of_words = vec.transform(corpus)\n",
        "    sum_words = bag_of_words.sum(axis=0) \n",
        "    words_freq = [(word, sum_words[0, idx]) for word, idx in vec.vocabulary_.items()]\n",
        "    words_freq =sorted(words_freq, key = lambda x: x[1], reverse=True)\n",
        "    return words_freq[:n]\n",
        "common_words = get_top_n_bigram(df['Review Text'], 20)\n",
        "for word, freq in common_words:\n",
        "    print(word, freq)\n",
        "df3 = pd.DataFrame(common_words, columns = ['ReviewText' , 'count'])"
      ],
      "execution_count": null,
      "outputs": [
        {
          "output_type": "stream",
          "text": [
            "user user 516\n",
            "in the 87\n",
            "of the 72\n",
            "to be 59\n",
            "going to 51\n",
            "for the 49\n",
            "to the 49\n",
            "on the 46\n",
            "this is 35\n",
            "via user 35\n",
            "at the 34\n",
            "you re 33\n",
            "have to 30\n",
            "user you 30\n",
            "to get 29\n",
            "in my 29\n",
            "you can 29\n",
            "rt user 29\n",
            "when you 28\n",
            "want to 27\n"
          ],
          "name": "stdout"
        }
      ]
    },
    {
      "cell_type": "code",
      "metadata": {
        "colab": {
          "base_uri": "https://localhost:8080/"
        },
        "id": "BH4zCVBPDHMb",
        "outputId": "60a62fa2-7566-4ca0-ffdb-2c5ff015a1fb"
      },
      "source": [
        "df3.groupby('ReviewText').sum()['count'].sort_values(ascending=False).iplot(\n",
        "    kind='bar', yTitle='Count', linecolor='black', title='Top 20 bigrams in review before removing stop words')"
      ],
      "execution_count": null,
      "outputs": [
        {
          "output_type": "display_data",
          "data": {
            "text/html": [
              "<div>\n",
              "        \n",
              "        \n",
              "            <div id=\"fb0d3e7c-4a01-4eaf-aa9f-a48620953548\" class=\"plotly-graph-div\" style=\"height:525px; width:100%;\"></div>\n",
              "            <script type=\"text/javascript\">\n",
              "                require([\"plotly\"], function(Plotly) {\n",
              "                    window.PLOTLYENV=window.PLOTLYENV || {};\n",
              "                    window.PLOTLYENV.BASE_URL='https://plot.ly';\n",
              "                    \n",
              "                if (document.getElementById(\"fb0d3e7c-4a01-4eaf-aa9f-a48620953548\")) {\n",
              "                    Plotly.newPlot(\n",
              "                        'fb0d3e7c-4a01-4eaf-aa9f-a48620953548',\n",
              "                        [{\"marker\": {\"color\": \"rgba(255, 153, 51, 0.6)\", \"line\": {\"color\": \"rgba(255, 153, 51, 1.0)\", \"width\": 1}}, \"name\": \"count\", \"orientation\": \"v\", \"text\": \"\", \"type\": \"bar\", \"x\": [\"user user\", \"in the\", \"of the\", \"to be\", \"going to\", \"for the\", \"to the\", \"on the\", \"this is\", \"via user\", \"at the\", \"you re\", \"user you\", \"have to\", \"rt user\", \"you can\", \"to get\", \"in my\", \"when you\", \"want to\"], \"y\": [516, 87, 72, 59, 51, 49, 49, 46, 35, 35, 34, 33, 30, 30, 29, 29, 29, 29, 28, 27]}],\n",
              "                        {\"legend\": {\"bgcolor\": \"#F5F6F9\", \"font\": {\"color\": \"#4D5663\"}}, \"paper_bgcolor\": \"#F5F6F9\", \"plot_bgcolor\": \"#F5F6F9\", \"template\": {\"data\": {\"bar\": [{\"error_x\": {\"color\": \"#2a3f5f\"}, \"error_y\": {\"color\": \"#2a3f5f\"}, \"marker\": {\"line\": {\"color\": \"#E5ECF6\", \"width\": 0.5}}, \"type\": \"bar\"}], \"barpolar\": [{\"marker\": {\"line\": {\"color\": \"#E5ECF6\", \"width\": 0.5}}, \"type\": \"barpolar\"}], \"carpet\": [{\"aaxis\": {\"endlinecolor\": \"#2a3f5f\", \"gridcolor\": \"white\", \"linecolor\": \"white\", \"minorgridcolor\": \"white\", \"startlinecolor\": \"#2a3f5f\"}, \"baxis\": {\"endlinecolor\": \"#2a3f5f\", \"gridcolor\": \"white\", \"linecolor\": \"white\", \"minorgridcolor\": \"white\", \"startlinecolor\": \"#2a3f5f\"}, \"type\": \"carpet\"}], \"choropleth\": [{\"colorbar\": {\"outlinewidth\": 0, \"ticks\": \"\"}, \"type\": \"choropleth\"}], \"contour\": [{\"colorbar\": {\"outlinewidth\": 0, \"ticks\": \"\"}, \"colorscale\": [[0.0, \"#0d0887\"], [0.1111111111111111, \"#46039f\"], [0.2222222222222222, \"#7201a8\"], [0.3333333333333333, \"#9c179e\"], [0.4444444444444444, \"#bd3786\"], [0.5555555555555556, \"#d8576b\"], [0.6666666666666666, \"#ed7953\"], [0.7777777777777778, \"#fb9f3a\"], [0.8888888888888888, \"#fdca26\"], [1.0, \"#f0f921\"]], \"type\": \"contour\"}], \"contourcarpet\": [{\"colorbar\": {\"outlinewidth\": 0, \"ticks\": \"\"}, \"type\": \"contourcarpet\"}], \"heatmap\": [{\"colorbar\": {\"outlinewidth\": 0, \"ticks\": \"\"}, \"colorscale\": [[0.0, \"#0d0887\"], [0.1111111111111111, \"#46039f\"], [0.2222222222222222, \"#7201a8\"], [0.3333333333333333, \"#9c179e\"], [0.4444444444444444, \"#bd3786\"], [0.5555555555555556, \"#d8576b\"], [0.6666666666666666, \"#ed7953\"], [0.7777777777777778, \"#fb9f3a\"], [0.8888888888888888, \"#fdca26\"], [1.0, \"#f0f921\"]], \"type\": \"heatmap\"}], \"heatmapgl\": [{\"colorbar\": {\"outlinewidth\": 0, \"ticks\": \"\"}, \"colorscale\": [[0.0, \"#0d0887\"], [0.1111111111111111, \"#46039f\"], [0.2222222222222222, \"#7201a8\"], [0.3333333333333333, \"#9c179e\"], [0.4444444444444444, \"#bd3786\"], [0.5555555555555556, \"#d8576b\"], [0.6666666666666666, \"#ed7953\"], [0.7777777777777778, \"#fb9f3a\"], [0.8888888888888888, \"#fdca26\"], [1.0, \"#f0f921\"]], \"type\": \"heatmapgl\"}], \"histogram\": [{\"marker\": {\"colorbar\": {\"outlinewidth\": 0, \"ticks\": \"\"}}, \"type\": \"histogram\"}], \"histogram2d\": [{\"colorbar\": {\"outlinewidth\": 0, \"ticks\": \"\"}, \"colorscale\": [[0.0, \"#0d0887\"], [0.1111111111111111, \"#46039f\"], [0.2222222222222222, \"#7201a8\"], [0.3333333333333333, \"#9c179e\"], [0.4444444444444444, \"#bd3786\"], [0.5555555555555556, \"#d8576b\"], [0.6666666666666666, \"#ed7953\"], [0.7777777777777778, \"#fb9f3a\"], [0.8888888888888888, \"#fdca26\"], [1.0, \"#f0f921\"]], \"type\": \"histogram2d\"}], \"histogram2dcontour\": [{\"colorbar\": {\"outlinewidth\": 0, \"ticks\": \"\"}, \"colorscale\": [[0.0, \"#0d0887\"], [0.1111111111111111, \"#46039f\"], [0.2222222222222222, \"#7201a8\"], [0.3333333333333333, \"#9c179e\"], [0.4444444444444444, \"#bd3786\"], [0.5555555555555556, \"#d8576b\"], [0.6666666666666666, \"#ed7953\"], [0.7777777777777778, \"#fb9f3a\"], [0.8888888888888888, \"#fdca26\"], [1.0, \"#f0f921\"]], \"type\": \"histogram2dcontour\"}], \"mesh3d\": [{\"colorbar\": {\"outlinewidth\": 0, \"ticks\": \"\"}, \"type\": \"mesh3d\"}], \"parcoords\": [{\"line\": {\"colorbar\": {\"outlinewidth\": 0, \"ticks\": \"\"}}, \"type\": \"parcoords\"}], \"pie\": [{\"automargin\": true, \"type\": \"pie\"}], \"scatter\": [{\"marker\": {\"colorbar\": {\"outlinewidth\": 0, \"ticks\": \"\"}}, \"type\": \"scatter\"}], \"scatter3d\": [{\"line\": {\"colorbar\": {\"outlinewidth\": 0, \"ticks\": \"\"}}, \"marker\": {\"colorbar\": {\"outlinewidth\": 0, \"ticks\": \"\"}}, \"type\": \"scatter3d\"}], \"scattercarpet\": [{\"marker\": {\"colorbar\": {\"outlinewidth\": 0, \"ticks\": \"\"}}, \"type\": \"scattercarpet\"}], \"scattergeo\": [{\"marker\": {\"colorbar\": {\"outlinewidth\": 0, \"ticks\": \"\"}}, \"type\": \"scattergeo\"}], \"scattergl\": [{\"marker\": {\"colorbar\": {\"outlinewidth\": 0, \"ticks\": \"\"}}, \"type\": \"scattergl\"}], \"scattermapbox\": [{\"marker\": {\"colorbar\": {\"outlinewidth\": 0, \"ticks\": \"\"}}, \"type\": \"scattermapbox\"}], \"scatterpolar\": [{\"marker\": {\"colorbar\": {\"outlinewidth\": 0, \"ticks\": \"\"}}, \"type\": \"scatterpolar\"}], \"scatterpolargl\": [{\"marker\": {\"colorbar\": {\"outlinewidth\": 0, \"ticks\": \"\"}}, \"type\": \"scatterpolargl\"}], \"scatterternary\": [{\"marker\": {\"colorbar\": {\"outlinewidth\": 0, \"ticks\": \"\"}}, \"type\": \"scatterternary\"}], \"surface\": [{\"colorbar\": {\"outlinewidth\": 0, \"ticks\": \"\"}, \"colorscale\": [[0.0, \"#0d0887\"], [0.1111111111111111, \"#46039f\"], [0.2222222222222222, \"#7201a8\"], [0.3333333333333333, \"#9c179e\"], [0.4444444444444444, \"#bd3786\"], [0.5555555555555556, \"#d8576b\"], [0.6666666666666666, \"#ed7953\"], [0.7777777777777778, \"#fb9f3a\"], [0.8888888888888888, \"#fdca26\"], [1.0, \"#f0f921\"]], \"type\": \"surface\"}], \"table\": [{\"cells\": {\"fill\": {\"color\": \"#EBF0F8\"}, \"line\": {\"color\": \"white\"}}, \"header\": {\"fill\": {\"color\": \"#C8D4E3\"}, \"line\": {\"color\": \"white\"}}, \"type\": \"table\"}]}, \"layout\": {\"annotationdefaults\": {\"arrowcolor\": \"#2a3f5f\", \"arrowhead\": 0, \"arrowwidth\": 1}, \"coloraxis\": {\"colorbar\": {\"outlinewidth\": 0, \"ticks\": \"\"}}, \"colorscale\": {\"diverging\": [[0, \"#8e0152\"], [0.1, \"#c51b7d\"], [0.2, \"#de77ae\"], [0.3, \"#f1b6da\"], [0.4, \"#fde0ef\"], [0.5, \"#f7f7f7\"], [0.6, \"#e6f5d0\"], [0.7, \"#b8e186\"], [0.8, \"#7fbc41\"], [0.9, \"#4d9221\"], [1, \"#276419\"]], \"sequential\": [[0.0, \"#0d0887\"], [0.1111111111111111, \"#46039f\"], [0.2222222222222222, \"#7201a8\"], [0.3333333333333333, \"#9c179e\"], [0.4444444444444444, \"#bd3786\"], [0.5555555555555556, \"#d8576b\"], [0.6666666666666666, \"#ed7953\"], [0.7777777777777778, \"#fb9f3a\"], [0.8888888888888888, \"#fdca26\"], [1.0, \"#f0f921\"]], \"sequentialminus\": [[0.0, \"#0d0887\"], [0.1111111111111111, \"#46039f\"], [0.2222222222222222, \"#7201a8\"], [0.3333333333333333, \"#9c179e\"], [0.4444444444444444, \"#bd3786\"], [0.5555555555555556, \"#d8576b\"], [0.6666666666666666, \"#ed7953\"], [0.7777777777777778, \"#fb9f3a\"], [0.8888888888888888, \"#fdca26\"], [1.0, \"#f0f921\"]]}, \"colorway\": [\"#636efa\", \"#EF553B\", \"#00cc96\", \"#ab63fa\", \"#FFA15A\", \"#19d3f3\", \"#FF6692\", \"#B6E880\", \"#FF97FF\", \"#FECB52\"], \"font\": {\"color\": \"#2a3f5f\"}, \"geo\": {\"bgcolor\": \"white\", \"lakecolor\": \"white\", \"landcolor\": \"#E5ECF6\", \"showlakes\": true, \"showland\": true, \"subunitcolor\": \"white\"}, \"hoverlabel\": {\"align\": \"left\"}, \"hovermode\": \"closest\", \"mapbox\": {\"style\": \"light\"}, \"paper_bgcolor\": \"white\", \"plot_bgcolor\": \"#E5ECF6\", \"polar\": {\"angularaxis\": {\"gridcolor\": \"white\", \"linecolor\": \"white\", \"ticks\": \"\"}, \"bgcolor\": \"#E5ECF6\", \"radialaxis\": {\"gridcolor\": \"white\", \"linecolor\": \"white\", \"ticks\": \"\"}}, \"scene\": {\"xaxis\": {\"backgroundcolor\": \"#E5ECF6\", \"gridcolor\": \"white\", \"gridwidth\": 2, \"linecolor\": \"white\", \"showbackground\": true, \"ticks\": \"\", \"zerolinecolor\": \"white\"}, \"yaxis\": {\"backgroundcolor\": \"#E5ECF6\", \"gridcolor\": \"white\", \"gridwidth\": 2, \"linecolor\": \"white\", \"showbackground\": true, \"ticks\": \"\", \"zerolinecolor\": \"white\"}, \"zaxis\": {\"backgroundcolor\": \"#E5ECF6\", \"gridcolor\": \"white\", \"gridwidth\": 2, \"linecolor\": \"white\", \"showbackground\": true, \"ticks\": \"\", \"zerolinecolor\": \"white\"}}, \"shapedefaults\": {\"line\": {\"color\": \"#2a3f5f\"}}, \"ternary\": {\"aaxis\": {\"gridcolor\": \"white\", \"linecolor\": \"white\", \"ticks\": \"\"}, \"baxis\": {\"gridcolor\": \"white\", \"linecolor\": \"white\", \"ticks\": \"\"}, \"bgcolor\": \"#E5ECF6\", \"caxis\": {\"gridcolor\": \"white\", \"linecolor\": \"white\", \"ticks\": \"\"}}, \"title\": {\"x\": 0.05}, \"xaxis\": {\"automargin\": true, \"gridcolor\": \"white\", \"linecolor\": \"white\", \"ticks\": \"\", \"title\": {\"standoff\": 15}, \"zerolinecolor\": \"white\", \"zerolinewidth\": 2}, \"yaxis\": {\"automargin\": true, \"gridcolor\": \"white\", \"linecolor\": \"white\", \"ticks\": \"\", \"title\": {\"standoff\": 15}, \"zerolinecolor\": \"white\", \"zerolinewidth\": 2}}}, \"title\": {\"font\": {\"color\": \"#4D5663\"}, \"text\": \"Top 20 bigrams in review before removing stop words\"}, \"xaxis\": {\"gridcolor\": \"#E1E5ED\", \"linecolor\": \"black\", \"showgrid\": true, \"tickfont\": {\"color\": \"#4D5663\"}, \"title\": {\"font\": {\"color\": \"#4D5663\"}, \"text\": \"\"}, \"zerolinecolor\": \"#E1E5ED\"}, \"yaxis\": {\"gridcolor\": \"#E1E5ED\", \"linecolor\": \"black\", \"showgrid\": true, \"tickfont\": {\"color\": \"#4D5663\"}, \"title\": {\"font\": {\"color\": \"#4D5663\"}, \"text\": \"Count\"}, \"zerolinecolor\": \"#E1E5ED\"}},\n",
              "                        {\"showLink\": true, \"linkText\": \"Export to plot.ly\", \"plotlyServerURL\": \"https://plot.ly\", \"responsive\": true}\n",
              "                    ).then(function(){\n",
              "                            \n",
              "var gd = document.getElementById('fb0d3e7c-4a01-4eaf-aa9f-a48620953548');\n",
              "var x = new MutationObserver(function (mutations, observer) {{\n",
              "        var display = window.getComputedStyle(gd).display;\n",
              "        if (!display || display === 'none') {{\n",
              "            console.log([gd, 'removed!']);\n",
              "            Plotly.purge(gd);\n",
              "            observer.disconnect();\n",
              "        }}\n",
              "}});\n",
              "\n",
              "// Listen for the removal of the full notebook cells\n",
              "var notebookContainer = gd.closest('#notebook-container');\n",
              "if (notebookContainer) {{\n",
              "    x.observe(notebookContainer, {childList: true});\n",
              "}}\n",
              "\n",
              "// Listen for the clearing of the current output cell\n",
              "var outputEl = gd.closest('.output');\n",
              "if (outputEl) {{\n",
              "    x.observe(outputEl, {childList: true});\n",
              "}}\n",
              "\n",
              "                        })\n",
              "                };\n",
              "                });\n",
              "            </script>\n",
              "        </div>"
            ],
            "application/vnd.plotly.v1+json": {
              "data": [
                {
                  "name": "count",
                  "text": "",
                  "y": [
                    516,
                    87,
                    72,
                    59,
                    51,
                    49,
                    49,
                    46,
                    35,
                    35,
                    34,
                    33,
                    30,
                    30,
                    29,
                    29,
                    29,
                    29,
                    28,
                    27
                  ],
                  "marker": {
                    "color": "rgba(255, 153, 51, 0.6)",
                    "line": {
                      "color": "rgba(255, 153, 51, 1.0)",
                      "width": 1
                    }
                  },
                  "x": [
                    "user user",
                    "in the",
                    "of the",
                    "to be",
                    "going to",
                    "for the",
                    "to the",
                    "on the",
                    "this is",
                    "via user",
                    "at the",
                    "you re",
                    "user you",
                    "have to",
                    "rt user",
                    "you can",
                    "to get",
                    "in my",
                    "when you",
                    "want to"
                  ],
                  "type": "bar",
                  "orientation": "v"
                }
              ],
              "config": {
                "plotlyServerURL": "https://plot.ly",
                "linkText": "Export to plot.ly",
                "showLink": true
              },
              "layout": {
                "template": {
                  "layout": {
                    "shapedefaults": {
                      "line": {
                        "color": "#2a3f5f"
                      }
                    },
                    "polar": {
                      "radialaxis": {
                        "ticks": "",
                        "gridcolor": "white",
                        "linecolor": "white"
                      },
                      "bgcolor": "#E5ECF6",
                      "angularaxis": {
                        "ticks": "",
                        "gridcolor": "white",
                        "linecolor": "white"
                      }
                    },
                    "colorway": [
                      "#636efa",
                      "#EF553B",
                      "#00cc96",
                      "#ab63fa",
                      "#FFA15A",
                      "#19d3f3",
                      "#FF6692",
                      "#B6E880",
                      "#FF97FF",
                      "#FECB52"
                    ],
                    "xaxis": {
                      "automargin": true,
                      "title": {
                        "standoff": 15
                      },
                      "zerolinewidth": 2,
                      "ticks": "",
                      "zerolinecolor": "white",
                      "gridcolor": "white",
                      "linecolor": "white"
                    },
                    "colorscale": {
                      "diverging": [
                        [
                          0,
                          "#8e0152"
                        ],
                        [
                          0.1,
                          "#c51b7d"
                        ],
                        [
                          0.2,
                          "#de77ae"
                        ],
                        [
                          0.3,
                          "#f1b6da"
                        ],
                        [
                          0.4,
                          "#fde0ef"
                        ],
                        [
                          0.5,
                          "#f7f7f7"
                        ],
                        [
                          0.6,
                          "#e6f5d0"
                        ],
                        [
                          0.7,
                          "#b8e186"
                        ],
                        [
                          0.8,
                          "#7fbc41"
                        ],
                        [
                          0.9,
                          "#4d9221"
                        ],
                        [
                          1,
                          "#276419"
                        ]
                      ],
                      "sequential": [
                        [
                          0,
                          "#0d0887"
                        ],
                        [
                          0.1111111111111111,
                          "#46039f"
                        ],
                        [
                          0.2222222222222222,
                          "#7201a8"
                        ],
                        [
                          0.3333333333333333,
                          "#9c179e"
                        ],
                        [
                          0.4444444444444444,
                          "#bd3786"
                        ],
                        [
                          0.5555555555555556,
                          "#d8576b"
                        ],
                        [
                          0.6666666666666666,
                          "#ed7953"
                        ],
                        [
                          0.7777777777777778,
                          "#fb9f3a"
                        ],
                        [
                          0.8888888888888888,
                          "#fdca26"
                        ],
                        [
                          1,
                          "#f0f921"
                        ]
                      ],
                      "sequentialminus": [
                        [
                          0,
                          "#0d0887"
                        ],
                        [
                          0.1111111111111111,
                          "#46039f"
                        ],
                        [
                          0.2222222222222222,
                          "#7201a8"
                        ],
                        [
                          0.3333333333333333,
                          "#9c179e"
                        ],
                        [
                          0.4444444444444444,
                          "#bd3786"
                        ],
                        [
                          0.5555555555555556,
                          "#d8576b"
                        ],
                        [
                          0.6666666666666666,
                          "#ed7953"
                        ],
                        [
                          0.7777777777777778,
                          "#fb9f3a"
                        ],
                        [
                          0.8888888888888888,
                          "#fdca26"
                        ],
                        [
                          1,
                          "#f0f921"
                        ]
                      ]
                    },
                    "paper_bgcolor": "white",
                    "plot_bgcolor": "#E5ECF6",
                    "title": {
                      "x": 0.05
                    },
                    "scene": {
                      "zaxis": {
                        "backgroundcolor": "#E5ECF6",
                        "ticks": "",
                        "gridwidth": 2,
                        "showbackground": true,
                        "zerolinecolor": "white",
                        "gridcolor": "white",
                        "linecolor": "white"
                      },
                      "xaxis": {
                        "backgroundcolor": "#E5ECF6",
                        "ticks": "",
                        "gridwidth": 2,
                        "showbackground": true,
                        "zerolinecolor": "white",
                        "gridcolor": "white",
                        "linecolor": "white"
                      },
                      "yaxis": {
                        "backgroundcolor": "#E5ECF6",
                        "ticks": "",
                        "gridwidth": 2,
                        "showbackground": true,
                        "zerolinecolor": "white",
                        "gridcolor": "white",
                        "linecolor": "white"
                      }
                    },
                    "yaxis": {
                      "automargin": true,
                      "title": {
                        "standoff": 15
                      },
                      "zerolinewidth": 2,
                      "ticks": "",
                      "zerolinecolor": "white",
                      "gridcolor": "white",
                      "linecolor": "white"
                    },
                    "annotationdefaults": {
                      "arrowwidth": 1,
                      "arrowhead": 0,
                      "arrowcolor": "#2a3f5f"
                    },
                    "hoverlabel": {
                      "align": "left"
                    },
                    "ternary": {
                      "bgcolor": "#E5ECF6",
                      "baxis": {
                        "ticks": "",
                        "gridcolor": "white",
                        "linecolor": "white"
                      },
                      "caxis": {
                        "ticks": "",
                        "gridcolor": "white",
                        "linecolor": "white"
                      },
                      "aaxis": {
                        "ticks": "",
                        "gridcolor": "white",
                        "linecolor": "white"
                      }
                    },
                    "mapbox": {
                      "style": "light"
                    },
                    "hovermode": "closest",
                    "font": {
                      "color": "#2a3f5f"
                    },
                    "geo": {
                      "showland": true,
                      "landcolor": "#E5ECF6",
                      "showlakes": true,
                      "bgcolor": "white",
                      "subunitcolor": "white",
                      "lakecolor": "white"
                    },
                    "coloraxis": {
                      "colorbar": {
                        "outlinewidth": 0,
                        "ticks": ""
                      }
                    }
                  },
                  "data": {
                    "mesh3d": [
                      {
                        "colorbar": {
                          "outlinewidth": 0,
                          "ticks": ""
                        },
                        "type": "mesh3d"
                      }
                    ],
                    "scattercarpet": [
                      {
                        "marker": {
                          "colorbar": {
                            "outlinewidth": 0,
                            "ticks": ""
                          }
                        },
                        "type": "scattercarpet"
                      }
                    ],
                    "pie": [
                      {
                        "automargin": true,
                        "type": "pie"
                      }
                    ],
                    "surface": [
                      {
                        "colorbar": {
                          "outlinewidth": 0,
                          "ticks": ""
                        },
                        "type": "surface",
                        "colorscale": [
                          [
                            0,
                            "#0d0887"
                          ],
                          [
                            0.1111111111111111,
                            "#46039f"
                          ],
                          [
                            0.2222222222222222,
                            "#7201a8"
                          ],
                          [
                            0.3333333333333333,
                            "#9c179e"
                          ],
                          [
                            0.4444444444444444,
                            "#bd3786"
                          ],
                          [
                            0.5555555555555556,
                            "#d8576b"
                          ],
                          [
                            0.6666666666666666,
                            "#ed7953"
                          ],
                          [
                            0.7777777777777778,
                            "#fb9f3a"
                          ],
                          [
                            0.8888888888888888,
                            "#fdca26"
                          ],
                          [
                            1,
                            "#f0f921"
                          ]
                        ]
                      }
                    ],
                    "table": [
                      {
                        "header": {
                          "line": {
                            "color": "white"
                          },
                          "fill": {
                            "color": "#C8D4E3"
                          }
                        },
                        "cells": {
                          "line": {
                            "color": "white"
                          },
                          "fill": {
                            "color": "#EBF0F8"
                          }
                        },
                        "type": "table"
                      }
                    ],
                    "scatterpolargl": [
                      {
                        "marker": {
                          "colorbar": {
                            "outlinewidth": 0,
                            "ticks": ""
                          }
                        },
                        "type": "scatterpolargl"
                      }
                    ],
                    "contour": [
                      {
                        "colorbar": {
                          "outlinewidth": 0,
                          "ticks": ""
                        },
                        "type": "contour",
                        "colorscale": [
                          [
                            0,
                            "#0d0887"
                          ],
                          [
                            0.1111111111111111,
                            "#46039f"
                          ],
                          [
                            0.2222222222222222,
                            "#7201a8"
                          ],
                          [
                            0.3333333333333333,
                            "#9c179e"
                          ],
                          [
                            0.4444444444444444,
                            "#bd3786"
                          ],
                          [
                            0.5555555555555556,
                            "#d8576b"
                          ],
                          [
                            0.6666666666666666,
                            "#ed7953"
                          ],
                          [
                            0.7777777777777778,
                            "#fb9f3a"
                          ],
                          [
                            0.8888888888888888,
                            "#fdca26"
                          ],
                          [
                            1,
                            "#f0f921"
                          ]
                        ]
                      }
                    ],
                    "carpet": [
                      {
                        "type": "carpet",
                        "baxis": {
                          "minorgridcolor": "white",
                          "gridcolor": "white",
                          "linecolor": "white",
                          "endlinecolor": "#2a3f5f",
                          "startlinecolor": "#2a3f5f"
                        },
                        "aaxis": {
                          "minorgridcolor": "white",
                          "gridcolor": "white",
                          "linecolor": "white",
                          "endlinecolor": "#2a3f5f",
                          "startlinecolor": "#2a3f5f"
                        }
                      }
                    ],
                    "contourcarpet": [
                      {
                        "colorbar": {
                          "outlinewidth": 0,
                          "ticks": ""
                        },
                        "type": "contourcarpet"
                      }
                    ],
                    "heatmap": [
                      {
                        "colorbar": {
                          "outlinewidth": 0,
                          "ticks": ""
                        },
                        "type": "heatmap",
                        "colorscale": [
                          [
                            0,
                            "#0d0887"
                          ],
                          [
                            0.1111111111111111,
                            "#46039f"
                          ],
                          [
                            0.2222222222222222,
                            "#7201a8"
                          ],
                          [
                            0.3333333333333333,
                            "#9c179e"
                          ],
                          [
                            0.4444444444444444,
                            "#bd3786"
                          ],
                          [
                            0.5555555555555556,
                            "#d8576b"
                          ],
                          [
                            0.6666666666666666,
                            "#ed7953"
                          ],
                          [
                            0.7777777777777778,
                            "#fb9f3a"
                          ],
                          [
                            0.8888888888888888,
                            "#fdca26"
                          ],
                          [
                            1,
                            "#f0f921"
                          ]
                        ]
                      }
                    ],
                    "scattermapbox": [
                      {
                        "marker": {
                          "colorbar": {
                            "outlinewidth": 0,
                            "ticks": ""
                          }
                        },
                        "type": "scattermapbox"
                      }
                    ],
                    "scatter3d": [
                      {
                        "marker": {
                          "colorbar": {
                            "outlinewidth": 0,
                            "ticks": ""
                          }
                        },
                        "line": {
                          "colorbar": {
                            "outlinewidth": 0,
                            "ticks": ""
                          }
                        },
                        "type": "scatter3d"
                      }
                    ],
                    "scattergl": [
                      {
                        "marker": {
                          "colorbar": {
                            "outlinewidth": 0,
                            "ticks": ""
                          }
                        },
                        "type": "scattergl"
                      }
                    ],
                    "scatterternary": [
                      {
                        "marker": {
                          "colorbar": {
                            "outlinewidth": 0,
                            "ticks": ""
                          }
                        },
                        "type": "scatterternary"
                      }
                    ],
                    "histogram": [
                      {
                        "marker": {
                          "colorbar": {
                            "outlinewidth": 0,
                            "ticks": ""
                          }
                        },
                        "type": "histogram"
                      }
                    ],
                    "heatmapgl": [
                      {
                        "colorbar": {
                          "outlinewidth": 0,
                          "ticks": ""
                        },
                        "type": "heatmapgl",
                        "colorscale": [
                          [
                            0,
                            "#0d0887"
                          ],
                          [
                            0.1111111111111111,
                            "#46039f"
                          ],
                          [
                            0.2222222222222222,
                            "#7201a8"
                          ],
                          [
                            0.3333333333333333,
                            "#9c179e"
                          ],
                          [
                            0.4444444444444444,
                            "#bd3786"
                          ],
                          [
                            0.5555555555555556,
                            "#d8576b"
                          ],
                          [
                            0.6666666666666666,
                            "#ed7953"
                          ],
                          [
                            0.7777777777777778,
                            "#fb9f3a"
                          ],
                          [
                            0.8888888888888888,
                            "#fdca26"
                          ],
                          [
                            1,
                            "#f0f921"
                          ]
                        ]
                      }
                    ],
                    "scatterpolar": [
                      {
                        "marker": {
                          "colorbar": {
                            "outlinewidth": 0,
                            "ticks": ""
                          }
                        },
                        "type": "scatterpolar"
                      }
                    ],
                    "histogram2d": [
                      {
                        "colorbar": {
                          "outlinewidth": 0,
                          "ticks": ""
                        },
                        "type": "histogram2d",
                        "colorscale": [
                          [
                            0,
                            "#0d0887"
                          ],
                          [
                            0.1111111111111111,
                            "#46039f"
                          ],
                          [
                            0.2222222222222222,
                            "#7201a8"
                          ],
                          [
                            0.3333333333333333,
                            "#9c179e"
                          ],
                          [
                            0.4444444444444444,
                            "#bd3786"
                          ],
                          [
                            0.5555555555555556,
                            "#d8576b"
                          ],
                          [
                            0.6666666666666666,
                            "#ed7953"
                          ],
                          [
                            0.7777777777777778,
                            "#fb9f3a"
                          ],
                          [
                            0.8888888888888888,
                            "#fdca26"
                          ],
                          [
                            1,
                            "#f0f921"
                          ]
                        ]
                      }
                    ],
                    "scattergeo": [
                      {
                        "marker": {
                          "colorbar": {
                            "outlinewidth": 0,
                            "ticks": ""
                          }
                        },
                        "type": "scattergeo"
                      }
                    ],
                    "bar": [
                      {
                        "marker": {
                          "line": {
                            "color": "#E5ECF6",
                            "width": 0.5
                          }
                        },
                        "type": "bar",
                        "error_x": {
                          "color": "#2a3f5f"
                        },
                        "error_y": {
                          "color": "#2a3f5f"
                        }
                      }
                    ],
                    "choropleth": [
                      {
                        "colorbar": {
                          "outlinewidth": 0,
                          "ticks": ""
                        },
                        "type": "choropleth"
                      }
                    ],
                    "parcoords": [
                      {
                        "line": {
                          "colorbar": {
                            "outlinewidth": 0,
                            "ticks": ""
                          }
                        },
                        "type": "parcoords"
                      }
                    ],
                    "barpolar": [
                      {
                        "marker": {
                          "line": {
                            "color": "#E5ECF6",
                            "width": 0.5
                          }
                        },
                        "type": "barpolar"
                      }
                    ],
                    "histogram2dcontour": [
                      {
                        "colorbar": {
                          "outlinewidth": 0,
                          "ticks": ""
                        },
                        "type": "histogram2dcontour",
                        "colorscale": [
                          [
                            0,
                            "#0d0887"
                          ],
                          [
                            0.1111111111111111,
                            "#46039f"
                          ],
                          [
                            0.2222222222222222,
                            "#7201a8"
                          ],
                          [
                            0.3333333333333333,
                            "#9c179e"
                          ],
                          [
                            0.4444444444444444,
                            "#bd3786"
                          ],
                          [
                            0.5555555555555556,
                            "#d8576b"
                          ],
                          [
                            0.6666666666666666,
                            "#ed7953"
                          ],
                          [
                            0.7777777777777778,
                            "#fb9f3a"
                          ],
                          [
                            0.8888888888888888,
                            "#fdca26"
                          ],
                          [
                            1,
                            "#f0f921"
                          ]
                        ]
                      }
                    ],
                    "scatter": [
                      {
                        "marker": {
                          "colorbar": {
                            "outlinewidth": 0,
                            "ticks": ""
                          }
                        },
                        "type": "scatter"
                      }
                    ]
                  }
                },
                "title": {
                  "text": "Top 20 bigrams in review before removing stop words",
                  "font": {
                    "color": "#4D5663"
                  }
                },
                "paper_bgcolor": "#F5F6F9",
                "plot_bgcolor": "#F5F6F9",
                "yaxis": {
                  "tickfont": {
                    "color": "#4D5663"
                  },
                  "title": {
                    "text": "Count",
                    "font": {
                      "color": "#4D5663"
                    }
                  },
                  "showgrid": true,
                  "zerolinecolor": "#E1E5ED",
                  "gridcolor": "#E1E5ED",
                  "linecolor": "black"
                },
                "xaxis": {
                  "tickfont": {
                    "color": "#4D5663"
                  },
                  "title": {
                    "text": "",
                    "font": {
                      "color": "#4D5663"
                    }
                  },
                  "showgrid": true,
                  "zerolinecolor": "#E1E5ED",
                  "gridcolor": "#E1E5ED",
                  "linecolor": "black"
                },
                "legend": {
                  "bgcolor": "#F5F6F9",
                  "font": {
                    "color": "#4D5663"
                  }
                }
              }
            }
          },
          "metadata": {
            "tags": []
          }
        }
      ]
    },
    {
      "cell_type": "markdown",
      "metadata": {
        "id": "zsw77Zj1DHMc"
      },
      "source": [
        "### Top bigrams after removing stop words"
      ]
    },
    {
      "cell_type": "code",
      "metadata": {
        "colab": {
          "base_uri": "https://localhost:8080/"
        },
        "id": "rn4WWNwnDHMc",
        "outputId": "312caa70-24a3-4b6e-b840-1a51fafa97b8"
      },
      "source": [
        "def get_top_n_bigram(corpus, n=None):\n",
        "    vec = CountVectorizer(ngram_range=(2, 2), stop_words='english').fit(corpus)\n",
        "    bag_of_words = vec.transform(corpus)\n",
        "    sum_words = bag_of_words.sum(axis=0) \n",
        "    words_freq = [(word, sum_words[0, idx]) for word, idx in vec.vocabulary_.items()]\n",
        "    words_freq =sorted(words_freq, key = lambda x: x[1], reverse=True)\n",
        "    return words_freq[:n]\n",
        "common_words = get_top_n_bigram(df['Review Text'], 20)\n",
        "for word, freq in common_words:\n",
        "    print(word, freq)\n",
        "df4 = pd.DataFrame(common_words, columns = ['ReviewText' , 'count'])"
      ],
      "execution_count": null,
      "outputs": [
        {
          "output_type": "stream",
          "text": [
            "user user 525\n",
            "rt user 29\n",
            "user oh 16\n",
            "user don 14\n",
            "don know 13\n",
            "just love 13\n",
            "user just 13\n",
            "user yeah 12\n",
            "new year 11\n",
            "user think 11\n",
            "love waking 11\n",
            "user really 11\n",
            "way start 10\n",
            "user thanks 10\n",
            "user great 10\n",
            "user love 10\n",
            "looks like 9\n",
            "user lol 8\n",
            "user ll 8\n",
            "user wow 8\n"
          ],
          "name": "stdout"
        }
      ]
    },
    {
      "cell_type": "code",
      "metadata": {
        "colab": {
          "base_uri": "https://localhost:8080/"
        },
        "id": "bNR6a2W_DHMc",
        "outputId": "ad86397f-e106-4e1e-d481-d2af35c8ba5e"
      },
      "source": [
        "df4.groupby('ReviewText').sum()['count'].sort_values(ascending=False).iplot(\n",
        "    kind='bar', yTitle='Count', linecolor='black', title='Top 20 bigrams in review after removing stop words')"
      ],
      "execution_count": null,
      "outputs": [
        {
          "output_type": "display_data",
          "data": {
            "text/html": [
              "<div>\n",
              "        \n",
              "        \n",
              "            <div id=\"51c2827a-1216-4bdf-93fe-c8f334cae0ec\" class=\"plotly-graph-div\" style=\"height:525px; width:100%;\"></div>\n",
              "            <script type=\"text/javascript\">\n",
              "                require([\"plotly\"], function(Plotly) {\n",
              "                    window.PLOTLYENV=window.PLOTLYENV || {};\n",
              "                    window.PLOTLYENV.BASE_URL='https://plot.ly';\n",
              "                    \n",
              "                if (document.getElementById(\"51c2827a-1216-4bdf-93fe-c8f334cae0ec\")) {\n",
              "                    Plotly.newPlot(\n",
              "                        '51c2827a-1216-4bdf-93fe-c8f334cae0ec',\n",
              "                        [{\"marker\": {\"color\": \"rgba(255, 153, 51, 0.6)\", \"line\": {\"color\": \"rgba(255, 153, 51, 1.0)\", \"width\": 1}}, \"name\": \"count\", \"orientation\": \"v\", \"text\": \"\", \"type\": \"bar\", \"x\": [\"user user\", \"rt user\", \"user oh\", \"user don\", \"don know\", \"just love\", \"user just\", \"user yeah\", \"user think\", \"love waking\", \"user really\", \"new year\", \"way start\", \"user great\", \"user love\", \"user thanks\", \"looks like\", \"user lol\", \"user wow\", \"user ll\"], \"y\": [525, 29, 16, 14, 13, 13, 13, 12, 11, 11, 11, 11, 10, 10, 10, 10, 9, 8, 8, 8]}],\n",
              "                        {\"legend\": {\"bgcolor\": \"#F5F6F9\", \"font\": {\"color\": \"#4D5663\"}}, \"paper_bgcolor\": \"#F5F6F9\", \"plot_bgcolor\": \"#F5F6F9\", \"template\": {\"data\": {\"bar\": [{\"error_x\": {\"color\": \"#2a3f5f\"}, \"error_y\": {\"color\": \"#2a3f5f\"}, \"marker\": {\"line\": {\"color\": \"#E5ECF6\", \"width\": 0.5}}, \"type\": \"bar\"}], \"barpolar\": [{\"marker\": {\"line\": {\"color\": \"#E5ECF6\", \"width\": 0.5}}, \"type\": \"barpolar\"}], \"carpet\": [{\"aaxis\": {\"endlinecolor\": \"#2a3f5f\", \"gridcolor\": \"white\", \"linecolor\": \"white\", \"minorgridcolor\": \"white\", \"startlinecolor\": \"#2a3f5f\"}, \"baxis\": {\"endlinecolor\": \"#2a3f5f\", \"gridcolor\": \"white\", \"linecolor\": \"white\", \"minorgridcolor\": \"white\", \"startlinecolor\": \"#2a3f5f\"}, \"type\": \"carpet\"}], \"choropleth\": [{\"colorbar\": {\"outlinewidth\": 0, \"ticks\": \"\"}, \"type\": \"choropleth\"}], \"contour\": [{\"colorbar\": {\"outlinewidth\": 0, \"ticks\": \"\"}, \"colorscale\": [[0.0, \"#0d0887\"], [0.1111111111111111, \"#46039f\"], [0.2222222222222222, \"#7201a8\"], [0.3333333333333333, \"#9c179e\"], [0.4444444444444444, \"#bd3786\"], [0.5555555555555556, \"#d8576b\"], [0.6666666666666666, \"#ed7953\"], [0.7777777777777778, \"#fb9f3a\"], [0.8888888888888888, \"#fdca26\"], [1.0, \"#f0f921\"]], \"type\": \"contour\"}], \"contourcarpet\": [{\"colorbar\": {\"outlinewidth\": 0, \"ticks\": \"\"}, \"type\": \"contourcarpet\"}], \"heatmap\": [{\"colorbar\": {\"outlinewidth\": 0, \"ticks\": \"\"}, \"colorscale\": [[0.0, \"#0d0887\"], [0.1111111111111111, \"#46039f\"], [0.2222222222222222, \"#7201a8\"], [0.3333333333333333, \"#9c179e\"], [0.4444444444444444, \"#bd3786\"], [0.5555555555555556, \"#d8576b\"], [0.6666666666666666, \"#ed7953\"], [0.7777777777777778, \"#fb9f3a\"], [0.8888888888888888, \"#fdca26\"], [1.0, \"#f0f921\"]], \"type\": \"heatmap\"}], \"heatmapgl\": [{\"colorbar\": {\"outlinewidth\": 0, \"ticks\": \"\"}, \"colorscale\": [[0.0, \"#0d0887\"], [0.1111111111111111, \"#46039f\"], [0.2222222222222222, \"#7201a8\"], [0.3333333333333333, \"#9c179e\"], [0.4444444444444444, \"#bd3786\"], [0.5555555555555556, \"#d8576b\"], [0.6666666666666666, \"#ed7953\"], [0.7777777777777778, \"#fb9f3a\"], [0.8888888888888888, \"#fdca26\"], [1.0, \"#f0f921\"]], \"type\": \"heatmapgl\"}], \"histogram\": [{\"marker\": {\"colorbar\": {\"outlinewidth\": 0, \"ticks\": \"\"}}, \"type\": \"histogram\"}], \"histogram2d\": [{\"colorbar\": {\"outlinewidth\": 0, \"ticks\": \"\"}, \"colorscale\": [[0.0, \"#0d0887\"], [0.1111111111111111, \"#46039f\"], [0.2222222222222222, \"#7201a8\"], [0.3333333333333333, \"#9c179e\"], [0.4444444444444444, \"#bd3786\"], [0.5555555555555556, \"#d8576b\"], [0.6666666666666666, \"#ed7953\"], [0.7777777777777778, \"#fb9f3a\"], [0.8888888888888888, \"#fdca26\"], [1.0, \"#f0f921\"]], \"type\": \"histogram2d\"}], \"histogram2dcontour\": [{\"colorbar\": {\"outlinewidth\": 0, \"ticks\": \"\"}, \"colorscale\": [[0.0, \"#0d0887\"], [0.1111111111111111, \"#46039f\"], [0.2222222222222222, \"#7201a8\"], [0.3333333333333333, \"#9c179e\"], [0.4444444444444444, \"#bd3786\"], [0.5555555555555556, \"#d8576b\"], [0.6666666666666666, \"#ed7953\"], [0.7777777777777778, \"#fb9f3a\"], [0.8888888888888888, \"#fdca26\"], [1.0, \"#f0f921\"]], \"type\": \"histogram2dcontour\"}], \"mesh3d\": [{\"colorbar\": {\"outlinewidth\": 0, \"ticks\": \"\"}, \"type\": \"mesh3d\"}], \"parcoords\": [{\"line\": {\"colorbar\": {\"outlinewidth\": 0, \"ticks\": \"\"}}, \"type\": \"parcoords\"}], \"pie\": [{\"automargin\": true, \"type\": \"pie\"}], \"scatter\": [{\"marker\": {\"colorbar\": {\"outlinewidth\": 0, \"ticks\": \"\"}}, \"type\": \"scatter\"}], \"scatter3d\": [{\"line\": {\"colorbar\": {\"outlinewidth\": 0, \"ticks\": \"\"}}, \"marker\": {\"colorbar\": {\"outlinewidth\": 0, \"ticks\": \"\"}}, \"type\": \"scatter3d\"}], \"scattercarpet\": [{\"marker\": {\"colorbar\": {\"outlinewidth\": 0, \"ticks\": \"\"}}, \"type\": \"scattercarpet\"}], \"scattergeo\": [{\"marker\": {\"colorbar\": {\"outlinewidth\": 0, \"ticks\": \"\"}}, \"type\": \"scattergeo\"}], \"scattergl\": [{\"marker\": {\"colorbar\": {\"outlinewidth\": 0, \"ticks\": \"\"}}, \"type\": \"scattergl\"}], \"scattermapbox\": [{\"marker\": {\"colorbar\": {\"outlinewidth\": 0, \"ticks\": \"\"}}, \"type\": \"scattermapbox\"}], \"scatterpolar\": [{\"marker\": {\"colorbar\": {\"outlinewidth\": 0, \"ticks\": \"\"}}, \"type\": \"scatterpolar\"}], \"scatterpolargl\": [{\"marker\": {\"colorbar\": {\"outlinewidth\": 0, \"ticks\": \"\"}}, \"type\": \"scatterpolargl\"}], \"scatterternary\": [{\"marker\": {\"colorbar\": {\"outlinewidth\": 0, \"ticks\": \"\"}}, \"type\": \"scatterternary\"}], \"surface\": [{\"colorbar\": {\"outlinewidth\": 0, \"ticks\": \"\"}, \"colorscale\": [[0.0, \"#0d0887\"], [0.1111111111111111, \"#46039f\"], [0.2222222222222222, \"#7201a8\"], [0.3333333333333333, \"#9c179e\"], [0.4444444444444444, \"#bd3786\"], [0.5555555555555556, \"#d8576b\"], [0.6666666666666666, \"#ed7953\"], [0.7777777777777778, \"#fb9f3a\"], [0.8888888888888888, \"#fdca26\"], [1.0, \"#f0f921\"]], \"type\": \"surface\"}], \"table\": [{\"cells\": {\"fill\": {\"color\": \"#EBF0F8\"}, \"line\": {\"color\": \"white\"}}, \"header\": {\"fill\": {\"color\": \"#C8D4E3\"}, \"line\": {\"color\": \"white\"}}, \"type\": \"table\"}]}, \"layout\": {\"annotationdefaults\": {\"arrowcolor\": \"#2a3f5f\", \"arrowhead\": 0, \"arrowwidth\": 1}, \"coloraxis\": {\"colorbar\": {\"outlinewidth\": 0, \"ticks\": \"\"}}, \"colorscale\": {\"diverging\": [[0, \"#8e0152\"], [0.1, \"#c51b7d\"], [0.2, \"#de77ae\"], [0.3, \"#f1b6da\"], [0.4, \"#fde0ef\"], [0.5, \"#f7f7f7\"], [0.6, \"#e6f5d0\"], [0.7, \"#b8e186\"], [0.8, \"#7fbc41\"], [0.9, \"#4d9221\"], [1, \"#276419\"]], \"sequential\": [[0.0, \"#0d0887\"], [0.1111111111111111, \"#46039f\"], [0.2222222222222222, \"#7201a8\"], [0.3333333333333333, \"#9c179e\"], [0.4444444444444444, \"#bd3786\"], [0.5555555555555556, \"#d8576b\"], [0.6666666666666666, \"#ed7953\"], [0.7777777777777778, \"#fb9f3a\"], [0.8888888888888888, \"#fdca26\"], [1.0, \"#f0f921\"]], \"sequentialminus\": [[0.0, \"#0d0887\"], [0.1111111111111111, \"#46039f\"], [0.2222222222222222, \"#7201a8\"], [0.3333333333333333, \"#9c179e\"], [0.4444444444444444, \"#bd3786\"], [0.5555555555555556, \"#d8576b\"], [0.6666666666666666, \"#ed7953\"], [0.7777777777777778, \"#fb9f3a\"], [0.8888888888888888, \"#fdca26\"], [1.0, \"#f0f921\"]]}, \"colorway\": [\"#636efa\", \"#EF553B\", \"#00cc96\", \"#ab63fa\", \"#FFA15A\", \"#19d3f3\", \"#FF6692\", \"#B6E880\", \"#FF97FF\", \"#FECB52\"], \"font\": {\"color\": \"#2a3f5f\"}, \"geo\": {\"bgcolor\": \"white\", \"lakecolor\": \"white\", \"landcolor\": \"#E5ECF6\", \"showlakes\": true, \"showland\": true, \"subunitcolor\": \"white\"}, \"hoverlabel\": {\"align\": \"left\"}, \"hovermode\": \"closest\", \"mapbox\": {\"style\": \"light\"}, \"paper_bgcolor\": \"white\", \"plot_bgcolor\": \"#E5ECF6\", \"polar\": {\"angularaxis\": {\"gridcolor\": \"white\", \"linecolor\": \"white\", \"ticks\": \"\"}, \"bgcolor\": \"#E5ECF6\", \"radialaxis\": {\"gridcolor\": \"white\", \"linecolor\": \"white\", \"ticks\": \"\"}}, \"scene\": {\"xaxis\": {\"backgroundcolor\": \"#E5ECF6\", \"gridcolor\": \"white\", \"gridwidth\": 2, \"linecolor\": \"white\", \"showbackground\": true, \"ticks\": \"\", \"zerolinecolor\": \"white\"}, \"yaxis\": {\"backgroundcolor\": \"#E5ECF6\", \"gridcolor\": \"white\", \"gridwidth\": 2, \"linecolor\": \"white\", \"showbackground\": true, \"ticks\": \"\", \"zerolinecolor\": \"white\"}, \"zaxis\": {\"backgroundcolor\": \"#E5ECF6\", \"gridcolor\": \"white\", \"gridwidth\": 2, \"linecolor\": \"white\", \"showbackground\": true, \"ticks\": \"\", \"zerolinecolor\": \"white\"}}, \"shapedefaults\": {\"line\": {\"color\": \"#2a3f5f\"}}, \"ternary\": {\"aaxis\": {\"gridcolor\": \"white\", \"linecolor\": \"white\", \"ticks\": \"\"}, \"baxis\": {\"gridcolor\": \"white\", \"linecolor\": \"white\", \"ticks\": \"\"}, \"bgcolor\": \"#E5ECF6\", \"caxis\": {\"gridcolor\": \"white\", \"linecolor\": \"white\", \"ticks\": \"\"}}, \"title\": {\"x\": 0.05}, \"xaxis\": {\"automargin\": true, \"gridcolor\": \"white\", \"linecolor\": \"white\", \"ticks\": \"\", \"title\": {\"standoff\": 15}, \"zerolinecolor\": \"white\", \"zerolinewidth\": 2}, \"yaxis\": {\"automargin\": true, \"gridcolor\": \"white\", \"linecolor\": \"white\", \"ticks\": \"\", \"title\": {\"standoff\": 15}, \"zerolinecolor\": \"white\", \"zerolinewidth\": 2}}}, \"title\": {\"font\": {\"color\": \"#4D5663\"}, \"text\": \"Top 20 bigrams in review after removing stop words\"}, \"xaxis\": {\"gridcolor\": \"#E1E5ED\", \"linecolor\": \"black\", \"showgrid\": true, \"tickfont\": {\"color\": \"#4D5663\"}, \"title\": {\"font\": {\"color\": \"#4D5663\"}, \"text\": \"\"}, \"zerolinecolor\": \"#E1E5ED\"}, \"yaxis\": {\"gridcolor\": \"#E1E5ED\", \"linecolor\": \"black\", \"showgrid\": true, \"tickfont\": {\"color\": \"#4D5663\"}, \"title\": {\"font\": {\"color\": \"#4D5663\"}, \"text\": \"Count\"}, \"zerolinecolor\": \"#E1E5ED\"}},\n",
              "                        {\"showLink\": true, \"linkText\": \"Export to plot.ly\", \"plotlyServerURL\": \"https://plot.ly\", \"responsive\": true}\n",
              "                    ).then(function(){\n",
              "                            \n",
              "var gd = document.getElementById('51c2827a-1216-4bdf-93fe-c8f334cae0ec');\n",
              "var x = new MutationObserver(function (mutations, observer) {{\n",
              "        var display = window.getComputedStyle(gd).display;\n",
              "        if (!display || display === 'none') {{\n",
              "            console.log([gd, 'removed!']);\n",
              "            Plotly.purge(gd);\n",
              "            observer.disconnect();\n",
              "        }}\n",
              "}});\n",
              "\n",
              "// Listen for the removal of the full notebook cells\n",
              "var notebookContainer = gd.closest('#notebook-container');\n",
              "if (notebookContainer) {{\n",
              "    x.observe(notebookContainer, {childList: true});\n",
              "}}\n",
              "\n",
              "// Listen for the clearing of the current output cell\n",
              "var outputEl = gd.closest('.output');\n",
              "if (outputEl) {{\n",
              "    x.observe(outputEl, {childList: true});\n",
              "}}\n",
              "\n",
              "                        })\n",
              "                };\n",
              "                });\n",
              "            </script>\n",
              "        </div>"
            ],
            "application/vnd.plotly.v1+json": {
              "data": [
                {
                  "name": "count",
                  "text": "",
                  "y": [
                    525,
                    29,
                    16,
                    14,
                    13,
                    13,
                    13,
                    12,
                    11,
                    11,
                    11,
                    11,
                    10,
                    10,
                    10,
                    10,
                    9,
                    8,
                    8,
                    8
                  ],
                  "marker": {
                    "color": "rgba(255, 153, 51, 0.6)",
                    "line": {
                      "color": "rgba(255, 153, 51, 1.0)",
                      "width": 1
                    }
                  },
                  "x": [
                    "user user",
                    "rt user",
                    "user oh",
                    "user don",
                    "don know",
                    "just love",
                    "user just",
                    "user yeah",
                    "user think",
                    "love waking",
                    "user really",
                    "new year",
                    "way start",
                    "user great",
                    "user love",
                    "user thanks",
                    "looks like",
                    "user lol",
                    "user wow",
                    "user ll"
                  ],
                  "type": "bar",
                  "orientation": "v"
                }
              ],
              "config": {
                "plotlyServerURL": "https://plot.ly",
                "linkText": "Export to plot.ly",
                "showLink": true
              },
              "layout": {
                "template": {
                  "layout": {
                    "shapedefaults": {
                      "line": {
                        "color": "#2a3f5f"
                      }
                    },
                    "polar": {
                      "radialaxis": {
                        "ticks": "",
                        "gridcolor": "white",
                        "linecolor": "white"
                      },
                      "bgcolor": "#E5ECF6",
                      "angularaxis": {
                        "ticks": "",
                        "gridcolor": "white",
                        "linecolor": "white"
                      }
                    },
                    "colorway": [
                      "#636efa",
                      "#EF553B",
                      "#00cc96",
                      "#ab63fa",
                      "#FFA15A",
                      "#19d3f3",
                      "#FF6692",
                      "#B6E880",
                      "#FF97FF",
                      "#FECB52"
                    ],
                    "xaxis": {
                      "automargin": true,
                      "title": {
                        "standoff": 15
                      },
                      "zerolinewidth": 2,
                      "ticks": "",
                      "zerolinecolor": "white",
                      "gridcolor": "white",
                      "linecolor": "white"
                    },
                    "colorscale": {
                      "diverging": [
                        [
                          0,
                          "#8e0152"
                        ],
                        [
                          0.1,
                          "#c51b7d"
                        ],
                        [
                          0.2,
                          "#de77ae"
                        ],
                        [
                          0.3,
                          "#f1b6da"
                        ],
                        [
                          0.4,
                          "#fde0ef"
                        ],
                        [
                          0.5,
                          "#f7f7f7"
                        ],
                        [
                          0.6,
                          "#e6f5d0"
                        ],
                        [
                          0.7,
                          "#b8e186"
                        ],
                        [
                          0.8,
                          "#7fbc41"
                        ],
                        [
                          0.9,
                          "#4d9221"
                        ],
                        [
                          1,
                          "#276419"
                        ]
                      ],
                      "sequential": [
                        [
                          0,
                          "#0d0887"
                        ],
                        [
                          0.1111111111111111,
                          "#46039f"
                        ],
                        [
                          0.2222222222222222,
                          "#7201a8"
                        ],
                        [
                          0.3333333333333333,
                          "#9c179e"
                        ],
                        [
                          0.4444444444444444,
                          "#bd3786"
                        ],
                        [
                          0.5555555555555556,
                          "#d8576b"
                        ],
                        [
                          0.6666666666666666,
                          "#ed7953"
                        ],
                        [
                          0.7777777777777778,
                          "#fb9f3a"
                        ],
                        [
                          0.8888888888888888,
                          "#fdca26"
                        ],
                        [
                          1,
                          "#f0f921"
                        ]
                      ],
                      "sequentialminus": [
                        [
                          0,
                          "#0d0887"
                        ],
                        [
                          0.1111111111111111,
                          "#46039f"
                        ],
                        [
                          0.2222222222222222,
                          "#7201a8"
                        ],
                        [
                          0.3333333333333333,
                          "#9c179e"
                        ],
                        [
                          0.4444444444444444,
                          "#bd3786"
                        ],
                        [
                          0.5555555555555556,
                          "#d8576b"
                        ],
                        [
                          0.6666666666666666,
                          "#ed7953"
                        ],
                        [
                          0.7777777777777778,
                          "#fb9f3a"
                        ],
                        [
                          0.8888888888888888,
                          "#fdca26"
                        ],
                        [
                          1,
                          "#f0f921"
                        ]
                      ]
                    },
                    "paper_bgcolor": "white",
                    "plot_bgcolor": "#E5ECF6",
                    "title": {
                      "x": 0.05
                    },
                    "scene": {
                      "zaxis": {
                        "backgroundcolor": "#E5ECF6",
                        "ticks": "",
                        "gridwidth": 2,
                        "showbackground": true,
                        "zerolinecolor": "white",
                        "gridcolor": "white",
                        "linecolor": "white"
                      },
                      "xaxis": {
                        "backgroundcolor": "#E5ECF6",
                        "ticks": "",
                        "gridwidth": 2,
                        "showbackground": true,
                        "zerolinecolor": "white",
                        "gridcolor": "white",
                        "linecolor": "white"
                      },
                      "yaxis": {
                        "backgroundcolor": "#E5ECF6",
                        "ticks": "",
                        "gridwidth": 2,
                        "showbackground": true,
                        "zerolinecolor": "white",
                        "gridcolor": "white",
                        "linecolor": "white"
                      }
                    },
                    "yaxis": {
                      "automargin": true,
                      "title": {
                        "standoff": 15
                      },
                      "zerolinewidth": 2,
                      "ticks": "",
                      "zerolinecolor": "white",
                      "gridcolor": "white",
                      "linecolor": "white"
                    },
                    "annotationdefaults": {
                      "arrowwidth": 1,
                      "arrowhead": 0,
                      "arrowcolor": "#2a3f5f"
                    },
                    "hoverlabel": {
                      "align": "left"
                    },
                    "ternary": {
                      "bgcolor": "#E5ECF6",
                      "baxis": {
                        "ticks": "",
                        "gridcolor": "white",
                        "linecolor": "white"
                      },
                      "caxis": {
                        "ticks": "",
                        "gridcolor": "white",
                        "linecolor": "white"
                      },
                      "aaxis": {
                        "ticks": "",
                        "gridcolor": "white",
                        "linecolor": "white"
                      }
                    },
                    "mapbox": {
                      "style": "light"
                    },
                    "hovermode": "closest",
                    "font": {
                      "color": "#2a3f5f"
                    },
                    "geo": {
                      "showland": true,
                      "landcolor": "#E5ECF6",
                      "showlakes": true,
                      "bgcolor": "white",
                      "subunitcolor": "white",
                      "lakecolor": "white"
                    },
                    "coloraxis": {
                      "colorbar": {
                        "outlinewidth": 0,
                        "ticks": ""
                      }
                    }
                  },
                  "data": {
                    "mesh3d": [
                      {
                        "colorbar": {
                          "outlinewidth": 0,
                          "ticks": ""
                        },
                        "type": "mesh3d"
                      }
                    ],
                    "scattercarpet": [
                      {
                        "marker": {
                          "colorbar": {
                            "outlinewidth": 0,
                            "ticks": ""
                          }
                        },
                        "type": "scattercarpet"
                      }
                    ],
                    "pie": [
                      {
                        "automargin": true,
                        "type": "pie"
                      }
                    ],
                    "surface": [
                      {
                        "colorbar": {
                          "outlinewidth": 0,
                          "ticks": ""
                        },
                        "type": "surface",
                        "colorscale": [
                          [
                            0,
                            "#0d0887"
                          ],
                          [
                            0.1111111111111111,
                            "#46039f"
                          ],
                          [
                            0.2222222222222222,
                            "#7201a8"
                          ],
                          [
                            0.3333333333333333,
                            "#9c179e"
                          ],
                          [
                            0.4444444444444444,
                            "#bd3786"
                          ],
                          [
                            0.5555555555555556,
                            "#d8576b"
                          ],
                          [
                            0.6666666666666666,
                            "#ed7953"
                          ],
                          [
                            0.7777777777777778,
                            "#fb9f3a"
                          ],
                          [
                            0.8888888888888888,
                            "#fdca26"
                          ],
                          [
                            1,
                            "#f0f921"
                          ]
                        ]
                      }
                    ],
                    "table": [
                      {
                        "header": {
                          "line": {
                            "color": "white"
                          },
                          "fill": {
                            "color": "#C8D4E3"
                          }
                        },
                        "cells": {
                          "line": {
                            "color": "white"
                          },
                          "fill": {
                            "color": "#EBF0F8"
                          }
                        },
                        "type": "table"
                      }
                    ],
                    "scatterpolargl": [
                      {
                        "marker": {
                          "colorbar": {
                            "outlinewidth": 0,
                            "ticks": ""
                          }
                        },
                        "type": "scatterpolargl"
                      }
                    ],
                    "contour": [
                      {
                        "colorbar": {
                          "outlinewidth": 0,
                          "ticks": ""
                        },
                        "type": "contour",
                        "colorscale": [
                          [
                            0,
                            "#0d0887"
                          ],
                          [
                            0.1111111111111111,
                            "#46039f"
                          ],
                          [
                            0.2222222222222222,
                            "#7201a8"
                          ],
                          [
                            0.3333333333333333,
                            "#9c179e"
                          ],
                          [
                            0.4444444444444444,
                            "#bd3786"
                          ],
                          [
                            0.5555555555555556,
                            "#d8576b"
                          ],
                          [
                            0.6666666666666666,
                            "#ed7953"
                          ],
                          [
                            0.7777777777777778,
                            "#fb9f3a"
                          ],
                          [
                            0.8888888888888888,
                            "#fdca26"
                          ],
                          [
                            1,
                            "#f0f921"
                          ]
                        ]
                      }
                    ],
                    "carpet": [
                      {
                        "type": "carpet",
                        "baxis": {
                          "minorgridcolor": "white",
                          "gridcolor": "white",
                          "linecolor": "white",
                          "endlinecolor": "#2a3f5f",
                          "startlinecolor": "#2a3f5f"
                        },
                        "aaxis": {
                          "minorgridcolor": "white",
                          "gridcolor": "white",
                          "linecolor": "white",
                          "endlinecolor": "#2a3f5f",
                          "startlinecolor": "#2a3f5f"
                        }
                      }
                    ],
                    "contourcarpet": [
                      {
                        "colorbar": {
                          "outlinewidth": 0,
                          "ticks": ""
                        },
                        "type": "contourcarpet"
                      }
                    ],
                    "heatmap": [
                      {
                        "colorbar": {
                          "outlinewidth": 0,
                          "ticks": ""
                        },
                        "type": "heatmap",
                        "colorscale": [
                          [
                            0,
                            "#0d0887"
                          ],
                          [
                            0.1111111111111111,
                            "#46039f"
                          ],
                          [
                            0.2222222222222222,
                            "#7201a8"
                          ],
                          [
                            0.3333333333333333,
                            "#9c179e"
                          ],
                          [
                            0.4444444444444444,
                            "#bd3786"
                          ],
                          [
                            0.5555555555555556,
                            "#d8576b"
                          ],
                          [
                            0.6666666666666666,
                            "#ed7953"
                          ],
                          [
                            0.7777777777777778,
                            "#fb9f3a"
                          ],
                          [
                            0.8888888888888888,
                            "#fdca26"
                          ],
                          [
                            1,
                            "#f0f921"
                          ]
                        ]
                      }
                    ],
                    "scattermapbox": [
                      {
                        "marker": {
                          "colorbar": {
                            "outlinewidth": 0,
                            "ticks": ""
                          }
                        },
                        "type": "scattermapbox"
                      }
                    ],
                    "scatter3d": [
                      {
                        "marker": {
                          "colorbar": {
                            "outlinewidth": 0,
                            "ticks": ""
                          }
                        },
                        "line": {
                          "colorbar": {
                            "outlinewidth": 0,
                            "ticks": ""
                          }
                        },
                        "type": "scatter3d"
                      }
                    ],
                    "scattergl": [
                      {
                        "marker": {
                          "colorbar": {
                            "outlinewidth": 0,
                            "ticks": ""
                          }
                        },
                        "type": "scattergl"
                      }
                    ],
                    "scatterternary": [
                      {
                        "marker": {
                          "colorbar": {
                            "outlinewidth": 0,
                            "ticks": ""
                          }
                        },
                        "type": "scatterternary"
                      }
                    ],
                    "histogram": [
                      {
                        "marker": {
                          "colorbar": {
                            "outlinewidth": 0,
                            "ticks": ""
                          }
                        },
                        "type": "histogram"
                      }
                    ],
                    "heatmapgl": [
                      {
                        "colorbar": {
                          "outlinewidth": 0,
                          "ticks": ""
                        },
                        "type": "heatmapgl",
                        "colorscale": [
                          [
                            0,
                            "#0d0887"
                          ],
                          [
                            0.1111111111111111,
                            "#46039f"
                          ],
                          [
                            0.2222222222222222,
                            "#7201a8"
                          ],
                          [
                            0.3333333333333333,
                            "#9c179e"
                          ],
                          [
                            0.4444444444444444,
                            "#bd3786"
                          ],
                          [
                            0.5555555555555556,
                            "#d8576b"
                          ],
                          [
                            0.6666666666666666,
                            "#ed7953"
                          ],
                          [
                            0.7777777777777778,
                            "#fb9f3a"
                          ],
                          [
                            0.8888888888888888,
                            "#fdca26"
                          ],
                          [
                            1,
                            "#f0f921"
                          ]
                        ]
                      }
                    ],
                    "scatterpolar": [
                      {
                        "marker": {
                          "colorbar": {
                            "outlinewidth": 0,
                            "ticks": ""
                          }
                        },
                        "type": "scatterpolar"
                      }
                    ],
                    "histogram2d": [
                      {
                        "colorbar": {
                          "outlinewidth": 0,
                          "ticks": ""
                        },
                        "type": "histogram2d",
                        "colorscale": [
                          [
                            0,
                            "#0d0887"
                          ],
                          [
                            0.1111111111111111,
                            "#46039f"
                          ],
                          [
                            0.2222222222222222,
                            "#7201a8"
                          ],
                          [
                            0.3333333333333333,
                            "#9c179e"
                          ],
                          [
                            0.4444444444444444,
                            "#bd3786"
                          ],
                          [
                            0.5555555555555556,
                            "#d8576b"
                          ],
                          [
                            0.6666666666666666,
                            "#ed7953"
                          ],
                          [
                            0.7777777777777778,
                            "#fb9f3a"
                          ],
                          [
                            0.8888888888888888,
                            "#fdca26"
                          ],
                          [
                            1,
                            "#f0f921"
                          ]
                        ]
                      }
                    ],
                    "scattergeo": [
                      {
                        "marker": {
                          "colorbar": {
                            "outlinewidth": 0,
                            "ticks": ""
                          }
                        },
                        "type": "scattergeo"
                      }
                    ],
                    "bar": [
                      {
                        "marker": {
                          "line": {
                            "color": "#E5ECF6",
                            "width": 0.5
                          }
                        },
                        "type": "bar",
                        "error_x": {
                          "color": "#2a3f5f"
                        },
                        "error_y": {
                          "color": "#2a3f5f"
                        }
                      }
                    ],
                    "choropleth": [
                      {
                        "colorbar": {
                          "outlinewidth": 0,
                          "ticks": ""
                        },
                        "type": "choropleth"
                      }
                    ],
                    "parcoords": [
                      {
                        "line": {
                          "colorbar": {
                            "outlinewidth": 0,
                            "ticks": ""
                          }
                        },
                        "type": "parcoords"
                      }
                    ],
                    "barpolar": [
                      {
                        "marker": {
                          "line": {
                            "color": "#E5ECF6",
                            "width": 0.5
                          }
                        },
                        "type": "barpolar"
                      }
                    ],
                    "histogram2dcontour": [
                      {
                        "colorbar": {
                          "outlinewidth": 0,
                          "ticks": ""
                        },
                        "type": "histogram2dcontour",
                        "colorscale": [
                          [
                            0,
                            "#0d0887"
                          ],
                          [
                            0.1111111111111111,
                            "#46039f"
                          ],
                          [
                            0.2222222222222222,
                            "#7201a8"
                          ],
                          [
                            0.3333333333333333,
                            "#9c179e"
                          ],
                          [
                            0.4444444444444444,
                            "#bd3786"
                          ],
                          [
                            0.5555555555555556,
                            "#d8576b"
                          ],
                          [
                            0.6666666666666666,
                            "#ed7953"
                          ],
                          [
                            0.7777777777777778,
                            "#fb9f3a"
                          ],
                          [
                            0.8888888888888888,
                            "#fdca26"
                          ],
                          [
                            1,
                            "#f0f921"
                          ]
                        ]
                      }
                    ],
                    "scatter": [
                      {
                        "marker": {
                          "colorbar": {
                            "outlinewidth": 0,
                            "ticks": ""
                          }
                        },
                        "type": "scatter"
                      }
                    ]
                  }
                },
                "title": {
                  "text": "Top 20 bigrams in review after removing stop words",
                  "font": {
                    "color": "#4D5663"
                  }
                },
                "paper_bgcolor": "#F5F6F9",
                "plot_bgcolor": "#F5F6F9",
                "yaxis": {
                  "tickfont": {
                    "color": "#4D5663"
                  },
                  "title": {
                    "text": "Count",
                    "font": {
                      "color": "#4D5663"
                    }
                  },
                  "showgrid": true,
                  "zerolinecolor": "#E1E5ED",
                  "gridcolor": "#E1E5ED",
                  "linecolor": "black"
                },
                "xaxis": {
                  "tickfont": {
                    "color": "#4D5663"
                  },
                  "title": {
                    "text": "",
                    "font": {
                      "color": "#4D5663"
                    }
                  },
                  "showgrid": true,
                  "zerolinecolor": "#E1E5ED",
                  "gridcolor": "#E1E5ED",
                  "linecolor": "black"
                },
                "legend": {
                  "bgcolor": "#F5F6F9",
                  "font": {
                    "color": "#4D5663"
                  }
                }
              }
            }
          },
          "metadata": {
            "tags": []
          }
        }
      ]
    },
    {
      "cell_type": "markdown",
      "metadata": {
        "id": "RtCkWiLoDHMc"
      },
      "source": [
        "### Top trigrams before removing stop words"
      ]
    },
    {
      "cell_type": "code",
      "metadata": {
        "colab": {
          "base_uri": "https://localhost:8080/",
          "height": 228
        },
        "id": "JUpVHQToDHMc",
        "outputId": "42060232-ff80-47ba-e0be-29f1ce634a9d"
      },
      "source": [
        "def get_top_n_trigram(corpus, n=None):\n",
        "    vec = CountVectorizer(ngram_range=(3, 3)).fit(corpus)\n",
        "    bag_of_words = vec.transform(corpus)\n",
        "    sum_words = bag_of_words.sum(axis=0) \n",
        "    words_freq = [(word, sum_words[0, idx]) for word, idx in vec.vocabulary_.items()]\n",
        "    words_freq =sorted(words_freq, key = lambda x: x[1], reverse=True)\n",
        "    return words_freq[:n]\n",
        "common_words = get_top_n_trigram(df['Review Text'], 20)\n",
        "for word, freq in common_words:\n",
        "    print(word, freq)\n",
        "df5 = pd.DataFrame(common_words, columns = ['ReviewText' , 'count'])"
      ],
      "execution_count": null,
      "outputs": [
        {
          "output_type": "error",
          "ename": "NameError",
          "evalue": "ignored",
          "traceback": [
            "\u001b[0;31m---------------------------------------------------------------------------\u001b[0m",
            "\u001b[0;31mNameError\u001b[0m                                 Traceback (most recent call last)",
            "\u001b[0;32m<ipython-input-2-65ab7544a4bc>\u001b[0m in \u001b[0;36m<module>\u001b[0;34m()\u001b[0m\n\u001b[1;32m      6\u001b[0m     \u001b[0mwords_freq\u001b[0m \u001b[0;34m=\u001b[0m\u001b[0msorted\u001b[0m\u001b[0;34m(\u001b[0m\u001b[0mwords_freq\u001b[0m\u001b[0;34m,\u001b[0m \u001b[0mkey\u001b[0m \u001b[0;34m=\u001b[0m \u001b[0;32mlambda\u001b[0m \u001b[0mx\u001b[0m\u001b[0;34m:\u001b[0m \u001b[0mx\u001b[0m\u001b[0;34m[\u001b[0m\u001b[0;36m1\u001b[0m\u001b[0;34m]\u001b[0m\u001b[0;34m,\u001b[0m \u001b[0mreverse\u001b[0m\u001b[0;34m=\u001b[0m\u001b[0;32mTrue\u001b[0m\u001b[0;34m)\u001b[0m\u001b[0;34m\u001b[0m\u001b[0;34m\u001b[0m\u001b[0m\n\u001b[1;32m      7\u001b[0m     \u001b[0;32mreturn\u001b[0m \u001b[0mwords_freq\u001b[0m\u001b[0;34m[\u001b[0m\u001b[0;34m:\u001b[0m\u001b[0mn\u001b[0m\u001b[0;34m]\u001b[0m\u001b[0;34m\u001b[0m\u001b[0;34m\u001b[0m\u001b[0m\n\u001b[0;32m----> 8\u001b[0;31m \u001b[0mcommon_words\u001b[0m \u001b[0;34m=\u001b[0m \u001b[0mget_top_n_trigram\u001b[0m\u001b[0;34m(\u001b[0m\u001b[0mdf\u001b[0m\u001b[0;34m[\u001b[0m\u001b[0;34m'Review Text'\u001b[0m\u001b[0;34m]\u001b[0m\u001b[0;34m,\u001b[0m \u001b[0;36m20\u001b[0m\u001b[0;34m)\u001b[0m\u001b[0;34m\u001b[0m\u001b[0;34m\u001b[0m\u001b[0m\n\u001b[0m\u001b[1;32m      9\u001b[0m \u001b[0;32mfor\u001b[0m \u001b[0mword\u001b[0m\u001b[0;34m,\u001b[0m \u001b[0mfreq\u001b[0m \u001b[0;32min\u001b[0m \u001b[0mcommon_words\u001b[0m\u001b[0;34m:\u001b[0m\u001b[0;34m\u001b[0m\u001b[0;34m\u001b[0m\u001b[0m\n\u001b[1;32m     10\u001b[0m     \u001b[0mprint\u001b[0m\u001b[0;34m(\u001b[0m\u001b[0mword\u001b[0m\u001b[0;34m,\u001b[0m \u001b[0mfreq\u001b[0m\u001b[0;34m)\u001b[0m\u001b[0;34m\u001b[0m\u001b[0;34m\u001b[0m\u001b[0m\n",
            "\u001b[0;31mNameError\u001b[0m: name 'df' is not defined"
          ]
        }
      ]
    },
    {
      "cell_type": "code",
      "metadata": {
        "colab": {
          "base_uri": "https://localhost:8080/",
          "height": 178
        },
        "id": "93-roPpXDHMd",
        "outputId": "d395078d-dab2-4322-87b5-9b1bada571f7"
      },
      "source": [
        "df5.groupby('ReviewText').sum()['count'].sort_values(ascending=False).iplot(\n",
        "    kind='bar', yTitle='Count', linecolor='black', title='Top 20 trigrams in review before removing stop words')"
      ],
      "execution_count": null,
      "outputs": [
        {
          "output_type": "error",
          "ename": "NameError",
          "evalue": "ignored",
          "traceback": [
            "\u001b[0;31m---------------------------------------------------------------------------\u001b[0m",
            "\u001b[0;31mNameError\u001b[0m                                 Traceback (most recent call last)",
            "\u001b[0;32m<ipython-input-3-56ff3fa67386>\u001b[0m in \u001b[0;36m<module>\u001b[0;34m()\u001b[0m\n\u001b[0;32m----> 1\u001b[0;31m df5.groupby('ReviewText').sum()['count'].sort_values(ascending=False).iplot(\n\u001b[0m\u001b[1;32m      2\u001b[0m     kind='bar', yTitle='Count', linecolor='black', title='Top 20 trigrams in review before removing stop words')\n",
            "\u001b[0;31mNameError\u001b[0m: name 'df5' is not defined"
          ]
        }
      ]
    },
    {
      "cell_type": "markdown",
      "metadata": {
        "id": "49-XOf3iDHMd"
      },
      "source": [
        "### Top trigrams after removing stop words"
      ]
    },
    {
      "cell_type": "code",
      "metadata": {
        "colab": {
          "base_uri": "https://localhost:8080/",
          "height": 228
        },
        "id": "BR2Ev59ODHMd",
        "outputId": "17ca72f4-b34b-4b4b-985f-017c1ca15156"
      },
      "source": [
        "def get_top_n_trigram(corpus, n=None):\n",
        "    vec = CountVectorizer(ngram_range=(3, 3), stop_words='english').fit(corpus)\n",
        "    bag_of_words = vec.transform(corpus)\n",
        "    sum_words = bag_of_words.sum(axis=0) \n",
        "    words_freq = [(word, sum_words[0, idx]) for word, idx in vec.vocabulary_.items()]\n",
        "    words_freq =sorted(words_freq, key = lambda x: x[1], reverse=True)\n",
        "    return words_freq[:n]\n",
        "common_words = get_top_n_trigram(df['Review Text'], 20)\n",
        "for word, freq in common_words:\n",
        "    print(word, freq)\n",
        "df6 = pd.DataFrame(common_words, columns = ['ReviewText' , 'count'])"
      ],
      "execution_count": null,
      "outputs": [
        {
          "output_type": "error",
          "ename": "NameError",
          "evalue": "ignored",
          "traceback": [
            "\u001b[0;31m---------------------------------------------------------------------------\u001b[0m",
            "\u001b[0;31mNameError\u001b[0m                                 Traceback (most recent call last)",
            "\u001b[0;32m<ipython-input-5-347729712fac>\u001b[0m in \u001b[0;36m<module>\u001b[0;34m()\u001b[0m\n\u001b[1;32m      6\u001b[0m     \u001b[0mwords_freq\u001b[0m \u001b[0;34m=\u001b[0m\u001b[0msorted\u001b[0m\u001b[0;34m(\u001b[0m\u001b[0mwords_freq\u001b[0m\u001b[0;34m,\u001b[0m \u001b[0mkey\u001b[0m \u001b[0;34m=\u001b[0m \u001b[0;32mlambda\u001b[0m \u001b[0mx\u001b[0m\u001b[0;34m:\u001b[0m \u001b[0mx\u001b[0m\u001b[0;34m[\u001b[0m\u001b[0;36m1\u001b[0m\u001b[0;34m]\u001b[0m\u001b[0;34m,\u001b[0m \u001b[0mreverse\u001b[0m\u001b[0;34m=\u001b[0m\u001b[0;32mTrue\u001b[0m\u001b[0;34m)\u001b[0m\u001b[0;34m\u001b[0m\u001b[0;34m\u001b[0m\u001b[0m\n\u001b[1;32m      7\u001b[0m     \u001b[0;32mreturn\u001b[0m \u001b[0mwords_freq\u001b[0m\u001b[0;34m[\u001b[0m\u001b[0;34m:\u001b[0m\u001b[0mn\u001b[0m\u001b[0;34m]\u001b[0m\u001b[0;34m\u001b[0m\u001b[0;34m\u001b[0m\u001b[0m\n\u001b[0;32m----> 8\u001b[0;31m \u001b[0mcommon_words\u001b[0m \u001b[0;34m=\u001b[0m \u001b[0mget_top_n_trigram\u001b[0m\u001b[0;34m(\u001b[0m\u001b[0mdf\u001b[0m\u001b[0;34m[\u001b[0m\u001b[0;34m'Review Text'\u001b[0m\u001b[0;34m]\u001b[0m\u001b[0;34m,\u001b[0m \u001b[0;36m20\u001b[0m\u001b[0;34m)\u001b[0m\u001b[0;34m\u001b[0m\u001b[0;34m\u001b[0m\u001b[0m\n\u001b[0m\u001b[1;32m      9\u001b[0m \u001b[0;32mfor\u001b[0m \u001b[0mword\u001b[0m\u001b[0;34m,\u001b[0m \u001b[0mfreq\u001b[0m \u001b[0;32min\u001b[0m \u001b[0mcommon_words\u001b[0m\u001b[0;34m:\u001b[0m\u001b[0;34m\u001b[0m\u001b[0;34m\u001b[0m\u001b[0m\n\u001b[1;32m     10\u001b[0m     \u001b[0mprint\u001b[0m\u001b[0;34m(\u001b[0m\u001b[0mword\u001b[0m\u001b[0;34m,\u001b[0m \u001b[0mfreq\u001b[0m\u001b[0;34m)\u001b[0m\u001b[0;34m\u001b[0m\u001b[0;34m\u001b[0m\u001b[0m\n",
            "\u001b[0;31mNameError\u001b[0m: name 'df' is not defined"
          ]
        }
      ]
    },
    {
      "cell_type": "code",
      "metadata": {
        "colab": {
          "base_uri": "https://localhost:8080/",
          "height": 178
        },
        "id": "xtD8neZxDHMd",
        "outputId": "edc1b32e-09c0-4dc2-d305-d5b9e68ec059"
      },
      "source": [
        "df6.groupby('ReviewText').sum()['count'].sort_values(ascending=False).iplot(\n",
        "    kind='bar', yTitle='Count', linecolor='black', title='Top 20 trigrams in review after removing stop words')"
      ],
      "execution_count": null,
      "outputs": [
        {
          "output_type": "error",
          "ename": "NameError",
          "evalue": "ignored",
          "traceback": [
            "\u001b[0;31m---------------------------------------------------------------------------\u001b[0m",
            "\u001b[0;31mNameError\u001b[0m                                 Traceback (most recent call last)",
            "\u001b[0;32m<ipython-input-6-6355c029eac9>\u001b[0m in \u001b[0;36m<module>\u001b[0;34m()\u001b[0m\n\u001b[0;32m----> 1\u001b[0;31m df6.groupby('ReviewText').sum()['count'].sort_values(ascending=False).iplot(\n\u001b[0m\u001b[1;32m      2\u001b[0m     kind='bar', yTitle='Count', linecolor='black', title='Top 20 trigrams in review after removing stop words')\n",
            "\u001b[0;31mNameError\u001b[0m: name 'df6' is not defined"
          ]
        }
      ]
    },
    {
      "cell_type": "markdown",
      "metadata": {
        "id": "Dp8gfWbiDHMe"
      },
      "source": [
        "### Top 20 part-of-speech tagging of review corpus"
      ]
    },
    {
      "cell_type": "code",
      "metadata": {
        "colab": {
          "base_uri": "https://localhost:8080/"
        },
        "id": "bRsJLGBaDHMe",
        "outputId": "b8f152ea-212c-4d5f-8024-d36c908e29e4"
      },
      "source": [
        "import nltk\n",
        "nltk.download('punkt')\n",
        "nltk.download('averaged_perceptron_tagger')\n",
        "blob = TextBlob(str(df['Review Text']))\n",
        "pos_df = pd.DataFrame(blob.tags, columns = ['word' , 'pos'])\n",
        "pos_df = pos_df.pos.value_counts()[:20]\n",
        "pos_df.iplot(\n",
        "    kind='bar',\n",
        "    xTitle='POS',\n",
        "    yTitle='count', \n",
        "    title='Top 20 Part-of-speech tagging for review corpus')"
      ],
      "execution_count": null,
      "outputs": [
        {
          "output_type": "stream",
          "text": [
            "[nltk_data] Downloading package punkt to /root/nltk_data...\n",
            "[nltk_data]   Unzipping tokenizers/punkt.zip.\n"
          ],
          "name": "stdout"
        },
        {
          "output_type": "execute_result",
          "data": {
            "text/plain": [
              "True"
            ]
          },
          "metadata": {
            "tags": []
          },
          "execution_count": 34
        },
        {
          "output_type": "stream",
          "text": [
            "[nltk_data] Downloading package averaged_perceptron_tagger to\n",
            "[nltk_data]     /root/nltk_data...\n",
            "[nltk_data]   Unzipping taggers/averaged_perceptron_tagger.zip.\n"
          ],
          "name": "stdout"
        },
        {
          "output_type": "execute_result",
          "data": {
            "text/plain": [
              "True"
            ]
          },
          "metadata": {
            "tags": []
          },
          "execution_count": 34
        },
        {
          "output_type": "display_data",
          "data": {
            "text/html": [
              "<div>\n",
              "        \n",
              "        \n",
              "            <div id=\"35c455a5-66e0-43e4-8649-5a9ecd5b97b2\" class=\"plotly-graph-div\" style=\"height:525px; width:100%;\"></div>\n",
              "            <script type=\"text/javascript\">\n",
              "                require([\"plotly\"], function(Plotly) {\n",
              "                    window.PLOTLYENV=window.PLOTLYENV || {};\n",
              "                    window.PLOTLYENV.BASE_URL='https://plot.ly';\n",
              "                    \n",
              "                if (document.getElementById(\"35c455a5-66e0-43e4-8649-5a9ecd5b97b2\")) {\n",
              "                    Plotly.newPlot(\n",
              "                        '35c455a5-66e0-43e4-8649-5a9ecd5b97b2',\n",
              "                        [{\"marker\": {\"color\": \"rgba(255, 153, 51, 0.6)\", \"line\": {\"color\": \"rgba(255, 153, 51, 1.0)\", \"width\": 1}}, \"name\": \"pos\", \"orientation\": \"v\", \"text\": \"\", \"type\": \"bar\", \"x\": [\"NN\", \"NNP\", \"CD\", \"PRP\", \"IN\", \"VBP\", \"RB\", \"VBG\", \"DT\", \"VB\", \"JJ\", \"VBZ\", \"CC\", \"NNS\", \"VBN\", \"TO\", \"EX\", \"PRP$\", \"WRB\", \"WP\"], \"y\": [23, 19, 11, 10, 10, 10, 5, 5, 4, 4, 3, 3, 3, 3, 3, 1, 1, 1, 1, 1]}],\n",
              "                        {\"legend\": {\"bgcolor\": \"#F5F6F9\", \"font\": {\"color\": \"#4D5663\"}}, \"paper_bgcolor\": \"#F5F6F9\", \"plot_bgcolor\": \"#F5F6F9\", \"template\": {\"data\": {\"bar\": [{\"error_x\": {\"color\": \"#2a3f5f\"}, \"error_y\": {\"color\": \"#2a3f5f\"}, \"marker\": {\"line\": {\"color\": \"#E5ECF6\", \"width\": 0.5}}, \"type\": \"bar\"}], \"barpolar\": [{\"marker\": {\"line\": {\"color\": \"#E5ECF6\", \"width\": 0.5}}, \"type\": \"barpolar\"}], \"carpet\": [{\"aaxis\": {\"endlinecolor\": \"#2a3f5f\", \"gridcolor\": \"white\", \"linecolor\": \"white\", \"minorgridcolor\": \"white\", \"startlinecolor\": \"#2a3f5f\"}, \"baxis\": {\"endlinecolor\": \"#2a3f5f\", \"gridcolor\": \"white\", \"linecolor\": \"white\", \"minorgridcolor\": \"white\", \"startlinecolor\": \"#2a3f5f\"}, \"type\": \"carpet\"}], \"choropleth\": [{\"colorbar\": {\"outlinewidth\": 0, \"ticks\": \"\"}, \"type\": \"choropleth\"}], \"contour\": [{\"colorbar\": {\"outlinewidth\": 0, \"ticks\": \"\"}, \"colorscale\": [[0.0, \"#0d0887\"], [0.1111111111111111, \"#46039f\"], [0.2222222222222222, \"#7201a8\"], [0.3333333333333333, \"#9c179e\"], [0.4444444444444444, \"#bd3786\"], [0.5555555555555556, \"#d8576b\"], [0.6666666666666666, \"#ed7953\"], [0.7777777777777778, \"#fb9f3a\"], [0.8888888888888888, \"#fdca26\"], [1.0, \"#f0f921\"]], \"type\": \"contour\"}], \"contourcarpet\": [{\"colorbar\": {\"outlinewidth\": 0, \"ticks\": \"\"}, \"type\": \"contourcarpet\"}], \"heatmap\": [{\"colorbar\": {\"outlinewidth\": 0, \"ticks\": \"\"}, \"colorscale\": [[0.0, \"#0d0887\"], [0.1111111111111111, \"#46039f\"], [0.2222222222222222, \"#7201a8\"], [0.3333333333333333, \"#9c179e\"], [0.4444444444444444, \"#bd3786\"], [0.5555555555555556, \"#d8576b\"], [0.6666666666666666, \"#ed7953\"], [0.7777777777777778, \"#fb9f3a\"], [0.8888888888888888, \"#fdca26\"], [1.0, \"#f0f921\"]], \"type\": \"heatmap\"}], \"heatmapgl\": [{\"colorbar\": {\"outlinewidth\": 0, \"ticks\": \"\"}, \"colorscale\": [[0.0, \"#0d0887\"], [0.1111111111111111, \"#46039f\"], [0.2222222222222222, \"#7201a8\"], [0.3333333333333333, \"#9c179e\"], [0.4444444444444444, \"#bd3786\"], [0.5555555555555556, \"#d8576b\"], [0.6666666666666666, \"#ed7953\"], [0.7777777777777778, \"#fb9f3a\"], [0.8888888888888888, \"#fdca26\"], [1.0, \"#f0f921\"]], \"type\": \"heatmapgl\"}], \"histogram\": [{\"marker\": {\"colorbar\": {\"outlinewidth\": 0, \"ticks\": \"\"}}, \"type\": \"histogram\"}], \"histogram2d\": [{\"colorbar\": {\"outlinewidth\": 0, \"ticks\": \"\"}, \"colorscale\": [[0.0, \"#0d0887\"], [0.1111111111111111, \"#46039f\"], [0.2222222222222222, \"#7201a8\"], [0.3333333333333333, \"#9c179e\"], [0.4444444444444444, \"#bd3786\"], [0.5555555555555556, \"#d8576b\"], [0.6666666666666666, \"#ed7953\"], [0.7777777777777778, \"#fb9f3a\"], [0.8888888888888888, \"#fdca26\"], [1.0, \"#f0f921\"]], \"type\": \"histogram2d\"}], \"histogram2dcontour\": [{\"colorbar\": {\"outlinewidth\": 0, \"ticks\": \"\"}, \"colorscale\": [[0.0, \"#0d0887\"], [0.1111111111111111, \"#46039f\"], [0.2222222222222222, \"#7201a8\"], [0.3333333333333333, \"#9c179e\"], [0.4444444444444444, \"#bd3786\"], [0.5555555555555556, \"#d8576b\"], [0.6666666666666666, \"#ed7953\"], [0.7777777777777778, \"#fb9f3a\"], [0.8888888888888888, \"#fdca26\"], [1.0, \"#f0f921\"]], \"type\": \"histogram2dcontour\"}], \"mesh3d\": [{\"colorbar\": {\"outlinewidth\": 0, \"ticks\": \"\"}, \"type\": \"mesh3d\"}], \"parcoords\": [{\"line\": {\"colorbar\": {\"outlinewidth\": 0, \"ticks\": \"\"}}, \"type\": \"parcoords\"}], \"pie\": [{\"automargin\": true, \"type\": \"pie\"}], \"scatter\": [{\"marker\": {\"colorbar\": {\"outlinewidth\": 0, \"ticks\": \"\"}}, \"type\": \"scatter\"}], \"scatter3d\": [{\"line\": {\"colorbar\": {\"outlinewidth\": 0, \"ticks\": \"\"}}, \"marker\": {\"colorbar\": {\"outlinewidth\": 0, \"ticks\": \"\"}}, \"type\": \"scatter3d\"}], \"scattercarpet\": [{\"marker\": {\"colorbar\": {\"outlinewidth\": 0, \"ticks\": \"\"}}, \"type\": \"scattercarpet\"}], \"scattergeo\": [{\"marker\": {\"colorbar\": {\"outlinewidth\": 0, \"ticks\": \"\"}}, \"type\": \"scattergeo\"}], \"scattergl\": [{\"marker\": {\"colorbar\": {\"outlinewidth\": 0, \"ticks\": \"\"}}, \"type\": \"scattergl\"}], \"scattermapbox\": [{\"marker\": {\"colorbar\": {\"outlinewidth\": 0, \"ticks\": \"\"}}, \"type\": \"scattermapbox\"}], \"scatterpolar\": [{\"marker\": {\"colorbar\": {\"outlinewidth\": 0, \"ticks\": \"\"}}, \"type\": \"scatterpolar\"}], \"scatterpolargl\": [{\"marker\": {\"colorbar\": {\"outlinewidth\": 0, \"ticks\": \"\"}}, \"type\": \"scatterpolargl\"}], \"scatterternary\": [{\"marker\": {\"colorbar\": {\"outlinewidth\": 0, \"ticks\": \"\"}}, \"type\": \"scatterternary\"}], \"surface\": [{\"colorbar\": {\"outlinewidth\": 0, \"ticks\": \"\"}, \"colorscale\": [[0.0, \"#0d0887\"], [0.1111111111111111, \"#46039f\"], [0.2222222222222222, \"#7201a8\"], [0.3333333333333333, \"#9c179e\"], [0.4444444444444444, \"#bd3786\"], [0.5555555555555556, \"#d8576b\"], [0.6666666666666666, \"#ed7953\"], [0.7777777777777778, \"#fb9f3a\"], [0.8888888888888888, \"#fdca26\"], [1.0, \"#f0f921\"]], \"type\": \"surface\"}], \"table\": [{\"cells\": {\"fill\": {\"color\": \"#EBF0F8\"}, \"line\": {\"color\": \"white\"}}, \"header\": {\"fill\": {\"color\": \"#C8D4E3\"}, \"line\": {\"color\": \"white\"}}, \"type\": \"table\"}]}, \"layout\": {\"annotationdefaults\": {\"arrowcolor\": \"#2a3f5f\", \"arrowhead\": 0, \"arrowwidth\": 1}, \"coloraxis\": {\"colorbar\": {\"outlinewidth\": 0, \"ticks\": \"\"}}, \"colorscale\": {\"diverging\": [[0, \"#8e0152\"], [0.1, \"#c51b7d\"], [0.2, \"#de77ae\"], [0.3, \"#f1b6da\"], [0.4, \"#fde0ef\"], [0.5, \"#f7f7f7\"], [0.6, \"#e6f5d0\"], [0.7, \"#b8e186\"], [0.8, \"#7fbc41\"], [0.9, \"#4d9221\"], [1, \"#276419\"]], \"sequential\": [[0.0, \"#0d0887\"], [0.1111111111111111, \"#46039f\"], [0.2222222222222222, \"#7201a8\"], [0.3333333333333333, \"#9c179e\"], [0.4444444444444444, \"#bd3786\"], [0.5555555555555556, \"#d8576b\"], [0.6666666666666666, \"#ed7953\"], [0.7777777777777778, \"#fb9f3a\"], [0.8888888888888888, \"#fdca26\"], [1.0, \"#f0f921\"]], \"sequentialminus\": [[0.0, \"#0d0887\"], [0.1111111111111111, \"#46039f\"], [0.2222222222222222, \"#7201a8\"], [0.3333333333333333, \"#9c179e\"], [0.4444444444444444, \"#bd3786\"], [0.5555555555555556, \"#d8576b\"], [0.6666666666666666, \"#ed7953\"], [0.7777777777777778, \"#fb9f3a\"], [0.8888888888888888, \"#fdca26\"], [1.0, \"#f0f921\"]]}, \"colorway\": [\"#636efa\", \"#EF553B\", \"#00cc96\", \"#ab63fa\", \"#FFA15A\", \"#19d3f3\", \"#FF6692\", \"#B6E880\", \"#FF97FF\", \"#FECB52\"], \"font\": {\"color\": \"#2a3f5f\"}, \"geo\": {\"bgcolor\": \"white\", \"lakecolor\": \"white\", \"landcolor\": \"#E5ECF6\", \"showlakes\": true, \"showland\": true, \"subunitcolor\": \"white\"}, \"hoverlabel\": {\"align\": \"left\"}, \"hovermode\": \"closest\", \"mapbox\": {\"style\": \"light\"}, \"paper_bgcolor\": \"white\", \"plot_bgcolor\": \"#E5ECF6\", \"polar\": {\"angularaxis\": {\"gridcolor\": \"white\", \"linecolor\": \"white\", \"ticks\": \"\"}, \"bgcolor\": \"#E5ECF6\", \"radialaxis\": {\"gridcolor\": \"white\", \"linecolor\": \"white\", \"ticks\": \"\"}}, \"scene\": {\"xaxis\": {\"backgroundcolor\": \"#E5ECF6\", \"gridcolor\": \"white\", \"gridwidth\": 2, \"linecolor\": \"white\", \"showbackground\": true, \"ticks\": \"\", \"zerolinecolor\": \"white\"}, \"yaxis\": {\"backgroundcolor\": \"#E5ECF6\", \"gridcolor\": \"white\", \"gridwidth\": 2, \"linecolor\": \"white\", \"showbackground\": true, \"ticks\": \"\", \"zerolinecolor\": \"white\"}, \"zaxis\": {\"backgroundcolor\": \"#E5ECF6\", \"gridcolor\": \"white\", \"gridwidth\": 2, \"linecolor\": \"white\", \"showbackground\": true, \"ticks\": \"\", \"zerolinecolor\": \"white\"}}, \"shapedefaults\": {\"line\": {\"color\": \"#2a3f5f\"}}, \"ternary\": {\"aaxis\": {\"gridcolor\": \"white\", \"linecolor\": \"white\", \"ticks\": \"\"}, \"baxis\": {\"gridcolor\": \"white\", \"linecolor\": \"white\", \"ticks\": \"\"}, \"bgcolor\": \"#E5ECF6\", \"caxis\": {\"gridcolor\": \"white\", \"linecolor\": \"white\", \"ticks\": \"\"}}, \"title\": {\"x\": 0.05}, \"xaxis\": {\"automargin\": true, \"gridcolor\": \"white\", \"linecolor\": \"white\", \"ticks\": \"\", \"title\": {\"standoff\": 15}, \"zerolinecolor\": \"white\", \"zerolinewidth\": 2}, \"yaxis\": {\"automargin\": true, \"gridcolor\": \"white\", \"linecolor\": \"white\", \"ticks\": \"\", \"title\": {\"standoff\": 15}, \"zerolinecolor\": \"white\", \"zerolinewidth\": 2}}}, \"title\": {\"font\": {\"color\": \"#4D5663\"}, \"text\": \"Top 20 Part-of-speech tagging for review corpus\"}, \"xaxis\": {\"gridcolor\": \"#E1E5ED\", \"showgrid\": true, \"tickfont\": {\"color\": \"#4D5663\"}, \"title\": {\"font\": {\"color\": \"#4D5663\"}, \"text\": \"POS\"}, \"zerolinecolor\": \"#E1E5ED\"}, \"yaxis\": {\"gridcolor\": \"#E1E5ED\", \"showgrid\": true, \"tickfont\": {\"color\": \"#4D5663\"}, \"title\": {\"font\": {\"color\": \"#4D5663\"}, \"text\": \"count\"}, \"zerolinecolor\": \"#E1E5ED\"}},\n",
              "                        {\"showLink\": true, \"linkText\": \"Export to plot.ly\", \"plotlyServerURL\": \"https://plot.ly\", \"responsive\": true}\n",
              "                    ).then(function(){\n",
              "                            \n",
              "var gd = document.getElementById('35c455a5-66e0-43e4-8649-5a9ecd5b97b2');\n",
              "var x = new MutationObserver(function (mutations, observer) {{\n",
              "        var display = window.getComputedStyle(gd).display;\n",
              "        if (!display || display === 'none') {{\n",
              "            console.log([gd, 'removed!']);\n",
              "            Plotly.purge(gd);\n",
              "            observer.disconnect();\n",
              "        }}\n",
              "}});\n",
              "\n",
              "// Listen for the removal of the full notebook cells\n",
              "var notebookContainer = gd.closest('#notebook-container');\n",
              "if (notebookContainer) {{\n",
              "    x.observe(notebookContainer, {childList: true});\n",
              "}}\n",
              "\n",
              "// Listen for the clearing of the current output cell\n",
              "var outputEl = gd.closest('.output');\n",
              "if (outputEl) {{\n",
              "    x.observe(outputEl, {childList: true});\n",
              "}}\n",
              "\n",
              "                        })\n",
              "                };\n",
              "                });\n",
              "            </script>\n",
              "        </div>"
            ],
            "application/vnd.plotly.v1+json": {
              "data": [
                {
                  "name": "pos",
                  "text": "",
                  "y": [
                    23,
                    19,
                    11,
                    10,
                    10,
                    10,
                    5,
                    5,
                    4,
                    4,
                    3,
                    3,
                    3,
                    3,
                    3,
                    1,
                    1,
                    1,
                    1,
                    1
                  ],
                  "marker": {
                    "color": "rgba(255, 153, 51, 0.6)",
                    "line": {
                      "color": "rgba(255, 153, 51, 1.0)",
                      "width": 1
                    }
                  },
                  "x": [
                    "NN",
                    "NNP",
                    "CD",
                    "PRP",
                    "IN",
                    "VBP",
                    "RB",
                    "VBG",
                    "DT",
                    "VB",
                    "JJ",
                    "VBZ",
                    "CC",
                    "NNS",
                    "VBN",
                    "TO",
                    "EX",
                    "PRP$",
                    "WRB",
                    "WP"
                  ],
                  "type": "bar",
                  "orientation": "v"
                }
              ],
              "config": {
                "plotlyServerURL": "https://plot.ly",
                "linkText": "Export to plot.ly",
                "showLink": true
              },
              "layout": {
                "template": {
                  "layout": {
                    "shapedefaults": {
                      "line": {
                        "color": "#2a3f5f"
                      }
                    },
                    "polar": {
                      "radialaxis": {
                        "ticks": "",
                        "gridcolor": "white",
                        "linecolor": "white"
                      },
                      "bgcolor": "#E5ECF6",
                      "angularaxis": {
                        "ticks": "",
                        "gridcolor": "white",
                        "linecolor": "white"
                      }
                    },
                    "colorway": [
                      "#636efa",
                      "#EF553B",
                      "#00cc96",
                      "#ab63fa",
                      "#FFA15A",
                      "#19d3f3",
                      "#FF6692",
                      "#B6E880",
                      "#FF97FF",
                      "#FECB52"
                    ],
                    "xaxis": {
                      "automargin": true,
                      "title": {
                        "standoff": 15
                      },
                      "zerolinewidth": 2,
                      "ticks": "",
                      "zerolinecolor": "white",
                      "gridcolor": "white",
                      "linecolor": "white"
                    },
                    "colorscale": {
                      "diverging": [
                        [
                          0,
                          "#8e0152"
                        ],
                        [
                          0.1,
                          "#c51b7d"
                        ],
                        [
                          0.2,
                          "#de77ae"
                        ],
                        [
                          0.3,
                          "#f1b6da"
                        ],
                        [
                          0.4,
                          "#fde0ef"
                        ],
                        [
                          0.5,
                          "#f7f7f7"
                        ],
                        [
                          0.6,
                          "#e6f5d0"
                        ],
                        [
                          0.7,
                          "#b8e186"
                        ],
                        [
                          0.8,
                          "#7fbc41"
                        ],
                        [
                          0.9,
                          "#4d9221"
                        ],
                        [
                          1,
                          "#276419"
                        ]
                      ],
                      "sequential": [
                        [
                          0,
                          "#0d0887"
                        ],
                        [
                          0.1111111111111111,
                          "#46039f"
                        ],
                        [
                          0.2222222222222222,
                          "#7201a8"
                        ],
                        [
                          0.3333333333333333,
                          "#9c179e"
                        ],
                        [
                          0.4444444444444444,
                          "#bd3786"
                        ],
                        [
                          0.5555555555555556,
                          "#d8576b"
                        ],
                        [
                          0.6666666666666666,
                          "#ed7953"
                        ],
                        [
                          0.7777777777777778,
                          "#fb9f3a"
                        ],
                        [
                          0.8888888888888888,
                          "#fdca26"
                        ],
                        [
                          1,
                          "#f0f921"
                        ]
                      ],
                      "sequentialminus": [
                        [
                          0,
                          "#0d0887"
                        ],
                        [
                          0.1111111111111111,
                          "#46039f"
                        ],
                        [
                          0.2222222222222222,
                          "#7201a8"
                        ],
                        [
                          0.3333333333333333,
                          "#9c179e"
                        ],
                        [
                          0.4444444444444444,
                          "#bd3786"
                        ],
                        [
                          0.5555555555555556,
                          "#d8576b"
                        ],
                        [
                          0.6666666666666666,
                          "#ed7953"
                        ],
                        [
                          0.7777777777777778,
                          "#fb9f3a"
                        ],
                        [
                          0.8888888888888888,
                          "#fdca26"
                        ],
                        [
                          1,
                          "#f0f921"
                        ]
                      ]
                    },
                    "paper_bgcolor": "white",
                    "plot_bgcolor": "#E5ECF6",
                    "title": {
                      "x": 0.05
                    },
                    "scene": {
                      "zaxis": {
                        "backgroundcolor": "#E5ECF6",
                        "ticks": "",
                        "gridwidth": 2,
                        "showbackground": true,
                        "zerolinecolor": "white",
                        "gridcolor": "white",
                        "linecolor": "white"
                      },
                      "xaxis": {
                        "backgroundcolor": "#E5ECF6",
                        "ticks": "",
                        "gridwidth": 2,
                        "showbackground": true,
                        "zerolinecolor": "white",
                        "gridcolor": "white",
                        "linecolor": "white"
                      },
                      "yaxis": {
                        "backgroundcolor": "#E5ECF6",
                        "ticks": "",
                        "gridwidth": 2,
                        "showbackground": true,
                        "zerolinecolor": "white",
                        "gridcolor": "white",
                        "linecolor": "white"
                      }
                    },
                    "yaxis": {
                      "automargin": true,
                      "title": {
                        "standoff": 15
                      },
                      "zerolinewidth": 2,
                      "ticks": "",
                      "zerolinecolor": "white",
                      "gridcolor": "white",
                      "linecolor": "white"
                    },
                    "annotationdefaults": {
                      "arrowwidth": 1,
                      "arrowhead": 0,
                      "arrowcolor": "#2a3f5f"
                    },
                    "hoverlabel": {
                      "align": "left"
                    },
                    "ternary": {
                      "bgcolor": "#E5ECF6",
                      "baxis": {
                        "ticks": "",
                        "gridcolor": "white",
                        "linecolor": "white"
                      },
                      "caxis": {
                        "ticks": "",
                        "gridcolor": "white",
                        "linecolor": "white"
                      },
                      "aaxis": {
                        "ticks": "",
                        "gridcolor": "white",
                        "linecolor": "white"
                      }
                    },
                    "mapbox": {
                      "style": "light"
                    },
                    "hovermode": "closest",
                    "font": {
                      "color": "#2a3f5f"
                    },
                    "geo": {
                      "showland": true,
                      "landcolor": "#E5ECF6",
                      "showlakes": true,
                      "bgcolor": "white",
                      "subunitcolor": "white",
                      "lakecolor": "white"
                    },
                    "coloraxis": {
                      "colorbar": {
                        "outlinewidth": 0,
                        "ticks": ""
                      }
                    }
                  },
                  "data": {
                    "mesh3d": [
                      {
                        "colorbar": {
                          "outlinewidth": 0,
                          "ticks": ""
                        },
                        "type": "mesh3d"
                      }
                    ],
                    "scattercarpet": [
                      {
                        "marker": {
                          "colorbar": {
                            "outlinewidth": 0,
                            "ticks": ""
                          }
                        },
                        "type": "scattercarpet"
                      }
                    ],
                    "pie": [
                      {
                        "automargin": true,
                        "type": "pie"
                      }
                    ],
                    "surface": [
                      {
                        "colorbar": {
                          "outlinewidth": 0,
                          "ticks": ""
                        },
                        "type": "surface",
                        "colorscale": [
                          [
                            0,
                            "#0d0887"
                          ],
                          [
                            0.1111111111111111,
                            "#46039f"
                          ],
                          [
                            0.2222222222222222,
                            "#7201a8"
                          ],
                          [
                            0.3333333333333333,
                            "#9c179e"
                          ],
                          [
                            0.4444444444444444,
                            "#bd3786"
                          ],
                          [
                            0.5555555555555556,
                            "#d8576b"
                          ],
                          [
                            0.6666666666666666,
                            "#ed7953"
                          ],
                          [
                            0.7777777777777778,
                            "#fb9f3a"
                          ],
                          [
                            0.8888888888888888,
                            "#fdca26"
                          ],
                          [
                            1,
                            "#f0f921"
                          ]
                        ]
                      }
                    ],
                    "table": [
                      {
                        "header": {
                          "line": {
                            "color": "white"
                          },
                          "fill": {
                            "color": "#C8D4E3"
                          }
                        },
                        "cells": {
                          "line": {
                            "color": "white"
                          },
                          "fill": {
                            "color": "#EBF0F8"
                          }
                        },
                        "type": "table"
                      }
                    ],
                    "scatterpolargl": [
                      {
                        "marker": {
                          "colorbar": {
                            "outlinewidth": 0,
                            "ticks": ""
                          }
                        },
                        "type": "scatterpolargl"
                      }
                    ],
                    "contour": [
                      {
                        "colorbar": {
                          "outlinewidth": 0,
                          "ticks": ""
                        },
                        "type": "contour",
                        "colorscale": [
                          [
                            0,
                            "#0d0887"
                          ],
                          [
                            0.1111111111111111,
                            "#46039f"
                          ],
                          [
                            0.2222222222222222,
                            "#7201a8"
                          ],
                          [
                            0.3333333333333333,
                            "#9c179e"
                          ],
                          [
                            0.4444444444444444,
                            "#bd3786"
                          ],
                          [
                            0.5555555555555556,
                            "#d8576b"
                          ],
                          [
                            0.6666666666666666,
                            "#ed7953"
                          ],
                          [
                            0.7777777777777778,
                            "#fb9f3a"
                          ],
                          [
                            0.8888888888888888,
                            "#fdca26"
                          ],
                          [
                            1,
                            "#f0f921"
                          ]
                        ]
                      }
                    ],
                    "carpet": [
                      {
                        "type": "carpet",
                        "baxis": {
                          "minorgridcolor": "white",
                          "gridcolor": "white",
                          "linecolor": "white",
                          "endlinecolor": "#2a3f5f",
                          "startlinecolor": "#2a3f5f"
                        },
                        "aaxis": {
                          "minorgridcolor": "white",
                          "gridcolor": "white",
                          "linecolor": "white",
                          "endlinecolor": "#2a3f5f",
                          "startlinecolor": "#2a3f5f"
                        }
                      }
                    ],
                    "contourcarpet": [
                      {
                        "colorbar": {
                          "outlinewidth": 0,
                          "ticks": ""
                        },
                        "type": "contourcarpet"
                      }
                    ],
                    "heatmap": [
                      {
                        "colorbar": {
                          "outlinewidth": 0,
                          "ticks": ""
                        },
                        "type": "heatmap",
                        "colorscale": [
                          [
                            0,
                            "#0d0887"
                          ],
                          [
                            0.1111111111111111,
                            "#46039f"
                          ],
                          [
                            0.2222222222222222,
                            "#7201a8"
                          ],
                          [
                            0.3333333333333333,
                            "#9c179e"
                          ],
                          [
                            0.4444444444444444,
                            "#bd3786"
                          ],
                          [
                            0.5555555555555556,
                            "#d8576b"
                          ],
                          [
                            0.6666666666666666,
                            "#ed7953"
                          ],
                          [
                            0.7777777777777778,
                            "#fb9f3a"
                          ],
                          [
                            0.8888888888888888,
                            "#fdca26"
                          ],
                          [
                            1,
                            "#f0f921"
                          ]
                        ]
                      }
                    ],
                    "scattermapbox": [
                      {
                        "marker": {
                          "colorbar": {
                            "outlinewidth": 0,
                            "ticks": ""
                          }
                        },
                        "type": "scattermapbox"
                      }
                    ],
                    "scatter3d": [
                      {
                        "marker": {
                          "colorbar": {
                            "outlinewidth": 0,
                            "ticks": ""
                          }
                        },
                        "line": {
                          "colorbar": {
                            "outlinewidth": 0,
                            "ticks": ""
                          }
                        },
                        "type": "scatter3d"
                      }
                    ],
                    "scattergl": [
                      {
                        "marker": {
                          "colorbar": {
                            "outlinewidth": 0,
                            "ticks": ""
                          }
                        },
                        "type": "scattergl"
                      }
                    ],
                    "scatterternary": [
                      {
                        "marker": {
                          "colorbar": {
                            "outlinewidth": 0,
                            "ticks": ""
                          }
                        },
                        "type": "scatterternary"
                      }
                    ],
                    "histogram": [
                      {
                        "marker": {
                          "colorbar": {
                            "outlinewidth": 0,
                            "ticks": ""
                          }
                        },
                        "type": "histogram"
                      }
                    ],
                    "heatmapgl": [
                      {
                        "colorbar": {
                          "outlinewidth": 0,
                          "ticks": ""
                        },
                        "type": "heatmapgl",
                        "colorscale": [
                          [
                            0,
                            "#0d0887"
                          ],
                          [
                            0.1111111111111111,
                            "#46039f"
                          ],
                          [
                            0.2222222222222222,
                            "#7201a8"
                          ],
                          [
                            0.3333333333333333,
                            "#9c179e"
                          ],
                          [
                            0.4444444444444444,
                            "#bd3786"
                          ],
                          [
                            0.5555555555555556,
                            "#d8576b"
                          ],
                          [
                            0.6666666666666666,
                            "#ed7953"
                          ],
                          [
                            0.7777777777777778,
                            "#fb9f3a"
                          ],
                          [
                            0.8888888888888888,
                            "#fdca26"
                          ],
                          [
                            1,
                            "#f0f921"
                          ]
                        ]
                      }
                    ],
                    "scatterpolar": [
                      {
                        "marker": {
                          "colorbar": {
                            "outlinewidth": 0,
                            "ticks": ""
                          }
                        },
                        "type": "scatterpolar"
                      }
                    ],
                    "histogram2d": [
                      {
                        "colorbar": {
                          "outlinewidth": 0,
                          "ticks": ""
                        },
                        "type": "histogram2d",
                        "colorscale": [
                          [
                            0,
                            "#0d0887"
                          ],
                          [
                            0.1111111111111111,
                            "#46039f"
                          ],
                          [
                            0.2222222222222222,
                            "#7201a8"
                          ],
                          [
                            0.3333333333333333,
                            "#9c179e"
                          ],
                          [
                            0.4444444444444444,
                            "#bd3786"
                          ],
                          [
                            0.5555555555555556,
                            "#d8576b"
                          ],
                          [
                            0.6666666666666666,
                            "#ed7953"
                          ],
                          [
                            0.7777777777777778,
                            "#fb9f3a"
                          ],
                          [
                            0.8888888888888888,
                            "#fdca26"
                          ],
                          [
                            1,
                            "#f0f921"
                          ]
                        ]
                      }
                    ],
                    "scattergeo": [
                      {
                        "marker": {
                          "colorbar": {
                            "outlinewidth": 0,
                            "ticks": ""
                          }
                        },
                        "type": "scattergeo"
                      }
                    ],
                    "bar": [
                      {
                        "marker": {
                          "line": {
                            "color": "#E5ECF6",
                            "width": 0.5
                          }
                        },
                        "type": "bar",
                        "error_x": {
                          "color": "#2a3f5f"
                        },
                        "error_y": {
                          "color": "#2a3f5f"
                        }
                      }
                    ],
                    "choropleth": [
                      {
                        "colorbar": {
                          "outlinewidth": 0,
                          "ticks": ""
                        },
                        "type": "choropleth"
                      }
                    ],
                    "parcoords": [
                      {
                        "line": {
                          "colorbar": {
                            "outlinewidth": 0,
                            "ticks": ""
                          }
                        },
                        "type": "parcoords"
                      }
                    ],
                    "barpolar": [
                      {
                        "marker": {
                          "line": {
                            "color": "#E5ECF6",
                            "width": 0.5
                          }
                        },
                        "type": "barpolar"
                      }
                    ],
                    "histogram2dcontour": [
                      {
                        "colorbar": {
                          "outlinewidth": 0,
                          "ticks": ""
                        },
                        "type": "histogram2dcontour",
                        "colorscale": [
                          [
                            0,
                            "#0d0887"
                          ],
                          [
                            0.1111111111111111,
                            "#46039f"
                          ],
                          [
                            0.2222222222222222,
                            "#7201a8"
                          ],
                          [
                            0.3333333333333333,
                            "#9c179e"
                          ],
                          [
                            0.4444444444444444,
                            "#bd3786"
                          ],
                          [
                            0.5555555555555556,
                            "#d8576b"
                          ],
                          [
                            0.6666666666666666,
                            "#ed7953"
                          ],
                          [
                            0.7777777777777778,
                            "#fb9f3a"
                          ],
                          [
                            0.8888888888888888,
                            "#fdca26"
                          ],
                          [
                            1,
                            "#f0f921"
                          ]
                        ]
                      }
                    ],
                    "scatter": [
                      {
                        "marker": {
                          "colorbar": {
                            "outlinewidth": 0,
                            "ticks": ""
                          }
                        },
                        "type": "scatter"
                      }
                    ]
                  }
                },
                "title": {
                  "text": "Top 20 Part-of-speech tagging for review corpus",
                  "font": {
                    "color": "#4D5663"
                  }
                },
                "paper_bgcolor": "#F5F6F9",
                "plot_bgcolor": "#F5F6F9",
                "yaxis": {
                  "tickfont": {
                    "color": "#4D5663"
                  },
                  "zerolinecolor": "#E1E5ED",
                  "title": {
                    "text": "count",
                    "font": {
                      "color": "#4D5663"
                    }
                  },
                  "gridcolor": "#E1E5ED",
                  "showgrid": true
                },
                "xaxis": {
                  "tickfont": {
                    "color": "#4D5663"
                  },
                  "zerolinecolor": "#E1E5ED",
                  "title": {
                    "text": "POS",
                    "font": {
                      "color": "#4D5663"
                    }
                  },
                  "gridcolor": "#E1E5ED",
                  "showgrid": true
                },
                "legend": {
                  "bgcolor": "#F5F6F9",
                  "font": {
                    "color": "#4D5663"
                  }
                }
              }
            }
          },
          "metadata": {
            "tags": []
          }
        }
      ]
    },
    {
      "cell_type": "markdown",
      "metadata": {
        "id": "pl-7IJfPDHMg"
      },
      "source": [
        "### Topic Modeling with LSA"
      ]
    },
    {
      "cell_type": "code",
      "metadata": {
        "id": "fdtEYN2_DHMh"
      },
      "source": [
        "reindexed_data = df['Review Text']\n",
        "tfidf_vectorizer = TfidfVectorizer(stop_words='english', use_idf=True, smooth_idf=True)\n",
        "reindexed_data = reindexed_data.values\n",
        "document_term_matrix = tfidf_vectorizer.fit_transform(reindexed_data)"
      ],
      "execution_count": null,
      "outputs": []
    },
    {
      "cell_type": "code",
      "metadata": {
        "id": "PV5NDgDoDHMh"
      },
      "source": [
        "n_topics = 6\n",
        "lsa_model = TruncatedSVD(n_components=n_topics)\n",
        "lsa_topic_matrix = lsa_model.fit_transform(document_term_matrix)"
      ],
      "execution_count": null,
      "outputs": []
    },
    {
      "cell_type": "code",
      "metadata": {
        "id": "XKPChZ0rDHMh"
      },
      "source": [
        "def get_keys(topic_matrix):\n",
        "    '''\n",
        "    returns an integer list of predicted topic \n",
        "    categories for a given topic matrix\n",
        "    '''\n",
        "    keys = topic_matrix.argmax(axis=1).tolist()\n",
        "    return keys\n",
        "\n",
        "def keys_to_counts(keys):\n",
        "    '''\n",
        "    returns a tuple of topic categories and their \n",
        "    accompanying magnitudes for a given list of keys\n",
        "    '''\n",
        "    count_pairs = Counter(keys).items()\n",
        "    categories = [pair[0] for pair in count_pairs]\n",
        "    counts = [pair[1] for pair in count_pairs]\n",
        "    return (categories, counts)"
      ],
      "execution_count": null,
      "outputs": []
    },
    {
      "cell_type": "code",
      "metadata": {
        "id": "vzOpYAxvDHMh"
      },
      "source": [
        "lsa_keys = get_keys(lsa_topic_matrix)\n",
        "lsa_categories, lsa_counts = keys_to_counts(lsa_keys)"
      ],
      "execution_count": null,
      "outputs": []
    },
    {
      "cell_type": "code",
      "metadata": {
        "id": "Q_RSs-aKDHMh"
      },
      "source": [
        "def get_top_n_words(n, keys, document_term_matrix, tfidf_vectorizer):\n",
        "    '''\n",
        "    returns a list of n_topic strings, where each string contains the n most common \n",
        "    words in a predicted category, in order\n",
        "    '''\n",
        "    top_word_indices = []\n",
        "    for topic in range(n_topics):\n",
        "        temp_vector_sum = 0\n",
        "        for i in range(len(keys)):\n",
        "            if keys[i] == topic:\n",
        "                temp_vector_sum += document_term_matrix[i]\n",
        "        temp_vector_sum = temp_vector_sum.toarray()\n",
        "        top_n_word_indices = np.flip(np.argsort(temp_vector_sum)[0][-n:],0)\n",
        "        top_word_indices.append(top_n_word_indices)   \n",
        "    top_words = []\n",
        "    for topic in top_word_indices:\n",
        "        topic_words = []\n",
        "        for index in topic:\n",
        "            temp_word_vector = np.zeros((1,document_term_matrix.shape[1]))\n",
        "            temp_word_vector[:,index] = 1\n",
        "            the_word = tfidf_vectorizer.inverse_transform(temp_word_vector)[0][0]\n",
        "            topic_words.append(the_word.encode('ascii').decode('utf-8'))\n",
        "        top_words.append(\" \".join(topic_words))         \n",
        "    return top_words"
      ],
      "execution_count": null,
      "outputs": []
    },
    {
      "cell_type": "code",
      "metadata": {
        "colab": {
          "base_uri": "https://localhost:8080/"
        },
        "id": "H1ERD-LRDHMi",
        "outputId": "6178ec88-4181-4307-e7fe-10193b8b25c5"
      },
      "source": [
        "top_n_words_lsa = get_top_n_words(3, lsa_keys, document_term_matrix, tfidf_vectorizer)\n",
        "\n",
        "for i in range(len(top_n_words_lsa)):\n",
        "    print(\"Topic {}: \".format(i+1), top_n_words_lsa[i])"
      ],
      "execution_count": null,
      "outputs": [
        {
          "output_type": "stream",
          "text": [
            "Topic 1:  user like yeah\n",
            "Topic 2:  love like christmas\n",
            "Topic 3:  day great start\n",
            "Topic 4:  just life good\n",
            "Topic 5:  fun today work\n",
            "Topic 6:  day just bakery\n"
          ],
          "name": "stdout"
        }
      ]
    },
    {
      "cell_type": "code",
      "metadata": {
        "colab": {
          "base_uri": "https://localhost:8080/"
        },
        "id": "mjUm2Y9rDHMi",
        "outputId": "673a0a0f-473c-4ad0-885c-993225ab710d"
      },
      "source": [
        "top_3_words = get_top_n_words(3, lsa_keys, document_term_matrix, tfidf_vectorizer)\n",
        "labels = ['Topic {}: \\n'.format(i) + top_3_words[i] for i in lsa_categories]\n",
        "\n",
        "fig, ax = plt.subplots(figsize=(16,8))\n",
        "ax.bar(lsa_categories, lsa_counts);\n",
        "ax.set_xticks(lsa_categories);\n",
        "ax.set_xticklabels(labels);\n",
        "ax.set_ylabel('Number of review text');\n",
        "ax.set_title('HATE topic counts');\n",
        "plt.show();"
      ],
      "execution_count": null,
      "outputs": [
        {
          "output_type": "display_data",
          "data": {
            "image/png": "[encoded data removed]",
            "text/plain": [
              "<Figure size 1152x576 with 1 Axes>"
            ]
          },
          "metadata": {
            "tags": [],
            "needs_background": "light"
          }
        }
      ]
    },
    {
      "cell_type": "code",
      "metadata": {
        "colab": {
          "base_uri": "https://localhost:8080/"
        },
        "id": "i3ctnULmDHMi",
        "outputId": "59597cf9-6feb-40df-b16b-6ba8584d0646"
      },
      "source": [
        "tsne_lsa_model = TSNE(n_components=2, perplexity=50, learning_rate=100, \n",
        "                        n_iter=2000, verbose=1, random_state=0, angle=0.75)\n",
        "tsne_lsa_vectors = tsne_lsa_model.fit_transform(lsa_topic_matrix)"
      ],
      "execution_count": null,
      "outputs": [
        {
          "output_type": "stream",
          "text": [
            "[t-SNE] Computing 151 nearest neighbors...\n",
            "[t-SNE] Indexed 2862 samples in 0.011s...\n",
            "[t-SNE] Computed neighbors for 2862 samples in 0.208s...\n",
            "[t-SNE] Computed conditional probabilities for sample 1000 / 2862\n",
            "[t-SNE] Computed conditional probabilities for sample 2000 / 2862\n",
            "[t-SNE] Computed conditional probabilities for sample 2862 / 2862\n",
            "[t-SNE] Mean sigma: 0.005446\n",
            "[t-SNE] KL divergence after 250 iterations with early exaggeration: 60.011963\n",
            "[t-SNE] KL divergence after 2000 iterations: 0.675570\n"
          ],
          "name": "stdout"
        }
      ]
    },
    {
      "cell_type": "code",
      "metadata": {
        "id": "fn-v4YkhDHMi"
      },
      "source": [
        "def get_mean_topic_vectors(keys, two_dim_vectors):\n",
        "    '''\n",
        "    returns a list of centroid vectors from each predicted topic category\n",
        "    '''\n",
        "    mean_topic_vectors = []\n",
        "    for t in range(n_topics):\n",
        "        reviews_in_that_topic = []\n",
        "        for i in range(len(keys)):\n",
        "            if keys[i] == t:\n",
        "                reviews_in_that_topic.append(two_dim_vectors[i])    \n",
        "        \n",
        "        reviews_in_that_topic = np.vstack(reviews_in_that_topic)\n",
        "        mean_review_in_that_topic = np.mean(reviews_in_that_topic, axis=0)\n",
        "        mean_topic_vectors.append(mean_review_in_that_topic)\n",
        "    return mean_topic_vectors"
      ],
      "execution_count": null,
      "outputs": []
    },
    {
      "cell_type": "code",
      "metadata": {
        "id": "37DGzoHYDHMi"
      },
      "source": [
        "colormap = np.array([\n",
        "    \"#1f77b4\", \"#aec7e8\", \"#ff7f0e\", \"#ffbb78\", \"#2ca02c\",\n",
        "    \"#98df8a\", \"#d62728\", \"#ff9896\", \"#9467bd\", \"#c5b0d5\",\n",
        "    \"#8c564b\", \"#c49c94\", \"#e377c2\", \"#f7b6d2\", \"#7f7f7f\",\n",
        "    \"#c7c7c7\", \"#bcbd22\", \"#dbdb8d\", \"#17becf\", \"#9edae5\" ])\n",
        "colormap = colormap[:n_topics]"
      ],
      "execution_count": null,
      "outputs": []
    },
    {
      "cell_type": "code",
      "metadata": {
        "colab": {
          "base_uri": "https://localhost:8080/"
        },
        "id": "89Mn5FhgDHMj",
        "outputId": "b6df12f0-f43e-4b7b-e5d1-9cd23dce1fec"
      },
      "source": [
        "top_3_words_lsa = get_top_n_words(3, lsa_keys, document_term_matrix, tfidf_vectorizer)\n",
        "lsa_mean_topic_vectors = get_mean_topic_vectors(lsa_keys, tsne_lsa_vectors)\n",
        "\n",
        "plot = figure(title=\"t-SNE Clustering of {} LSA Topics\".format(n_topics), plot_width=700, plot_height=700)\n",
        "plot.scatter(x=tsne_lsa_vectors[:,0], y=tsne_lsa_vectors[:,1], color=colormap[lsa_keys])\n",
        "\n",
        "for t in range(n_topics):\n",
        "    label = Label(x=lsa_mean_topic_vectors[t][0], y=lsa_mean_topic_vectors[t][1], \n",
        "                  text=top_3_words_lsa[t], text_color=colormap[t])\n",
        "    plot.add_layout(label)\n",
        "    \n",
        "show(plot)"
      ],
      "execution_count": null,
      "outputs": [
        {
          "output_type": "execute_result",
          "data": {
            "text/html": [
              "<div style=\"display: table;\"><div style=\"display: table-row;\"><div style=\"display: table-cell;\"><b title=\"bokeh.models.renderers.GlyphRenderer\">GlyphRenderer</b>(</div><div style=\"display: table-cell;\">id&nbsp;=&nbsp;'1037', <span id=\"1040\" style=\"cursor: pointer;\">&hellip;)</span></div></div><div class=\"1039\" style=\"display: none;\"><div style=\"display: table-cell;\"></div><div style=\"display: table-cell;\">data_source&nbsp;=&nbsp;ColumnDataSource(id='1034', ...),</div></div><div class=\"1039\" style=\"display: none;\"><div style=\"display: table-cell;\"></div><div style=\"display: table-cell;\">glyph&nbsp;=&nbsp;Scatter(id='1035', ...),</div></div><div class=\"1039\" style=\"display: none;\"><div style=\"display: table-cell;\"></div><div style=\"display: table-cell;\">hover_glyph&nbsp;=&nbsp;None,</div></div><div class=\"1039\" style=\"display: none;\"><div style=\"display: table-cell;\"></div><div style=\"display: table-cell;\">js_event_callbacks&nbsp;=&nbsp;{},</div></div><div class=\"1039\" style=\"display: none;\"><div style=\"display: table-cell;\"></div><div style=\"display: table-cell;\">js_property_callbacks&nbsp;=&nbsp;{},</div></div><div class=\"1039\" style=\"display: none;\"><div style=\"display: table-cell;\"></div><div style=\"display: table-cell;\">level&nbsp;=&nbsp;'glyph',</div></div><div class=\"1039\" style=\"display: none;\"><div style=\"display: table-cell;\"></div><div style=\"display: table-cell;\">muted&nbsp;=&nbsp;False,</div></div><div class=\"1039\" style=\"display: none;\"><div style=\"display: table-cell;\"></div><div style=\"display: table-cell;\">muted_glyph&nbsp;=&nbsp;None,</div></div><div class=\"1039\" style=\"display: none;\"><div style=\"display: table-cell;\"></div><div style=\"display: table-cell;\">name&nbsp;=&nbsp;None,</div></div><div class=\"1039\" style=\"display: none;\"><div style=\"display: table-cell;\"></div><div style=\"display: table-cell;\">nonselection_glyph&nbsp;=&nbsp;Scatter(id='1036', ...),</div></div><div class=\"1039\" style=\"display: none;\"><div style=\"display: table-cell;\"></div><div style=\"display: table-cell;\">selection_glyph&nbsp;=&nbsp;None,</div></div><div class=\"1039\" style=\"display: none;\"><div style=\"display: table-cell;\"></div><div style=\"display: table-cell;\">subscribed_events&nbsp;=&nbsp;[],</div></div><div class=\"1039\" style=\"display: none;\"><div style=\"display: table-cell;\"></div><div style=\"display: table-cell;\">tags&nbsp;=&nbsp;[],</div></div><div class=\"1039\" style=\"display: none;\"><div style=\"display: table-cell;\"></div><div style=\"display: table-cell;\">view&nbsp;=&nbsp;CDSView(id='1038', ...),</div></div><div class=\"1039\" style=\"display: none;\"><div style=\"display: table-cell;\"></div><div style=\"display: table-cell;\">visible&nbsp;=&nbsp;True,</div></div><div class=\"1039\" style=\"display: none;\"><div style=\"display: table-cell;\"></div><div style=\"display: table-cell;\">x_range_name&nbsp;=&nbsp;'default',</div></div><div class=\"1039\" style=\"display: none;\"><div style=\"display: table-cell;\"></div><div style=\"display: table-cell;\">y_range_name&nbsp;=&nbsp;'default')</div></div></div>\n",
              "<script>\n",
              "(function() {\n",
              "  var expanded = false;\n",
              "  var ellipsis = document.getElementById(\"1040\");\n",
              "  ellipsis.addEventListener(\"click\", function() {\n",
              "    var rows = document.getElementsByClassName(\"1039\");\n",
              "    for (var i = 0; i < rows.length; i++) {\n",
              "      var el = rows[i];\n",
              "      el.style.display = expanded ? \"none\" : \"table-row\";\n",
              "    }\n",
              "    ellipsis.innerHTML = expanded ? \"&hellip;)\" : \"&lsaquo;&lsaquo;&lsaquo;\";\n",
              "    expanded = !expanded;\n",
              "  });\n",
              "})();\n",
              "</script>\n"
            ],
            "text/plain": [
              "GlyphRenderer(id='1037', ...)"
            ]
          },
          "metadata": {
            "tags": []
          },
          "execution_count": 45
        },
        {
          "output_type": "display_data",
          "data": {
            "application/javascript": [
              "\n",
              "(function(root) {\n",
              "  function now() {\n",
              "    return new Date();\n",
              "  }\n",
              "\n",
              "  var force = true;\n",
              "\n",
              "  if (typeof root._bokeh_onload_callbacks === \"undefined\" || force === true) {\n",
              "    root._bokeh_onload_callbacks = [];\n",
              "    root._bokeh_is_loading = undefined;\n",
              "  }\n",
              "\n",
              "  var JS_MIME_TYPE = 'application/javascript';\n",
              "  var HTML_MIME_TYPE = 'text/html';\n",
              "  var EXEC_MIME_TYPE = 'application/vnd.bokehjs_exec.v0+json';\n",
              "  var CLASS_NAME = 'output_bokeh rendered_html';\n",
              "\n",
              "  /**\n",
              "   * Render data to the DOM node\n",
              "   */\n",
              "  function render(props, node) {\n",
              "    var script = document.createElement(\"script\");\n",
              "    node.appendChild(script);\n",
              "  }\n",
              "\n",
              "  /**\n",
              "   * Handle when an output is cleared or removed\n",
              "   */\n",
              "  function handleClearOutput(event, handle) {\n",
              "    var cell = handle.cell;\n",
              "\n",
              "    var id = cell.output_area._bokeh_element_id;\n",
              "    var server_id = cell.output_area._bokeh_server_id;\n",
              "    // Clean up Bokeh references\n",
              "    if (id != null && id in Bokeh.index) {\n",
              "      Bokeh.index[id].model.document.clear();\n",
              "      delete Bokeh.index[id];\n",
              "    }\n",
              "\n",
              "    if (server_id !== undefined) {\n",
              "      // Clean up Bokeh references\n",
              "      var cmd = \"from bokeh.io.state import curstate; print(curstate().uuid_to_server['\" + server_id + \"'].get_sessions()[0].document.roots[0]._id)\";\n",
              "      cell.notebook.kernel.execute(cmd, {\n",
              "        iopub: {\n",
              "          output: function(msg) {\n",
              "            var id = msg.content.text.trim();\n",
              "            if (id in Bokeh.index) {\n",
              "              Bokeh.index[id].model.document.clear();\n",
              "              delete Bokeh.index[id];\n",
              "            }\n",
              "          }\n",
              "        }\n",
              "      });\n",
              "      // Destroy server and session\n",
              "      var cmd = \"import bokeh.io.notebook as ion; ion.destroy_server('\" + server_id + \"')\";\n",
              "      cell.notebook.kernel.execute(cmd);\n",
              "    }\n",
              "  }\n",
              "\n",
              "  /**\n",
              "   * Handle when a new output is added\n",
              "   */\n",
              "  function handleAddOutput(event, handle) {\n",
              "    var output_area = handle.output_area;\n",
              "    var output = handle.output;\n",
              "\n",
              "    // limit handleAddOutput to display_data with EXEC_MIME_TYPE content only\n",
              "    if ((output.output_type != \"display_data\") || (!output.data.hasOwnProperty(EXEC_MIME_TYPE))) {\n",
              "      return\n",
              "    }\n",
              "\n",
              "    var toinsert = output_area.element.find(\".\" + CLASS_NAME.split(' ')[0]);\n",
              "\n",
              "    if (output.metadata[EXEC_MIME_TYPE][\"id\"] !== undefined) {\n",
              "      toinsert[toinsert.length - 1].firstChild.textContent = output.data[JS_MIME_TYPE];\n",
              "      // store reference to embed id on output_area\n",
              "      output_area._bokeh_element_id = output.metadata[EXEC_MIME_TYPE][\"id\"];\n",
              "    }\n",
              "    if (output.metadata[EXEC_MIME_TYPE][\"server_id\"] !== undefined) {\n",
              "      var bk_div = document.createElement(\"div\");\n",
              "      bk_div.innerHTML = output.data[HTML_MIME_TYPE];\n",
              "      var script_attrs = bk_div.children[0].attributes;\n",
              "      for (var i = 0; i < script_attrs.length; i++) {\n",
              "        toinsert[toinsert.length - 1].firstChild.setAttribute(script_attrs[i].name, script_attrs[i].value);\n",
              "        toinsert[toinsert.length - 1].firstChild.textContent = bk_div.children[0].textContent\n",
              "      }\n",
              "      // store reference to server id on output_area\n",
              "      output_area._bokeh_server_id = output.metadata[EXEC_MIME_TYPE][\"server_id\"];\n",
              "    }\n",
              "  }\n",
              "\n",
              "  function register_renderer(events, OutputArea) {\n",
              "\n",
              "    function append_mime(data, metadata, element) {\n",
              "      // create a DOM node to render to\n",
              "      var toinsert = this.create_output_subarea(\n",
              "        metadata,\n",
              "        CLASS_NAME,\n",
              "        EXEC_MIME_TYPE\n",
              "      );\n",
              "      this.keyboard_manager.register_events(toinsert);\n",
              "      // Render to node\n",
              "      var props = {data: data, metadata: metadata[EXEC_MIME_TYPE]};\n",
              "      render(props, toinsert[toinsert.length - 1]);\n",
              "      element.append(toinsert);\n",
              "      return toinsert\n",
              "    }\n",
              "\n",
              "    /* Handle when an output is cleared or removed */\n",
              "    events.on('clear_output.CodeCell', handleClearOutput);\n",
              "    events.on('delete.Cell', handleClearOutput);\n",
              "\n",
              "    /* Handle when a new output is added */\n",
              "    events.on('output_added.OutputArea', handleAddOutput);\n",
              "\n",
              "    /**\n",
              "     * Register the mime type and append_mime function with output_area\n",
              "     */\n",
              "    OutputArea.prototype.register_mime_type(EXEC_MIME_TYPE, append_mime, {\n",
              "      /* Is output safe? */\n",
              "      safe: true,\n",
              "      /* Index of renderer in `output_area.display_order` */\n",
              "      index: 0\n",
              "    });\n",
              "  }\n",
              "\n",
              "  // register the mime type if in Jupyter Notebook environment and previously unregistered\n",
              "  if (root.Jupyter !== undefined) {\n",
              "    var events = require('base/js/events');\n",
              "    var OutputArea = require('notebook/js/outputarea').OutputArea;\n",
              "\n",
              "    if (OutputArea.prototype.mime_types().indexOf(EXEC_MIME_TYPE) == -1) {\n",
              "      register_renderer(events, OutputArea);\n",
              "    }\n",
              "  }\n",
              "\n",
              "  \n",
              "  if (typeof (root._bokeh_timeout) === \"undefined\" || force === true) {\n",
              "    root._bokeh_timeout = Date.now() + 5000;\n",
              "    root._bokeh_failed_load = false;\n",
              "  }\n",
              "\n",
              "  var NB_LOAD_WARNING = {'data': {'text/html':\n",
              "     \"<div style='background-color: #fdd'>\\n\"+\n",
              "     \"<p>\\n\"+\n",
              "     \"BokehJS does not appear to have successfully loaded. If loading BokehJS from CDN, this \\n\"+\n",
              "     \"may be due to a slow or bad network connection. Possible fixes:\\n\"+\n",
              "     \"</p>\\n\"+\n",
              "     \"<ul>\\n\"+\n",
              "     \"<li>re-rerun `output_notebook()` to attempt to load from CDN again, or</li>\\n\"+\n",
              "     \"<li>use INLINE resources instead, as so:</li>\\n\"+\n",
              "     \"</ul>\\n\"+\n",
              "     \"<code>\\n\"+\n",
              "     \"from bokeh.resources import INLINE\\n\"+\n",
              "     \"output_notebook(resources=INLINE)\\n\"+\n",
              "     \"</code>\\n\"+\n",
              "     \"</div>\"}};\n",
              "\n",
              "  function display_loaded() {\n",
              "    var el = document.getElementById(null);\n",
              "    if (el != null) {\n",
              "      el.textContent = \"BokehJS is loading...\";\n",
              "    }\n",
              "    if (root.Bokeh !== undefined) {\n",
              "      if (el != null) {\n",
              "        el.textContent = \"BokehJS \" + root.Bokeh.version + \" successfully loaded.\";\n",
              "      }\n",
              "    } else if (Date.now() < root._bokeh_timeout) {\n",
              "      setTimeout(display_loaded, 100)\n",
              "    }\n",
              "  }\n",
              "\n",
              "\n",
              "  function run_callbacks() {\n",
              "    try {\n",
              "      root._bokeh_onload_callbacks.forEach(function(callback) {\n",
              "        if (callback != null)\n",
              "          callback();\n",
              "      });\n",
              "    } finally {\n",
              "      delete root._bokeh_onload_callbacks\n",
              "    }\n",
              "    console.debug(\"Bokeh: all callbacks have finished\");\n",
              "  }\n",
              "\n",
              "  function load_libs(css_urls, js_urls, callback) {\n",
              "    if (css_urls == null) css_urls = [];\n",
              "    if (js_urls == null) js_urls = [];\n",
              "\n",
              "    root._bokeh_onload_callbacks.push(callback);\n",
              "    if (root._bokeh_is_loading > 0) {\n",
              "      console.debug(\"Bokeh: BokehJS is being loaded, scheduling callback at\", now());\n",
              "      return null;\n",
              "    }\n",
              "    if (js_urls == null || js_urls.length === 0) {\n",
              "      run_callbacks();\n",
              "      return null;\n",
              "    }\n",
              "    console.debug(\"Bokeh: BokehJS not loaded, scheduling load and callback at\", now());\n",
              "    root._bokeh_is_loading = css_urls.length + js_urls.length;\n",
              "\n",
              "    function on_load() {\n",
              "      root._bokeh_is_loading--;\n",
              "      if (root._bokeh_is_loading === 0) {\n",
              "        console.debug(\"Bokeh: all BokehJS libraries/stylesheets loaded\");\n",
              "        run_callbacks()\n",
              "      }\n",
              "    }\n",
              "\n",
              "    function on_error() {\n",
              "      console.error(\"failed to load \" + url);\n",
              "    }\n",
              "\n",
              "    for (var i = 0; i < css_urls.length; i++) {\n",
              "      var url = css_urls[i];\n",
              "      const element = document.createElement(\"link\");\n",
              "      element.onload = on_load;\n",
              "      element.onerror = on_error;\n",
              "      element.rel = \"stylesheet\";\n",
              "      element.type = \"text/css\";\n",
              "      element.href = url;\n",
              "      console.debug(\"Bokeh: injecting link tag for BokehJS stylesheet: \", url);\n",
              "      document.body.appendChild(element);\n",
              "    }\n",
              "\n",
              "    const hashes = {\"https://cdn.bokeh.org/bokeh/release/bokeh-2.1.1.min.js\": \"kLr4fYcqcSpbuI95brIH3vnnYCquzzSxHPU6XGQCIkQRGJwhg0StNbj1eegrHs12\", \"https://cdn.bokeh.org/bokeh/release/bokeh-widgets-2.1.1.min.js\": \"xIGPmVtaOm+z0BqfSOMn4lOR6ciex448GIKG4eE61LsAvmGj48XcMQZtKcE/UXZe\", \"https://cdn.bokeh.org/bokeh/release/bokeh-tables-2.1.1.min.js\": \"Dc9u1wF/0zApGIWoBbH77iWEHtdmkuYWG839Uzmv8y8yBLXebjO9ZnERsde5Ln/P\", \"https://cdn.bokeh.org/bokeh/release/bokeh-gl-2.1.1.min.js\": \"cT9JaBz7GiRXdENrJLZNSC6eMNF3nh3fa5fTF51Svp+ukxPdwcU5kGXGPBgDCa2j\"};\n",
              "\n",
              "    for (var i = 0; i < js_urls.length; i++) {\n",
              "      var url = js_urls[i];\n",
              "      var element = document.createElement('script');\n",
              "      element.onload = on_load;\n",
              "      element.onerror = on_error;\n",
              "      element.async = false;\n",
              "      element.src = url;\n",
              "      if (url in hashes) {\n",
              "        element.crossOrigin = \"anonymous\";\n",
              "        element.integrity = \"sha384-\" + hashes[url];\n",
              "      }\n",
              "      console.debug(\"Bokeh: injecting script tag for BokehJS library: \", url);\n",
              "      document.head.appendChild(element);\n",
              "    }\n",
              "  };\n",
              "\n",
              "  function inject_raw_css(css) {\n",
              "    const element = document.createElement(\"style\");\n",
              "    element.appendChild(document.createTextNode(css));\n",
              "    document.body.appendChild(element);\n",
              "  }\n",
              "\n",
              "  \n",
              "  var js_urls = [\"https://cdn.bokeh.org/bokeh/release/bokeh-2.1.1.min.js\", \"https://cdn.bokeh.org/bokeh/release/bokeh-widgets-2.1.1.min.js\", \"https://cdn.bokeh.org/bokeh/release/bokeh-tables-2.1.1.min.js\", \"https://cdn.bokeh.org/bokeh/release/bokeh-gl-2.1.1.min.js\"];\n",
              "  var css_urls = [];\n",
              "  \n",
              "\n",
              "  var inline_js = [\n",
              "    function(Bokeh) {\n",
              "      Bokeh.set_log_level(\"info\");\n",
              "    },\n",
              "    function(Bokeh) {\n",
              "    \n",
              "    \n",
              "    }\n",
              "  ];\n",
              "\n",
              "  function run_inline_js() {\n",
              "    \n",
              "    if (root.Bokeh !== undefined || force === true) {\n",
              "      \n",
              "    for (var i = 0; i < inline_js.length; i++) {\n",
              "      inline_js[i].call(root, root.Bokeh);\n",
              "    }\n",
              "    } else if (Date.now() < root._bokeh_timeout) {\n",
              "      setTimeout(run_inline_js, 100);\n",
              "    } else if (!root._bokeh_failed_load) {\n",
              "      console.log(\"Bokeh: BokehJS failed to load within specified timeout.\");\n",
              "      root._bokeh_failed_load = true;\n",
              "    } else if (force !== true) {\n",
              "      var cell = $(document.getElementById(null)).parents('.cell').data().cell;\n",
              "      cell.output_area.append_execute_result(NB_LOAD_WARNING)\n",
              "    }\n",
              "\n",
              "  }\n",
              "\n",
              "  if (root._bokeh_is_loading === 0) {\n",
              "    console.debug(\"Bokeh: BokehJS loaded, going straight to plotting\");\n",
              "    run_inline_js();\n",
              "  } else {\n",
              "    load_libs(css_urls, js_urls, function() {\n",
              "      console.debug(\"Bokeh: BokehJS plotting callback run at\", now());\n",
              "      run_inline_js();\n",
              "    });\n",
              "  }\n",
              "}(window));"
            ],
            "application/vnd.bokehjs_load.v0+json": "\n(function(root) {\n  function now() {\n    return new Date();\n  }\n\n  var force = true;\n\n  if (typeof root._bokeh_onload_callbacks === \"undefined\" || force === true) {\n    root._bokeh_onload_callbacks = [];\n    root._bokeh_is_loading = undefined;\n  }\n\n  \n\n  \n  if (typeof (root._bokeh_timeout) === \"undefined\" || force === true) {\n    root._bokeh_timeout = Date.now() + 5000;\n    root._bokeh_failed_load = false;\n  }\n\n  var NB_LOAD_WARNING = {'data': {'text/html':\n     \"<div style='background-color: #fdd'>\\n\"+\n     \"<p>\\n\"+\n     \"BokehJS does not appear to have successfully loaded. If loading BokehJS from CDN, this \\n\"+\n     \"may be due to a slow or bad network connection. Possible fixes:\\n\"+\n     \"</p>\\n\"+\n     \"<ul>\\n\"+\n     \"<li>re-rerun `output_notebook()` to attempt to load from CDN again, or</li>\\n\"+\n     \"<li>use INLINE resources instead, as so:</li>\\n\"+\n     \"</ul>\\n\"+\n     \"<code>\\n\"+\n     \"from bokeh.resources import INLINE\\n\"+\n     \"output_notebook(resources=INLINE)\\n\"+\n     \"</code>\\n\"+\n     \"</div>\"}};\n\n  function display_loaded() {\n    var el = document.getElementById(null);\n    if (el != null) {\n      el.textContent = \"BokehJS is loading...\";\n    }\n    if (root.Bokeh !== undefined) {\n      if (el != null) {\n        el.textContent = \"BokehJS \" + root.Bokeh.version + \" successfully loaded.\";\n      }\n    } else if (Date.now() < root._bokeh_timeout) {\n      setTimeout(display_loaded, 100)\n    }\n  }\n\n\n  function run_callbacks() {\n    try {\n      root._bokeh_onload_callbacks.forEach(function(callback) {\n        if (callback != null)\n          callback();\n      });\n    } finally {\n      delete root._bokeh_onload_callbacks\n    }\n    console.debug(\"Bokeh: all callbacks have finished\");\n  }\n\n  function load_libs(css_urls, js_urls, callback) {\n    if (css_urls == null) css_urls = [];\n    if (js_urls == null) js_urls = [];\n\n    root._bokeh_onload_callbacks.push(callback);\n    if (root._bokeh_is_loading > 0) {\n      console.debug(\"Bokeh: BokehJS is being loaded, scheduling callback at\", now());\n      return null;\n    }\n    if (js_urls == null || js_urls.length === 0) {\n      run_callbacks();\n      return null;\n    }\n    console.debug(\"Bokeh: BokehJS not loaded, scheduling load and callback at\", now());\n    root._bokeh_is_loading = css_urls.length + js_urls.length;\n\n    function on_load() {\n      root._bokeh_is_loading--;\n      if (root._bokeh_is_loading === 0) {\n        console.debug(\"Bokeh: all BokehJS libraries/stylesheets loaded\");\n        run_callbacks()\n      }\n    }\n\n    function on_error() {\n      console.error(\"failed to load \" + url);\n    }\n\n    for (var i = 0; i < css_urls.length; i++) {\n      var url = css_urls[i];\n      const element = document.createElement(\"link\");\n      element.onload = on_load;\n      element.onerror = on_error;\n      element.rel = \"stylesheet\";\n      element.type = \"text/css\";\n      element.href = url;\n      console.debug(\"Bokeh: injecting link tag for BokehJS stylesheet: \", url);\n      document.body.appendChild(element);\n    }\n\n    const hashes = {\"https://cdn.bokeh.org/bokeh/release/bokeh-2.1.1.min.js\": \"kLr4fYcqcSpbuI95brIH3vnnYCquzzSxHPU6XGQCIkQRGJwhg0StNbj1eegrHs12\", \"https://cdn.bokeh.org/bokeh/release/bokeh-widgets-2.1.1.min.js\": \"xIGPmVtaOm+z0BqfSOMn4lOR6ciex448GIKG4eE61LsAvmGj48XcMQZtKcE/UXZe\", \"https://cdn.bokeh.org/bokeh/release/bokeh-tables-2.1.1.min.js\": \"Dc9u1wF/0zApGIWoBbH77iWEHtdmkuYWG839Uzmv8y8yBLXebjO9ZnERsde5Ln/P\", \"https://cdn.bokeh.org/bokeh/release/bokeh-gl-2.1.1.min.js\": \"cT9JaBz7GiRXdENrJLZNSC6eMNF3nh3fa5fTF51Svp+ukxPdwcU5kGXGPBgDCa2j\"};\n\n    for (var i = 0; i < js_urls.length; i++) {\n      var url = js_urls[i];\n      var element = document.createElement('script');\n      element.onload = on_load;\n      element.onerror = on_error;\n      element.async = false;\n      element.src = url;\n      if (url in hashes) {\n        element.crossOrigin = \"anonymous\";\n        element.integrity = \"sha384-\" + hashes[url];\n      }\n      console.debug(\"Bokeh: injecting script tag for BokehJS library: \", url);\n      document.head.appendChild(element);\n    }\n  };\n\n  function inject_raw_css(css) {\n    const element = document.createElement(\"style\");\n    element.appendChild(document.createTextNode(css));\n    document.body.appendChild(element);\n  }\n\n  \n  var js_urls = [\"https://cdn.bokeh.org/bokeh/release/bokeh-2.1.1.min.js\", \"https://cdn.bokeh.org/bokeh/release/bokeh-widgets-2.1.1.min.js\", \"https://cdn.bokeh.org/bokeh/release/bokeh-tables-2.1.1.min.js\", \"https://cdn.bokeh.org/bokeh/release/bokeh-gl-2.1.1.min.js\"];\n  var css_urls = [];\n  \n\n  var inline_js = [\n    function(Bokeh) {\n      Bokeh.set_log_level(\"info\");\n    },\n    function(Bokeh) {\n    \n    \n    }\n  ];\n\n  function run_inline_js() {\n    \n    if (root.Bokeh !== undefined || force === true) {\n      \n    for (var i = 0; i < inline_js.length; i++) {\n      inline_js[i].call(root, root.Bokeh);\n    }\n    } else if (Date.now() < root._bokeh_timeout) {\n      setTimeout(run_inline_js, 100);\n    } else if (!root._bokeh_failed_load) {\n      console.log(\"Bokeh: BokehJS failed to load within specified timeout.\");\n      root._bokeh_failed_load = true;\n    } else if (force !== true) {\n      var cell = $(document.getElementById(null)).parents('.cell').data().cell;\n      cell.output_area.append_execute_result(NB_LOAD_WARNING)\n    }\n\n  }\n\n  if (root._bokeh_is_loading === 0) {\n    console.debug(\"Bokeh: BokehJS loaded, going straight to plotting\");\n    run_inline_js();\n  } else {\n    load_libs(css_urls, js_urls, function() {\n      console.debug(\"Bokeh: BokehJS plotting callback run at\", now());\n      run_inline_js();\n    });\n  }\n}(window));"
          },
          "metadata": {
            "tags": []
          }
        },
        {
          "output_type": "display_data",
          "data": {
            "text/html": [
              "\n",
              "\n",
              "\n",
              "\n",
              "\n",
              "\n",
              "  <div class=\"bk-root\" id=\"19b6d165-0e5f-4b70-90a8-3cbaabaa51b1\" data-root-id=\"1001\"></div>\n"
            ]
          },
          "metadata": {
            "tags": []
          }
        },
        {
          "output_type": "display_data",
          "data": {
            "application/javascript": [
              "(function(root) {\n",
              "  function embed_document(root) {\n",
              "    \n",
              "  var docs_json = {\"cb9d2a47-b1ee-4cf9-9cc4-bc2b8a082ff1\":{\"roots\":{\"references\":[{\"attributes\":{\"below\":[{\"id\":\"1012\"}],\"center\":[{\"id\":\"1015\"},{\"id\":\"1019\"},{\"id\":\"1041\"},{\"id\":\"1042\"},{\"id\":\"1043\"},{\"id\":\"1044\"},{\"id\":\"1045\"},{\"id\":\"1046\"}],\"left\":[{\"id\":\"1016\"}],\"plot_height\":700,\"plot_width\":700,\"renderers\":[{\"id\":\"1037\"}],\"title\":{\"id\":\"1002\"},\"toolbar\":{\"id\":\"1027\"},\"x_range\":{\"id\":\"1004\"},\"x_scale\":{\"id\":\"1008\"},\"y_range\":{\"id\":\"1006\"},\"y_scale\":{\"id\":\"1010\"}},\"id\":\"1001\",\"subtype\":\"Figure\",\"type\":\"Plot\"},{\"attributes\":{},\"id\":\"1025\",\"type\":\"HelpTool\"},{\"attributes\":{\"text\":\"t-SNE Clustering of 6 LSA Topics\"},\"id\":\"1002\",\"type\":\"Title\"},{\"attributes\":{},\"id\":\"1053\",\"type\":\"UnionRenderers\"},{\"attributes\":{\"source\":{\"id\":\"1034\"}},\"id\":\"1038\",\"type\":\"CDSView\"},{\"attributes\":{},\"id\":\"1006\",\"type\":\"DataRange1d\"},{\"attributes\":{\"formatter\":{\"id\":\"1048\"},\"ticker\":{\"id\":\"1013\"}},\"id\":\"1012\",\"type\":\"LinearAxis\"},{\"attributes\":{},\"id\":\"1010\",\"type\":\"LinearScale\"},{\"attributes\":{\"fill_alpha\":{\"value\":0.1},\"fill_color\":{\"field\":\"fill_color\"},\"line_alpha\":{\"value\":0.1},\"line_color\":{\"field\":\"line_color\"},\"x\":{\"field\":\"x\"},\"y\":{\"field\":\"y\"}},\"id\":\"1036\",\"type\":\"Scatter\"},{\"attributes\":{},\"id\":\"1021\",\"type\":\"WheelZoomTool\"},{\"attributes\":{},\"id\":\"1013\",\"type\":\"BasicTicker\"},{\"attributes\":{\"bottom_units\":\"screen\",\"fill_alpha\":0.5,\"fill_color\":\"lightgrey\",\"left_units\":\"screen\",\"level\":\"overlay\",\"line_alpha\":1.0,\"line_color\":\"black\",\"line_dash\":[4,4],\"line_width\":2,\"right_units\":\"screen\",\"top_units\":\"screen\"},\"id\":\"1026\",\"type\":\"BoxAnnotation\"},{\"attributes\":{\"data_source\":{\"id\":\"1034\"},\"glyph\":{\"id\":\"1035\"},\"hover_glyph\":null,\"muted_glyph\":null,\"nonselection_glyph\":{\"id\":\"1036\"},\"selection_glyph\":null,\"view\":{\"id\":\"1038\"}},\"id\":\"1037\",\"type\":\"GlyphRenderer\"},{\"attributes\":{\"data\":{\"fill_color\":[\"#aec7e8\",\"#ffbb78\",\"#1f77b4\",\"#1f77b4\",\"#ffbb78\",\"#aec7e8\",\"#1f77b4\",\"#ff7f0e\",\"#2ca02c\",\"#aec7e8\",\"#aec7e8\",\"#1f77b4\",\"#aec7e8\",\"#1f77b4\",\"#1f77b4\",\"#aec7e8\",\"#ffbb78\",\"#aec7e8\",\"#aec7e8\",\"#aec7e8\",\"#aec7e8\",\"#2ca02c\",\"#aec7e8\",\"#1f77b4\",\"#98df8a\",\"#ff7f0e\",\"#1f77b4\",\"#1f77b4\",\"#ff7f0e\",\"#aec7e8\",\"#1f77b4\",\"#1f77b4\",\"#aec7e8\",\"#1f77b4\",\"#aec7e8\",\"#aec7e8\",\"#aec7e8\",\"#aec7e8\",\"#aec7e8\",\"#aec7e8\",\"#1f77b4\",\"#ffbb78\",\"#ffbb78\",\"#aec7e8\",\"#ffbb78\",\"#1f77b4\",\"#aec7e8\",\"#aec7e8\",\"#aec7e8\",\"#1f77b4\",\"#aec7e8\",\"#aec7e8\",\"#1f77b4\",\"#aec7e8\",\"#ff7f0e\",\"#aec7e8\",\"#1f77b4\",\"#1f77b4\",\"#1f77b4\",\"#1f77b4\",\"#1f77b4\",\"#2ca02c\",\"#1f77b4\",\"#ff7f0e\",\"#1f77b4\",\"#aec7e8\",\"#1f77b4\",\"#aec7e8\",\"#aec7e8\",\"#1f77b4\",\"#aec7e8\",\"#2ca02c\",\"#aec7e8\",\"#1f77b4\",\"#aec7e8\",\"#aec7e8\",\"#1f77b4\",\"#ffbb78\",\"#1f77b4\",\"#1f77b4\",\"#2ca02c\",\"#1f77b4\",\"#aec7e8\",\"#aec7e8\",\"#ff7f0e\",\"#ffbb78\",\"#ff7f0e\",\"#ffbb78\",\"#ffbb78\",\"#1f77b4\",\"#1f77b4\",\"#1f77b4\",\"#1f77b4\",\"#aec7e8\",\"#1f77b4\",\"#aec7e8\",\"#aec7e8\",\"#aec7e8\",\"#aec7e8\",\"#1f77b4\",\"#1f77b4\",\"#ffbb78\",\"#1f77b4\",\"#aec7e8\",\"#ff7f0e\",\"#ffbb78\",\"#1f77b4\",\"#1f77b4\",\"#aec7e8\",\"#1f77b4\",\"#aec7e8\",\"#2ca02c\",\"#1f77b4\",\"#aec7e8\",\"#aec7e8\",\"#aec7e8\",\"#ffbb78\",\"#1f77b4\",\"#aec7e8\",\"#aec7e8\",\"#aec7e8\",\"#ff7f0e\",\"#ffbb78\",\"#aec7e8\",\"#aec7e8\",\"#aec7e8\",\"#1f77b4\",\"#1f77b4\",\"#1f77b4\",\"#ffbb78\",\"#ffbb78\",\"#1f77b4\",\"#aec7e8\",\"#1f77b4\",\"#aec7e8\",\"#aec7e8\",\"#aec7e8\",\"#aec7e8\",\"#1f77b4\",\"#aec7e8\",\"#ff7f0e\",\"#aec7e8\",\"#aec7e8\",\"#1f77b4\",\"#1f77b4\",\"#aec7e8\",\"#aec7e8\",\"#1f77b4\",\"#1f77b4\",\"#aec7e8\",\"#aec7e8\",\"#1f77b4\",\"#aec7e8\",\"#ff7f0e\",\"#ff7f0e\",\"#1f77b4\",\"#1f77b4\",\"#1f77b4\",\"#2ca02c\",\"#ffbb78\",\"#1f77b4\",\"#aec7e8\",\"#1f77b4\",\"#1f77b4\",\"#1f77b4\",\"#aec7e8\",\"#1f77b4\",\"#aec7e8\",\"#aec7e8\",\"#1f77b4\",\"#ff7f0e\",\"#aec7e8\",\"#aec7e8\",\"#ff7f0e\",\"#ff7f0e\",\"#ffbb78\",\"#1f77b4\",\"#1f77b4\",\"#aec7e8\",\"#aec7e8\",\"#1f77b4\",\"#aec7e8\",\"#ff7f0e\",\"#aec7e8\",\"#aec7e8\",\"#2ca02c\",\"#1f77b4\",\"#ff7f0e\",\"#1f77b4\",\"#ff7f0e\",\"#1f77b4\",\"#aec7e8\",\"#ffbb78\",\"#1f77b4\",\"#1f77b4\",\"#aec7e8\",\"#ffbb78\",\"#1f77b4\",\"#aec7e8\",\"#1f77b4\",\"#1f77b4\",\"#1f77b4\",\"#1f77b4\",\"#ffbb78\",\"#1f77b4\",\"#ffbb78\",\"#aec7e8\",\"#1f77b4\",\"#ff7f0e\",\"#ffbb78\",\"#aec7e8\",\"#aec7e8\",\"#aec7e8\",\"#1f77b4\",\"#aec7e8\",\"#aec7e8\",\"#ff7f0e\",\"#ff7f0e\",\"#1f77b4\",\"#ffbb78\",\"#1f77b4\",\"#2ca02c\",\"#ffbb78\",\"#1f77b4\",\"#1f77b4\",\"#aec7e8\",\"#aec7e8\",\"#aec7e8\",\"#1f77b4\",\"#1f77b4\",\"#ffbb78\",\"#aec7e8\",\"#1f77b4\",\"#1f77b4\",\"#aec7e8\",\"#1f77b4\",\"#ffbb78\",\"#1f77b4\",\"#1f77b4\",\"#aec7e8\",\"#1f77b4\",\"#1f77b4\",\"#aec7e8\",\"#aec7e8\",\"#aec7e8\",\"#aec7e8\",\"#1f77b4\",\"#aec7e8\",\"#aec7e8\",\"#ff7f0e\",\"#ff7f0e\",\"#aec7e8\",\"#aec7e8\",\"#aec7e8\",\"#aec7e8\",\"#ffbb78\",\"#aec7e8\",\"#1f77b4\",\"#1f77b4\",\"#1f77b4\",\"#1f77b4\",\"#aec7e8\",\"#aec7e8\",\"#aec7e8\",\"#aec7e8\",\"#1f77b4\",\"#1f77b4\",\"#aec7e8\",\"#aec7e8\",\"#1f77b4\",\"#aec7e8\",\"#1f77b4\",\"#1f77b4\",\"#1f77b4\",\"#2ca02c\",\"#1f77b4\",\"#aec7e8\",\"#1f77b4\",\"#aec7e8\",\"#aec7e8\",\"#1f77b4\",\"#ffbb78\",\"#ffbb78\",\"#aec7e8\",\"#ffbb78\",\"#aec7e8\",\"#1f77b4\",\"#ffbb78\",\"#ff7f0e\",\"#1f77b4\",\"#1f77b4\",\"#1f77b4\",\"#aec7e8\",\"#aec7e8\",\"#1f77b4\",\"#ffbb78\",\"#1f77b4\",\"#ff7f0e\",\"#aec7e8\",\"#1f77b4\",\"#1f77b4\",\"#ff7f0e\",\"#aec7e8\",\"#1f77b4\",\"#aec7e8\",\"#1f77b4\",\"#aec7e8\",\"#ffbb78\",\"#1f77b4\",\"#1f77b4\",\"#1f77b4\",\"#aec7e8\",\"#ff7f0e\",\"#1f77b4\",\"#ffbb78\",\"#ffbb78\",\"#1f77b4\",\"#ffbb78\",\"#1f77b4\",\"#1f77b4\",\"#ffbb78\",\"#1f77b4\",\"#1f77b4\",\"#1f77b4\",\"#aec7e8\",\"#ffbb78\",\"#ffbb78\",\"#aec7e8\",\"#aec7e8\",\"#aec7e8\",\"#1f77b4\",\"#aec7e8\",\"#aec7e8\",\"#ff7f0e\",\"#2ca02c\",\"#aec7e8\",\"#1f77b4\",\"#aec7e8\",\"#aec7e8\",\"#1f77b4\",\"#2ca02c\",\"#1f77b4\",\"#aec7e8\",\"#1f77b4\",\"#aec7e8\",\"#aec7e8\",\"#aec7e8\",\"#2ca02c\",\"#1f77b4\",\"#aec7e8\",\"#aec7e8\",\"#1f77b4\",\"#aec7e8\",\"#aec7e8\",\"#aec7e8\",\"#aec7e8\",\"#1f77b4\",\"#1f77b4\",\"#1f77b4\",\"#aec7e8\",\"#aec7e8\",\"#1f77b4\",\"#1f77b4\",\"#1f77b4\",\"#ffbb78\",\"#1f77b4\",\"#1f77b4\",\"#2ca02c\",\"#1f77b4\",\"#aec7e8\",\"#2ca02c\",\"#ff7f0e\",\"#aec7e8\",\"#1f77b4\",\"#1f77b4\",\"#aec7e8\",\"#1f77b4\",\"#1f77b4\",\"#1f77b4\",\"#1f77b4\",\"#ffbb78\",\"#2ca02c\",\"#aec7e8\",\"#ff7f0e\",\"#aec7e8\",\"#1f77b4\",\"#ff7f0e\",\"#ffbb78\",\"#aec7e8\",\"#ff7f0e\",\"#aec7e8\",\"#ff7f0e\",\"#aec7e8\",\"#1f77b4\",\"#aec7e8\",\"#ffbb78\",\"#aec7e8\",\"#1f77b4\",\"#aec7e8\",\"#ffbb78\",\"#aec7e8\",\"#aec7e8\",\"#aec7e8\",\"#1f77b4\",\"#aec7e8\",\"#ffbb78\",\"#1f77b4\",\"#1f77b4\",\"#1f77b4\",\"#2ca02c\",\"#aec7e8\",\"#ffbb78\",\"#aec7e8\",\"#aec7e8\",\"#1f77b4\",\"#1f77b4\",\"#1f77b4\",\"#1f77b4\",\"#1f77b4\",\"#1f77b4\",\"#aec7e8\",\"#aec7e8\",\"#ffbb78\",\"#1f77b4\",\"#1f77b4\",\"#aec7e8\",\"#1f77b4\",\"#1f77b4\",\"#aec7e8\",\"#ffbb78\",\"#1f77b4\",\"#1f77b4\",\"#1f77b4\",\"#aec7e8\",\"#ffbb78\",\"#1f77b4\",\"#aec7e8\",\"#1f77b4\",\"#1f77b4\",\"#1f77b4\",\"#aec7e8\",\"#aec7e8\",\"#aec7e8\",\"#aec7e8\",\"#ffbb78\",\"#aec7e8\",\"#aec7e8\",\"#aec7e8\",\"#aec7e8\",\"#1f77b4\",\"#1f77b4\",\"#1f77b4\",\"#aec7e8\",\"#1f77b4\",\"#aec7e8\",\"#1f77b4\",\"#2ca02c\",\"#ffbb78\",\"#aec7e8\",\"#aec7e8\",\"#1f77b4\",\"#1f77b4\",\"#1f77b4\",\"#aec7e8\",\"#ffbb78\",\"#aec7e8\",\"#1f77b4\",\"#1f77b4\",\"#aec7e8\",\"#ff7f0e\",\"#ff7f0e\",\"#aec7e8\",\"#ff7f0e\",\"#aec7e8\",\"#ff7f0e\",\"#2ca02c\",\"#1f77b4\",\"#1f77b4\",\"#ff7f0e\",\"#1f77b4\",\"#ff7f0e\",\"#aec7e8\",\"#aec7e8\",\"#aec7e8\",\"#1f77b4\",\"#1f77b4\",\"#1f77b4\",\"#98df8a\",\"#1f77b4\",\"#aec7e8\",\"#1f77b4\",\"#1f77b4\",\"#aec7e8\",\"#1f77b4\",\"#1f77b4\",\"#ffbb78\",\"#ffbb78\",\"#aec7e8\",\"#aec7e8\",\"#ffbb78\",\"#1f77b4\",\"#aec7e8\",\"#ffbb78\",\"#ff7f0e\",\"#1f77b4\",\"#1f77b4\",\"#ffbb78\",\"#1f77b4\",\"#1f77b4\",\"#aec7e8\",\"#ffbb78\",\"#aec7e8\",\"#aec7e8\",\"#1f77b4\",\"#aec7e8\",\"#1f77b4\",\"#aec7e8\",\"#ffbb78\",\"#1f77b4\",\"#1f77b4\",\"#aec7e8\",\"#1f77b4\",\"#1f77b4\",\"#ff7f0e\",\"#aec7e8\",\"#ffbb78\",\"#aec7e8\",\"#aec7e8\",\"#1f77b4\",\"#1f77b4\",\"#aec7e8\",\"#1f77b4\",\"#1f77b4\",\"#aec7e8\",\"#1f77b4\",\"#1f77b4\",\"#1f77b4\",\"#ffbb78\",\"#aec7e8\",\"#aec7e8\",\"#1f77b4\",\"#ff7f0e\",\"#1f77b4\",\"#aec7e8\",\"#ffbb78\",\"#1f77b4\",\"#aec7e8\",\"#1f77b4\",\"#1f77b4\",\"#aec7e8\",\"#aec7e8\",\"#aec7e8\",\"#1f77b4\",\"#2ca02c\",\"#1f77b4\",\"#1f77b4\",\"#aec7e8\",\"#aec7e8\",\"#aec7e8\",\"#1f77b4\",\"#ff7f0e\",\"#aec7e8\",\"#aec7e8\",\"#1f77b4\",\"#1f77b4\",\"#1f77b4\",\"#aec7e8\",\"#aec7e8\",\"#aec7e8\",\"#2ca02c\",\"#1f77b4\",\"#aec7e8\",\"#aec7e8\",\"#2ca02c\",\"#1f77b4\",\"#aec7e8\",\"#1f77b4\",\"#aec7e8\",\"#1f77b4\",\"#ffbb78\",\"#2ca02c\",\"#ff7f0e\",\"#2ca02c\",\"#1f77b4\",\"#aec7e8\",\"#2ca02c\",\"#1f77b4\",\"#1f77b4\",\"#1f77b4\",\"#1f77b4\",\"#ffbb78\",\"#1f77b4\",\"#1f77b4\",\"#ffbb78\",\"#1f77b4\",\"#aec7e8\",\"#1f77b4\",\"#1f77b4\",\"#1f77b4\",\"#1f77b4\",\"#1f77b4\",\"#ffbb78\",\"#ffbb78\",\"#aec7e8\",\"#aec7e8\",\"#1f77b4\",\"#aec7e8\",\"#ffbb78\",\"#1f77b4\",\"#ffbb78\",\"#ff7f0e\",\"#aec7e8\",\"#1f77b4\",\"#aec7e8\",\"#aec7e8\",\"#1f77b4\",\"#1f77b4\",\"#ffbb78\",\"#1f77b4\",\"#aec7e8\",\"#1f77b4\",\"#aec7e8\",\"#aec7e8\",\"#ff7f0e\",\"#1f77b4\",\"#1f77b4\",\"#1f77b4\",\"#2ca02c\",\"#1f77b4\",\"#aec7e8\",\"#aec7e8\",\"#aec7e8\",\"#aec7e8\",\"#ffbb78\",\"#1f77b4\",\"#98df8a\",\"#1f77b4\",\"#1f77b4\",\"#aec7e8\",\"#1f77b4\",\"#ff7f0e\",\"#ffbb78\",\"#1f77b4\",\"#aec7e8\",\"#aec7e8\",\"#1f77b4\",\"#aec7e8\",\"#ff7f0e\",\"#aec7e8\",\"#aec7e8\",\"#aec7e8\",\"#aec7e8\",\"#aec7e8\",\"#aec7e8\",\"#1f77b4\",\"#1f77b4\",\"#aec7e8\",\"#aec7e8\",\"#1f77b4\",\"#aec7e8\",\"#ffbb78\",\"#1f77b4\",\"#ffbb78\",\"#1f77b4\",\"#1f77b4\",\"#2ca02c\",\"#aec7e8\",\"#1f77b4\",\"#2ca02c\",\"#1f77b4\",\"#ffbb78\",\"#1f77b4\",\"#1f77b4\",\"#aec7e8\",\"#ff7f0e\",\"#1f77b4\",\"#1f77b4\",\"#1f77b4\",\"#aec7e8\",\"#aec7e8\",\"#1f77b4\",\"#aec7e8\",\"#aec7e8\",\"#aec7e8\",\"#aec7e8\",\"#aec7e8\",\"#1f77b4\",\"#1f77b4\",\"#1f77b4\",\"#ffbb78\",\"#aec7e8\",\"#aec7e8\",\"#1f77b4\",\"#1f77b4\",\"#ff7f0e\",\"#aec7e8\",\"#aec7e8\",\"#ffbb78\",\"#1f77b4\",\"#ff7f0e\",\"#aec7e8\",\"#1f77b4\",\"#aec7e8\",\"#aec7e8\",\"#ffbb78\",\"#ffbb78\",\"#aec7e8\",\"#1f77b4\",\"#aec7e8\",\"#ff7f0e\",\"#ff7f0e\",\"#ffbb78\",\"#aec7e8\",\"#1f77b4\",\"#ffbb78\",\"#aec7e8\",\"#aec7e8\",\"#1f77b4\",\"#1f77b4\",\"#aec7e8\",\"#ffbb78\",\"#ff7f0e\",\"#aec7e8\",\"#aec7e8\",\"#ffbb78\",\"#1f77b4\",\"#ff7f0e\",\"#1f77b4\",\"#aec7e8\",\"#2ca02c\",\"#aec7e8\",\"#1f77b4\",\"#aec7e8\",\"#1f77b4\",\"#ffbb78\",\"#2ca02c\",\"#aec7e8\",\"#ffbb78\",\"#1f77b4\",\"#1f77b4\",\"#ff7f0e\",\"#ffbb78\",\"#1f77b4\",\"#1f77b4\",\"#1f77b4\",\"#1f77b4\",\"#aec7e8\",\"#aec7e8\",\"#ff7f0e\",\"#ff7f0e\",\"#ffbb78\",\"#aec7e8\",\"#aec7e8\",\"#ffbb78\",\"#aec7e8\",\"#aec7e8\",\"#1f77b4\",\"#ff7f0e\",\"#aec7e8\",\"#aec7e8\",\"#ff7f0e\",\"#1f77b4\",\"#1f77b4\",\"#2ca02c\",\"#1f77b4\",\"#ff7f0e\",\"#1f77b4\",\"#ffbb78\",\"#aec7e8\",\"#ffbb78\",\"#2ca02c\",\"#aec7e8\",\"#aec7e8\",\"#aec7e8\",\"#ffbb78\",\"#1f77b4\",\"#aec7e8\",\"#ff7f0e\",\"#ffbb78\",\"#ffbb78\",\"#1f77b4\",\"#1f77b4\",\"#1f77b4\",\"#1f77b4\",\"#aec7e8\",\"#1f77b4\",\"#1f77b4\",\"#1f77b4\",\"#ffbb78\",\"#1f77b4\",\"#1f77b4\",\"#2ca02c\",\"#ffbb78\",\"#ff7f0e\",\"#1f77b4\",\"#aec7e8\",\"#1f77b4\",\"#1f77b4\",\"#aec7e8\",\"#ffbb78\",\"#aec7e8\",\"#ff7f0e\",\"#aec7e8\",\"#1f77b4\",\"#1f77b4\",\"#ffbb78\",\"#1f77b4\",\"#ff7f0e\",\"#2ca02c\",\"#aec7e8\",\"#1f77b4\",\"#1f77b4\",\"#aec7e8\",\"#aec7e8\",\"#1f77b4\",\"#1f77b4\",\"#aec7e8\",\"#1f77b4\",\"#aec7e8\",\"#aec7e8\",\"#1f77b4\",\"#ff7f0e\",\"#aec7e8\",\"#ff7f0e\",\"#aec7e8\",\"#ff7f0e\",\"#aec7e8\",\"#1f77b4\",\"#aec7e8\",\"#aec7e8\",\"#ff7f0e\",\"#1f77b4\",\"#aec7e8\",\"#ffbb78\",\"#1f77b4\",\"#1f77b4\",\"#aec7e8\",\"#ffbb78\",\"#1f77b4\",\"#aec7e8\",\"#1f77b4\",\"#aec7e8\",\"#1f77b4\",\"#1f77b4\",\"#1f77b4\",\"#1f77b4\",\"#1f77b4\",\"#1f77b4\",\"#1f77b4\",\"#2ca02c\",\"#ffbb78\",\"#1f77b4\",\"#2ca02c\",\"#aec7e8\",\"#1f77b4\",\"#1f77b4\",\"#1f77b4\",\"#aec7e8\",\"#aec7e8\",\"#ffbb78\",\"#aec7e8\",\"#aec7e8\",\"#aec7e8\",\"#aec7e8\",\"#1f77b4\",\"#1f77b4\",\"#1f77b4\",\"#ffbb78\",\"#ff7f0e\",\"#1f77b4\",\"#1f77b4\",\"#ffbb78\",\"#1f77b4\",\"#aec7e8\",\"#1f77b4\",\"#aec7e8\",\"#ff7f0e\",\"#aec7e8\",\"#1f77b4\",\"#ff7f0e\",\"#aec7e8\",\"#aec7e8\",\"#1f77b4\",\"#2ca02c\",\"#1f77b4\",\"#ffbb78\",\"#aec7e8\",\"#1f77b4\",\"#ff7f0e\",\"#ffbb78\",\"#aec7e8\",\"#1f77b4\",\"#ff7f0e\",\"#ffbb78\",\"#1f77b4\",\"#1f77b4\",\"#1f77b4\",\"#aec7e8\",\"#ffbb78\",\"#1f77b4\",\"#1f77b4\",\"#aec7e8\",\"#ff7f0e\",\"#1f77b4\",\"#1f77b4\",\"#1f77b4\",\"#aec7e8\",\"#aec7e8\",\"#aec7e8\",\"#aec7e8\",\"#1f77b4\",\"#aec7e8\",\"#aec7e8\",\"#ffbb78\",\"#ffbb78\",\"#aec7e8\",\"#1f77b4\",\"#aec7e8\",\"#aec7e8\",\"#aec7e8\",\"#ffbb78\",\"#ffbb78\",\"#1f77b4\",\"#1f77b4\",\"#1f77b4\",\"#ffbb78\",\"#aec7e8\",\"#ff7f0e\",\"#2ca02c\",\"#aec7e8\",\"#ff7f0e\",\"#1f77b4\",\"#1f77b4\",\"#aec7e8\",\"#ffbb78\",\"#1f77b4\",\"#2ca02c\",\"#1f77b4\",\"#1f77b4\",\"#1f77b4\",\"#aec7e8\",\"#1f77b4\",\"#1f77b4\",\"#1f77b4\",\"#aec7e8\",\"#1f77b4\",\"#1f77b4\",\"#aec7e8\",\"#ff7f0e\",\"#1f77b4\",\"#1f77b4\",\"#1f77b4\",\"#aec7e8\",\"#aec7e8\",\"#aec7e8\",\"#1f77b4\",\"#1f77b4\",\"#aec7e8\",\"#aec7e8\",\"#1f77b4\",\"#aec7e8\",\"#ffbb78\",\"#1f77b4\",\"#1f77b4\",\"#aec7e8\",\"#aec7e8\",\"#aec7e8\",\"#1f77b4\",\"#ffbb78\",\"#1f77b4\",\"#ffbb78\",\"#aec7e8\",\"#aec7e8\",\"#ffbb78\",\"#aec7e8\",\"#1f77b4\",\"#2ca02c\",\"#1f77b4\",\"#aec7e8\",\"#ff7f0e\",\"#ffbb78\",\"#1f77b4\",\"#aec7e8\",\"#aec7e8\",\"#1f77b4\",\"#aec7e8\",\"#aec7e8\",\"#1f77b4\",\"#aec7e8\",\"#1f77b4\",\"#1f77b4\",\"#aec7e8\",\"#1f77b4\",\"#aec7e8\",\"#ffbb78\",\"#aec7e8\",\"#aec7e8\",\"#1f77b4\",\"#1f77b4\",\"#ffbb78\",\"#aec7e8\",\"#aec7e8\",\"#aec7e8\",\"#aec7e8\",\"#ffbb78\",\"#aec7e8\",\"#ffbb78\",\"#ffbb78\",\"#1f77b4\",\"#1f77b4\",\"#1f77b4\",\"#ffbb78\",\"#ff7f0e\",\"#aec7e8\",\"#aec7e8\",\"#aec7e8\",\"#ffbb78\",\"#aec7e8\",\"#ffbb78\",\"#2ca02c\",\"#1f77b4\",\"#1f77b4\",\"#aec7e8\",\"#1f77b4\",\"#ffbb78\",\"#1f77b4\",\"#1f77b4\",\"#1f77b4\",\"#ff7f0e\",\"#1f77b4\",\"#1f77b4\",\"#aec7e8\",\"#1f77b4\",\"#ffbb78\",\"#ff7f0e\",\"#aec7e8\",\"#aec7e8\",\"#ffbb78\",\"#1f77b4\",\"#aec7e8\",\"#aec7e8\",\"#2ca02c\",\"#aec7e8\",\"#1f77b4\",\"#aec7e8\",\"#1f77b4\",\"#1f77b4\",\"#2ca02c\",\"#1f77b4\",\"#ffbb78\",\"#aec7e8\",\"#aec7e8\",\"#98df8a\",\"#1f77b4\",\"#1f77b4\",\"#aec7e8\",\"#2ca02c\",\"#1f77b4\",\"#aec7e8\",\"#1f77b4\",\"#2ca02c\",\"#1f77b4\",\"#2ca02c\",\"#aec7e8\",\"#aec7e8\",\"#ffbb78\",\"#aec7e8\",\"#2ca02c\",\"#ffbb78\",\"#ffbb78\",\"#aec7e8\",\"#aec7e8\",\"#1f77b4\",\"#1f77b4\",\"#1f77b4\",\"#ffbb78\",\"#2ca02c\",\"#aec7e8\",\"#2ca02c\",\"#aec7e8\",\"#aec7e8\",\"#1f77b4\",\"#1f77b4\",\"#aec7e8\",\"#1f77b4\",\"#ffbb78\",\"#1f77b4\",\"#ffbb78\",\"#ffbb78\",\"#aec7e8\",\"#aec7e8\",\"#1f77b4\",\"#aec7e8\",\"#aec7e8\",\"#1f77b4\",\"#1f77b4\",\"#aec7e8\",\"#aec7e8\",\"#aec7e8\",\"#ffbb78\",\"#1f77b4\",\"#ffbb78\",\"#1f77b4\",\"#aec7e8\",\"#ffbb78\",\"#aec7e8\",\"#1f77b4\",\"#1f77b4\",\"#aec7e8\",\"#ffbb78\",\"#ffbb78\",\"#1f77b4\",\"#1f77b4\",\"#aec7e8\",\"#2ca02c\",\"#1f77b4\",\"#98df8a\",\"#1f77b4\",\"#aec7e8\",\"#ffbb78\",\"#ff7f0e\",\"#aec7e8\",\"#ffbb78\",\"#aec7e8\",\"#ff7f0e\",\"#1f77b4\",\"#1f77b4\",\"#aec7e8\",\"#1f77b4\",\"#aec7e8\",\"#1f77b4\",\"#1f77b4\",\"#1f77b4\",\"#aec7e8\",\"#aec7e8\",\"#1f77b4\",\"#ffbb78\",\"#1f77b4\",\"#2ca02c\",\"#1f77b4\",\"#1f77b4\",\"#1f77b4\",\"#1f77b4\",\"#1f77b4\",\"#1f77b4\",\"#1f77b4\",\"#1f77b4\",\"#aec7e8\",\"#ff7f0e\",\"#aec7e8\",\"#1f77b4\",\"#1f77b4\",\"#ffbb78\",\"#1f77b4\",\"#1f77b4\",\"#aec7e8\",\"#1f77b4\",\"#1f77b4\",\"#2ca02c\",\"#1f77b4\",\"#1f77b4\",\"#ffbb78\",\"#aec7e8\",\"#1f77b4\",\"#1f77b4\",\"#ffbb78\",\"#1f77b4\",\"#aec7e8\",\"#aec7e8\",\"#2ca02c\",\"#aec7e8\",\"#1f77b4\",\"#aec7e8\",\"#1f77b4\",\"#aec7e8\",\"#aec7e8\",\"#1f77b4\",\"#aec7e8\",\"#ffbb78\",\"#aec7e8\",\"#aec7e8\",\"#1f77b4\",\"#ff7f0e\",\"#1f77b4\",\"#ffbb78\",\"#1f77b4\",\"#2ca02c\",\"#1f77b4\",\"#1f77b4\",\"#1f77b4\",\"#aec7e8\",\"#aec7e8\",\"#1f77b4\",\"#ffbb78\",\"#1f77b4\",\"#1f77b4\",\"#1f77b4\",\"#2ca02c\",\"#ffbb78\",\"#aec7e8\",\"#98df8a\",\"#aec7e8\",\"#aec7e8\",\"#1f77b4\",\"#aec7e8\",\"#1f77b4\",\"#1f77b4\",\"#1f77b4\",\"#aec7e8\",\"#1f77b4\",\"#1f77b4\",\"#aec7e8\",\"#aec7e8\",\"#aec7e8\",\"#aec7e8\",\"#1f77b4\",\"#aec7e8\",\"#aec7e8\",\"#aec7e8\",\"#ffbb78\",\"#aec7e8\",\"#1f77b4\",\"#1f77b4\",\"#1f77b4\",\"#ffbb78\",\"#1f77b4\",\"#1f77b4\",\"#1f77b4\",\"#1f77b4\",\"#aec7e8\",\"#aec7e8\",\"#aec7e8\",\"#ff7f0e\",\"#1f77b4\",\"#aec7e8\",\"#1f77b4\",\"#ffbb78\",\"#ffbb78\",\"#aec7e8\",\"#1f77b4\",\"#1f77b4\",\"#1f77b4\",\"#aec7e8\",\"#aec7e8\",\"#ffbb78\",\"#aec7e8\",\"#ff7f0e\",\"#1f77b4\",\"#aec7e8\",\"#aec7e8\",\"#1f77b4\",\"#1f77b4\",\"#aec7e8\",\"#aec7e8\",\"#1f77b4\",\"#aec7e8\",\"#aec7e8\",\"#1f77b4\",\"#ffbb78\",\"#2ca02c\",\"#1f77b4\",\"#1f77b4\",\"#1f77b4\",\"#1f77b4\",\"#ffbb78\",\"#1f77b4\",\"#ffbb78\",\"#1f77b4\",\"#1f77b4\",\"#1f77b4\",\"#aec7e8\",\"#aec7e8\",\"#1f77b4\",\"#1f77b4\",\"#1f77b4\",\"#1f77b4\",\"#aec7e8\",\"#aec7e8\",\"#1f77b4\",\"#aec7e8\",\"#aec7e8\",\"#1f77b4\",\"#aec7e8\",\"#aec7e8\",\"#ffbb78\",\"#ffbb78\",\"#aec7e8\",\"#1f77b4\",\"#1f77b4\",\"#1f77b4\",\"#aec7e8\",\"#aec7e8\",\"#aec7e8\",\"#aec7e8\",\"#1f77b4\",\"#1f77b4\",\"#1f77b4\",\"#1f77b4\",\"#aec7e8\",\"#1f77b4\",\"#aec7e8\",\"#aec7e8\",\"#2ca02c\",\"#ffbb78\",\"#aec7e8\",\"#aec7e8\",\"#1f77b4\",\"#1f77b4\",\"#ffbb78\",\"#ff7f0e\",\"#aec7e8\",\"#1f77b4\",\"#1f77b4\",\"#1f77b4\",\"#1f77b4\",\"#aec7e8\",\"#1f77b4\",\"#aec7e8\",\"#aec7e8\",\"#ffbb78\",\"#ffbb78\",\"#ff7f0e\",\"#1f77b4\",\"#aec7e8\",\"#aec7e8\",\"#ffbb78\",\"#2ca02c\",\"#1f77b4\",\"#1f77b4\",\"#ffbb78\",\"#aec7e8\",\"#ffbb78\",\"#ffbb78\",\"#1f77b4\",\"#aec7e8\",\"#1f77b4\",\"#aec7e8\",\"#aec7e8\",\"#aec7e8\",\"#ffbb78\",\"#ffbb78\",\"#1f77b4\",\"#ffbb78\",\"#ffbb78\",\"#1f77b4\",\"#aec7e8\",\"#aec7e8\",\"#ffbb78\",\"#ffbb78\",\"#1f77b4\",\"#aec7e8\",\"#ffbb78\",\"#1f77b4\",\"#1f77b4\",\"#aec7e8\",\"#aec7e8\",\"#1f77b4\",\"#1f77b4\",\"#1f77b4\",\"#aec7e8\",\"#ff7f0e\",\"#aec7e8\",\"#ffbb78\",\"#1f77b4\",\"#1f77b4\",\"#ffbb78\",\"#1f77b4\",\"#aec7e8\",\"#aec7e8\",\"#1f77b4\",\"#ff7f0e\",\"#ff7f0e\",\"#aec7e8\",\"#1f77b4\",\"#ff7f0e\",\"#1f77b4\",\"#aec7e8\",\"#1f77b4\",\"#ffbb78\",\"#1f77b4\",\"#1f77b4\",\"#1f77b4\",\"#1f77b4\",\"#2ca02c\",\"#ffbb78\",\"#aec7e8\",\"#1f77b4\",\"#ff7f0e\",\"#aec7e8\",\"#1f77b4\",\"#aec7e8\",\"#aec7e8\",\"#aec7e8\",\"#1f77b4\",\"#1f77b4\",\"#ffbb78\",\"#1f77b4\",\"#ffbb78\",\"#1f77b4\",\"#aec7e8\",\"#1f77b4\",\"#aec7e8\",\"#aec7e8\",\"#1f77b4\",\"#aec7e8\",\"#aec7e8\",\"#1f77b4\",\"#1f77b4\",\"#aec7e8\",\"#1f77b4\",\"#1f77b4\",\"#1f77b4\",\"#aec7e8\",\"#ff7f0e\",\"#1f77b4\",\"#aec7e8\",\"#1f77b4\",\"#1f77b4\",\"#ff7f0e\",\"#aec7e8\",\"#1f77b4\",\"#1f77b4\",\"#1f77b4\",\"#aec7e8\",\"#ffbb78\",\"#aec7e8\",\"#1f77b4\",\"#aec7e8\",\"#aec7e8\",\"#aec7e8\",\"#1f77b4\",\"#aec7e8\",\"#ff7f0e\",\"#ffbb78\",\"#ffbb78\",\"#2ca02c\",\"#aec7e8\",\"#ffbb78\",\"#aec7e8\",\"#aec7e8\",\"#1f77b4\",\"#ffbb78\",\"#aec7e8\",\"#1f77b4\",\"#1f77b4\",\"#1f77b4\",\"#1f77b4\",\"#aec7e8\",\"#ffbb78\",\"#aec7e8\",\"#aec7e8\",\"#2ca02c\",\"#ffbb78\",\"#1f77b4\",\"#1f77b4\",\"#aec7e8\",\"#1f77b4\",\"#ffbb78\",\"#ff7f0e\",\"#aec7e8\",\"#aec7e8\",\"#ff7f0e\",\"#aec7e8\",\"#aec7e8\",\"#ffbb78\",\"#2ca02c\",\"#ffbb78\",\"#1f77b4\",\"#1f77b4\",\"#1f77b4\",\"#ffbb78\",\"#1f77b4\",\"#ffbb78\",\"#1f77b4\",\"#1f77b4\",\"#aec7e8\",\"#1f77b4\",\"#ffbb78\",\"#1f77b4\",\"#1f77b4\",\"#aec7e8\",\"#ff7f0e\",\"#ff7f0e\",\"#aec7e8\",\"#1f77b4\",\"#1f77b4\",\"#ff7f0e\",\"#1f77b4\",\"#aec7e8\",\"#1f77b4\",\"#1f77b4\",\"#ffbb78\",\"#aec7e8\",\"#ffbb78\",\"#aec7e8\",\"#aec7e8\",\"#aec7e8\",\"#ffbb78\",\"#1f77b4\",\"#aec7e8\",\"#2ca02c\",\"#aec7e8\",\"#1f77b4\",\"#1f77b4\",\"#aec7e8\",\"#aec7e8\",\"#1f77b4\",\"#ffbb78\",\"#2ca02c\",\"#1f77b4\",\"#1f77b4\",\"#2ca02c\",\"#1f77b4\",\"#aec7e8\",\"#1f77b4\",\"#ffbb78\",\"#aec7e8\",\"#1f77b4\",\"#ffbb78\",\"#1f77b4\",\"#aec7e8\",\"#aec7e8\",\"#ffbb78\",\"#aec7e8\",\"#aec7e8\",\"#ffbb78\",\"#1f77b4\",\"#aec7e8\",\"#aec7e8\",\"#1f77b4\",\"#aec7e8\",\"#ff7f0e\",\"#aec7e8\",\"#1f77b4\",\"#1f77b4\",\"#1f77b4\",\"#1f77b4\",\"#1f77b4\",\"#1f77b4\",\"#1f77b4\",\"#aec7e8\",\"#ff7f0e\",\"#1f77b4\",\"#ff7f0e\",\"#ffbb78\",\"#1f77b4\",\"#aec7e8\",\"#1f77b4\",\"#2ca02c\",\"#1f77b4\",\"#aec7e8\",\"#1f77b4\",\"#1f77b4\",\"#1f77b4\",\"#1f77b4\",\"#aec7e8\",\"#ff7f0e\",\"#1f77b4\",\"#aec7e8\",\"#aec7e8\",\"#1f77b4\",\"#1f77b4\",\"#aec7e8\",\"#ffbb78\",\"#1f77b4\",\"#aec7e8\",\"#1f77b4\",\"#1f77b4\",\"#1f77b4\",\"#1f77b4\",\"#1f77b4\",\"#aec7e8\",\"#aec7e8\",\"#aec7e8\",\"#aec7e8\",\"#aec7e8\",\"#aec7e8\",\"#1f77b4\",\"#ff7f0e\",\"#aec7e8\",\"#aec7e8\",\"#1f77b4\",\"#1f77b4\",\"#aec7e8\",\"#aec7e8\",\"#1f77b4\",\"#ffbb78\",\"#ffbb78\",\"#1f77b4\",\"#1f77b4\",\"#ff7f0e\",\"#1f77b4\",\"#aec7e8\",\"#aec7e8\",\"#1f77b4\",\"#aec7e8\",\"#aec7e8\",\"#1f77b4\",\"#ffbb78\",\"#2ca02c\",\"#aec7e8\",\"#1f77b4\",\"#ff7f0e\",\"#aec7e8\",\"#ffbb78\",\"#2ca02c\",\"#aec7e8\",\"#aec7e8\",\"#ffbb78\",\"#1f77b4\",\"#1f77b4\",\"#aec7e8\",\"#aec7e8\",\"#98df8a\",\"#1f77b4\",\"#aec7e8\",\"#ffbb78\",\"#aec7e8\",\"#aec7e8\",\"#1f77b4\",\"#aec7e8\",\"#aec7e8\",\"#aec7e8\",\"#1f77b4\",\"#aec7e8\",\"#1f77b4\",\"#aec7e8\",\"#aec7e8\",\"#aec7e8\",\"#1f77b4\",\"#1f77b4\",\"#1f77b4\",\"#aec7e8\",\"#aec7e8\",\"#aec7e8\",\"#1f77b4\",\"#aec7e8\",\"#1f77b4\",\"#aec7e8\",\"#ffbb78\",\"#aec7e8\",\"#1f77b4\",\"#ffbb78\",\"#aec7e8\",\"#aec7e8\",\"#2ca02c\",\"#aec7e8\",\"#aec7e8\",\"#aec7e8\",\"#ff7f0e\",\"#1f77b4\",\"#1f77b4\",\"#aec7e8\",\"#aec7e8\",\"#aec7e8\",\"#1f77b4\",\"#1f77b4\",\"#aec7e8\",\"#aec7e8\",\"#aec7e8\",\"#ffbb78\",\"#aec7e8\",\"#1f77b4\",\"#aec7e8\",\"#1f77b4\",\"#1f77b4\",\"#aec7e8\",\"#1f77b4\",\"#aec7e8\",\"#ff7f0e\",\"#ffbb78\",\"#1f77b4\",\"#aec7e8\",\"#ffbb78\",\"#1f77b4\",\"#2ca02c\",\"#1f77b4\",\"#ff7f0e\",\"#1f77b4\",\"#1f77b4\",\"#1f77b4\",\"#aec7e8\",\"#2ca02c\",\"#ffbb78\",\"#1f77b4\",\"#1f77b4\",\"#ffbb78\",\"#1f77b4\",\"#1f77b4\",\"#aec7e8\",\"#aec7e8\",\"#1f77b4\",\"#1f77b4\",\"#aec7e8\",\"#1f77b4\",\"#aec7e8\",\"#1f77b4\",\"#1f77b4\",\"#ffbb78\",\"#ffbb78\",\"#1f77b4\",\"#ffbb78\",\"#1f77b4\",\"#aec7e8\",\"#1f77b4\",\"#1f77b4\",\"#aec7e8\",\"#aec7e8\",\"#1f77b4\",\"#1f77b4\",\"#1f77b4\",\"#aec7e8\",\"#aec7e8\",\"#2ca02c\",\"#2ca02c\",\"#1f77b4\",\"#ffbb78\",\"#aec7e8\",\"#aec7e8\",\"#ff7f0e\",\"#aec7e8\",\"#2ca02c\",\"#ffbb78\",\"#1f77b4\",\"#aec7e8\",\"#aec7e8\",\"#1f77b4\",\"#1f77b4\",\"#ff7f0e\",\"#ffbb78\",\"#aec7e8\",\"#1f77b4\",\"#aec7e8\",\"#ffbb78\",\"#aec7e8\",\"#2ca02c\",\"#ffbb78\",\"#aec7e8\",\"#1f77b4\",\"#1f77b4\",\"#1f77b4\",\"#aec7e8\",\"#1f77b4\",\"#1f77b4\",\"#1f77b4\",\"#1f77b4\",\"#1f77b4\",\"#1f77b4\",\"#aec7e8\",\"#1f77b4\",\"#ff7f0e\",\"#ffbb78\",\"#1f77b4\",\"#1f77b4\",\"#aec7e8\",\"#aec7e8\",\"#aec7e8\",\"#1f77b4\",\"#ff7f0e\",\"#aec7e8\",\"#2ca02c\",\"#1f77b4\",\"#ffbb78\",\"#aec7e8\",\"#aec7e8\",\"#1f77b4\",\"#aec7e8\",\"#1f77b4\",\"#aec7e8\",\"#1f77b4\",\"#ffbb78\",\"#ffbb78\",\"#1f77b4\",\"#aec7e8\",\"#ffbb78\",\"#1f77b4\",\"#ffbb78\",\"#aec7e8\",\"#aec7e8\",\"#2ca02c\",\"#aec7e8\",\"#1f77b4\",\"#ffbb78\",\"#aec7e8\",\"#aec7e8\",\"#aec7e8\",\"#aec7e8\",\"#aec7e8\",\"#2ca02c\",\"#aec7e8\",\"#aec7e8\",\"#aec7e8\",\"#aec7e8\",\"#1f77b4\",\"#aec7e8\",\"#1f77b4\",\"#aec7e8\",\"#ff7f0e\",\"#98df8a\",\"#1f77b4\",\"#1f77b4\",\"#1f77b4\",\"#1f77b4\",\"#2ca02c\",\"#ffbb78\",\"#ffbb78\",\"#aec7e8\",\"#ffbb78\",\"#aec7e8\",\"#aec7e8\",\"#aec7e8\",\"#1f77b4\",\"#aec7e8\",\"#1f77b4\",\"#1f77b4\",\"#ffbb78\",\"#ff7f0e\",\"#2ca02c\",\"#ff7f0e\",\"#ffbb78\",\"#2ca02c\",\"#1f77b4\",\"#1f77b4\",\"#1f77b4\",\"#aec7e8\",\"#1f77b4\",\"#ff7f0e\",\"#aec7e8\",\"#1f77b4\",\"#1f77b4\",\"#ffbb78\",\"#1f77b4\",\"#aec7e8\",\"#aec7e8\",\"#aec7e8\",\"#2ca02c\",\"#aec7e8\",\"#1f77b4\",\"#2ca02c\",\"#1f77b4\",\"#aec7e8\",\"#1f77b4\",\"#1f77b4\",\"#1f77b4\",\"#1f77b4\",\"#2ca02c\",\"#1f77b4\",\"#aec7e8\",\"#ff7f0e\",\"#1f77b4\",\"#aec7e8\",\"#ff7f0e\",\"#aec7e8\",\"#1f77b4\",\"#ff7f0e\",\"#2ca02c\",\"#aec7e8\",\"#aec7e8\",\"#aec7e8\",\"#98df8a\",\"#2ca02c\",\"#ffbb78\",\"#1f77b4\",\"#1f77b4\",\"#1f77b4\",\"#ffbb78\",\"#ff7f0e\",\"#1f77b4\",\"#aec7e8\",\"#ffbb78\",\"#1f77b4\",\"#1f77b4\",\"#2ca02c\",\"#1f77b4\",\"#1f77b4\",\"#aec7e8\",\"#ff7f0e\",\"#aec7e8\",\"#2ca02c\",\"#1f77b4\",\"#aec7e8\",\"#1f77b4\",\"#1f77b4\",\"#1f77b4\",\"#ff7f0e\",\"#1f77b4\",\"#aec7e8\",\"#ffbb78\",\"#1f77b4\",\"#ffbb78\",\"#ffbb78\",\"#1f77b4\",\"#ffbb78\",\"#1f77b4\",\"#1f77b4\",\"#ffbb78\",\"#1f77b4\",\"#ff7f0e\",\"#aec7e8\",\"#aec7e8\",\"#1f77b4\",\"#2ca02c\",\"#1f77b4\",\"#ffbb78\",\"#1f77b4\",\"#1f77b4\",\"#1f77b4\",\"#ffbb78\",\"#aec7e8\",\"#aec7e8\",\"#1f77b4\",\"#aec7e8\",\"#1f77b4\",\"#1f77b4\",\"#aec7e8\",\"#2ca02c\",\"#ffbb78\",\"#aec7e8\",\"#aec7e8\",\"#aec7e8\",\"#aec7e8\",\"#1f77b4\",\"#aec7e8\",\"#aec7e8\",\"#1f77b4\",\"#aec7e8\",\"#1f77b4\",\"#1f77b4\",\"#1f77b4\",\"#ffbb78\",\"#ffbb78\",\"#aec7e8\",\"#aec7e8\",\"#1f77b4\",\"#ffbb78\",\"#aec7e8\",\"#aec7e8\",\"#1f77b4\",\"#aec7e8\",\"#1f77b4\",\"#1f77b4\",\"#ff7f0e\",\"#1f77b4\",\"#1f77b4\",\"#aec7e8\",\"#aec7e8\",\"#1f77b4\",\"#1f77b4\",\"#1f77b4\",\"#aec7e8\",\"#aec7e8\",\"#2ca02c\",\"#ff7f0e\",\"#aec7e8\",\"#1f77b4\",\"#ff7f0e\",\"#aec7e8\",\"#1f77b4\",\"#1f77b4\",\"#aec7e8\",\"#aec7e8\",\"#aec7e8\",\"#aec7e8\",\"#1f77b4\",\"#1f77b4\",\"#1f77b4\",\"#aec7e8\",\"#aec7e8\",\"#ff7f0e\",\"#1f77b4\",\"#aec7e8\",\"#1f77b4\",\"#aec7e8\",\"#aec7e8\",\"#2ca02c\",\"#1f77b4\",\"#aec7e8\",\"#1f77b4\",\"#1f77b4\",\"#1f77b4\",\"#aec7e8\",\"#2ca02c\",\"#ff7f0e\",\"#ff7f0e\",\"#1f77b4\",\"#ffbb78\",\"#aec7e8\",\"#aec7e8\",\"#ff7f0e\",\"#ffbb78\",\"#ffbb78\",\"#aec7e8\",\"#ffbb78\",\"#aec7e8\",\"#ff7f0e\",\"#aec7e8\",\"#1f77b4\",\"#aec7e8\",\"#aec7e8\",\"#aec7e8\",\"#ffbb78\",\"#aec7e8\",\"#1f77b4\",\"#ff7f0e\",\"#aec7e8\",\"#1f77b4\",\"#1f77b4\",\"#1f77b4\",\"#1f77b4\",\"#ffbb78\",\"#ffbb78\",\"#1f77b4\",\"#1f77b4\",\"#ff7f0e\",\"#ffbb78\",\"#ffbb78\",\"#aec7e8\",\"#aec7e8\",\"#aec7e8\",\"#1f77b4\",\"#ff7f0e\",\"#aec7e8\",\"#aec7e8\",\"#1f77b4\",\"#1f77b4\",\"#ff7f0e\",\"#aec7e8\",\"#1f77b4\",\"#ffbb78\",\"#ff7f0e\",\"#1f77b4\",\"#ffbb78\",\"#ffbb78\",\"#1f77b4\",\"#aec7e8\",\"#1f77b4\",\"#1f77b4\",\"#1f77b4\",\"#aec7e8\",\"#aec7e8\",\"#aec7e8\",\"#aec7e8\",\"#ffbb78\",\"#aec7e8\",\"#1f77b4\",\"#aec7e8\",\"#aec7e8\",\"#ffbb78\",\"#ffbb78\",\"#ffbb78\",\"#1f77b4\",\"#ffbb78\",\"#1f77b4\",\"#aec7e8\",\"#ff7f0e\",\"#1f77b4\",\"#ff7f0e\",\"#1f77b4\",\"#aec7e8\",\"#ffbb78\",\"#aec7e8\",\"#ffbb78\",\"#aec7e8\",\"#1f77b4\",\"#ffbb78\",\"#ff7f0e\",\"#aec7e8\",\"#ffbb78\",\"#1f77b4\",\"#2ca02c\",\"#ffbb78\",\"#aec7e8\",\"#aec7e8\",\"#ffbb78\",\"#aec7e8\",\"#2ca02c\",\"#ffbb78\",\"#1f77b4\",\"#aec7e8\",\"#1f77b4\",\"#1f77b4\",\"#1f77b4\",\"#1f77b4\",\"#1f77b4\",\"#ff7f0e\",\"#aec7e8\",\"#aec7e8\",\"#ffbb78\",\"#aec7e8\",\"#ffbb78\",\"#1f77b4\",\"#aec7e8\",\"#aec7e8\",\"#aec7e8\",\"#1f77b4\",\"#2ca02c\",\"#1f77b4\",\"#ff7f0e\",\"#ffbb78\",\"#1f77b4\",\"#1f77b4\",\"#ffbb78\",\"#aec7e8\",\"#aec7e8\",\"#1f77b4\",\"#2ca02c\",\"#2ca02c\",\"#aec7e8\",\"#ffbb78\",\"#1f77b4\",\"#aec7e8\",\"#1f77b4\",\"#1f77b4\",\"#aec7e8\",\"#aec7e8\",\"#ffbb78\",\"#1f77b4\",\"#1f77b4\",\"#2ca02c\",\"#aec7e8\",\"#aec7e8\",\"#aec7e8\",\"#aec7e8\",\"#ff7f0e\",\"#1f77b4\",\"#1f77b4\",\"#ffbb78\",\"#1f77b4\",\"#1f77b4\",\"#aec7e8\",\"#ffbb78\",\"#aec7e8\",\"#1f77b4\",\"#ff7f0e\",\"#aec7e8\",\"#aec7e8\",\"#1f77b4\",\"#aec7e8\",\"#aec7e8\",\"#1f77b4\",\"#aec7e8\",\"#1f77b4\",\"#ffbb78\",\"#1f77b4\",\"#1f77b4\",\"#aec7e8\",\"#1f77b4\",\"#aec7e8\",\"#1f77b4\",\"#1f77b4\",\"#aec7e8\",\"#aec7e8\",\"#aec7e8\",\"#1f77b4\",\"#1f77b4\",\"#aec7e8\",\"#1f77b4\",\"#ffbb78\",\"#ffbb78\",\"#aec7e8\",\"#ffbb78\",\"#aec7e8\",\"#2ca02c\",\"#aec7e8\",\"#aec7e8\",\"#aec7e8\",\"#1f77b4\",\"#2ca02c\",\"#1f77b4\",\"#1f77b4\",\"#1f77b4\",\"#aec7e8\",\"#1f77b4\",\"#ffbb78\",\"#1f77b4\",\"#1f77b4\",\"#ffbb78\",\"#1f77b4\",\"#aec7e8\",\"#1f77b4\",\"#ff7f0e\",\"#ffbb78\",\"#1f77b4\",\"#aec7e8\",\"#aec7e8\",\"#aec7e8\",\"#1f77b4\",\"#2ca02c\",\"#2ca02c\",\"#2ca02c\",\"#1f77b4\",\"#aec7e8\",\"#ffbb78\",\"#1f77b4\",\"#1f77b4\",\"#aec7e8\",\"#ff7f0e\",\"#aec7e8\",\"#ff7f0e\",\"#1f77b4\",\"#aec7e8\",\"#1f77b4\",\"#aec7e8\",\"#ffbb78\",\"#aec7e8\",\"#1f77b4\",\"#ffbb78\",\"#1f77b4\",\"#1f77b4\",\"#1f77b4\",\"#aec7e8\",\"#aec7e8\",\"#ff7f0e\",\"#aec7e8\",\"#2ca02c\",\"#aec7e8\",\"#1f77b4\",\"#ffbb78\",\"#1f77b4\",\"#aec7e8\",\"#aec7e8\",\"#1f77b4\",\"#1f77b4\",\"#aec7e8\",\"#aec7e8\",\"#1f77b4\",\"#aec7e8\",\"#1f77b4\",\"#aec7e8\",\"#1f77b4\",\"#ffbb78\",\"#ff7f0e\",\"#aec7e8\",\"#ff7f0e\",\"#aec7e8\",\"#1f77b4\",\"#1f77b4\",\"#aec7e8\",\"#1f77b4\",\"#ffbb78\",\"#ff7f0e\",\"#1f77b4\",\"#ff7f0e\",\"#ff7f0e\",\"#ff7f0e\",\"#aec7e8\",\"#1f77b4\",\"#1f77b4\",\"#ffbb78\",\"#1f77b4\",\"#aec7e8\",\"#aec7e8\",\"#aec7e8\",\"#1f77b4\",\"#ffbb78\",\"#ff7f0e\",\"#ffbb78\",\"#1f77b4\",\"#ffbb78\",\"#aec7e8\",\"#1f77b4\",\"#aec7e8\",\"#1f77b4\",\"#1f77b4\",\"#ffbb78\",\"#aec7e8\",\"#1f77b4\",\"#1f77b4\",\"#1f77b4\",\"#aec7e8\",\"#aec7e8\",\"#1f77b4\",\"#1f77b4\",\"#1f77b4\",\"#aec7e8\",\"#1f77b4\",\"#1f77b4\",\"#ff7f0e\",\"#aec7e8\",\"#ff7f0e\",\"#98df8a\",\"#ffbb78\",\"#ffbb78\",\"#1f77b4\",\"#aec7e8\",\"#aec7e8\",\"#ffbb78\",\"#ffbb78\",\"#ffbb78\",\"#2ca02c\",\"#1f77b4\",\"#aec7e8\",\"#aec7e8\",\"#aec7e8\",\"#2ca02c\",\"#1f77b4\",\"#ff7f0e\",\"#2ca02c\",\"#ffbb78\",\"#aec7e8\",\"#1f77b4\",\"#ffbb78\",\"#1f77b4\",\"#1f77b4\",\"#aec7e8\",\"#ffbb78\",\"#1f77b4\",\"#aec7e8\",\"#aec7e8\",\"#1f77b4\",\"#ffbb78\",\"#1f77b4\",\"#1f77b4\",\"#aec7e8\",\"#aec7e8\",\"#aec7e8\",\"#1f77b4\",\"#1f77b4\",\"#aec7e8\",\"#1f77b4\",\"#2ca02c\",\"#aec7e8\",\"#1f77b4\",\"#aec7e8\",\"#1f77b4\",\"#aec7e8\",\"#1f77b4\",\"#ff7f0e\",\"#1f77b4\",\"#1f77b4\",\"#1f77b4\",\"#1f77b4\",\"#aec7e8\",\"#aec7e8\",\"#1f77b4\",\"#aec7e8\",\"#aec7e8\",\"#aec7e8\",\"#1f77b4\",\"#ffbb78\",\"#aec7e8\",\"#1f77b4\",\"#1f77b4\",\"#ffbb78\",\"#ffbb78\",\"#1f77b4\",\"#1f77b4\",\"#1f77b4\",\"#aec7e8\",\"#aec7e8\",\"#aec7e8\",\"#ffbb78\",\"#aec7e8\",\"#1f77b4\",\"#ffbb78\",\"#1f77b4\",\"#1f77b4\",\"#ff7f0e\",\"#1f77b4\",\"#98df8a\",\"#1f77b4\",\"#ffbb78\",\"#1f77b4\",\"#2ca02c\",\"#1f77b4\",\"#ff7f0e\",\"#1f77b4\",\"#aec7e8\",\"#1f77b4\",\"#aec7e8\",\"#aec7e8\",\"#aec7e8\",\"#aec7e8\",\"#1f77b4\",\"#aec7e8\",\"#aec7e8\",\"#1f77b4\",\"#aec7e8\",\"#aec7e8\",\"#1f77b4\",\"#ffbb78\",\"#1f77b4\",\"#1f77b4\",\"#aec7e8\",\"#aec7e8\",\"#ff7f0e\",\"#ffbb78\",\"#1f77b4\",\"#1f77b4\",\"#1f77b4\",\"#aec7e8\",\"#aec7e8\",\"#ff7f0e\",\"#1f77b4\",\"#ffbb78\",\"#aec7e8\",\"#ff7f0e\",\"#aec7e8\",\"#1f77b4\",\"#ffbb78\",\"#1f77b4\",\"#ffbb78\",\"#aec7e8\",\"#aec7e8\",\"#1f77b4\",\"#ff7f0e\",\"#ffbb78\",\"#1f77b4\",\"#aec7e8\",\"#aec7e8\",\"#1f77b4\",\"#aec7e8\",\"#1f77b4\",\"#aec7e8\",\"#2ca02c\",\"#ffbb78\",\"#1f77b4\",\"#aec7e8\",\"#ffbb78\",\"#1f77b4\",\"#1f77b4\",\"#aec7e8\",\"#ffbb78\",\"#2ca02c\",\"#aec7e8\",\"#aec7e8\",\"#ff7f0e\",\"#aec7e8\",\"#ffbb78\",\"#1f77b4\",\"#ff7f0e\",\"#aec7e8\",\"#1f77b4\",\"#aec7e8\",\"#ffbb78\",\"#1f77b4\",\"#1f77b4\",\"#ff7f0e\",\"#ff7f0e\",\"#1f77b4\",\"#1f77b4\",\"#1f77b4\",\"#ffbb78\",\"#1f77b4\",\"#1f77b4\",\"#1f77b4\",\"#1f77b4\",\"#1f77b4\",\"#1f77b4\",\"#1f77b4\",\"#aec7e8\",\"#ffbb78\",\"#1f77b4\",\"#aec7e8\",\"#1f77b4\",\"#aec7e8\",\"#1f77b4\",\"#2ca02c\",\"#1f77b4\",\"#1f77b4\",\"#1f77b4\",\"#1f77b4\",\"#aec7e8\",\"#1f77b4\",\"#aec7e8\",\"#ffbb78\",\"#aec7e8\",\"#aec7e8\",\"#1f77b4\",\"#1f77b4\",\"#ff7f0e\",\"#2ca02c\",\"#ffbb78\",\"#aec7e8\",\"#ffbb78\",\"#ffbb78\",\"#1f77b4\",\"#1f77b4\",\"#ffbb78\",\"#1f77b4\",\"#1f77b4\",\"#1f77b4\",\"#2ca02c\",\"#aec7e8\",\"#1f77b4\",\"#1f77b4\",\"#aec7e8\",\"#ffbb78\",\"#ffbb78\",\"#aec7e8\",\"#1f77b4\",\"#ffbb78\",\"#aec7e8\",\"#1f77b4\",\"#aec7e8\",\"#aec7e8\",\"#ff7f0e\",\"#ffbb78\",\"#aec7e8\",\"#aec7e8\",\"#1f77b4\",\"#ffbb78\",\"#aec7e8\",\"#1f77b4\",\"#ffbb78\",\"#1f77b4\",\"#aec7e8\",\"#1f77b4\",\"#1f77b4\",\"#ff7f0e\",\"#1f77b4\",\"#ffbb78\",\"#ffbb78\",\"#aec7e8\",\"#ff7f0e\",\"#1f77b4\",\"#1f77b4\",\"#aec7e8\",\"#ffbb78\",\"#1f77b4\",\"#ffbb78\",\"#ff7f0e\",\"#ff7f0e\",\"#1f77b4\",\"#aec7e8\",\"#1f77b4\",\"#ff7f0e\",\"#aec7e8\",\"#1f77b4\",\"#ffbb78\",\"#ff7f0e\",\"#ff7f0e\",\"#1f77b4\",\"#aec7e8\",\"#1f77b4\",\"#aec7e8\",\"#1f77b4\",\"#aec7e8\",\"#1f77b4\",\"#ffbb78\",\"#aec7e8\",\"#aec7e8\",\"#1f77b4\",\"#aec7e8\",\"#aec7e8\",\"#1f77b4\",\"#aec7e8\",\"#1f77b4\",\"#aec7e8\",\"#ff7f0e\",\"#1f77b4\",\"#1f77b4\",\"#ffbb78\",\"#ff7f0e\",\"#ffbb78\",\"#1f77b4\",\"#aec7e8\",\"#aec7e8\",\"#aec7e8\",\"#1f77b4\",\"#aec7e8\",\"#1f77b4\",\"#aec7e8\",\"#aec7e8\",\"#aec7e8\",\"#ff7f0e\",\"#ff7f0e\",\"#1f77b4\",\"#aec7e8\",\"#aec7e8\",\"#1f77b4\",\"#aec7e8\",\"#ffbb78\",\"#98df8a\",\"#ffbb78\",\"#1f77b4\",\"#1f77b4\",\"#1f77b4\",\"#1f77b4\",\"#aec7e8\",\"#2ca02c\",\"#aec7e8\",\"#aec7e8\",\"#ff7f0e\",\"#aec7e8\",\"#2ca02c\",\"#ff7f0e\",\"#1f77b4\",\"#ffbb78\",\"#1f77b4\",\"#ffbb78\",\"#1f77b4\",\"#aec7e8\",\"#1f77b4\",\"#aec7e8\",\"#1f77b4\",\"#aec7e8\",\"#ffbb78\",\"#aec7e8\",\"#1f77b4\",\"#ff7f0e\",\"#1f77b4\",\"#1f77b4\",\"#ffbb78\",\"#aec7e8\",\"#1f77b4\",\"#1f77b4\",\"#ffbb78\",\"#1f77b4\",\"#1f77b4\",\"#aec7e8\",\"#ff7f0e\",\"#aec7e8\",\"#1f77b4\",\"#aec7e8\",\"#1f77b4\",\"#ffbb78\",\"#1f77b4\",\"#ffbb78\",\"#ffbb78\",\"#1f77b4\",\"#aec7e8\",\"#1f77b4\",\"#1f77b4\",\"#1f77b4\",\"#aec7e8\",\"#1f77b4\",\"#aec7e8\",\"#ffbb78\",\"#1f77b4\",\"#aec7e8\",\"#ff7f0e\",\"#1f77b4\",\"#1f77b4\",\"#aec7e8\",\"#1f77b4\",\"#aec7e8\",\"#1f77b4\",\"#ffbb78\",\"#1f77b4\",\"#1f77b4\",\"#1f77b4\",\"#1f77b4\",\"#aec7e8\",\"#aec7e8\",\"#2ca02c\",\"#1f77b4\",\"#1f77b4\",\"#1f77b4\",\"#aec7e8\",\"#1f77b4\",\"#1f77b4\",\"#1f77b4\",\"#1f77b4\",\"#ff7f0e\",\"#1f77b4\",\"#ffbb78\",\"#ffbb78\",\"#1f77b4\",\"#aec7e8\",\"#1f77b4\",\"#aec7e8\",\"#1f77b4\",\"#ffbb78\",\"#ffbb78\",\"#ff7f0e\",\"#1f77b4\",\"#aec7e8\",\"#ffbb78\",\"#ff7f0e\",\"#ffbb78\",\"#1f77b4\",\"#ffbb78\",\"#1f77b4\",\"#aec7e8\",\"#2ca02c\",\"#aec7e8\",\"#1f77b4\",\"#1f77b4\",\"#1f77b4\",\"#aec7e8\",\"#aec7e8\",\"#1f77b4\",\"#2ca02c\",\"#ff7f0e\",\"#aec7e8\",\"#1f77b4\",\"#ff7f0e\",\"#1f77b4\",\"#1f77b4\",\"#98df8a\",\"#1f77b4\",\"#1f77b4\",\"#aec7e8\",\"#aec7e8\",\"#aec7e8\",\"#aec7e8\",\"#aec7e8\",\"#1f77b4\",\"#aec7e8\",\"#1f77b4\",\"#ffbb78\",\"#ffbb78\",\"#aec7e8\",\"#aec7e8\",\"#1f77b4\",\"#aec7e8\",\"#2ca02c\",\"#1f77b4\",\"#1f77b4\",\"#1f77b4\",\"#1f77b4\",\"#1f77b4\",\"#1f77b4\",\"#1f77b4\",\"#aec7e8\",\"#ffbb78\",\"#1f77b4\",\"#aec7e8\",\"#aec7e8\",\"#aec7e8\",\"#1f77b4\",\"#aec7e8\",\"#2ca02c\",\"#1f77b4\",\"#ff7f0e\",\"#2ca02c\",\"#aec7e8\",\"#1f77b4\",\"#1f77b4\",\"#1f77b4\",\"#1f77b4\",\"#1f77b4\",\"#ffbb78\",\"#2ca02c\",\"#aec7e8\",\"#aec7e8\",\"#ff7f0e\",\"#aec7e8\",\"#ff7f0e\",\"#aec7e8\",\"#aec7e8\",\"#aec7e8\",\"#aec7e8\",\"#1f77b4\",\"#1f77b4\",\"#aec7e8\",\"#aec7e8\",\"#aec7e8\",\"#ffbb78\",\"#2ca02c\",\"#1f77b4\",\"#ff7f0e\",\"#ff7f0e\",\"#ffbb78\",\"#aec7e8\",\"#1f77b4\",\"#2ca02c\",\"#ff7f0e\",\"#ffbb78\",\"#aec7e8\",\"#1f77b4\",\"#aec7e8\",\"#aec7e8\",\"#1f77b4\",\"#aec7e8\",\"#aec7e8\",\"#aec7e8\",\"#ffbb78\",\"#1f77b4\",\"#ffbb78\",\"#aec7e8\",\"#ffbb78\",\"#1f77b4\",\"#1f77b4\",\"#1f77b4\",\"#aec7e8\",\"#ff7f0e\",\"#1f77b4\",\"#ffbb78\",\"#1f77b4\",\"#1f77b4\",\"#ffbb78\",\"#1f77b4\",\"#1f77b4\",\"#aec7e8\",\"#aec7e8\",\"#1f77b4\",\"#1f77b4\",\"#1f77b4\",\"#aec7e8\",\"#ff7f0e\",\"#ff7f0e\",\"#ffbb78\",\"#aec7e8\",\"#2ca02c\",\"#aec7e8\",\"#1f77b4\",\"#1f77b4\",\"#1f77b4\",\"#aec7e8\",\"#aec7e8\",\"#aec7e8\",\"#1f77b4\",\"#ffbb78\",\"#1f77b4\",\"#1f77b4\",\"#1f77b4\",\"#1f77b4\",\"#aec7e8\",\"#1f77b4\",\"#1f77b4\",\"#1f77b4\",\"#aec7e8\",\"#aec7e8\",\"#aec7e8\",\"#1f77b4\",\"#1f77b4\",\"#1f77b4\",\"#1f77b4\",\"#aec7e8\",\"#ffbb78\",\"#aec7e8\",\"#1f77b4\",\"#ffbb78\",\"#ffbb78\",\"#1f77b4\",\"#aec7e8\",\"#aec7e8\",\"#ffbb78\",\"#2ca02c\",\"#1f77b4\",\"#ffbb78\",\"#2ca02c\",\"#aec7e8\",\"#1f77b4\",\"#1f77b4\",\"#aec7e8\",\"#aec7e8\",\"#aec7e8\",\"#1f77b4\",\"#1f77b4\",\"#aec7e8\",\"#1f77b4\",\"#ffbb78\",\"#ffbb78\",\"#1f77b4\",\"#aec7e8\",\"#1f77b4\",\"#ffbb78\",\"#aec7e8\",\"#ff7f0e\",\"#ffbb78\",\"#aec7e8\",\"#1f77b4\",\"#ff7f0e\",\"#aec7e8\",\"#aec7e8\",\"#1f77b4\",\"#1f77b4\",\"#aec7e8\",\"#1f77b4\"],\"line_color\":[\"#aec7e8\",\"#ffbb78\",\"#1f77b4\",\"#1f77b4\",\"#ffbb78\",\"#aec7e8\",\"#1f77b4\",\"#ff7f0e\",\"#2ca02c\",\"#aec7e8\",\"#aec7e8\",\"#1f77b4\",\"#aec7e8\",\"#1f77b4\",\"#1f77b4\",\"#aec7e8\",\"#ffbb78\",\"#aec7e8\",\"#aec7e8\",\"#aec7e8\",\"#aec7e8\",\"#2ca02c\",\"#aec7e8\",\"#1f77b4\",\"#98df8a\",\"#ff7f0e\",\"#1f77b4\",\"#1f77b4\",\"#ff7f0e\",\"#aec7e8\",\"#1f77b4\",\"#1f77b4\",\"#aec7e8\",\"#1f77b4\",\"#aec7e8\",\"#aec7e8\",\"#aec7e8\",\"#aec7e8\",\"#aec7e8\",\"#aec7e8\",\"#1f77b4\",\"#ffbb78\",\"#ffbb78\",\"#aec7e8\",\"#ffbb78\",\"#1f77b4\",\"#aec7e8\",\"#aec7e8\",\"#aec7e8\",\"#1f77b4\",\"#aec7e8\",\"#aec7e8\",\"#1f77b4\",\"#aec7e8\",\"#ff7f0e\",\"#aec7e8\",\"#1f77b4\",\"#1f77b4\",\"#1f77b4\",\"#1f77b4\",\"#1f77b4\",\"#2ca02c\",\"#1f77b4\",\"#ff7f0e\",\"#1f77b4\",\"#aec7e8\",\"#1f77b4\",\"#aec7e8\",\"#aec7e8\",\"#1f77b4\",\"#aec7e8\",\"#2ca02c\",\"#aec7e8\",\"#1f77b4\",\"#aec7e8\",\"#aec7e8\",\"#1f77b4\",\"#ffbb78\",\"#1f77b4\",\"#1f77b4\",\"#2ca02c\",\"#1f77b4\",\"#aec7e8\",\"#aec7e8\",\"#ff7f0e\",\"#ffbb78\",\"#ff7f0e\",\"#ffbb78\",\"#ffbb78\",\"#1f77b4\",\"#1f77b4\",\"#1f77b4\",\"#1f77b4\",\"#aec7e8\",\"#1f77b4\",\"#aec7e8\",\"#aec7e8\",\"#aec7e8\",\"#aec7e8\",\"#1f77b4\",\"#1f77b4\",\"#ffbb78\",\"#1f77b4\",\"#aec7e8\",\"#ff7f0e\",\"#ffbb78\",\"#1f77b4\",\"#1f77b4\",\"#aec7e8\",\"#1f77b4\",\"#aec7e8\",\"#2ca02c\",\"#1f77b4\",\"#aec7e8\",\"#aec7e8\",\"#aec7e8\",\"#ffbb78\",\"#1f77b4\",\"#aec7e8\",\"#aec7e8\",\"#aec7e8\",\"#ff7f0e\",\"#ffbb78\",\"#aec7e8\",\"#aec7e8\",\"#aec7e8\",\"#1f77b4\",\"#1f77b4\",\"#1f77b4\",\"#ffbb78\",\"#ffbb78\",\"#1f77b4\",\"#aec7e8\",\"#1f77b4\",\"#aec7e8\",\"#aec7e8\",\"#aec7e8\",\"#aec7e8\",\"#1f77b4\",\"#aec7e8\",\"#ff7f0e\",\"#aec7e8\",\"#aec7e8\",\"#1f77b4\",\"#1f77b4\",\"#aec7e8\",\"#aec7e8\",\"#1f77b4\",\"#1f77b4\",\"#aec7e8\",\"#aec7e8\",\"#1f77b4\",\"#aec7e8\",\"#ff7f0e\",\"#ff7f0e\",\"#1f77b4\",\"#1f77b4\",\"#1f77b4\",\"#2ca02c\",\"#ffbb78\",\"#1f77b4\",\"#aec7e8\",\"#1f77b4\",\"#1f77b4\",\"#1f77b4\",\"#aec7e8\",\"#1f77b4\",\"#aec7e8\",\"#aec7e8\",\"#1f77b4\",\"#ff7f0e\",\"#aec7e8\",\"#aec7e8\",\"#ff7f0e\",\"#ff7f0e\",\"#ffbb78\",\"#1f77b4\",\"#1f77b4\",\"#aec7e8\",\"#aec7e8\",\"#1f77b4\",\"#aec7e8\",\"#ff7f0e\",\"#aec7e8\",\"#aec7e8\",\"#2ca02c\",\"#1f77b4\",\"#ff7f0e\",\"#1f77b4\",\"#ff7f0e\",\"#1f77b4\",\"#aec7e8\",\"#ffbb78\",\"#1f77b4\",\"#1f77b4\",\"#aec7e8\",\"#ffbb78\",\"#1f77b4\",\"#aec7e8\",\"#1f77b4\",\"#1f77b4\",\"#1f77b4\",\"#1f77b4\",\"#ffbb78\",\"#1f77b4\",\"#ffbb78\",\"#aec7e8\",\"#1f77b4\",\"#ff7f0e\",\"#ffbb78\",\"#aec7e8\",\"#aec7e8\",\"#aec7e8\",\"#1f77b4\",\"#aec7e8\",\"#aec7e8\",\"#ff7f0e\",\"#ff7f0e\",\"#1f77b4\",\"#ffbb78\",\"#1f77b4\",\"#2ca02c\",\"#ffbb78\",\"#1f77b4\",\"#1f77b4\",\"#aec7e8\",\"#aec7e8\",\"#aec7e8\",\"#1f77b4\",\"#1f77b4\",\"#ffbb78\",\"#aec7e8\",\"#1f77b4\",\"#1f77b4\",\"#aec7e8\",\"#1f77b4\",\"#ffbb78\",\"#1f77b4\",\"#1f77b4\",\"#aec7e8\",\"#1f77b4\",\"#1f77b4\",\"#aec7e8\",\"#aec7e8\",\"#aec7e8\",\"#aec7e8\",\"#1f77b4\",\"#aec7e8\",\"#aec7e8\",\"#ff7f0e\",\"#ff7f0e\",\"#aec7e8\",\"#aec7e8\",\"#aec7e8\",\"#aec7e8\",\"#ffbb78\",\"#aec7e8\",\"#1f77b4\",\"#1f77b4\",\"#1f77b4\",\"#1f77b4\",\"#aec7e8\",\"#aec7e8\",\"#aec7e8\",\"#aec7e8\",\"#1f77b4\",\"#1f77b4\",\"#aec7e8\",\"#aec7e8\",\"#1f77b4\",\"#aec7e8\",\"#1f77b4\",\"#1f77b4\",\"#1f77b4\",\"#2ca02c\",\"#1f77b4\",\"#aec7e8\",\"#1f77b4\",\"#aec7e8\",\"#aec7e8\",\"#1f77b4\",\"#ffbb78\",\"#ffbb78\",\"#aec7e8\",\"#ffbb78\",\"#aec7e8\",\"#1f77b4\",\"#ffbb78\",\"#ff7f0e\",\"#1f77b4\",\"#1f77b4\",\"#1f77b4\",\"#aec7e8\",\"#aec7e8\",\"#1f77b4\",\"#ffbb78\",\"#1f77b4\",\"#ff7f0e\",\"#aec7e8\",\"#1f77b4\",\"#1f77b4\",\"#ff7f0e\",\"#aec7e8\",\"#1f77b4\",\"#aec7e8\",\"#1f77b4\",\"#aec7e8\",\"#ffbb78\",\"#1f77b4\",\"#1f77b4\",\"#1f77b4\",\"#aec7e8\",\"#ff7f0e\",\"#1f77b4\",\"#ffbb78\",\"#ffbb78\",\"#1f77b4\",\"#ffbb78\",\"#1f77b4\",\"#1f77b4\",\"#ffbb78\",\"#1f77b4\",\"#1f77b4\",\"#1f77b4\",\"#aec7e8\",\"#ffbb78\",\"#ffbb78\",\"#aec7e8\",\"#aec7e8\",\"#aec7e8\",\"#1f77b4\",\"#aec7e8\",\"#aec7e8\",\"#ff7f0e\",\"#2ca02c\",\"#aec7e8\",\"#1f77b4\",\"#aec7e8\",\"#aec7e8\",\"#1f77b4\",\"#2ca02c\",\"#1f77b4\",\"#aec7e8\",\"#1f77b4\",\"#aec7e8\",\"#aec7e8\",\"#aec7e8\",\"#2ca02c\",\"#1f77b4\",\"#aec7e8\",\"#aec7e8\",\"#1f77b4\",\"#aec7e8\",\"#aec7e8\",\"#aec7e8\",\"#aec7e8\",\"#1f77b4\",\"#1f77b4\",\"#1f77b4\",\"#aec7e8\",\"#aec7e8\",\"#1f77b4\",\"#1f77b4\",\"#1f77b4\",\"#ffbb78\",\"#1f77b4\",\"#1f77b4\",\"#2ca02c\",\"#1f77b4\",\"#aec7e8\",\"#2ca02c\",\"#ff7f0e\",\"#aec7e8\",\"#1f77b4\",\"#1f77b4\",\"#aec7e8\",\"#1f77b4\",\"#1f77b4\",\"#1f77b4\",\"#1f77b4\",\"#ffbb78\",\"#2ca02c\",\"#aec7e8\",\"#ff7f0e\",\"#aec7e8\",\"#1f77b4\",\"#ff7f0e\",\"#ffbb78\",\"#aec7e8\",\"#ff7f0e\",\"#aec7e8\",\"#ff7f0e\",\"#aec7e8\",\"#1f77b4\",\"#aec7e8\",\"#ffbb78\",\"#aec7e8\",\"#1f77b4\",\"#aec7e8\",\"#ffbb78\",\"#aec7e8\",\"#aec7e8\",\"#aec7e8\",\"#1f77b4\",\"#aec7e8\",\"#ffbb78\",\"#1f77b4\",\"#1f77b4\",\"#1f77b4\",\"#2ca02c\",\"#aec7e8\",\"#ffbb78\",\"#aec7e8\",\"#aec7e8\",\"#1f77b4\",\"#1f77b4\",\"#1f77b4\",\"#1f77b4\",\"#1f77b4\",\"#1f77b4\",\"#aec7e8\",\"#aec7e8\",\"#ffbb78\",\"#1f77b4\",\"#1f77b4\",\"#aec7e8\",\"#1f77b4\",\"#1f77b4\",\"#aec7e8\",\"#ffbb78\",\"#1f77b4\",\"#1f77b4\",\"#1f77b4\",\"#aec7e8\",\"#ffbb78\",\"#1f77b4\",\"#aec7e8\",\"#1f77b4\",\"#1f77b4\",\"#1f77b4\",\"#aec7e8\",\"#aec7e8\",\"#aec7e8\",\"#aec7e8\",\"#ffbb78\",\"#aec7e8\",\"#aec7e8\",\"#aec7e8\",\"#aec7e8\",\"#1f77b4\",\"#1f77b4\",\"#1f77b4\",\"#aec7e8\",\"#1f77b4\",\"#aec7e8\",\"#1f77b4\",\"#2ca02c\",\"#ffbb78\",\"#aec7e8\",\"#aec7e8\",\"#1f77b4\",\"#1f77b4\",\"#1f77b4\",\"#aec7e8\",\"#ffbb78\",\"#aec7e8\",\"#1f77b4\",\"#1f77b4\",\"#aec7e8\",\"#ff7f0e\",\"#ff7f0e\",\"#aec7e8\",\"#ff7f0e\",\"#aec7e8\",\"#ff7f0e\",\"#2ca02c\",\"#1f77b4\",\"#1f77b4\",\"#ff7f0e\",\"#1f77b4\",\"#ff7f0e\",\"#aec7e8\",\"#aec7e8\",\"#aec7e8\",\"#1f77b4\",\"#1f77b4\",\"#1f77b4\",\"#98df8a\",\"#1f77b4\",\"#aec7e8\",\"#1f77b4\",\"#1f77b4\",\"#aec7e8\",\"#1f77b4\",\"#1f77b4\",\"#ffbb78\",\"#ffbb78\",\"#aec7e8\",\"#aec7e8\",\"#ffbb78\",\"#1f77b4\",\"#aec7e8\",\"#ffbb78\",\"#ff7f0e\",\"#1f77b4\",\"#1f77b4\",\"#ffbb78\",\"#1f77b4\",\"#1f77b4\",\"#aec7e8\",\"#ffbb78\",\"#aec7e8\",\"#aec7e8\",\"#1f77b4\",\"#aec7e8\",\"#1f77b4\",\"#aec7e8\",\"#ffbb78\",\"#1f77b4\",\"#1f77b4\",\"#aec7e8\",\"#1f77b4\",\"#1f77b4\",\"#ff7f0e\",\"#aec7e8\",\"#ffbb78\",\"#aec7e8\",\"#aec7e8\",\"#1f77b4\",\"#1f77b4\",\"#aec7e8\",\"#1f77b4\",\"#1f77b4\",\"#aec7e8\",\"#1f77b4\",\"#1f77b4\",\"#1f77b4\",\"#ffbb78\",\"#aec7e8\",\"#aec7e8\",\"#1f77b4\",\"#ff7f0e\",\"#1f77b4\",\"#aec7e8\",\"#ffbb78\",\"#1f77b4\",\"#aec7e8\",\"#1f77b4\",\"#1f77b4\",\"#aec7e8\",\"#aec7e8\",\"#aec7e8\",\"#1f77b4\",\"#2ca02c\",\"#1f77b4\",\"#1f77b4\",\"#aec7e8\",\"#aec7e8\",\"#aec7e8\",\"#1f77b4\",\"#ff7f0e\",\"#aec7e8\",\"#aec7e8\",\"#1f77b4\",\"#1f77b4\",\"#1f77b4\",\"#aec7e8\",\"#aec7e8\",\"#aec7e8\",\"#2ca02c\",\"#1f77b4\",\"#aec7e8\",\"#aec7e8\",\"#2ca02c\",\"#1f77b4\",\"#aec7e8\",\"#1f77b4\",\"#aec7e8\",\"#1f77b4\",\"#ffbb78\",\"#2ca02c\",\"#ff7f0e\",\"#2ca02c\",\"#1f77b4\",\"#aec7e8\",\"#2ca02c\",\"#1f77b4\",\"#1f77b4\",\"#1f77b4\",\"#1f77b4\",\"#ffbb78\",\"#1f77b4\",\"#1f77b4\",\"#ffbb78\",\"#1f77b4\",\"#aec7e8\",\"#1f77b4\",\"#1f77b4\",\"#1f77b4\",\"#1f77b4\",\"#1f77b4\",\"#ffbb78\",\"#ffbb78\",\"#aec7e8\",\"#aec7e8\",\"#1f77b4\",\"#aec7e8\",\"#ffbb78\",\"#1f77b4\",\"#ffbb78\",\"#ff7f0e\",\"#aec7e8\",\"#1f77b4\",\"#aec7e8\",\"#aec7e8\",\"#1f77b4\",\"#1f77b4\",\"#ffbb78\",\"#1f77b4\",\"#aec7e8\",\"#1f77b4\",\"#aec7e8\",\"#aec7e8\",\"#ff7f0e\",\"#1f77b4\",\"#1f77b4\",\"#1f77b4\",\"#2ca02c\",\"#1f77b4\",\"#aec7e8\",\"#aec7e8\",\"#aec7e8\",\"#aec7e8\",\"#ffbb78\",\"#1f77b4\",\"#98df8a\",\"#1f77b4\",\"#1f77b4\",\"#aec7e8\",\"#1f77b4\",\"#ff7f0e\",\"#ffbb78\",\"#1f77b4\",\"#aec7e8\",\"#aec7e8\",\"#1f77b4\",\"#aec7e8\",\"#ff7f0e\",\"#aec7e8\",\"#aec7e8\",\"#aec7e8\",\"#aec7e8\",\"#aec7e8\",\"#aec7e8\",\"#1f77b4\",\"#1f77b4\",\"#aec7e8\",\"#aec7e8\",\"#1f77b4\",\"#aec7e8\",\"#ffbb78\",\"#1f77b4\",\"#ffbb78\",\"#1f77b4\",\"#1f77b4\",\"#2ca02c\",\"#aec7e8\",\"#1f77b4\",\"#2ca02c\",\"#1f77b4\",\"#ffbb78\",\"#1f77b4\",\"#1f77b4\",\"#aec7e8\",\"#ff7f0e\",\"#1f77b4\",\"#1f77b4\",\"#1f77b4\",\"#aec7e8\",\"#aec7e8\",\"#1f77b4\",\"#aec7e8\",\"#aec7e8\",\"#aec7e8\",\"#aec7e8\",\"#aec7e8\",\"#1f77b4\",\"#1f77b4\",\"#1f77b4\",\"#ffbb78\",\"#aec7e8\",\"#aec7e8\",\"#1f77b4\",\"#1f77b4\",\"#ff7f0e\",\"#aec7e8\",\"#aec7e8\",\"#ffbb78\",\"#1f77b4\",\"#ff7f0e\",\"#aec7e8\",\"#1f77b4\",\"#aec7e8\",\"#aec7e8\",\"#ffbb78\",\"#ffbb78\",\"#aec7e8\",\"#1f77b4\",\"#aec7e8\",\"#ff7f0e\",\"#ff7f0e\",\"#ffbb78\",\"#aec7e8\",\"#1f77b4\",\"#ffbb78\",\"#aec7e8\",\"#aec7e8\",\"#1f77b4\",\"#1f77b4\",\"#aec7e8\",\"#ffbb78\",\"#ff7f0e\",\"#aec7e8\",\"#aec7e8\",\"#ffbb78\",\"#1f77b4\",\"#ff7f0e\",\"#1f77b4\",\"#aec7e8\",\"#2ca02c\",\"#aec7e8\",\"#1f77b4\",\"#aec7e8\",\"#1f77b4\",\"#ffbb78\",\"#2ca02c\",\"#aec7e8\",\"#ffbb78\",\"#1f77b4\",\"#1f77b4\",\"#ff7f0e\",\"#ffbb78\",\"#1f77b4\",\"#1f77b4\",\"#1f77b4\",\"#1f77b4\",\"#aec7e8\",\"#aec7e8\",\"#ff7f0e\",\"#ff7f0e\",\"#ffbb78\",\"#aec7e8\",\"#aec7e8\",\"#ffbb78\",\"#aec7e8\",\"#aec7e8\",\"#1f77b4\",\"#ff7f0e\",\"#aec7e8\",\"#aec7e8\",\"#ff7f0e\",\"#1f77b4\",\"#1f77b4\",\"#2ca02c\",\"#1f77b4\",\"#ff7f0e\",\"#1f77b4\",\"#ffbb78\",\"#aec7e8\",\"#ffbb78\",\"#2ca02c\",\"#aec7e8\",\"#aec7e8\",\"#aec7e8\",\"#ffbb78\",\"#1f77b4\",\"#aec7e8\",\"#ff7f0e\",\"#ffbb78\",\"#ffbb78\",\"#1f77b4\",\"#1f77b4\",\"#1f77b4\",\"#1f77b4\",\"#aec7e8\",\"#1f77b4\",\"#1f77b4\",\"#1f77b4\",\"#ffbb78\",\"#1f77b4\",\"#1f77b4\",\"#2ca02c\",\"#ffbb78\",\"#ff7f0e\",\"#1f77b4\",\"#aec7e8\",\"#1f77b4\",\"#1f77b4\",\"#aec7e8\",\"#ffbb78\",\"#aec7e8\",\"#ff7f0e\",\"#aec7e8\",\"#1f77b4\",\"#1f77b4\",\"#ffbb78\",\"#1f77b4\",\"#ff7f0e\",\"#2ca02c\",\"#aec7e8\",\"#1f77b4\",\"#1f77b4\",\"#aec7e8\",\"#aec7e8\",\"#1f77b4\",\"#1f77b4\",\"#aec7e8\",\"#1f77b4\",\"#aec7e8\",\"#aec7e8\",\"#1f77b4\",\"#ff7f0e\",\"#aec7e8\",\"#ff7f0e\",\"#aec7e8\",\"#ff7f0e\",\"#aec7e8\",\"#1f77b4\",\"#aec7e8\",\"#aec7e8\",\"#ff7f0e\",\"#1f77b4\",\"#aec7e8\",\"#ffbb78\",\"#1f77b4\",\"#1f77b4\",\"#aec7e8\",\"#ffbb78\",\"#1f77b4\",\"#aec7e8\",\"#1f77b4\",\"#aec7e8\",\"#1f77b4\",\"#1f77b4\",\"#1f77b4\",\"#1f77b4\",\"#1f77b4\",\"#1f77b4\",\"#1f77b4\",\"#2ca02c\",\"#ffbb78\",\"#1f77b4\",\"#2ca02c\",\"#aec7e8\",\"#1f77b4\",\"#1f77b4\",\"#1f77b4\",\"#aec7e8\",\"#aec7e8\",\"#ffbb78\",\"#aec7e8\",\"#aec7e8\",\"#aec7e8\",\"#aec7e8\",\"#1f77b4\",\"#1f77b4\",\"#1f77b4\",\"#ffbb78\",\"#ff7f0e\",\"#1f77b4\",\"#1f77b4\",\"#ffbb78\",\"#1f77b4\",\"#aec7e8\",\"#1f77b4\",\"#aec7e8\",\"#ff7f0e\",\"#aec7e8\",\"#1f77b4\",\"#ff7f0e\",\"#aec7e8\",\"#aec7e8\",\"#1f77b4\",\"#2ca02c\",\"#1f77b4\",\"#ffbb78\",\"#aec7e8\",\"#1f77b4\",\"#ff7f0e\",\"#ffbb78\",\"#aec7e8\",\"#1f77b4\",\"#ff7f0e\",\"#ffbb78\",\"#1f77b4\",\"#1f77b4\",\"#1f77b4\",\"#aec7e8\",\"#ffbb78\",\"#1f77b4\",\"#1f77b4\",\"#aec7e8\",\"#ff7f0e\",\"#1f77b4\",\"#1f77b4\",\"#1f77b4\",\"#aec7e8\",\"#aec7e8\",\"#aec7e8\",\"#aec7e8\",\"#1f77b4\",\"#aec7e8\",\"#aec7e8\",\"#ffbb78\",\"#ffbb78\",\"#aec7e8\",\"#1f77b4\",\"#aec7e8\",\"#aec7e8\",\"#aec7e8\",\"#ffbb78\",\"#ffbb78\",\"#1f77b4\",\"#1f77b4\",\"#1f77b4\",\"#ffbb78\",\"#aec7e8\",\"#ff7f0e\",\"#2ca02c\",\"#aec7e8\",\"#ff7f0e\",\"#1f77b4\",\"#1f77b4\",\"#aec7e8\",\"#ffbb78\",\"#1f77b4\",\"#2ca02c\",\"#1f77b4\",\"#1f77b4\",\"#1f77b4\",\"#aec7e8\",\"#1f77b4\",\"#1f77b4\",\"#1f77b4\",\"#aec7e8\",\"#1f77b4\",\"#1f77b4\",\"#aec7e8\",\"#ff7f0e\",\"#1f77b4\",\"#1f77b4\",\"#1f77b4\",\"#aec7e8\",\"#aec7e8\",\"#aec7e8\",\"#1f77b4\",\"#1f77b4\",\"#aec7e8\",\"#aec7e8\",\"#1f77b4\",\"#aec7e8\",\"#ffbb78\",\"#1f77b4\",\"#1f77b4\",\"#aec7e8\",\"#aec7e8\",\"#aec7e8\",\"#1f77b4\",\"#ffbb78\",\"#1f77b4\",\"#ffbb78\",\"#aec7e8\",\"#aec7e8\",\"#ffbb78\",\"#aec7e8\",\"#1f77b4\",\"#2ca02c\",\"#1f77b4\",\"#aec7e8\",\"#ff7f0e\",\"#ffbb78\",\"#1f77b4\",\"#aec7e8\",\"#aec7e8\",\"#1f77b4\",\"#aec7e8\",\"#aec7e8\",\"#1f77b4\",\"#aec7e8\",\"#1f77b4\",\"#1f77b4\",\"#aec7e8\",\"#1f77b4\",\"#aec7e8\",\"#ffbb78\",\"#aec7e8\",\"#aec7e8\",\"#1f77b4\",\"#1f77b4\",\"#ffbb78\",\"#aec7e8\",\"#aec7e8\",\"#aec7e8\",\"#aec7e8\",\"#ffbb78\",\"#aec7e8\",\"#ffbb78\",\"#ffbb78\",\"#1f77b4\",\"#1f77b4\",\"#1f77b4\",\"#ffbb78\",\"#ff7f0e\",\"#aec7e8\",\"#aec7e8\",\"#aec7e8\",\"#ffbb78\",\"#aec7e8\",\"#ffbb78\",\"#2ca02c\",\"#1f77b4\",\"#1f77b4\",\"#aec7e8\",\"#1f77b4\",\"#ffbb78\",\"#1f77b4\",\"#1f77b4\",\"#1f77b4\",\"#ff7f0e\",\"#1f77b4\",\"#1f77b4\",\"#aec7e8\",\"#1f77b4\",\"#ffbb78\",\"#ff7f0e\",\"#aec7e8\",\"#aec7e8\",\"#ffbb78\",\"#1f77b4\",\"#aec7e8\",\"#aec7e8\",\"#2ca02c\",\"#aec7e8\",\"#1f77b4\",\"#aec7e8\",\"#1f77b4\",\"#1f77b4\",\"#2ca02c\",\"#1f77b4\",\"#ffbb78\",\"#aec7e8\",\"#aec7e8\",\"#98df8a\",\"#1f77b4\",\"#1f77b4\",\"#aec7e8\",\"#2ca02c\",\"#1f77b4\",\"#aec7e8\",\"#1f77b4\",\"#2ca02c\",\"#1f77b4\",\"#2ca02c\",\"#aec7e8\",\"#aec7e8\",\"#ffbb78\",\"#aec7e8\",\"#2ca02c\",\"#ffbb78\",\"#ffbb78\",\"#aec7e8\",\"#aec7e8\",\"#1f77b4\",\"#1f77b4\",\"#1f77b4\",\"#ffbb78\",\"#2ca02c\",\"#aec7e8\",\"#2ca02c\",\"#aec7e8\",\"#aec7e8\",\"#1f77b4\",\"#1f77b4\",\"#aec7e8\",\"#1f77b4\",\"#ffbb78\",\"#1f77b4\",\"#ffbb78\",\"#ffbb78\",\"#aec7e8\",\"#aec7e8\",\"#1f77b4\",\"#aec7e8\",\"#aec7e8\",\"#1f77b4\",\"#1f77b4\",\"#aec7e8\",\"#aec7e8\",\"#aec7e8\",\"#ffbb78\",\"#1f77b4\",\"#ffbb78\",\"#1f77b4\",\"#aec7e8\",\"#ffbb78\",\"#aec7e8\",\"#1f77b4\",\"#1f77b4\",\"#aec7e8\",\"#ffbb78\",\"#ffbb78\",\"#1f77b4\",\"#1f77b4\",\"#aec7e8\",\"#2ca02c\",\"#1f77b4\",\"#98df8a\",\"#1f77b4\",\"#aec7e8\",\"#ffbb78\",\"#ff7f0e\",\"#aec7e8\",\"#ffbb78\",\"#aec7e8\",\"#ff7f0e\",\"#1f77b4\",\"#1f77b4\",\"#aec7e8\",\"#1f77b4\",\"#aec7e8\",\"#1f77b4\",\"#1f77b4\",\"#1f77b4\",\"#aec7e8\",\"#aec7e8\",\"#1f77b4\",\"#ffbb78\",\"#1f77b4\",\"#2ca02c\",\"#1f77b4\",\"#1f77b4\",\"#1f77b4\",\"#1f77b4\",\"#1f77b4\",\"#1f77b4\",\"#1f77b4\",\"#1f77b4\",\"#aec7e8\",\"#ff7f0e\",\"#aec7e8\",\"#1f77b4\",\"#1f77b4\",\"#ffbb78\",\"#1f77b4\",\"#1f77b4\",\"#aec7e8\",\"#1f77b4\",\"#1f77b4\",\"#2ca02c\",\"#1f77b4\",\"#1f77b4\",\"#ffbb78\",\"#aec7e8\",\"#1f77b4\",\"#1f77b4\",\"#ffbb78\",\"#1f77b4\",\"#aec7e8\",\"#aec7e8\",\"#2ca02c\",\"#aec7e8\",\"#1f77b4\",\"#aec7e8\",\"#1f77b4\",\"#aec7e8\",\"#aec7e8\",\"#1f77b4\",\"#aec7e8\",\"#ffbb78\",\"#aec7e8\",\"#aec7e8\",\"#1f77b4\",\"#ff7f0e\",\"#1f77b4\",\"#ffbb78\",\"#1f77b4\",\"#2ca02c\",\"#1f77b4\",\"#1f77b4\",\"#1f77b4\",\"#aec7e8\",\"#aec7e8\",\"#1f77b4\",\"#ffbb78\",\"#1f77b4\",\"#1f77b4\",\"#1f77b4\",\"#2ca02c\",\"#ffbb78\",\"#aec7e8\",\"#98df8a\",\"#aec7e8\",\"#aec7e8\",\"#1f77b4\",\"#aec7e8\",\"#1f77b4\",\"#1f77b4\",\"#1f77b4\",\"#aec7e8\",\"#1f77b4\",\"#1f77b4\",\"#aec7e8\",\"#aec7e8\",\"#aec7e8\",\"#aec7e8\",\"#1f77b4\",\"#aec7e8\",\"#aec7e8\",\"#aec7e8\",\"#ffbb78\",\"#aec7e8\",\"#1f77b4\",\"#1f77b4\",\"#1f77b4\",\"#ffbb78\",\"#1f77b4\",\"#1f77b4\",\"#1f77b4\",\"#1f77b4\",\"#aec7e8\",\"#aec7e8\",\"#aec7e8\",\"#ff7f0e\",\"#1f77b4\",\"#aec7e8\",\"#1f77b4\",\"#ffbb78\",\"#ffbb78\",\"#aec7e8\",\"#1f77b4\",\"#1f77b4\",\"#1f77b4\",\"#aec7e8\",\"#aec7e8\",\"#ffbb78\",\"#aec7e8\",\"#ff7f0e\",\"#1f77b4\",\"#aec7e8\",\"#aec7e8\",\"#1f77b4\",\"#1f77b4\",\"#aec7e8\",\"#aec7e8\",\"#1f77b4\",\"#aec7e8\",\"#aec7e8\",\"#1f77b4\",\"#ffbb78\",\"#2ca02c\",\"#1f77b4\",\"#1f77b4\",\"#1f77b4\",\"#1f77b4\",\"#ffbb78\",\"#1f77b4\",\"#ffbb78\",\"#1f77b4\",\"#1f77b4\",\"#1f77b4\",\"#aec7e8\",\"#aec7e8\",\"#1f77b4\",\"#1f77b4\",\"#1f77b4\",\"#1f77b4\",\"#aec7e8\",\"#aec7e8\",\"#1f77b4\",\"#aec7e8\",\"#aec7e8\",\"#1f77b4\",\"#aec7e8\",\"#aec7e8\",\"#ffbb78\",\"#ffbb78\",\"#aec7e8\",\"#1f77b4\",\"#1f77b4\",\"#1f77b4\",\"#aec7e8\",\"#aec7e8\",\"#aec7e8\",\"#aec7e8\",\"#1f77b4\",\"#1f77b4\",\"#1f77b4\",\"#1f77b4\",\"#aec7e8\",\"#1f77b4\",\"#aec7e8\",\"#aec7e8\",\"#2ca02c\",\"#ffbb78\",\"#aec7e8\",\"#aec7e8\",\"#1f77b4\",\"#1f77b4\",\"#ffbb78\",\"#ff7f0e\",\"#aec7e8\",\"#1f77b4\",\"#1f77b4\",\"#1f77b4\",\"#1f77b4\",\"#aec7e8\",\"#1f77b4\",\"#aec7e8\",\"#aec7e8\",\"#ffbb78\",\"#ffbb78\",\"#ff7f0e\",\"#1f77b4\",\"#aec7e8\",\"#aec7e8\",\"#ffbb78\",\"#2ca02c\",\"#1f77b4\",\"#1f77b4\",\"#ffbb78\",\"#aec7e8\",\"#ffbb78\",\"#ffbb78\",\"#1f77b4\",\"#aec7e8\",\"#1f77b4\",\"#aec7e8\",\"#aec7e8\",\"#aec7e8\",\"#ffbb78\",\"#ffbb78\",\"#1f77b4\",\"#ffbb78\",\"#ffbb78\",\"#1f77b4\",\"#aec7e8\",\"#aec7e8\",\"#ffbb78\",\"#ffbb78\",\"#1f77b4\",\"#aec7e8\",\"#ffbb78\",\"#1f77b4\",\"#1f77b4\",\"#aec7e8\",\"#aec7e8\",\"#1f77b4\",\"#1f77b4\",\"#1f77b4\",\"#aec7e8\",\"#ff7f0e\",\"#aec7e8\",\"#ffbb78\",\"#1f77b4\",\"#1f77b4\",\"#ffbb78\",\"#1f77b4\",\"#aec7e8\",\"#aec7e8\",\"#1f77b4\",\"#ff7f0e\",\"#ff7f0e\",\"#aec7e8\",\"#1f77b4\",\"#ff7f0e\",\"#1f77b4\",\"#aec7e8\",\"#1f77b4\",\"#ffbb78\",\"#1f77b4\",\"#1f77b4\",\"#1f77b4\",\"#1f77b4\",\"#2ca02c\",\"#ffbb78\",\"#aec7e8\",\"#1f77b4\",\"#ff7f0e\",\"#aec7e8\",\"#1f77b4\",\"#aec7e8\",\"#aec7e8\",\"#aec7e8\",\"#1f77b4\",\"#1f77b4\",\"#ffbb78\",\"#1f77b4\",\"#ffbb78\",\"#1f77b4\",\"#aec7e8\",\"#1f77b4\",\"#aec7e8\",\"#aec7e8\",\"#1f77b4\",\"#aec7e8\",\"#aec7e8\",\"#1f77b4\",\"#1f77b4\",\"#aec7e8\",\"#1f77b4\",\"#1f77b4\",\"#1f77b4\",\"#aec7e8\",\"#ff7f0e\",\"#1f77b4\",\"#aec7e8\",\"#1f77b4\",\"#1f77b4\",\"#ff7f0e\",\"#aec7e8\",\"#1f77b4\",\"#1f77b4\",\"#1f77b4\",\"#aec7e8\",\"#ffbb78\",\"#aec7e8\",\"#1f77b4\",\"#aec7e8\",\"#aec7e8\",\"#aec7e8\",\"#1f77b4\",\"#aec7e8\",\"#ff7f0e\",\"#ffbb78\",\"#ffbb78\",\"#2ca02c\",\"#aec7e8\",\"#ffbb78\",\"#aec7e8\",\"#aec7e8\",\"#1f77b4\",\"#ffbb78\",\"#aec7e8\",\"#1f77b4\",\"#1f77b4\",\"#1f77b4\",\"#1f77b4\",\"#aec7e8\",\"#ffbb78\",\"#aec7e8\",\"#aec7e8\",\"#2ca02c\",\"#ffbb78\",\"#1f77b4\",\"#1f77b4\",\"#aec7e8\",\"#1f77b4\",\"#ffbb78\",\"#ff7f0e\",\"#aec7e8\",\"#aec7e8\",\"#ff7f0e\",\"#aec7e8\",\"#aec7e8\",\"#ffbb78\",\"#2ca02c\",\"#ffbb78\",\"#1f77b4\",\"#1f77b4\",\"#1f77b4\",\"#ffbb78\",\"#1f77b4\",\"#ffbb78\",\"#1f77b4\",\"#1f77b4\",\"#aec7e8\",\"#1f77b4\",\"#ffbb78\",\"#1f77b4\",\"#1f77b4\",\"#aec7e8\",\"#ff7f0e\",\"#ff7f0e\",\"#aec7e8\",\"#1f77b4\",\"#1f77b4\",\"#ff7f0e\",\"#1f77b4\",\"#aec7e8\",\"#1f77b4\",\"#1f77b4\",\"#ffbb78\",\"#aec7e8\",\"#ffbb78\",\"#aec7e8\",\"#aec7e8\",\"#aec7e8\",\"#ffbb78\",\"#1f77b4\",\"#aec7e8\",\"#2ca02c\",\"#aec7e8\",\"#1f77b4\",\"#1f77b4\",\"#aec7e8\",\"#aec7e8\",\"#1f77b4\",\"#ffbb78\",\"#2ca02c\",\"#1f77b4\",\"#1f77b4\",\"#2ca02c\",\"#1f77b4\",\"#aec7e8\",\"#1f77b4\",\"#ffbb78\",\"#aec7e8\",\"#1f77b4\",\"#ffbb78\",\"#1f77b4\",\"#aec7e8\",\"#aec7e8\",\"#ffbb78\",\"#aec7e8\",\"#aec7e8\",\"#ffbb78\",\"#1f77b4\",\"#aec7e8\",\"#aec7e8\",\"#1f77b4\",\"#aec7e8\",\"#ff7f0e\",\"#aec7e8\",\"#1f77b4\",\"#1f77b4\",\"#1f77b4\",\"#1f77b4\",\"#1f77b4\",\"#1f77b4\",\"#1f77b4\",\"#aec7e8\",\"#ff7f0e\",\"#1f77b4\",\"#ff7f0e\",\"#ffbb78\",\"#1f77b4\",\"#aec7e8\",\"#1f77b4\",\"#2ca02c\",\"#1f77b4\",\"#aec7e8\",\"#1f77b4\",\"#1f77b4\",\"#1f77b4\",\"#1f77b4\",\"#aec7e8\",\"#ff7f0e\",\"#1f77b4\",\"#aec7e8\",\"#aec7e8\",\"#1f77b4\",\"#1f77b4\",\"#aec7e8\",\"#ffbb78\",\"#1f77b4\",\"#aec7e8\",\"#1f77b4\",\"#1f77b4\",\"#1f77b4\",\"#1f77b4\",\"#1f77b4\",\"#aec7e8\",\"#aec7e8\",\"#aec7e8\",\"#aec7e8\",\"#aec7e8\",\"#aec7e8\",\"#1f77b4\",\"#ff7f0e\",\"#aec7e8\",\"#aec7e8\",\"#1f77b4\",\"#1f77b4\",\"#aec7e8\",\"#aec7e8\",\"#1f77b4\",\"#ffbb78\",\"#ffbb78\",\"#1f77b4\",\"#1f77b4\",\"#ff7f0e\",\"#1f77b4\",\"#aec7e8\",\"#aec7e8\",\"#1f77b4\",\"#aec7e8\",\"#aec7e8\",\"#1f77b4\",\"#ffbb78\",\"#2ca02c\",\"#aec7e8\",\"#1f77b4\",\"#ff7f0e\",\"#aec7e8\",\"#ffbb78\",\"#2ca02c\",\"#aec7e8\",\"#aec7e8\",\"#ffbb78\",\"#1f77b4\",\"#1f77b4\",\"#aec7e8\",\"#aec7e8\",\"#98df8a\",\"#1f77b4\",\"#aec7e8\",\"#ffbb78\",\"#aec7e8\",\"#aec7e8\",\"#1f77b4\",\"#aec7e8\",\"#aec7e8\",\"#aec7e8\",\"#1f77b4\",\"#aec7e8\",\"#1f77b4\",\"#aec7e8\",\"#aec7e8\",\"#aec7e8\",\"#1f77b4\",\"#1f77b4\",\"#1f77b4\",\"#aec7e8\",\"#aec7e8\",\"#aec7e8\",\"#1f77b4\",\"#aec7e8\",\"#1f77b4\",\"#aec7e8\",\"#ffbb78\",\"#aec7e8\",\"#1f77b4\",\"#ffbb78\",\"#aec7e8\",\"#aec7e8\",\"#2ca02c\",\"#aec7e8\",\"#aec7e8\",\"#aec7e8\",\"#ff7f0e\",\"#1f77b4\",\"#1f77b4\",\"#aec7e8\",\"#aec7e8\",\"#aec7e8\",\"#1f77b4\",\"#1f77b4\",\"#aec7e8\",\"#aec7e8\",\"#aec7e8\",\"#ffbb78\",\"#aec7e8\",\"#1f77b4\",\"#aec7e8\",\"#1f77b4\",\"#1f77b4\",\"#aec7e8\",\"#1f77b4\",\"#aec7e8\",\"#ff7f0e\",\"#ffbb78\",\"#1f77b4\",\"#aec7e8\",\"#ffbb78\",\"#1f77b4\",\"#2ca02c\",\"#1f77b4\",\"#ff7f0e\",\"#1f77b4\",\"#1f77b4\",\"#1f77b4\",\"#aec7e8\",\"#2ca02c\",\"#ffbb78\",\"#1f77b4\",\"#1f77b4\",\"#ffbb78\",\"#1f77b4\",\"#1f77b4\",\"#aec7e8\",\"#aec7e8\",\"#1f77b4\",\"#1f77b4\",\"#aec7e8\",\"#1f77b4\",\"#aec7e8\",\"#1f77b4\",\"#1f77b4\",\"#ffbb78\",\"#ffbb78\",\"#1f77b4\",\"#ffbb78\",\"#1f77b4\",\"#aec7e8\",\"#1f77b4\",\"#1f77b4\",\"#aec7e8\",\"#aec7e8\",\"#1f77b4\",\"#1f77b4\",\"#1f77b4\",\"#aec7e8\",\"#aec7e8\",\"#2ca02c\",\"#2ca02c\",\"#1f77b4\",\"#ffbb78\",\"#aec7e8\",\"#aec7e8\",\"#ff7f0e\",\"#aec7e8\",\"#2ca02c\",\"#ffbb78\",\"#1f77b4\",\"#aec7e8\",\"#aec7e8\",\"#1f77b4\",\"#1f77b4\",\"#ff7f0e\",\"#ffbb78\",\"#aec7e8\",\"#1f77b4\",\"#aec7e8\",\"#ffbb78\",\"#aec7e8\",\"#2ca02c\",\"#ffbb78\",\"#aec7e8\",\"#1f77b4\",\"#1f77b4\",\"#1f77b4\",\"#aec7e8\",\"#1f77b4\",\"#1f77b4\",\"#1f77b4\",\"#1f77b4\",\"#1f77b4\",\"#1f77b4\",\"#aec7e8\",\"#1f77b4\",\"#ff7f0e\",\"#ffbb78\",\"#1f77b4\",\"#1f77b4\",\"#aec7e8\",\"#aec7e8\",\"#aec7e8\",\"#1f77b4\",\"#ff7f0e\",\"#aec7e8\",\"#2ca02c\",\"#1f77b4\",\"#ffbb78\",\"#aec7e8\",\"#aec7e8\",\"#1f77b4\",\"#aec7e8\",\"#1f77b4\",\"#aec7e8\",\"#1f77b4\",\"#ffbb78\",\"#ffbb78\",\"#1f77b4\",\"#aec7e8\",\"#ffbb78\",\"#1f77b4\",\"#ffbb78\",\"#aec7e8\",\"#aec7e8\",\"#2ca02c\",\"#aec7e8\",\"#1f77b4\",\"#ffbb78\",\"#aec7e8\",\"#aec7e8\",\"#aec7e8\",\"#aec7e8\",\"#aec7e8\",\"#2ca02c\",\"#aec7e8\",\"#aec7e8\",\"#aec7e8\",\"#aec7e8\",\"#1f77b4\",\"#aec7e8\",\"#1f77b4\",\"#aec7e8\",\"#ff7f0e\",\"#98df8a\",\"#1f77b4\",\"#1f77b4\",\"#1f77b4\",\"#1f77b4\",\"#2ca02c\",\"#ffbb78\",\"#ffbb78\",\"#aec7e8\",\"#ffbb78\",\"#aec7e8\",\"#aec7e8\",\"#aec7e8\",\"#1f77b4\",\"#aec7e8\",\"#1f77b4\",\"#1f77b4\",\"#ffbb78\",\"#ff7f0e\",\"#2ca02c\",\"#ff7f0e\",\"#ffbb78\",\"#2ca02c\",\"#1f77b4\",\"#1f77b4\",\"#1f77b4\",\"#aec7e8\",\"#1f77b4\",\"#ff7f0e\",\"#aec7e8\",\"#1f77b4\",\"#1f77b4\",\"#ffbb78\",\"#1f77b4\",\"#aec7e8\",\"#aec7e8\",\"#aec7e8\",\"#2ca02c\",\"#aec7e8\",\"#1f77b4\",\"#2ca02c\",\"#1f77b4\",\"#aec7e8\",\"#1f77b4\",\"#1f77b4\",\"#1f77b4\",\"#1f77b4\",\"#2ca02c\",\"#1f77b4\",\"#aec7e8\",\"#ff7f0e\",\"#1f77b4\",\"#aec7e8\",\"#ff7f0e\",\"#aec7e8\",\"#1f77b4\",\"#ff7f0e\",\"#2ca02c\",\"#aec7e8\",\"#aec7e8\",\"#aec7e8\",\"#98df8a\",\"#2ca02c\",\"#ffbb78\",\"#1f77b4\",\"#1f77b4\",\"#1f77b4\",\"#ffbb78\",\"#ff7f0e\",\"#1f77b4\",\"#aec7e8\",\"#ffbb78\",\"#1f77b4\",\"#1f77b4\",\"#2ca02c\",\"#1f77b4\",\"#1f77b4\",\"#aec7e8\",\"#ff7f0e\",\"#aec7e8\",\"#2ca02c\",\"#1f77b4\",\"#aec7e8\",\"#1f77b4\",\"#1f77b4\",\"#1f77b4\",\"#ff7f0e\",\"#1f77b4\",\"#aec7e8\",\"#ffbb78\",\"#1f77b4\",\"#ffbb78\",\"#ffbb78\",\"#1f77b4\",\"#ffbb78\",\"#1f77b4\",\"#1f77b4\",\"#ffbb78\",\"#1f77b4\",\"#ff7f0e\",\"#aec7e8\",\"#aec7e8\",\"#1f77b4\",\"#2ca02c\",\"#1f77b4\",\"#ffbb78\",\"#1f77b4\",\"#1f77b4\",\"#1f77b4\",\"#ffbb78\",\"#aec7e8\",\"#aec7e8\",\"#1f77b4\",\"#aec7e8\",\"#1f77b4\",\"#1f77b4\",\"#aec7e8\",\"#2ca02c\",\"#ffbb78\",\"#aec7e8\",\"#aec7e8\",\"#aec7e8\",\"#aec7e8\",\"#1f77b4\",\"#aec7e8\",\"#aec7e8\",\"#1f77b4\",\"#aec7e8\",\"#1f77b4\",\"#1f77b4\",\"#1f77b4\",\"#ffbb78\",\"#ffbb78\",\"#aec7e8\",\"#aec7e8\",\"#1f77b4\",\"#ffbb78\",\"#aec7e8\",\"#aec7e8\",\"#1f77b4\",\"#aec7e8\",\"#1f77b4\",\"#1f77b4\",\"#ff7f0e\",\"#1f77b4\",\"#1f77b4\",\"#aec7e8\",\"#aec7e8\",\"#1f77b4\",\"#1f77b4\",\"#1f77b4\",\"#aec7e8\",\"#aec7e8\",\"#2ca02c\",\"#ff7f0e\",\"#aec7e8\",\"#1f77b4\",\"#ff7f0e\",\"#aec7e8\",\"#1f77b4\",\"#1f77b4\",\"#aec7e8\",\"#aec7e8\",\"#aec7e8\",\"#aec7e8\",\"#1f77b4\",\"#1f77b4\",\"#1f77b4\",\"#aec7e8\",\"#aec7e8\",\"#ff7f0e\",\"#1f77b4\",\"#aec7e8\",\"#1f77b4\",\"#aec7e8\",\"#aec7e8\",\"#2ca02c\",\"#1f77b4\",\"#aec7e8\",\"#1f77b4\",\"#1f77b4\",\"#1f77b4\",\"#aec7e8\",\"#2ca02c\",\"#ff7f0e\",\"#ff7f0e\",\"#1f77b4\",\"#ffbb78\",\"#aec7e8\",\"#aec7e8\",\"#ff7f0e\",\"#ffbb78\",\"#ffbb78\",\"#aec7e8\",\"#ffbb78\",\"#aec7e8\",\"#ff7f0e\",\"#aec7e8\",\"#1f77b4\",\"#aec7e8\",\"#aec7e8\",\"#aec7e8\",\"#ffbb78\",\"#aec7e8\",\"#1f77b4\",\"#ff7f0e\",\"#aec7e8\",\"#1f77b4\",\"#1f77b4\",\"#1f77b4\",\"#1f77b4\",\"#ffbb78\",\"#ffbb78\",\"#1f77b4\",\"#1f77b4\",\"#ff7f0e\",\"#ffbb78\",\"#ffbb78\",\"#aec7e8\",\"#aec7e8\",\"#aec7e8\",\"#1f77b4\",\"#ff7f0e\",\"#aec7e8\",\"#aec7e8\",\"#1f77b4\",\"#1f77b4\",\"#ff7f0e\",\"#aec7e8\",\"#1f77b4\",\"#ffbb78\",\"#ff7f0e\",\"#1f77b4\",\"#ffbb78\",\"#ffbb78\",\"#1f77b4\",\"#aec7e8\",\"#1f77b4\",\"#1f77b4\",\"#1f77b4\",\"#aec7e8\",\"#aec7e8\",\"#aec7e8\",\"#aec7e8\",\"#ffbb78\",\"#aec7e8\",\"#1f77b4\",\"#aec7e8\",\"#aec7e8\",\"#ffbb78\",\"#ffbb78\",\"#ffbb78\",\"#1f77b4\",\"#ffbb78\",\"#1f77b4\",\"#aec7e8\",\"#ff7f0e\",\"#1f77b4\",\"#ff7f0e\",\"#1f77b4\",\"#aec7e8\",\"#ffbb78\",\"#aec7e8\",\"#ffbb78\",\"#aec7e8\",\"#1f77b4\",\"#ffbb78\",\"#ff7f0e\",\"#aec7e8\",\"#ffbb78\",\"#1f77b4\",\"#2ca02c\",\"#ffbb78\",\"#aec7e8\",\"#aec7e8\",\"#ffbb78\",\"#aec7e8\",\"#2ca02c\",\"#ffbb78\",\"#1f77b4\",\"#aec7e8\",\"#1f77b4\",\"#1f77b4\",\"#1f77b4\",\"#1f77b4\",\"#1f77b4\",\"#ff7f0e\",\"#aec7e8\",\"#aec7e8\",\"#ffbb78\",\"#aec7e8\",\"#ffbb78\",\"#1f77b4\",\"#aec7e8\",\"#aec7e8\",\"#aec7e8\",\"#1f77b4\",\"#2ca02c\",\"#1f77b4\",\"#ff7f0e\",\"#ffbb78\",\"#1f77b4\",\"#1f77b4\",\"#ffbb78\",\"#aec7e8\",\"#aec7e8\",\"#1f77b4\",\"#2ca02c\",\"#2ca02c\",\"#aec7e8\",\"#ffbb78\",\"#1f77b4\",\"#aec7e8\",\"#1f77b4\",\"#1f77b4\",\"#aec7e8\",\"#aec7e8\",\"#ffbb78\",\"#1f77b4\",\"#1f77b4\",\"#2ca02c\",\"#aec7e8\",\"#aec7e8\",\"#aec7e8\",\"#aec7e8\",\"#ff7f0e\",\"#1f77b4\",\"#1f77b4\",\"#ffbb78\",\"#1f77b4\",\"#1f77b4\",\"#aec7e8\",\"#ffbb78\",\"#aec7e8\",\"#1f77b4\",\"#ff7f0e\",\"#aec7e8\",\"#aec7e8\",\"#1f77b4\",\"#aec7e8\",\"#aec7e8\",\"#1f77b4\",\"#aec7e8\",\"#1f77b4\",\"#ffbb78\",\"#1f77b4\",\"#1f77b4\",\"#aec7e8\",\"#1f77b4\",\"#aec7e8\",\"#1f77b4\",\"#1f77b4\",\"#aec7e8\",\"#aec7e8\",\"#aec7e8\",\"#1f77b4\",\"#1f77b4\",\"#aec7e8\",\"#1f77b4\",\"#ffbb78\",\"#ffbb78\",\"#aec7e8\",\"#ffbb78\",\"#aec7e8\",\"#2ca02c\",\"#aec7e8\",\"#aec7e8\",\"#aec7e8\",\"#1f77b4\",\"#2ca02c\",\"#1f77b4\",\"#1f77b4\",\"#1f77b4\",\"#aec7e8\",\"#1f77b4\",\"#ffbb78\",\"#1f77b4\",\"#1f77b4\",\"#ffbb78\",\"#1f77b4\",\"#aec7e8\",\"#1f77b4\",\"#ff7f0e\",\"#ffbb78\",\"#1f77b4\",\"#aec7e8\",\"#aec7e8\",\"#aec7e8\",\"#1f77b4\",\"#2ca02c\",\"#2ca02c\",\"#2ca02c\",\"#1f77b4\",\"#aec7e8\",\"#ffbb78\",\"#1f77b4\",\"#1f77b4\",\"#aec7e8\",\"#ff7f0e\",\"#aec7e8\",\"#ff7f0e\",\"#1f77b4\",\"#aec7e8\",\"#1f77b4\",\"#aec7e8\",\"#ffbb78\",\"#aec7e8\",\"#1f77b4\",\"#ffbb78\",\"#1f77b4\",\"#1f77b4\",\"#1f77b4\",\"#aec7e8\",\"#aec7e8\",\"#ff7f0e\",\"#aec7e8\",\"#2ca02c\",\"#aec7e8\",\"#1f77b4\",\"#ffbb78\",\"#1f77b4\",\"#aec7e8\",\"#aec7e8\",\"#1f77b4\",\"#1f77b4\",\"#aec7e8\",\"#aec7e8\",\"#1f77b4\",\"#aec7e8\",\"#1f77b4\",\"#aec7e8\",\"#1f77b4\",\"#ffbb78\",\"#ff7f0e\",\"#aec7e8\",\"#ff7f0e\",\"#aec7e8\",\"#1f77b4\",\"#1f77b4\",\"#aec7e8\",\"#1f77b4\",\"#ffbb78\",\"#ff7f0e\",\"#1f77b4\",\"#ff7f0e\",\"#ff7f0e\",\"#ff7f0e\",\"#aec7e8\",\"#1f77b4\",\"#1f77b4\",\"#ffbb78\",\"#1f77b4\",\"#aec7e8\",\"#aec7e8\",\"#aec7e8\",\"#1f77b4\",\"#ffbb78\",\"#ff7f0e\",\"#ffbb78\",\"#1f77b4\",\"#ffbb78\",\"#aec7e8\",\"#1f77b4\",\"#aec7e8\",\"#1f77b4\",\"#1f77b4\",\"#ffbb78\",\"#aec7e8\",\"#1f77b4\",\"#1f77b4\",\"#1f77b4\",\"#aec7e8\",\"#aec7e8\",\"#1f77b4\",\"#1f77b4\",\"#1f77b4\",\"#aec7e8\",\"#1f77b4\",\"#1f77b4\",\"#ff7f0e\",\"#aec7e8\",\"#ff7f0e\",\"#98df8a\",\"#ffbb78\",\"#ffbb78\",\"#1f77b4\",\"#aec7e8\",\"#aec7e8\",\"#ffbb78\",\"#ffbb78\",\"#ffbb78\",\"#2ca02c\",\"#1f77b4\",\"#aec7e8\",\"#aec7e8\",\"#aec7e8\",\"#2ca02c\",\"#1f77b4\",\"#ff7f0e\",\"#2ca02c\",\"#ffbb78\",\"#aec7e8\",\"#1f77b4\",\"#ffbb78\",\"#1f77b4\",\"#1f77b4\",\"#aec7e8\",\"#ffbb78\",\"#1f77b4\",\"#aec7e8\",\"#aec7e8\",\"#1f77b4\",\"#ffbb78\",\"#1f77b4\",\"#1f77b4\",\"#aec7e8\",\"#aec7e8\",\"#aec7e8\",\"#1f77b4\",\"#1f77b4\",\"#aec7e8\",\"#1f77b4\",\"#2ca02c\",\"#aec7e8\",\"#1f77b4\",\"#aec7e8\",\"#1f77b4\",\"#aec7e8\",\"#1f77b4\",\"#ff7f0e\",\"#1f77b4\",\"#1f77b4\",\"#1f77b4\",\"#1f77b4\",\"#aec7e8\",\"#aec7e8\",\"#1f77b4\",\"#aec7e8\",\"#aec7e8\",\"#aec7e8\",\"#1f77b4\",\"#ffbb78\",\"#aec7e8\",\"#1f77b4\",\"#1f77b4\",\"#ffbb78\",\"#ffbb78\",\"#1f77b4\",\"#1f77b4\",\"#1f77b4\",\"#aec7e8\",\"#aec7e8\",\"#aec7e8\",\"#ffbb78\",\"#aec7e8\",\"#1f77b4\",\"#ffbb78\",\"#1f77b4\",\"#1f77b4\",\"#ff7f0e\",\"#1f77b4\",\"#98df8a\",\"#1f77b4\",\"#ffbb78\",\"#1f77b4\",\"#2ca02c\",\"#1f77b4\",\"#ff7f0e\",\"#1f77b4\",\"#aec7e8\",\"#1f77b4\",\"#aec7e8\",\"#aec7e8\",\"#aec7e8\",\"#aec7e8\",\"#1f77b4\",\"#aec7e8\",\"#aec7e8\",\"#1f77b4\",\"#aec7e8\",\"#aec7e8\",\"#1f77b4\",\"#ffbb78\",\"#1f77b4\",\"#1f77b4\",\"#aec7e8\",\"#aec7e8\",\"#ff7f0e\",\"#ffbb78\",\"#1f77b4\",\"#1f77b4\",\"#1f77b4\",\"#aec7e8\",\"#aec7e8\",\"#ff7f0e\",\"#1f77b4\",\"#ffbb78\",\"#aec7e8\",\"#ff7f0e\",\"#aec7e8\",\"#1f77b4\",\"#ffbb78\",\"#1f77b4\",\"#ffbb78\",\"#aec7e8\",\"#aec7e8\",\"#1f77b4\",\"#ff7f0e\",\"#ffbb78\",\"#1f77b4\",\"#aec7e8\",\"#aec7e8\",\"#1f77b4\",\"#aec7e8\",\"#1f77b4\",\"#aec7e8\",\"#2ca02c\",\"#ffbb78\",\"#1f77b4\",\"#aec7e8\",\"#ffbb78\",\"#1f77b4\",\"#1f77b4\",\"#aec7e8\",\"#ffbb78\",\"#2ca02c\",\"#aec7e8\",\"#aec7e8\",\"#ff7f0e\",\"#aec7e8\",\"#ffbb78\",\"#1f77b4\",\"#ff7f0e\",\"#aec7e8\",\"#1f77b4\",\"#aec7e8\",\"#ffbb78\",\"#1f77b4\",\"#1f77b4\",\"#ff7f0e\",\"#ff7f0e\",\"#1f77b4\",\"#1f77b4\",\"#1f77b4\",\"#ffbb78\",\"#1f77b4\",\"#1f77b4\",\"#1f77b4\",\"#1f77b4\",\"#1f77b4\",\"#1f77b4\",\"#1f77b4\",\"#aec7e8\",\"#ffbb78\",\"#1f77b4\",\"#aec7e8\",\"#1f77b4\",\"#aec7e8\",\"#1f77b4\",\"#2ca02c\",\"#1f77b4\",\"#1f77b4\",\"#1f77b4\",\"#1f77b4\",\"#aec7e8\",\"#1f77b4\",\"#aec7e8\",\"#ffbb78\",\"#aec7e8\",\"#aec7e8\",\"#1f77b4\",\"#1f77b4\",\"#ff7f0e\",\"#2ca02c\",\"#ffbb78\",\"#aec7e8\",\"#ffbb78\",\"#ffbb78\",\"#1f77b4\",\"#1f77b4\",\"#ffbb78\",\"#1f77b4\",\"#1f77b4\",\"#1f77b4\",\"#2ca02c\",\"#aec7e8\",\"#1f77b4\",\"#1f77b4\",\"#aec7e8\",\"#ffbb78\",\"#ffbb78\",\"#aec7e8\",\"#1f77b4\",\"#ffbb78\",\"#aec7e8\",\"#1f77b4\",\"#aec7e8\",\"#aec7e8\",\"#ff7f0e\",\"#ffbb78\",\"#aec7e8\",\"#aec7e8\",\"#1f77b4\",\"#ffbb78\",\"#aec7e8\",\"#1f77b4\",\"#ffbb78\",\"#1f77b4\",\"#aec7e8\",\"#1f77b4\",\"#1f77b4\",\"#ff7f0e\",\"#1f77b4\",\"#ffbb78\",\"#ffbb78\",\"#aec7e8\",\"#ff7f0e\",\"#1f77b4\",\"#1f77b4\",\"#aec7e8\",\"#ffbb78\",\"#1f77b4\",\"#ffbb78\",\"#ff7f0e\",\"#ff7f0e\",\"#1f77b4\",\"#aec7e8\",\"#1f77b4\",\"#ff7f0e\",\"#aec7e8\",\"#1f77b4\",\"#ffbb78\",\"#ff7f0e\",\"#ff7f0e\",\"#1f77b4\",\"#aec7e8\",\"#1f77b4\",\"#aec7e8\",\"#1f77b4\",\"#aec7e8\",\"#1f77b4\",\"#ffbb78\",\"#aec7e8\",\"#aec7e8\",\"#1f77b4\",\"#aec7e8\",\"#aec7e8\",\"#1f77b4\",\"#aec7e8\",\"#1f77b4\",\"#aec7e8\",\"#ff7f0e\",\"#1f77b4\",\"#1f77b4\",\"#ffbb78\",\"#ff7f0e\",\"#ffbb78\",\"#1f77b4\",\"#aec7e8\",\"#aec7e8\",\"#aec7e8\",\"#1f77b4\",\"#aec7e8\",\"#1f77b4\",\"#aec7e8\",\"#aec7e8\",\"#aec7e8\",\"#ff7f0e\",\"#ff7f0e\",\"#1f77b4\",\"#aec7e8\",\"#aec7e8\",\"#1f77b4\",\"#aec7e8\",\"#ffbb78\",\"#98df8a\",\"#ffbb78\",\"#1f77b4\",\"#1f77b4\",\"#1f77b4\",\"#1f77b4\",\"#aec7e8\",\"#2ca02c\",\"#aec7e8\",\"#aec7e8\",\"#ff7f0e\",\"#aec7e8\",\"#2ca02c\",\"#ff7f0e\",\"#1f77b4\",\"#ffbb78\",\"#1f77b4\",\"#ffbb78\",\"#1f77b4\",\"#aec7e8\",\"#1f77b4\",\"#aec7e8\",\"#1f77b4\",\"#aec7e8\",\"#ffbb78\",\"#aec7e8\",\"#1f77b4\",\"#ff7f0e\",\"#1f77b4\",\"#1f77b4\",\"#ffbb78\",\"#aec7e8\",\"#1f77b4\",\"#1f77b4\",\"#ffbb78\",\"#1f77b4\",\"#1f77b4\",\"#aec7e8\",\"#ff7f0e\",\"#aec7e8\",\"#1f77b4\",\"#aec7e8\",\"#1f77b4\",\"#ffbb78\",\"#1f77b4\",\"#ffbb78\",\"#ffbb78\",\"#1f77b4\",\"#aec7e8\",\"#1f77b4\",\"#1f77b4\",\"#1f77b4\",\"#aec7e8\",\"#1f77b4\",\"#aec7e8\",\"#ffbb78\",\"#1f77b4\",\"#aec7e8\",\"#ff7f0e\",\"#1f77b4\",\"#1f77b4\",\"#aec7e8\",\"#1f77b4\",\"#aec7e8\",\"#1f77b4\",\"#ffbb78\",\"#1f77b4\",\"#1f77b4\",\"#1f77b4\",\"#1f77b4\",\"#aec7e8\",\"#aec7e8\",\"#2ca02c\",\"#1f77b4\",\"#1f77b4\",\"#1f77b4\",\"#aec7e8\",\"#1f77b4\",\"#1f77b4\",\"#1f77b4\",\"#1f77b4\",\"#ff7f0e\",\"#1f77b4\",\"#ffbb78\",\"#ffbb78\",\"#1f77b4\",\"#aec7e8\",\"#1f77b4\",\"#aec7e8\",\"#1f77b4\",\"#ffbb78\",\"#ffbb78\",\"#ff7f0e\",\"#1f77b4\",\"#aec7e8\",\"#ffbb78\",\"#ff7f0e\",\"#ffbb78\",\"#1f77b4\",\"#ffbb78\",\"#1f77b4\",\"#aec7e8\",\"#2ca02c\",\"#aec7e8\",\"#1f77b4\",\"#1f77b4\",\"#1f77b4\",\"#aec7e8\",\"#aec7e8\",\"#1f77b4\",\"#2ca02c\",\"#ff7f0e\",\"#aec7e8\",\"#1f77b4\",\"#ff7f0e\",\"#1f77b4\",\"#1f77b4\",\"#98df8a\",\"#1f77b4\",\"#1f77b4\",\"#aec7e8\",\"#aec7e8\",\"#aec7e8\",\"#aec7e8\",\"#aec7e8\",\"#1f77b4\",\"#aec7e8\",\"#1f77b4\",\"#ffbb78\",\"#ffbb78\",\"#aec7e8\",\"#aec7e8\",\"#1f77b4\",\"#aec7e8\",\"#2ca02c\",\"#1f77b4\",\"#1f77b4\",\"#1f77b4\",\"#1f77b4\",\"#1f77b4\",\"#1f77b4\",\"#1f77b4\",\"#aec7e8\",\"#ffbb78\",\"#1f77b4\",\"#aec7e8\",\"#aec7e8\",\"#aec7e8\",\"#1f77b4\",\"#aec7e8\",\"#2ca02c\",\"#1f77b4\",\"#ff7f0e\",\"#2ca02c\",\"#aec7e8\",\"#1f77b4\",\"#1f77b4\",\"#1f77b4\",\"#1f77b4\",\"#1f77b4\",\"#ffbb78\",\"#2ca02c\",\"#aec7e8\",\"#aec7e8\",\"#ff7f0e\",\"#aec7e8\",\"#ff7f0e\",\"#aec7e8\",\"#aec7e8\",\"#aec7e8\",\"#aec7e8\",\"#1f77b4\",\"#1f77b4\",\"#aec7e8\",\"#aec7e8\",\"#aec7e8\",\"#ffbb78\",\"#2ca02c\",\"#1f77b4\",\"#ff7f0e\",\"#ff7f0e\",\"#ffbb78\",\"#aec7e8\",\"#1f77b4\",\"#2ca02c\",\"#ff7f0e\",\"#ffbb78\",\"#aec7e8\",\"#1f77b4\",\"#aec7e8\",\"#aec7e8\",\"#1f77b4\",\"#aec7e8\",\"#aec7e8\",\"#aec7e8\",\"#ffbb78\",\"#1f77b4\",\"#ffbb78\",\"#aec7e8\",\"#ffbb78\",\"#1f77b4\",\"#1f77b4\",\"#1f77b4\",\"#aec7e8\",\"#ff7f0e\",\"#1f77b4\",\"#ffbb78\",\"#1f77b4\",\"#1f77b4\",\"#ffbb78\",\"#1f77b4\",\"#1f77b4\",\"#aec7e8\",\"#aec7e8\",\"#1f77b4\",\"#1f77b4\",\"#1f77b4\",\"#aec7e8\",\"#ff7f0e\",\"#ff7f0e\",\"#ffbb78\",\"#aec7e8\",\"#2ca02c\",\"#aec7e8\",\"#1f77b4\",\"#1f77b4\",\"#1f77b4\",\"#aec7e8\",\"#aec7e8\",\"#aec7e8\",\"#1f77b4\",\"#ffbb78\",\"#1f77b4\",\"#1f77b4\",\"#1f77b4\",\"#1f77b4\",\"#aec7e8\",\"#1f77b4\",\"#1f77b4\",\"#1f77b4\",\"#aec7e8\",\"#aec7e8\",\"#aec7e8\",\"#1f77b4\",\"#1f77b4\",\"#1f77b4\",\"#1f77b4\",\"#aec7e8\",\"#ffbb78\",\"#aec7e8\",\"#1f77b4\",\"#ffbb78\",\"#ffbb78\",\"#1f77b4\",\"#aec7e8\",\"#aec7e8\",\"#ffbb78\",\"#2ca02c\",\"#1f77b4\",\"#ffbb78\",\"#2ca02c\",\"#aec7e8\",\"#1f77b4\",\"#1f77b4\",\"#aec7e8\",\"#aec7e8\",\"#aec7e8\",\"#1f77b4\",\"#1f77b4\",\"#aec7e8\",\"#1f77b4\",\"#ffbb78\",\"#ffbb78\",\"#1f77b4\",\"#aec7e8\",\"#1f77b4\",\"#ffbb78\",\"#aec7e8\",\"#ff7f0e\",\"#ffbb78\",\"#aec7e8\",\"#1f77b4\",\"#ff7f0e\",\"#aec7e8\",\"#aec7e8\",\"#1f77b4\",\"#1f77b4\",\"#aec7e8\",\"#1f77b4\"],\"x\":{\"__ndarray__\":\"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\",\"dtype\":\"float32\",\"order\":\"little\",\"shape\":[2862]},\"y\":{\"__ndarray__\":\"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\",\"dtype\":\"float32\",\"order\":\"little\",\"shape\":[2862]}},\"selected\":{\"id\":\"1054\"},\"selection_policy\":{\"id\":\"1053\"}},\"id\":\"1034\",\"type\":\"ColumnDataSource\"},{\"attributes\":{\"text\":\"just life good\",\"text_color\":\"#ffbb78\",\"x\":19.0687198638916,\"y\":11.271123886108398},\"id\":\"1044\",\"type\":\"Label\"},{\"attributes\":{\"text\":\"user like yeah\",\"text_color\":\"#1f77b4\",\"x\":-22.84628677368164,\"y\":1.0654999017715454},\"id\":\"1041\",\"type\":\"Label\"},{\"attributes\":{\"text\":\"love like christmas\",\"text_color\":\"#aec7e8\",\"x\":9.409756660461426,\"y\":-3.227541923522949},\"id\":\"1042\",\"type\":\"Label\"},{\"attributes\":{},\"id\":\"1020\",\"type\":\"PanTool\"},{\"attributes\":{},\"id\":\"1017\",\"type\":\"BasicTicker\"},{\"attributes\":{},\"id\":\"1054\",\"type\":\"Selection\"},{\"attributes\":{\"active_drag\":\"auto\",\"active_inspect\":\"auto\",\"active_multi\":null,\"active_scroll\":\"auto\",\"active_tap\":\"auto\",\"tools\":[{\"id\":\"1020\"},{\"id\":\"1021\"},{\"id\":\"1022\"},{\"id\":\"1023\"},{\"id\":\"1024\"},{\"id\":\"1025\"}]},\"id\":\"1027\",\"type\":\"Toolbar\"},{\"attributes\":{\"formatter\":{\"id\":\"1050\"},\"ticker\":{\"id\":\"1017\"}},\"id\":\"1016\",\"type\":\"LinearAxis\"},{\"attributes\":{\"axis\":{\"id\":\"1016\"},\"dimension\":1,\"ticker\":null},\"id\":\"1019\",\"type\":\"Grid\"},{\"attributes\":{},\"id\":\"1004\",\"type\":\"DataRange1d\"},{\"attributes\":{\"overlay\":{\"id\":\"1026\"}},\"id\":\"1022\",\"type\":\"BoxZoomTool\"},{\"attributes\":{\"text\":\"day just bakery\",\"text_color\":\"#98df8a\",\"x\":15.215316772460938,\"y\":-22.199941635131836},\"id\":\"1046\",\"type\":\"Label\"},{\"attributes\":{},\"id\":\"1024\",\"type\":\"ResetTool\"},{\"attributes\":{\"axis\":{\"id\":\"1012\"},\"ticker\":null},\"id\":\"1015\",\"type\":\"Grid\"},{\"attributes\":{},\"id\":\"1008\",\"type\":\"LinearScale\"},{\"attributes\":{},\"id\":\"1048\",\"type\":\"BasicTickFormatter\"},{\"attributes\":{\"text\":\"fun today work\",\"text_color\":\"#2ca02c\",\"x\":6.448982238769531,\"y\":-14.145463943481445},\"id\":\"1045\",\"type\":\"Label\"},{\"attributes\":{},\"id\":\"1050\",\"type\":\"BasicTickFormatter\"},{\"attributes\":{},\"id\":\"1023\",\"type\":\"SaveTool\"},{\"attributes\":{\"fill_color\":{\"field\":\"fill_color\"},\"line_color\":{\"field\":\"line_color\"},\"x\":{\"field\":\"x\"},\"y\":{\"field\":\"y\"}},\"id\":\"1035\",\"type\":\"Scatter\"},{\"attributes\":{\"text\":\"day great start\",\"text_color\":\"#ff7f0e\",\"x\":6.501692295074463,\"y\":7.047682762145996},\"id\":\"1043\",\"type\":\"Label\"}],\"root_ids\":[\"1001\"]},\"title\":\"Bokeh Application\",\"version\":\"2.1.1\"}};\n",
              "  var render_items = [{\"docid\":\"cb9d2a47-b1ee-4cf9-9cc4-bc2b8a082ff1\",\"root_ids\":[\"1001\"],\"roots\":{\"1001\":\"19b6d165-0e5f-4b70-90a8-3cbaabaa51b1\"}}];\n",
              "  root.Bokeh.embed.embed_items_notebook(docs_json, render_items);\n",
              "\n",
              "  }\n",
              "  if (root.Bokeh !== undefined) {\n",
              "    embed_document(root);\n",
              "  } else {\n",
              "    var attempts = 0;\n",
              "    var timer = setInterval(function(root) {\n",
              "      if (root.Bokeh !== undefined) {\n",
              "        clearInterval(timer);\n",
              "        embed_document(root);\n",
              "      } else {\n",
              "        attempts++;\n",
              "        if (attempts > 100) {\n",
              "          clearInterval(timer);\n",
              "          console.log(\"Bokeh: ERROR: Unable to run BokehJS code because BokehJS library is missing\");\n",
              "        }\n",
              "      }\n",
              "    }, 10, root)\n",
              "  }\n",
              "})(window);"
            ],
            "application/vnd.bokehjs_exec.v0+json": ""
          },
          "metadata": {
            "tags": [],
            "application/vnd.bokehjs_exec.v0+json": {
              "id": "1001"
            }
          }
        }
      ]
    },
    {
      "cell_type": "markdown",
      "metadata": {
        "id": "Es4V2rQ-DHMk"
      },
      "source": [
        "Here are the terms that differentiate the review text from a general English corpus."
      ]
    },
    {
      "cell_type": "markdown",
      "metadata": {
        "id": "il-ELVidDHMk"
      },
      "source": [
        "Here are the terms in review text that are most associated with Tops department:"
      ]
    }
  ]
}